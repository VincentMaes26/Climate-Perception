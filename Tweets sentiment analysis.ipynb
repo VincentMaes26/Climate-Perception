{
 "cells": [
  {
   "cell_type": "markdown",
   "metadata": {},
   "source": [
    "# Tweet sentiment analysis"
   ]
  },
  {
   "cell_type": "code",
   "execution_count": null,
   "metadata": {},
   "outputs": [],
   "source": [
    "from textblob import TextBlob\n",
    "import numpy as np\n",
    "import pandas as pd\n",
    "import matplotlib.pyplot as plt\n",
    "import matplotlib.ticker as ticker\n",
    "import seaborn as sns\n",
    "import datetime"
   ]
  },
  {
   "cell_type": "markdown",
   "metadata": {},
   "source": [
    "## 1.Get dataframe from csv file"
   ]
  },
  {
   "cell_type": "code",
   "execution_count": null,
   "metadata": {},
   "outputs": [],
   "source": [
    "# Read CSV file\n",
    "tweets_today = pd.read_csv(r\"C:\\stage\\project\\datasets\\tweets{}.csv\".format(datetime.date.today()))\n",
    "tweets_today = tweets_today.head(5000)\n",
    "# Gets tweet texts\n",
    "tweets_today_text = tweets_today[\"tweet\"]"
   ]
  },
  {
   "cell_type": "markdown",
   "metadata": {},
   "source": [
    "## 2.Labeling data with TextBlob"
   ]
  },
  {
   "cell_type": "code",
   "execution_count": null,
   "metadata": {
    "scrolled": false
   },
   "outputs": [],
   "source": [
    "def get_sentiment(polarity):\n",
    "    if polarity > 0:\n",
    "        return 'positive'\n",
    "    if polarity == 0:\n",
    "        return 'neutral'\n",
    "    else:\n",
    "        return 'negative'\n",
    "\n",
    "\n",
    "# Extract columns from df & perform textblob sentiment analysis\n",
    "textblob_tweets = [TextBlob(tweet) for tweet in tweets_today_text]\n",
    "polarity_tweets = [round(tweet.sentiment.polarity,2) for tweet in textblob_tweets]\n",
    "sentiment_tweets = [get_sentiment(polarity) for polarity in polarity_tweets]\n",
    "zipped_list = list(zip(sentiment_tweets, polarity_tweets, tweets_today['creation date'], tweets_today['tweet'], tweets_today['username']))\n",
    "\n",
    "# Store to new dataframe\n",
    "sentiment_df = pd.DataFrame(zipped_list, columns=[\"Sentiment\", \"Polarity\",\"Creation Date\", \"Tweet\", \"Username\"])\n",
    "\n",
    "sentiment_df.tail()"
   ]
  },
  {
   "cell_type": "code",
   "execution_count": null,
   "metadata": {},
   "outputs": [],
   "source": [
    "test_df = sentiment_df[[\"Tweet\",\"Polarity\", \"Sentiment\"]].tail(20)\n",
    "for index, row in test_df.iterrows():\n",
    "    print(\"Tweet text: \"+row[\"Tweet\"])\n",
    "    print(\"Polarity of the tweet: \"+str(row[\"Polarity\"]))\n",
    "    print(\"Sentiment of the tweet: \"+str(row[\"Sentiment\"]))\n",
    "    print(\"\\n\")"
   ]
  },
  {
   "cell_type": "code",
   "execution_count": null,
   "metadata": {},
   "outputs": [],
   "source": [
    "sentiment_count = sentiment_df[\"Polarity\"].value_counts()\n",
    "\n",
    "sentiments = [get_sentiment(polarity) for polarity in sentiment_df[\"Polarity\"]]\n",
    "\n",
    "sentiment_count_list = np.array([sentiments.count(\"positive\"), sentiments.count(\"neutral\"), sentiments.count(\"negative\")])\n",
    "\n",
    "labels = [\"positive\", \"neutral\", \"negative\"]\n",
    "colors = [\"green\", \"yellow\", \"red\"]\n",
    "fig1, ax1 = plt.subplots()\n",
    "ax1.pie(sentiment_count_list, labels=labels, shadow=True, autopct='%1.1f%%', startangle=90, colors=colors)\n",
    "ax1.axis('equal') \n",
    "plt.show()\n",
    "print(\"total positive: {}\".format(sentiments.count('positive')))\n",
    "print(\"total neutral: {}\".format(sentiments.count('neutral')))\n",
    "print(\"total negative: {}\".format(sentiments.count('negative')))"
   ]
  },
  {
   "cell_type": "code",
   "execution_count": null,
   "metadata": {},
   "outputs": [],
   "source": [
    "x = sentiment_count.index\n",
    "y = sentiment_count.values\n",
    "plt.figure(figsize=(25, 10))\n",
    "sns.set_palette(\"RdYlGn\")\n",
    "sns.barplot(x, y, alpha=0.8)\n",
    "plt.yticks(np.arange(min(y), max(y), step=50))\n",
    "plt.xticks(plt.xticks()[0], rotation=65)\n",
    "plt.tight_layout()\n",
    "plt.ylabel(\"Amount of tweets\")\n",
    "plt.xlabel(\"Sentiment polarity\")\n",
    "\n",
    "plt.show()"
   ]
  },
  {
   "cell_type": "markdown",
   "metadata": {},
   "source": [
    "## 3.Implementing Machine Learning algorithms"
   ]
  },
  {
   "cell_type": "code",
   "execution_count": null,
   "metadata": {},
   "outputs": [],
   "source": [
    "import nltk\n",
    "nltk.download('stopwords')\n",
    "from nltk.corpus import stopwords\n",
    "from nltk.stem import WordNetLemmatizer\n",
    "from sklearn.feature_extraction.text import TfidfVectorizer"
   ]
  },
  {
   "cell_type": "markdown",
   "metadata": {},
   "source": [
    "### Lemmatization (reduces words to dictionary root form) + filtering stop words"
   ]
  },
  {
   "cell_type": "code",
   "execution_count": null,
   "metadata": {},
   "outputs": [],
   "source": [
    "labels = sentiment_df[\"Sentiment\"].values\n",
    "documents = []\n",
    "from nltk.stem import WordNetLemmatizer\n",
    "stemmer = WordNetLemmatizer()\n",
    "\n",
    "def filter_stopwords(word):\n",
    "    if word in stopwords.words('english'):\n",
    "        return False\n",
    "    else:\n",
    "        return True\n",
    "\n",
    "# Extract tweet column from df\n",
    "sentiment_df_text = sentiment_df[\"Tweet\"]\n",
    "\n",
    "for tweet in sentiment_df_text:\n",
    "    document = tweet.split()\n",
    "    document = [stemmer.lemmatize(word) for word in document]\n",
    "    document = filter(filter_stopwords,document)\n",
    "    document = ' '.join(document)\n",
    "    documents.append(document)\n",
    "print(documents[555])\n",
    "print(len(documents))"
   ]
  },
  {
   "cell_type": "markdown",
   "metadata": {},
   "source": [
    "### Vectorize words, filter stopwords"
   ]
  },
  {
   "cell_type": "code",
   "execution_count": null,
   "metadata": {},
   "outputs": [],
   "source": [
    "# tfidf = term frequency, inverse document frequency ()\n",
    "vectorizer = TfidfVectorizer(max_features=3000, min_df=5, max_df=0.80)\n",
    "processed_features = vectorizer.fit_transform(documents).toarray()\n",
    "feature_names = vectorizer.get_feature_names()\n",
    "\n",
    "len(processed_features)"
   ]
  },
  {
   "cell_type": "markdown",
   "metadata": {},
   "source": [
    "### Divide into training and test sets"
   ]
  },
  {
   "cell_type": "code",
   "execution_count": null,
   "metadata": {},
   "outputs": [],
   "source": [
    "from sklearn.model_selection import train_test_split\n",
    "\n",
    "X_train, X_test, y_train, y_test = train_test_split(processed_features, \n",
    "                                                    labels, test_size=0.2, \n",
    "                                                    random_state=1)\n",
    "print(len(X_train))\n",
    "print(len(X_test))"
   ]
  },
  {
   "cell_type": "markdown",
   "metadata": {},
   "source": [
    "### Implementing Random Forest Classifier & making predictions"
   ]
  },
  {
   "cell_type": "code",
   "execution_count": null,
   "metadata": {},
   "outputs": [],
   "source": [
    "from sklearn.ensemble import RandomForestClassifier\n",
    "from sklearn.metrics import classification_report, confusion_matrix, accuracy_score\n",
    "\n",
    "text_classifier = RandomForestClassifier(n_estimators=350, random_state=0)\n",
    "text_classifier.fit(X_train, y_train)\n",
    "\n",
    "predictions = text_classifier.predict(X_test)\n",
    "\n",
    "print(confusion_matrix(y_test,predictions))\n",
    "print(classification_report(y_test,predictions))\n",
    "print(\"The algorithm has reached an accuracy of: \"+ str(accuracy_score(y_test, predictions)*100)+\"%\")"
   ]
  },
  {
   "cell_type": "markdown",
   "metadata": {},
   "source": [
    "### Implementing Logistic regression Classifier"
   ]
  },
  {
   "cell_type": "code",
   "execution_count": null,
   "metadata": {},
   "outputs": [],
   "source": [
    "from sklearn.model_selection import GridSearchCV\n",
    "from sklearn.linear_model import LogisticRegression\n",
    "import warnings\n",
    "warnings.filterwarnings('ignore')\n",
    "\n",
    "param_grid = {'C': [0.001, 0.01, 0.1, 1, 10, 100, 1000]}\n",
    "grid = GridSearchCV(LogisticRegression(), param_grid, cv=5)\n",
    "grid.fit(X_train, y_train)\n",
    "\n",
    "print(\"Best cross-validation score: {:.2f}\".format(grid.best_score_))\n",
    "print(\"Best parameters: \", grid.best_params_)\n",
    "print(\"Best estimator: \", grid.best_estimator_)\n",
    "\n",
    "print(len(grid.best_estimator_.coef_.ravel()))"
   ]
  },
  {
   "cell_type": "code",
   "execution_count": null,
   "metadata": {},
   "outputs": [],
   "source": [
    "lr = grid.best_estimator_\n",
    "lr.fit(X_train, y_train)\n",
    "lr.predict(X_test)\n",
    "print(\"Score: {:.2f}\".format(lr.score(X_test, y_test)))"
   ]
  },
  {
   "cell_type": "code",
   "execution_count": null,
   "metadata": {},
   "outputs": [],
   "source": []
  }
 ],
 "metadata": {
  "kernelspec": {
   "display_name": "Python 3",
   "language": "python",
   "name": "python3"
  },
  "language_info": {
   "codemirror_mode": {
    "name": "ipython",
    "version": 3
   },
   "file_extension": ".py",
   "mimetype": "text/x-python",
   "name": "python",
   "nbconvert_exporter": "python",
   "pygments_lexer": "ipython3",
   "version": "3.7.3"
  }
 },
 "nbformat": 4,
 "nbformat_minor": 2
}
