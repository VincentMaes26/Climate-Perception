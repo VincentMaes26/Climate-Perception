{
 "cells": [
  {
   "cell_type": "markdown",
   "metadata": {},
   "source": [
    "# Tweet sentiment analysis"
   ]
  },
  {
   "cell_type": "code",
   "execution_count": 1,
   "metadata": {
    "ExecuteTime": {
     "end_time": "2019-10-15T08:29:38.960952Z",
     "start_time": "2019-10-15T08:29:32.002360Z"
    }
   },
   "outputs": [],
   "source": [
    "import re\n",
    "import numpy as np\n",
    "import pandas as pd\n",
    "import matplotlib.pyplot as plt\n",
    "import matplotlib.ticker as ticker\n",
    "import seaborn as sns\n",
    "import datetime\n",
    "import boto3\n",
    "import s3fs\n",
    "%matplotlib inline\n",
    "plt.style.use('seaborn-dark')\n",
    "pd.set_option('display.max_colwidth', -1)"
   ]
  },
  {
   "cell_type": "markdown",
   "metadata": {},
   "source": [
    "## Get dataframe from S3 bucket\n",
    "Iterates over all objects in the tweet-object folder in the aws s3 bucket.\n",
    "The objects are retrieved in JSON format and converted to a Pandas dataframe."
   ]
  },
  {
   "cell_type": "code",
   "execution_count": 2,
   "metadata": {
    "ExecuteTime": {
     "end_time": "2019-10-15T08:31:55.249705Z",
     "start_time": "2019-10-15T08:31:53.151786Z"
    }
   },
   "outputs": [
    {
     "name": "stdout",
     "output_type": "stream",
     "text": [
      "<class 'pandas.core.frame.DataFrame'>\n",
      "RangeIndex: 46152 entries, 0 to 46151\n",
      "Data columns (total 4 columns):\n",
      "creation date    46152 non-null object\n",
      "keyword          46152 non-null object\n",
      "tweet            46152 non-null object\n",
      "username         46152 non-null object\n",
      "dtypes: object(4)\n",
      "memory usage: 1.4+ MB\n"
     ]
    }
   ],
   "source": [
    "# # Read CSV file\n",
    "# #tweets_today = pd.read_csv(r'..\\datasets\\raw_data\\tweets{}.csv'.format(datetime.date.today()))\n",
    "# tweets_today = pd.read_csv(r'..\\datasets\\raw_data\\tweets2019-10-08.csv')\n",
    "# tweets_today = tweets_today.head(5000)\n",
    "# # Gets tweet texts\n",
    "# tweets_today_text = tweets_today['tweet']\n",
    "bucketname = 'ops-vw-interns-climate-perception-tweets'\n",
    "dataframe = pd.DataFrame(columns=('creation date','keyword', 'tweet', \n",
    "                                  'username'))\n",
    "s3 = boto3.resource('s3')\n",
    "\n",
    "s3_tweets = s3.Bucket(bucketname).objects.filter(Prefix='tweet-objects/', Delimiter='/').all()\n",
    "for file in s3_tweets:\n",
    "    temp_df = pd.read_json('s3://{}/{}'.format(bucketname, file.key))\n",
    "    dataframe = dataframe.append(temp_df, sort=False, ignore_index=True)\n",
    "dataframe_tweets = dataframe['tweet']\n",
    "dataframe.info()"
   ]
  },
  {
   "cell_type": "markdown",
   "metadata": {},
   "source": [
    "## Data cleaning\n",
    "Removing unneeded characters from the tweet texts like hashtags and urls"
   ]
  },
  {
   "cell_type": "code",
   "execution_count": 3,
   "metadata": {
    "ExecuteTime": {
     "end_time": "2019-10-15T08:30:39.182116Z",
     "start_time": "2019-10-15T08:30:38.686605Z"
    }
   },
   "outputs": [
    {
     "name": "stdout",
     "output_type": "stream",
     "text": [
      "unprocessed tweet: \n",
      "AOC: My ‘Dreams of Motherhood Now Bittersweet’ Because of Global Warming https://t.co/uUIM3uSbTi https://t.co/WFLq78IywX\n",
      "\n",
      "processed tweet: \n",
      " aoc my dreams of motherhood now bittersweet because of global warming  \n"
     ]
    }
   ],
   "source": [
    "# Preprocessing of tweet texts\n",
    "def format_tweet(tweet):\n",
    "    processed_tweet=''\n",
    "    for word in tweet.split():\n",
    "        # Removing URL from tweet\n",
    "        processed_word = re.sub('([^0-9A-Za-z \\t])|(\\w+:\\/\\/\\S+)', ' ', word)\n",
    "        \n",
    "        # remove all single characters\n",
    "        processed_word = re.sub('\\s+[a-zA-Z]\\s+', ' ', processed_word)\n",
    "        \n",
    "        # Remove single characters from the start\n",
    "        processed_word = re.sub('\\^[a-zA-Z]\\s+', ' ', processed_word) \n",
    "        \n",
    "        # Substituting multiple spaces with single space\n",
    "        processed_word = re.sub('\\s+', '', processed_word, flags=re.I)\n",
    "        \n",
    "        # Removing prefixed 'b'\n",
    "        processed_word = re.sub('^b\\s+', ' ', processed_word)\n",
    "        \n",
    "        # Removing &amp\n",
    "        processed_word = re.sub('&amp', '&', processed_word)\n",
    "        \n",
    "        # Removing breaks\n",
    "        processed_word = re.sub('<br/>', '', processed_word)\n",
    "        \n",
    "        # converts to lower\n",
    "        processed_word = processed_word.lower()\n",
    "        processed_tweet= processed_tweet+' '+processed_word\n",
    "    return processed_tweet        \n",
    "    \n",
    "tweets_text = [format_tweet(tweet) for tweet in dataframe_tweets]\n",
    "print('unprocessed tweet: \\n'+ dataframe['tweet'][15])\n",
    "print('\\nprocessed tweet: \\n' + tweets_text[15])"
   ]
  },
  {
   "cell_type": "markdown",
   "metadata": {},
   "source": [
    "## Labeling tweets with NLTK vader\n",
    "Provides te dataframe of the needed \"label\" / \"target\" column. In our case this column contains the sentiment values (Positive, Neutral, Negative)"
   ]
  },
  {
   "cell_type": "code",
   "execution_count": 4,
   "metadata": {
    "ExecuteTime": {
     "end_time": "2019-10-15T08:30:51.110714Z",
     "start_time": "2019-10-15T08:30:48.976936Z"
    }
   },
   "outputs": [
    {
     "name": "stderr",
     "output_type": "stream",
     "text": [
      "[nltk_data] Downloading package vader_lexicon to\n",
      "[nltk_data]     C:\\Users\\ViMs\\AppData\\Roaming\\nltk_data...\n",
      "[nltk_data]   Package vader_lexicon is already up-to-date!\n"
     ]
    },
    {
     "data": {
      "text/plain": [
       "True"
      ]
     },
     "execution_count": 4,
     "metadata": {},
     "output_type": "execute_result"
    }
   ],
   "source": [
    "import nltk\n",
    "from nltk.sentiment.vader import SentimentIntensityAnalyzer\n",
    "nltk.download('vader_lexicon')"
   ]
  },
  {
   "cell_type": "markdown",
   "metadata": {},
   "source": [
    "The NLTK.vader library helps us label the tweets by giving the tweet text a positive, neutral and negative score. Based on those scores it calculates the \"compound\" / \"total\" score. This is the value that gets stored in the dataframe "
   ]
  },
  {
   "cell_type": "code",
   "execution_count": 5,
   "metadata": {
    "ExecuteTime": {
     "end_time": "2019-10-15T08:30:51.190570Z",
     "start_time": "2019-10-15T08:30:51.145401Z"
    }
   },
   "outputs": [
    {
     "name": "stdout",
     "output_type": "stream",
     "text": [
      "0: climate change evidence how do we know gt vital signs of the planet global climate change and global warming how do we know its happening heres the evidence  \n",
      "{'neg': 0.0, 'neu': 0.809, 'pos': 0.191, 'compound': 0.5994}\n",
      "\n",
      "\n",
      "1: the election debate is over stay on the track libs mistakes in four years must not be hidden apologized snc lavalin climate change vs pipeline international relations economy down huge deficit list goes on never repeated libs must go say no to libs vote no  \n",
      "{'neg': 0.219, 'neu': 0.738, 'pos': 0.044, 'compound': -0.8054}\n",
      "\n",
      "\n",
      "2: revealed google made large contributions to climate change deniers  \n",
      "{'neg': 0.208, 'neu': 0.792, 'pos': 0.0, 'compound': -0.2732}\n",
      "\n",
      "\n",
      "3: climate change the devastating effect plastics have on our oceans dwindling numbers of rare species nah  \n",
      "{'neg': 0.289, 'neu': 0.711, 'pos': 0.0, 'compound': -0.6908}\n",
      "\n",
      "\n",
      "4: pieces of junk toplevel japanese climate scientist rejects global warming panic  opinion  lifesite  \n",
      "{'neg': 0.359, 'neu': 0.552, 'pos': 0.088, 'compound': -0.7096}\n",
      "\n",
      "\n",
      "5: the simpsons predicted greta thunbergs climate change speech in 2007  nme  \n",
      "{'neg': 0.237, 'neu': 0.763, 'pos': 0.0, 'compound': -0.4767}\n",
      "\n",
      "\n",
      "6: aoc gets choked up at climate forum my dreams of motherhood are now bittersweet  please do not procreate draintheswamp walkawayfromdemocratsocialists \n",
      "{'neg': 0.173, 'neu': 0.63, 'pos': 0.197, 'compound': 0.1531}\n",
      "\n",
      "\n",
      "7: climatechange protesters hold london funeral march  \n",
      "{'neg': 0.524, 'neu': 0.476, 'pos': 0.0, 'compound': -0.5267}\n",
      "\n",
      "\n",
      "8: im not the first to point it out but there is zero reason why if i know your position on gun control i also have a good chance of guessing your position on abortion and climate change these things are not a priori related and should not be bundled  \n",
      "{'neg': 0.06, 'neu': 0.816, 'pos': 0.123, 'compound': 0.5023}\n",
      "\n",
      "\n",
      "9: jane fonda plans climate change civil disobedience on the capitol steps  \n",
      "{'neg': 0.0, 'neu': 1.0, 'pos': 0.0, 'compound': 0.0}\n",
      "\n",
      "\n"
     ]
    }
   ],
   "source": [
    "sid = SentimentIntensityAnalyzer()\n",
    "\n",
    "for i, tweet in enumerate(tweets_text[50:60]):\n",
    "    print('{0}:{1} \\n{2}\\n\\n'.format(i, tweet, sid.polarity_scores(tweet)))"
   ]
  },
  {
   "cell_type": "code",
   "execution_count": 6,
   "metadata": {
    "ExecuteTime": {
     "end_time": "2019-10-15T08:30:51.901996Z",
     "start_time": "2019-10-15T08:30:51.229227Z"
    }
   },
   "outputs": [
    {
     "name": "stdout",
     "output_type": "stream",
     "text": [
      "<class 'pandas.core.frame.DataFrame'>\n",
      "RangeIndex: 46152 entries, 0 to 46151\n",
      "Data columns (total 7 columns):\n",
      "Sentiment        46152 non-null object\n",
      "Polarity         46152 non-null float64\n",
      "Tweet            46152 non-null object\n",
      "Word count       46152 non-null int64\n",
      "Keyword          46152 non-null object\n",
      "Username         46152 non-null object\n",
      "Creation Date    46152 non-null object\n",
      "dtypes: float64(1), int64(1), object(5)\n",
      "memory usage: 2.5+ MB\n"
     ]
    }
   ],
   "source": [
    "# Creates the text labels for the dataframe\n",
    "def get_sentiment(polarity):\n",
    "    if polarity > 0:\n",
    "        return 'positive'\n",
    "    if polarity == 0:\n",
    "        return 'neutral'\n",
    "    else:\n",
    "        return 'negative'\n",
    "\n",
    "word_count = [len(tweet.split()) for tweet in dataframe_tweets]\n",
    "\n",
    "polarity_tweets = [round(sid.polarity_scores(tweet)['compound'], 2)\n",
    "                   for tweet in tweets_text]\n",
    "\n",
    "sentiment_tweets = [get_sentiment(polarity) for polarity in polarity_tweets]\n",
    "\n",
    "zipped_list = list(zip(sentiment_tweets, polarity_tweets,\n",
    "                       tweets_text, word_count, dataframe['keyword'],\n",
    "                       dataframe['username'], dataframe['creation date']))\n",
    "\n",
    "\n",
    "# Store to new dataframe with sentiment values and polarities\n",
    "sentiment_df = pd.DataFrame(zipped_list, \n",
    "                            columns=['Sentiment', 'Polarity', \n",
    "                                     'Tweet', 'Word count', 'Keyword', 'Username', \n",
    "                                     'Creation Date'])\n",
    "sentiment_df.info()"
   ]
  },
  {
   "cell_type": "code",
   "execution_count": 7,
   "metadata": {},
   "outputs": [
    {
     "data": {
      "text/html": [
       "<div>\n",
       "<style scoped>\n",
       "    .dataframe tbody tr th:only-of-type {\n",
       "        vertical-align: middle;\n",
       "    }\n",
       "\n",
       "    .dataframe tbody tr th {\n",
       "        vertical-align: top;\n",
       "    }\n",
       "\n",
       "    .dataframe thead th {\n",
       "        text-align: right;\n",
       "    }\n",
       "</style>\n",
       "<table border=\"1\" class=\"dataframe\">\n",
       "  <thead>\n",
       "    <tr style=\"text-align: right;\">\n",
       "      <th></th>\n",
       "      <th>Sentiment</th>\n",
       "      <th>Polarity</th>\n",
       "      <th>Tweet</th>\n",
       "      <th>Word count</th>\n",
       "      <th>Keyword</th>\n",
       "      <th>Username</th>\n",
       "      <th>Creation Date</th>\n",
       "    </tr>\n",
       "  </thead>\n",
       "  <tbody>\n",
       "    <tr>\n",
       "      <th>6365</th>\n",
       "      <td>negative</td>\n",
       "      <td>-0.04</td>\n",
       "      <td>ok so if global warming doesnt take me out before then my retirement plan is to walk into the woods on my 65th birthday and do a lethal dose of heroin fin</td>\n",
       "      <td>32</td>\n",
       "      <td>Climate change</td>\n",
       "      <td>103ffcb50ad067f3770a798f23ddc295</td>\n",
       "      <td>2019-10-18 20:40:37</td>\n",
       "    </tr>\n",
       "    <tr>\n",
       "      <th>22930</th>\n",
       "      <td>positive</td>\n",
       "      <td>0.48</td>\n",
       "      <td>some good news for a change good on clover moore for a sensible decision to move us forward and for the climate nay sayers this will also drastically reduce pollution and we know what causing both problems</td>\n",
       "      <td>38</td>\n",
       "      <td>Climate change</td>\n",
       "      <td>97b34634d6ad220ac797ebc30e8abf6f</td>\n",
       "      <td>2019-10-24 09:41:23</td>\n",
       "    </tr>\n",
       "    <tr>\n",
       "      <th>12141</th>\n",
       "      <td>negative</td>\n",
       "      <td>-0.08</td>\n",
       "      <td>india is trying to deal with its coal addiction and the world has a lot to learn from its attempt india is highly vulnerable to climate change and yet more than half of its energy comes from burning coal lets replace dirty coal with clean canadian lng</td>\n",
       "      <td>47</td>\n",
       "      <td>Climate change</td>\n",
       "      <td>18126e7bd3f84b3f3e4df094def5b7de</td>\n",
       "      <td>2019-10-21 19:38:09</td>\n",
       "    </tr>\n",
       "    <tr>\n",
       "      <th>25856</th>\n",
       "      <td>negative</td>\n",
       "      <td>-0.34</td>\n",
       "      <td>rcmp finds alberta wildfires started by arson b ut hey lets blame climate change</td>\n",
       "      <td>15</td>\n",
       "      <td>Global warming</td>\n",
       "      <td>386057cf88fd13f17174356245dde26c</td>\n",
       "      <td>2019-10-24 22:50:12</td>\n",
       "    </tr>\n",
       "    <tr>\n",
       "      <th>41136</th>\n",
       "      <td>positive</td>\n",
       "      <td>0.40</td>\n",
       "      <td>cash for carbon schumer climate plan would help consumers buy electric cars  the new york times</td>\n",
       "      <td>18</td>\n",
       "      <td>Climate change</td>\n",
       "      <td>52012725f6ce03ba6f2ff6c6be9fca05</td>\n",
       "      <td>2019-10-27 15:52:58</td>\n",
       "    </tr>\n",
       "    <tr>\n",
       "      <th>41959</th>\n",
       "      <td>neutral</td>\n",
       "      <td>0.00</td>\n",
       "      <td>a trial we will all be following this closely via npr</td>\n",
       "      <td>12</td>\n",
       "      <td>Climate change</td>\n",
       "      <td>7fe57f0e543525eabd65f40974f2ab23</td>\n",
       "      <td>2019-10-27 18:50:01</td>\n",
       "    </tr>\n",
       "    <tr>\n",
       "      <th>5961</th>\n",
       "      <td>neutral</td>\n",
       "      <td>0.00</td>\n",
       "      <td>the people of london have had it with the climate change activists calle  via youtube</td>\n",
       "      <td>16</td>\n",
       "      <td>Climate change</td>\n",
       "      <td>aa592a2004e42c5668190066c89fb2de</td>\n",
       "      <td>2019-10-17 19:06:56</td>\n",
       "    </tr>\n",
       "    <tr>\n",
       "      <th>5978</th>\n",
       "      <td>negative</td>\n",
       "      <td>-0.38</td>\n",
       "      <td>doing my part in the fight against climate change by pledging to reduce my vegetable consumption to 0 by 2030</td>\n",
       "      <td>20</td>\n",
       "      <td>Climate change</td>\n",
       "      <td>b2613dc3994db697f5984a80369e8e0c</td>\n",
       "      <td>2019-10-17 19:06:13</td>\n",
       "    </tr>\n",
       "    <tr>\n",
       "      <th>222</th>\n",
       "      <td>positive</td>\n",
       "      <td>0.23</td>\n",
       "      <td>ok one day of cold was enough ill take that random 90 degree heatwave again thx  climate change</td>\n",
       "      <td>19</td>\n",
       "      <td>Climate change</td>\n",
       "      <td>e606bbcead813f6d4b3f84d6d35b8583</td>\n",
       "      <td>2019-10-12 20:38:41</td>\n",
       "    </tr>\n",
       "    <tr>\n",
       "      <th>20446</th>\n",
       "      <td>positive</td>\n",
       "      <td>0.15</td>\n",
       "      <td>this whole week is literally in the 80s and yall still dont believe in global warming</td>\n",
       "      <td>17</td>\n",
       "      <td>Climate change</td>\n",
       "      <td>fee26bbdfe5ee3fd5214a5ab45547349</td>\n",
       "      <td>2019-10-23 22:40:16</td>\n",
       "    </tr>\n",
       "    <tr>\n",
       "      <th>4663</th>\n",
       "      <td>negative</td>\n",
       "      <td>-0.42</td>\n",
       "      <td>global warming exists illuminati no its the multiverse collapsing</td>\n",
       "      <td>9</td>\n",
       "      <td>Climate change</td>\n",
       "      <td>4f3efcdac8facb2133d2f6f6513f98f5</td>\n",
       "      <td>2019-10-17 20:46:49</td>\n",
       "    </tr>\n",
       "    <tr>\n",
       "      <th>1750</th>\n",
       "      <td>negative</td>\n",
       "      <td>-0.41</td>\n",
       "      <td>weirdly billionaires who claim to care a lot about solving big problems like climate change and gun violence seem really fixated on avoiding a wealth tax</td>\n",
       "      <td>27</td>\n",
       "      <td>Climate change</td>\n",
       "      <td>d5d30135ea75952c68528074db32d344</td>\n",
       "      <td>2019-10-14 20:47:08</td>\n",
       "    </tr>\n",
       "    <tr>\n",
       "      <th>41218</th>\n",
       "      <td>negative</td>\n",
       "      <td>-0.84</td>\n",
       "      <td>transratboy femjunky bedabug jane fonda got arrested the third week in a row at climate change protests this time with ted danson legends only for everyone complaining about how these two can get arrested and it wont affect their careers</td>\n",
       "      <td>41</td>\n",
       "      <td>Climate change</td>\n",
       "      <td>58c8986e604702ed19fb7f8c7cb4f28e</td>\n",
       "      <td>2019-10-27 15:42:14</td>\n",
       "    </tr>\n",
       "    <tr>\n",
       "      <th>1470</th>\n",
       "      <td>negative</td>\n",
       "      <td>-0.69</td>\n",
       "      <td>the number of grown adults spewing vitriol at a 16yearold for raising awareness about climate change is absolutely mindboggling go about your day alberta and leave the kid alone greta thunberg poses no threat to your livelihood</td>\n",
       "      <td>37</td>\n",
       "      <td>Global warming</td>\n",
       "      <td>d17f05bc1b7542959793f7b8beb50e4a</td>\n",
       "      <td>2019-10-13 19:53:33</td>\n",
       "    </tr>\n",
       "    <tr>\n",
       "      <th>11540</th>\n",
       "      <td>neutral</td>\n",
       "      <td>0.00</td>\n",
       "      <td>companies slow to disclose financial costs of climate change report</td>\n",
       "      <td>12</td>\n",
       "      <td>Climate change</td>\n",
       "      <td>2e2e43c747f202d633b6497f88934102</td>\n",
       "      <td>2019-10-21 20:20:39</td>\n",
       "    </tr>\n",
       "  </tbody>\n",
       "</table>\n",
       "</div>"
      ],
      "text/plain": [
       "      Sentiment  Polarity  \\\n",
       "6365   negative -0.04       \n",
       "22930  positive  0.48       \n",
       "12141  negative -0.08       \n",
       "25856  negative -0.34       \n",
       "41136  positive  0.40       \n",
       "41959  neutral   0.00       \n",
       "5961   neutral   0.00       \n",
       "5978   negative -0.38       \n",
       "222    positive  0.23       \n",
       "20446  positive  0.15       \n",
       "4663   negative -0.42       \n",
       "1750   negative -0.41       \n",
       "41218  negative -0.84       \n",
       "1470   negative -0.69       \n",
       "11540  neutral   0.00       \n",
       "\n",
       "                                                                                                                                                                                                                                                              Tweet  \\\n",
       "6365    ok so if global warming doesnt take me out before then my retirement plan is to walk into the woods on my 65th birthday and do a lethal dose of heroin fin                                                                                                    \n",
       "22930   some good news for a change good on clover moore for a sensible decision to move us forward and for the climate nay sayers this will also drastically reduce pollution and we know what causing both problems                                                 \n",
       "12141   india is trying to deal with its coal addiction and the world has a lot to learn from its attempt india is highly vulnerable to climate change and yet more than half of its energy comes from burning coal lets replace dirty coal with clean canadian lng   \n",
       "25856   rcmp finds alberta wildfires started by arson b ut hey lets blame climate change                                                                                                                                                                              \n",
       "41136   cash for carbon schumer climate plan would help consumers buy electric cars  the new york times                                                                                                                                                               \n",
       "41959   a trial we will all be following this closely via npr                                                                                                                                                                                                         \n",
       "5961    the people of london have had it with the climate change activists calle  via youtube                                                                                                                                                                         \n",
       "5978    doing my part in the fight against climate change by pledging to reduce my vegetable consumption to 0 by 2030                                                                                                                                                 \n",
       "222     ok one day of cold was enough ill take that random 90 degree heatwave again thx  climate change                                                                                                                                                               \n",
       "20446   this whole week is literally in the 80s and yall still dont believe in global warming                                                                                                                                                                         \n",
       "4663    global warming exists illuminati no its the multiverse collapsing                                                                                                                                                                                             \n",
       "1750    weirdly billionaires who claim to care a lot about solving big problems like climate change and gun violence seem really fixated on avoiding a wealth tax                                                                                                     \n",
       "41218   transratboy femjunky bedabug jane fonda got arrested the third week in a row at climate change protests this time with ted danson legends only for everyone complaining about how these two can get arrested and it wont affect their careers                 \n",
       "1470    the number of grown adults spewing vitriol at a 16yearold for raising awareness about climate change is absolutely mindboggling go about your day alberta and leave the kid alone greta thunberg poses no threat to your livelihood                           \n",
       "11540   companies slow to disclose financial costs of climate change report                                                                                                                                                                                           \n",
       "\n",
       "       Word count         Keyword                          Username  \\\n",
       "6365   32          Climate change  103ffcb50ad067f3770a798f23ddc295   \n",
       "22930  38          Climate change  97b34634d6ad220ac797ebc30e8abf6f   \n",
       "12141  47          Climate change  18126e7bd3f84b3f3e4df094def5b7de   \n",
       "25856  15          Global warming  386057cf88fd13f17174356245dde26c   \n",
       "41136  18          Climate change  52012725f6ce03ba6f2ff6c6be9fca05   \n",
       "41959  12          Climate change  7fe57f0e543525eabd65f40974f2ab23   \n",
       "5961   16          Climate change  aa592a2004e42c5668190066c89fb2de   \n",
       "5978   20          Climate change  b2613dc3994db697f5984a80369e8e0c   \n",
       "222    19          Climate change  e606bbcead813f6d4b3f84d6d35b8583   \n",
       "20446  17          Climate change  fee26bbdfe5ee3fd5214a5ab45547349   \n",
       "4663   9           Climate change  4f3efcdac8facb2133d2f6f6513f98f5   \n",
       "1750   27          Climate change  d5d30135ea75952c68528074db32d344   \n",
       "41218  41          Climate change  58c8986e604702ed19fb7f8c7cb4f28e   \n",
       "1470   37          Global warming  d17f05bc1b7542959793f7b8beb50e4a   \n",
       "11540  12          Climate change  2e2e43c747f202d633b6497f88934102   \n",
       "\n",
       "             Creation Date  \n",
       "6365   2019-10-18 20:40:37  \n",
       "22930  2019-10-24 09:41:23  \n",
       "12141  2019-10-21 19:38:09  \n",
       "25856  2019-10-24 22:50:12  \n",
       "41136  2019-10-27 15:52:58  \n",
       "41959  2019-10-27 18:50:01  \n",
       "5961   2019-10-17 19:06:56  \n",
       "5978   2019-10-17 19:06:13  \n",
       "222    2019-10-12 20:38:41  \n",
       "20446  2019-10-23 22:40:16  \n",
       "4663   2019-10-17 20:46:49  \n",
       "1750   2019-10-14 20:47:08  \n",
       "41218  2019-10-27 15:42:14  \n",
       "1470   2019-10-13 19:53:33  \n",
       "11540  2019-10-21 20:20:39  "
      ]
     },
     "execution_count": 7,
     "metadata": {},
     "output_type": "execute_result"
    }
   ],
   "source": [
    "sentiment_df.sample(15)"
   ]
  },
  {
   "cell_type": "code",
   "execution_count": 8,
   "metadata": {},
   "outputs": [
    {
     "name": "stdout",
     "output_type": "stream",
     "text": [
      "5 most negative tweets: \n",
      "\n"
     ]
    },
    {
     "data": {
      "text/html": [
       "<div>\n",
       "<style scoped>\n",
       "    .dataframe tbody tr th:only-of-type {\n",
       "        vertical-align: middle;\n",
       "    }\n",
       "\n",
       "    .dataframe tbody tr th {\n",
       "        vertical-align: top;\n",
       "    }\n",
       "\n",
       "    .dataframe thead th {\n",
       "        text-align: right;\n",
       "    }\n",
       "</style>\n",
       "<table border=\"1\" class=\"dataframe\">\n",
       "  <thead>\n",
       "    <tr style=\"text-align: right;\">\n",
       "      <th></th>\n",
       "      <th>Tweet</th>\n",
       "      <th>Polarity</th>\n",
       "    </tr>\n",
       "  </thead>\n",
       "  <tbody>\n",
       "    <tr>\n",
       "      <th>22660</th>\n",
       "      <td>capitalism is murder cyberbullying is murder minimum wage is murder billionaires existing is murder homicide is murder global warming is murder a group of crows is murder angela lansbury is murder she wrote</td>\n",
       "      <td>-0.99</td>\n",
       "    </tr>\n",
       "    <tr>\n",
       "      <th>3882</th>\n",
       "      <td>this is literally worse than isis terrorism racism homophobia sexism cancer global warming poverty world hunger israel war drug addiction the prison system police animal abuse pollution murder sexual abuse violence zionism depression mass shootings</td>\n",
       "      <td>-0.99</td>\n",
       "    </tr>\n",
       "    <tr>\n",
       "      <th>36659</th>\n",
       "      <td>breaking the law inciting riots breeding hate and violence endangering the lives of policecitizens is not cool you ignorant liberals its sedition its treason democrats are a terrorist cult and a danger to america</td>\n",
       "      <td>-0.98</td>\n",
       "    </tr>\n",
       "    <tr>\n",
       "      <th>40424</th>\n",
       "      <td>brainwashed idiots worried about so called climate change when were these fools ever worried about western regimes illegal wars destabilizing the middle east us missiles in poland civil wars spreading in europe no no ill worry about the weather</td>\n",
       "      <td>-0.98</td>\n",
       "    </tr>\n",
       "    <tr>\n",
       "      <th>38736</th>\n",
       "      <td>yes the unthinkable betrayal of the kurds separating children from parents at the border destroying family farms with stupid trade wars increasing the federal deficit pulling out of climate change pact only a few of the unthinkably stupid and careless acts of this moron</td>\n",
       "      <td>-0.98</td>\n",
       "    </tr>\n",
       "  </tbody>\n",
       "</table>\n",
       "</div>"
      ],
      "text/plain": [
       "                                                                                                                                                                                                                                                                                  Tweet  \\\n",
       "22660   capitalism is murder cyberbullying is murder minimum wage is murder billionaires existing is murder homicide is murder global warming is murder a group of crows is murder angela lansbury is murder she wrote                                                                    \n",
       "3882    this is literally worse than isis terrorism racism homophobia sexism cancer global warming poverty world hunger israel war drug addiction the prison system police animal abuse pollution murder sexual abuse violence zionism depression mass shootings                          \n",
       "36659   breaking the law inciting riots breeding hate and violence endangering the lives of policecitizens is not cool you ignorant liberals its sedition its treason democrats are a terrorist cult and a danger to america                                                              \n",
       "40424   brainwashed idiots worried about so called climate change when were these fools ever worried about western regimes illegal wars destabilizing the middle east us missiles in poland civil wars spreading in europe no no ill worry about the weather                              \n",
       "38736   yes the unthinkable betrayal of the kurds separating children from parents at the border destroying family farms with stupid trade wars increasing the federal deficit pulling out of climate change pact only a few of the unthinkably stupid and careless acts of this moron    \n",
       "\n",
       "       Polarity  \n",
       "22660 -0.99      \n",
       "3882  -0.99      \n",
       "36659 -0.98      \n",
       "40424 -0.98      \n",
       "38736 -0.98      "
      ]
     },
     "execution_count": 8,
     "metadata": {},
     "output_type": "execute_result"
    }
   ],
   "source": [
    "print('5 most negative tweets: \\n')\n",
    "top5_negative = pd.DataFrame(sentiment_df.sort_values('Polarity')[['Tweet','Polarity']].head(5))\n",
    "top5_negative"
   ]
  },
  {
   "cell_type": "code",
   "execution_count": 9,
   "metadata": {},
   "outputs": [
    {
     "name": "stdout",
     "output_type": "stream",
     "text": [
      "5 most positive tweets: \n",
      "\n"
     ]
    },
    {
     "data": {
      "text/html": [
       "<div>\n",
       "<style scoped>\n",
       "    .dataframe tbody tr th:only-of-type {\n",
       "        vertical-align: middle;\n",
       "    }\n",
       "\n",
       "    .dataframe tbody tr th {\n",
       "        vertical-align: top;\n",
       "    }\n",
       "\n",
       "    .dataframe thead th {\n",
       "        text-align: right;\n",
       "    }\n",
       "</style>\n",
       "<table border=\"1\" class=\"dataframe\">\n",
       "  <thead>\n",
       "    <tr style=\"text-align: right;\">\n",
       "      <th></th>\n",
       "      <th>Tweet</th>\n",
       "      <th>Polarity</th>\n",
       "    </tr>\n",
       "  </thead>\n",
       "  <tbody>\n",
       "    <tr>\n",
       "      <th>26668</th>\n",
       "      <td>in ww2 the government rose taxes and kept wages down but the rich made big profits on armaments to fight climate change the rich are going to lose out on selling coal and oil they are prepared to chance the great famine to protect their wealth they will eat while you stave</td>\n",
       "      <td>0.98</td>\n",
       "    </tr>\n",
       "    <tr>\n",
       "      <th>41177</th>\n",
       "      <td>success takes many shapes and forms it can be a successful career your efforts to fight global warming writing a great book helping the homeless etc thrive success inspiration talent motivation</td>\n",
       "      <td>0.98</td>\n",
       "    </tr>\n",
       "    <tr>\n",
       "      <th>39530</th>\n",
       "      <td>happy diwali to all have fun have great food enjoy also dont forget that climate change is a real concern be safe and try your best to keep it environment friendly keep the animals safe its a festival for everyone lets not steal their freedom</td>\n",
       "      <td>0.98</td>\n",
       "    </tr>\n",
       "    <tr>\n",
       "      <th>14754</th>\n",
       "      <td>greswoldschool well done year 5 for the brilliant harvest festival assembly great message about climate change and doing our bit to save the planet super singing too very inspiring</td>\n",
       "      <td>0.97</td>\n",
       "    </tr>\n",
       "    <tr>\n",
       "      <th>21920</th>\n",
       "      <td>i am encouraged trudeau stated trans mountain to proceed again the thing i like about it is he is bsing not only albertans but his base as well will use all profits for climate changeya sure  alberta families sure need help hope</td>\n",
       "      <td>0.97</td>\n",
       "    </tr>\n",
       "  </tbody>\n",
       "</table>\n",
       "</div>"
      ],
      "text/plain": [
       "                                                                                                                                                                                                                                                                                    Tweet  \\\n",
       "26668   in ww2 the government rose taxes and kept wages down but the rich made big profits on armaments to fight climate change the rich are going to lose out on selling coal and oil they are prepared to chance the great famine to protect their wealth they will eat while you stave   \n",
       "41177   success takes many shapes and forms it can be a successful career your efforts to fight global warming writing a great book helping the homeless etc thrive success inspiration talent motivation                                                                                   \n",
       "39530   happy diwali to all have fun have great food enjoy also dont forget that climate change is a real concern be safe and try your best to keep it environment friendly keep the animals safe its a festival for everyone lets not steal their freedom                                  \n",
       "14754   greswoldschool well done year 5 for the brilliant harvest festival assembly great message about climate change and doing our bit to save the planet super singing too very inspiring                                                                                                \n",
       "21920   i am encouraged trudeau stated trans mountain to proceed again the thing i like about it is he is bsing not only albertans but his base as well will use all profits for climate changeya sure  alberta families sure need help hope                                                \n",
       "\n",
       "       Polarity  \n",
       "26668  0.98      \n",
       "41177  0.98      \n",
       "39530  0.98      \n",
       "14754  0.97      \n",
       "21920  0.97      "
      ]
     },
     "execution_count": 9,
     "metadata": {},
     "output_type": "execute_result"
    }
   ],
   "source": [
    "print('5 most positive tweets: \\n')\n",
    "top5_positive = sentiment_df.sort_values('Polarity', ascending=False)[['Tweet', 'Polarity']].head(5)\n",
    "top5_positive"
   ]
  },
  {
   "cell_type": "code",
   "execution_count": 10,
   "metadata": {
    "ExecuteTime": {
     "end_time": "2019-10-15T08:31:14.354651Z",
     "start_time": "2019-10-15T08:31:14.205648Z"
    }
   },
   "outputs": [
    {
     "name": "stdout",
     "output_type": "stream",
     "text": [
      "total positive: 17907\n",
      "total neutral: 8287\n",
      "total negative: 19958\n"
     ]
    },
    {
     "data": {
      "image/png": "[encoded data removed]",
      "text/plain": [
       "<Figure size 504x504 with 1 Axes>"
      ]
     },
     "metadata": {},
     "output_type": "display_data"
    }
   ],
   "source": [
    "sentiments = [get_sentiment(polarity)\n",
    "              for polarity in sentiment_df['Polarity']]\n",
    "\n",
    "sentiment_count_list = np.array([sentiments.count(\n",
    "    'positive'), sentiments.count('neutral'), sentiments.count('negative')])\n",
    "\n",
    "classes = ['positive', 'neutral', 'negative']\n",
    "colors = ['green', 'yellow', 'red']\n",
    "plt.figure(figsize=(7,7))\n",
    "plt.pie(sentiment_count_list, labels=classes, autopct='%1.1f%%',startangle=90, colors=colors)\n",
    "plt.title('Distribution of sentiment values')\n",
    "\n",
    "print('total positive: {}'.format(sentiments.count('positive')))\n",
    "\n",
    "print('total neutral: {}'.format(sentiments.count('neutral')))\n",
    "\n",
    "print('total negative: {}'.format(sentiments.count('negative')))"
   ]
  },
  {
   "cell_type": "code",
   "execution_count": 11,
   "metadata": {
    "ExecuteTime": {
     "end_time": "2019-10-15T08:31:22.912746Z",
     "start_time": "2019-10-15T08:31:22.677160Z"
    }
   },
   "outputs": [
    {
     "data": {
      "image/png": "[encoded data removed]",
      "text/plain": [
       "<Figure size 720x432 with 1 Axes>"
      ]
     },
     "metadata": {
      "needs_background": "light"
     },
     "output_type": "display_data"
    }
   ],
   "source": [
    "sentiment_df['Polarity'].plot.hist(bins=5, figsize=(10, 6), title='Distribution of sentiment polarities')\n",
    "plt.xlabel('Sentiment polarities')\n",
    "plt.ylabel('Amount of tweets')\n",
    "plt.show()"
   ]
  },
  {
   "cell_type": "code",
   "execution_count": 12,
   "metadata": {},
   "outputs": [
    {
     "name": "stdout",
     "output_type": "stream",
     "text": [
      "Total tweets with climate change keyword: 39099\n",
      "Total tweets with global warming keyword: 6727\n",
      "Total tweets with Global warming & Climate change as keyword: 326\n"
     ]
    },
    {
     "data": {
      "image/png": "[encoded data removed]",
      "text/plain": [
       "<Figure size 720x432 with 1 Axes>"
      ]
     },
     "metadata": {
      "needs_background": "light"
     },
     "output_type": "display_data"
    }
   ],
   "source": [
    "plt.figure(figsize=(10, 6))\n",
    "sns.boxplot(x=sentiment_df['Keyword'], y=sentiment_df['Polarity'])\n",
    "plt.title('Boxplot of sentiment polarities per keywords of tweet')\n",
    "total_cc = len(sentiment_df[sentiment_df['Keyword']=='Climate change'])\n",
    "total_gw = len(sentiment_df[sentiment_df['Keyword']=='Global warming'])\n",
    "total_ccgw = len(sentiment_df[sentiment_df['Keyword']=='Global warming & Climate change'])\n",
    "\n",
    "print('Total tweets with climate change keyword: ' + str(total_cc))\n",
    "print('Total tweets with global warming keyword: ' + str(total_gw))\n",
    "print('Total tweets with Global warming & Climate change as keyword: ' + str(total_ccgw))\n"
   ]
  },
  {
   "cell_type": "markdown",
   "metadata": {},
   "source": [
    "## Implementing machine learning classifiers"
   ]
  },
  {
   "cell_type": "code",
   "execution_count": 13,
   "metadata": {
    "ExecuteTime": {
     "end_time": "2019-10-15T08:37:21.161385Z",
     "start_time": "2019-10-15T08:37:21.154939Z"
    }
   },
   "outputs": [],
   "source": [
    "from sklearn.feature_extraction.text import TfidfTransformer\n",
    "from sklearn.feature_extraction.text import CountVectorizer\n",
    "from sklearn.decomposition import PCA\n",
    "from sklearn.pipeline import Pipeline\n",
    "from sklearn.model_selection import GridSearchCV\n",
    "from sklearn.model_selection import RandomizedSearchCV\n",
    "from sklearn.metrics import accuracy_score\n",
    "import nltk\n",
    "from nltk.stem import PorterStemmer\n",
    "from yellowbrick.classifier import ConfusionMatrix\n",
    "from yellowbrick.classifier import ClassificationReport\n",
    "from yellowbrick.classifier import ROCAUC\n",
    "from yellowbrick.target import ClassBalance\n",
    "from yellowbrick.features.pca import PCADecomposition"
   ]
  },
  {
   "cell_type": "markdown",
   "metadata": {},
   "source": [
    "### Divide into training and test sets\n",
    "We create our feature and label sets for training and testing using sklearn's train_test_split. 80% of the data will go to training sets and 20% will go to the testing sets. The method shuffles the data in a random order to make sure the sets are not unbalanced."
   ]
  },
  {
   "cell_type": "code",
   "execution_count": 14,
   "metadata": {
    "ExecuteTime": {
     "end_time": "2019-10-15T08:37:22.190191Z",
     "start_time": "2019-10-15T08:37:22.181260Z"
    }
   },
   "outputs": [
    {
     "name": "stdout",
     "output_type": "stream",
     "text": [
      "Training set contains: 36921 samples\n",
      "Testing set contains: 9231 samples\n"
     ]
    }
   ],
   "source": [
    "from sklearn.model_selection import train_test_split\n",
    "\n",
    "# Extract features from df\n",
    "features = sentiment_df['Tweet']\n",
    "\n",
    "# Extract labels from df\n",
    "labels = sentiment_df['Sentiment']\n",
    "\n",
    "X_train, X_test, y_train, y_test = train_test_split(features,\n",
    "                                                    labels, test_size=0.2,\n",
    "                                                    random_state=1)\n",
    "\n",
    "print('Training set contains: '+str(len(X_train))+ ' samples')\n",
    "print('Testing set contains: '+str(len(X_test))+ ' samples')"
   ]
  },
  {
   "cell_type": "markdown",
   "metadata": {},
   "source": [
    "The next graph shows us how many instances of each class/label there are in the training set. We can see that the \"neutral\" class has the least instances so the prediction results of this class might be slightly more inacurate."
   ]
  },
  {
   "cell_type": "code",
   "execution_count": 15,
   "metadata": {},
   "outputs": [
    {
     "data": {
      "image/png": "[encoded data removed]",
      "text/plain": [
       "<Figure size 576x396 with 1 Axes>"
      ]
     },
     "metadata": {},
     "output_type": "display_data"
    },
    {
     "data": {
      "text/plain": [
       "<matplotlib.axes._subplots.AxesSubplot at 0x22f6fbc76a0>"
      ]
     },
     "execution_count": 15,
     "metadata": {},
     "output_type": "execute_result"
    }
   ],
   "source": [
    "class_balance = ClassBalance(labels=['negative', 'neutral', 'positive'])\n",
    "class_balance.fit(y_train) \n",
    "class_balance.show()\n"
   ]
  },
  {
   "cell_type": "markdown",
   "metadata": {
    "toc-hr-collapsed": true
   },
   "source": [
    "### Preparing pipeline variables\n",
    "Setup of tokenizers (converting 1 text object to a list of text objects)\n",
    "and vectorizers"
   ]
  },
  {
   "cell_type": "code",
   "execution_count": 16,
   "metadata": {
    "ExecuteTime": {
     "end_time": "2019-10-15T08:37:29.428395Z",
     "start_time": "2019-10-15T08:37:29.421450Z"
    }
   },
   "outputs": [],
   "source": [
    "count_vec = CountVectorizer(strip_accents=None, lowercase=False, \n",
    "                            preprocessor = None)\n",
    "tfidf = TfidfTransformer()\n",
    "\n",
    "def tokenizer(text):\n",
    "    return text.split()\n",
    "\n",
    "porter = PorterStemmer()\n",
    "def tokenizer_porter(text):\n",
    "    return [porter.stem(word) for word in text.split()]"
   ]
  },
  {
   "cell_type": "markdown",
   "metadata": {},
   "source": [
    "#### Testing tokenizers"
   ]
  },
  {
   "cell_type": "code",
   "execution_count": 17,
   "metadata": {},
   "outputs": [],
   "source": [
    "sample_tweet = 'Hi i think global warming is awesome. What about you?'\n",
    "\n",
    "token_list = tokenizer(sample_tweet)\n",
    "\n",
    "porter_list =tokenizer_porter(sample_tweet)"
   ]
  },
  {
   "cell_type": "code",
   "execution_count": 18,
   "metadata": {},
   "outputs": [
    {
     "name": "stdout",
     "output_type": "stream",
     "text": [
      "With normal tokenizer:\n"
     ]
    },
    {
     "data": {
      "text/plain": [
       "{'Hi': 0,\n",
       " 'think': 6,\n",
       " 'global': 4,\n",
       " 'warming': 7,\n",
       " 'is': 5,\n",
       " 'awesome': 3,\n",
       " 'What': 1,\n",
       " 'about': 2,\n",
       " 'you': 8}"
      ]
     },
     "execution_count": 18,
     "metadata": {},
     "output_type": "execute_result"
    }
   ],
   "source": [
    "count_vec.fit(token_list)\n",
    "print('With normal tokenizer:')\n",
    "count_vec.vocabulary_"
   ]
  },
  {
   "cell_type": "code",
   "execution_count": 19,
   "metadata": {},
   "outputs": [
    {
     "name": "stdout",
     "output_type": "stream",
     "text": [
      "With porter tokenizer (stemmer):\n"
     ]
    },
    {
     "data": {
      "text/plain": [
       "{'Hi': 0,\n",
       " 'think': 5,\n",
       " 'global': 3,\n",
       " 'warm': 6,\n",
       " 'is': 4,\n",
       " 'awesome': 2,\n",
       " 'what': 7,\n",
       " 'about': 1,\n",
       " 'you': 8}"
      ]
     },
     "execution_count": 19,
     "metadata": {},
     "output_type": "execute_result"
    }
   ],
   "source": [
    "count_vec.fit(porter_list)\n",
    "print('With porter tokenizer (stemmer):')\n",
    "count_vec.vocabulary_"
   ]
  },
  {
   "cell_type": "markdown",
   "metadata": {},
   "source": [
    "### Implementing Logistic regression\n",
    "One of the least complicated classifiers. Based on linear regression but adapted to predict classes instead of labels (Has good performance on both small and large datasets)"
   ]
  },
  {
   "cell_type": "code",
   "execution_count": 20,
   "metadata": {
    "ExecuteTime": {
     "end_time": "2019-10-14T13:29:37.222315Z",
     "start_time": "2019-10-14T13:29:37.217850Z"
    }
   },
   "outputs": [],
   "source": [
    "from sklearn.linear_model import LogisticRegression"
   ]
  },
  {
   "cell_type": "code",
   "execution_count": null,
   "metadata": {
    "ExecuteTime": {
     "end_time": "2019-10-14T13:40:16.169261Z",
     "start_time": "2019-10-14T13:30:13.945787Z"
    }
   },
   "outputs": [
    {
     "name": "stdout",
     "output_type": "stream",
     "text": [
      "Fitting 7 folds for each of 150 candidates, totalling 1050 fits\n"
     ]
    },
    {
     "name": "stderr",
     "output_type": "stream",
     "text": [
      "[Parallel(n_jobs=2)]: Using backend LokyBackend with 2 concurrent workers.\n",
      "[Parallel(n_jobs=2)]: Done  46 tasks      | elapsed:  5.0min\n",
      "[Parallel(n_jobs=2)]: Done 196 tasks      | elapsed: 20.7min\n"
     ]
    }
   ],
   "source": [
    "import warnings\n",
    "warnings.filterwarnings('ignore')\n",
    "\n",
    "lr_pipeline = Pipeline([('vect', count_vec), ('tfidf', tfidf), \n",
    "                        ('clf', LogisticRegression(random_state=1))])\n",
    "\n",
    "param_grid_lr ={\n",
    "                'vect__ngram_range': [(1,1),(1,2)],\n",
    "                'vect__tokenizer': [tokenizer, tokenizer_porter],\n",
    "    \n",
    "                 'tfidf__use_idf': [True, False],\n",
    "                 'tfidf__norm': ['l1', 'l2'],\n",
    "    \n",
    "                'clf__dual': [True, False],\n",
    "                'clf__tol': [1e-6, 1e-5, 1e-4, 1e-3, 1e-2 ],\n",
    "                'clf__C': [0.001, 0.01, 0.1, 1, 10, 100, 1000],\n",
    "                'clf__fit_intercept': [True, False],\n",
    "                'clf__max_iter' : [100, 110, 120, 130, 140],\n",
    "                'clf__warm_start': [True, False]\n",
    "              }\n",
    "grid_lr = RandomizedSearchCV(lr_pipeline, param_grid_lr, n_iter=150,\n",
    "                             verbose=1, cv=7, n_jobs=2, scoring='accuracy')\n",
    "grid_lr.fit(X_train, y_train)\n",
    "print()"
   ]
  },
  {
   "cell_type": "code",
   "execution_count": null,
   "metadata": {
    "ExecuteTime": {
     "end_time": "2019-10-14T13:40:29.961909Z",
     "start_time": "2019-10-14T13:40:29.955956Z"
    }
   },
   "outputs": [],
   "source": [
    "print('Best parameters: ', grid_lr.best_params_)\n",
    "\n",
    "#Create classifier based on best parameters\n",
    "lr = grid_lr.best_estimator_\n",
    "\n",
    "#Fit the data and predict the classes\n",
    "lr.fit(X_train, y_train)\n",
    "predictions_lr = lr.predict(X_test)\n",
    "\n",
    "print('\\nThe Logistic Regression classifier has reached an accuracy of: {:.2f}% \\n'\n",
    "      .format(lr.score(X_test, y_test)*100))"
   ]
  },
  {
   "cell_type": "markdown",
   "metadata": {},
   "source": [
    "### Implementing Multinomial Naive Bayes\n",
    "Based on Bayes theorem. Predicts the probability of an output based on combination of given parameters"
   ]
  },
  {
   "cell_type": "code",
   "execution_count": null,
   "metadata": {
    "ExecuteTime": {
     "end_time": "2019-10-15T08:42:27.714496Z",
     "start_time": "2019-10-15T08:42:27.710528Z"
    }
   },
   "outputs": [],
   "source": [
    "from sklearn.naive_bayes import MultinomialNB"
   ]
  },
  {
   "cell_type": "code",
   "execution_count": null,
   "metadata": {
    "ExecuteTime": {
     "end_time": "2019-10-15T08:45:49.701272Z",
     "start_time": "2019-10-15T08:42:28.563613Z"
    }
   },
   "outputs": [],
   "source": [
    "mnb_pipeline = Pipeline([('vect', count_vec), ('tfidf', tfidf), \n",
    "                         ('clf', MultinomialNB())])\n",
    "\n",
    "param_grid_mnb = {\n",
    "                  'vect__ngram_range': [(1,1), (1,2), (1,3)],\n",
    "                  'vect__tokenizer': [tokenizer, tokenizer_porter],\n",
    "    \n",
    "                  'tfidf__use_idf': [True, False],\n",
    "                  'tfidf__norm': ['l1', 'l2'],\n",
    "    \n",
    "                  'clf__alpha': [0.0001, 0.001, 0.01, 0.1, 1.0, 10.0, 100.0],\n",
    "                  'clf__fit_prior': [True, False]\n",
    "                 }\n",
    "grid_mnb = RandomizedSearchCV(mnb_pipeline, param_grid_mnb, n_iter=60,\n",
    "                              cv=5, verbose=1, n_jobs=2, scoring='accuracy')\n",
    "grid_mnb.fit(X_train, y_train)\n",
    "print()"
   ]
  },
  {
   "cell_type": "code",
   "execution_count": null,
   "metadata": {
    "ExecuteTime": {
     "end_time": "2019-10-15T08:48:05.421020Z",
     "start_time": "2019-10-15T08:48:05.416062Z"
    }
   },
   "outputs": [],
   "source": [
    "print('Best parameters: ',grid_mnb.best_params_)\n",
    "\n",
    "#Create classifier based on best parameters\n",
    "mnb = grid_mnb.best_estimator_\n",
    "\n",
    "#Fit the data and predict the classes\n",
    "mnb.fit(X_train, y_train)\n",
    "predictions_mnb = mnb.predict(X_test)\n",
    "\n",
    "print('\\nThe Multinomial Naive Bayes classifier has reached an accuracy of: {:.2f}% \\n'\n",
    "      .format(mnb.score(X_test, y_test)*100))"
   ]
  },
  {
   "cell_type": "markdown",
   "metadata": {},
   "source": [
    "### Implementing Support Vector Machine"
   ]
  },
  {
   "cell_type": "code",
   "execution_count": null,
   "metadata": {
    "ExecuteTime": {
     "end_time": "2019-10-15T08:40:35.452418Z",
     "start_time": "2019-10-15T08:40:35.447953Z"
    }
   },
   "outputs": [],
   "source": [
    "from sklearn.svm import SVC"
   ]
  },
  {
   "cell_type": "code",
   "execution_count": null,
   "metadata": {
    "ExecuteTime": {
     "end_time": "2019-10-15T08:40:36.328709Z",
     "start_time": "2019-10-15T08:40:36.308868Z"
    }
   },
   "outputs": [],
   "source": [
    "svc_pipeline = Pipeline([('vect', count_vec), ('tfidf', tfidf),\n",
    "                         ('clf', SVC(random_state=1))])\n",
    "\n",
    "param_grid_svm = {\n",
    "                  'vect__ngram_range': [(1,1),(1,2)],\n",
    "                  'vect__tokenizer': [tokenizer, tokenizer_porter],\n",
    "    \n",
    "                  'tfidf__use_idf': [True, False],\n",
    "                  'tfidf__norm': ['l1', 'l2'],                  \n",
    "    \n",
    "                  'clf__C': [0.1, 1, 10, 100],\n",
    "                  'clf__kernel': ['linear', 'rbf', 'poly'],\n",
    "                  'clf__gamma': [0.1, 1, 10, 100],\n",
    "                  'clf__degree': [0, 1, 2, 3, 4, 5, 6]\n",
    "                 }\n",
    "\n",
    "grid_svc = RandomizedSearchCV(svc_pipeline, param_grid_svm, n_iter=60, \n",
    "                              cv=5, verbose=1, n_jobs=2, scoring='accuracy')\n",
    "grid_svc.fit(X_train, y_train)\n",
    "print()"
   ]
  },
  {
   "cell_type": "code",
   "execution_count": null,
   "metadata": {
    "ExecuteTime": {
     "end_time": "2019-10-14T14:26:37.291804Z",
     "start_time": "2019-10-14T14:26:37.287340Z"
    }
   },
   "outputs": [],
   "source": [
    "print('Best parameters: ', grid_svc.best_params_)\n",
    "#Create classifier based on best parameters\n",
    "svm = grid_svc.best_estimator_\n",
    "\n",
    "#Fit the data and predict the classes\n",
    "svm_fit = svm.fit(X_train, y_train)\n",
    "predictions_svm = svm.predict(X_test)\n",
    "\n",
    "print('\\nThe Support Vector classifier has reached an accuracy of: {:.2f}% \\n'\n",
    "      .format(svm.score(X_test, y_test)*100))"
   ]
  },
  {
   "cell_type": "markdown",
   "metadata": {},
   "source": [
    "### Implementing decision tree\n",
    "Tries to determin the class/label of a datapoint based on sequential conditions"
   ]
  },
  {
   "cell_type": "code",
   "execution_count": null,
   "metadata": {},
   "outputs": [],
   "source": [
    "from sklearn import tree"
   ]
  },
  {
   "cell_type": "code",
   "execution_count": null,
   "metadata": {},
   "outputs": [],
   "source": [
    "dt_pipeline = Pipeline([('vect', count_vec), ('tfidf', tfidf),\n",
    "                         ('clf', tree.DecisionTreeClassifier(random_state=1))])\n",
    "\n",
    "param_grid_dt = {\n",
    "                  'vect__ngram_range': [(1,1),(1,2)],\n",
    "                  'vect__tokenizer': [tokenizer, tokenizer_porter],\n",
    "    \n",
    "                  'tfidf__use_idf': [True, False],\n",
    "                  'tfidf__norm': ['l1', 'l2'],                  \n",
    "    \n",
    "                  'clf__max_depth': np.arange(1, 100),\n",
    "                  'clf__max_features': np.arange(1, 50),\n",
    "                  'clf__min_samples_leaf': np.arange(1, 50),\n",
    "                  'clf__criterion':['gini','entropy']\n",
    "                 }\n",
    "\n",
    "grid_dt = RandomizedSearchCV(dt_pipeline, param_grid_dt, n_iter=70, \n",
    "                              cv=5, verbose=1, n_jobs=-1, scoring='accuracy')\n",
    "grid_dt.fit(X_train, y_train)\n",
    "print()"
   ]
  },
  {
   "cell_type": "code",
   "execution_count": null,
   "metadata": {},
   "outputs": [],
   "source": [
    "print(grid_dt.best_params_)\n",
    "#Create classifier based on best parameters\n",
    "dt = grid_dt.best_estimator_\n",
    "\n",
    "#Fit the data and predict the classes\n",
    "dt.fit(X_train, y_train)\n",
    "predictions_dt = dt.predict(X_test)\n",
    "print('\\nThe decision tree classifier has reached an accuracy of: {:.2f}% \\n'\n",
    "      .format(dt.score(X_test, y_test)*100))"
   ]
  },
  {
   "cell_type": "markdown",
   "metadata": {},
   "source": [
    "### Implementing Random Forest\n",
    "Combination of many random decision trees"
   ]
  },
  {
   "cell_type": "code",
   "execution_count": null,
   "metadata": {
    "ExecuteTime": {
     "end_time": "2019-10-14T13:41:37.673843Z",
     "start_time": "2019-10-14T13:41:37.393165Z"
    }
   },
   "outputs": [],
   "source": [
    "from sklearn.ensemble import RandomForestClassifier"
   ]
  },
  {
   "cell_type": "code",
   "execution_count": null,
   "metadata": {
    "ExecuteTime": {
     "end_time": "2019-10-14T14:19:49.583603Z",
     "start_time": "2019-10-14T14:08:04.705991Z"
    }
   },
   "outputs": [],
   "source": [
    "rf_pipeline = Pipeline([('vect', count_vec), ('tfidf', tfidf), \n",
    "                        ('clf', RandomForestClassifier(random_state=1))])\n",
    "\n",
    "param_grid_rf = {\n",
    "                 'vect__ngram_range': [(1,1),(1,2), (1,3)],\n",
    "                 'vect__tokenizer': [tokenizer, tokenizer_porter],\n",
    "    \n",
    "                 'tfidf__use_idf': [True, False],\n",
    "                 'tfidf__norm': ['l1', 'l2'],                  \n",
    "    \n",
    "                 'clf__n_estimators': [500, 750, 1000, 1500],\n",
    "                 'clf__max_features': ['auto', 'sqrt'],\n",
    "                 'clf__max_depth': np.linspace(1, 64, 32, endpoint=True),\n",
    "                 'clf__min_samples_split': [2, 5, 10],\n",
    "                 'clf__min_samples_leaf': [1, 2, 4],\n",
    "                 'clf__bootstrap': [True, False]\n",
    "                }\n",
    "\n",
    "grid_rf = RandomizedSearchCV(rf_pipeline, param_grid_rf,\n",
    "                             cv=5, n_iter=100 , verbose=1, n_jobs=2, \n",
    "                             scoring='accuracy')\n",
    "\n",
    "grid_rf.fit(X_train, y_train)\n",
    "print()"
   ]
  },
  {
   "cell_type": "code",
   "execution_count": null,
   "metadata": {
    "ExecuteTime": {
     "end_time": "2019-10-14T14:19:49.797381Z",
     "start_time": "2019-10-14T14:19:49.792420Z"
    }
   },
   "outputs": [],
   "source": [
    "print(grid_rf.best_params_)\n",
    "#Create classifier based on best parameters\n",
    "rf = grid_rf.best_estimator_\n",
    "\n",
    "#Fit the data and predict the classes\n",
    "rf.fit(X_train, y_train)\n",
    "predictions_rf = rf.predict(X_test)\n",
    "print('\\nThe Random Forest classifier has reached an accuracy of: {:.2f}% \\n'\n",
    "      .format(rf.score(X_test, y_test)*100))"
   ]
  },
  {
   "cell_type": "markdown",
   "metadata": {},
   "source": [
    "### Testing XGBoost"
   ]
  },
  {
   "cell_type": "code",
   "execution_count": null,
   "metadata": {},
   "outputs": [],
   "source": [
    "import xgboost"
   ]
  },
  {
   "cell_type": "code",
   "execution_count": null,
   "metadata": {},
   "outputs": [],
   "source": [
    "xgb_pipeline = Pipeline([('vect', count_vec), ('tfidf', tfidf),\n",
    "                         ('clf', xgboost.XGBClassifier())])\n",
    "\n",
    "param_grid_xgb = {\n",
    "                  'vect__ngram_range': [(1,1),(1,2)],\n",
    "                  'vect__tokenizer': [tokenizer, tokenizer_porter],\n",
    "    \n",
    "                  'tfidf__use_idf': [True, False],\n",
    "                  'tfidf__norm': ['l1', 'l2'],                  \n",
    "    \n",
    "                  'clf__eta'    : [0.05, 0.10, 0.15, 0.20, 0.25, 0.30 ] ,\n",
    "                  'clf__max_depth' : [ 3, 4, 5, 6, 8, 10, 12, 15],\n",
    "                  'clf__min_child_weight' : [ 1, 3, 5, 7 ],\n",
    "                  'clf__gamma'            : [ 0.0, 0.1, 0.2 , 0.3, 0.4 ],\n",
    "                  'clf__colsample_bytree' : [ 0.3, 0.4, 0.5 , 0.7 ]\n",
    "                 }\n",
    "\n",
    "grid_xgb = RandomizedSearchCV(dt_pipeline, param_grid_dt, n_iter=50, \n",
    "                              cv=7, verbose=1, n_jobs=2, scoring='neg_log_loss')\n",
    "grid_xgb.fit(X_train, y_train)\n",
    "print()"
   ]
  },
  {
   "cell_type": "code",
   "execution_count": null,
   "metadata": {},
   "outputs": [],
   "source": [
    "print(grid_xgb.best_params_)\n",
    "#Create classifier based on best parameters\n",
    "xgb = grid_xgb.best_estimator_\n",
    "\n",
    "#Fit the data and predict the classes\n",
    "xgb.fit(X_train, y_train)\n",
    "predictions_xgb = dt.predict(X_test)\n",
    "print('\\nThe XGBoost  classifier has reached an accuracy of: {:.2f}% \\n'\n",
    "      .format(xgb.score(X_test, y_test)*100))"
   ]
  },
  {
   "cell_type": "markdown",
   "metadata": {},
   "source": [
    "## Comparing clasiffier results"
   ]
  },
  {
   "cell_type": "markdown",
   "metadata": {},
   "source": [
    "### Confusion matrices\n",
    "Matrix that shows the true and false predictions per class"
   ]
  },
  {
   "cell_type": "code",
   "execution_count": null,
   "metadata": {},
   "outputs": [],
   "source": [
    "fig, ax = plt.subplots(2,2, figsize=(15,8), tight_layout=True)\n",
    "\n",
    "visualgrid = [\n",
    "    ConfusionMatrix(model=mnb, classes=classes, ax=ax[0,0]),\n",
    "    ConfusionMatrix(model=lr, classes=classes, ax=ax[0,1]),\n",
    "    ConfusionMatrix(model=svm, classes=classes, ax=ax[1,0]),\n",
    "    ConfusionMatrix(model=rf, classes=classes, ax=ax[1,1])\n",
    "]\n",
    "\n",
    "for viz in visualgrid:\n",
    "    viz.fit(X_train, y_train)\n",
    "    viz.score(X_test, y_test)\n",
    "    viz.finalize()\n"
   ]
  },
  {
   "cell_type": "markdown",
   "metadata": {},
   "source": [
    "### ROCAUC curve\n",
    "tradeoff between the model’s sensitivity and specificity"
   ]
  },
  {
   "cell_type": "code",
   "execution_count": null,
   "metadata": {},
   "outputs": [],
   "source": [
    "fig, ax = plt.subplots(2,2, figsize=(15,15), tight_layout=True)\n",
    "\n",
    "visualgrid = [\n",
    "    ROCAUC(model=mnb, classes=classes, ax=ax[0,0], micro=False, macro=False),\n",
    "    ROCAUC(model=lr, classes=classes, ax=ax[0,1], micro=False, macro=False),\n",
    "    ROCAUC(model=svm, classes=classes, ax=ax[1,0], micro=False, macro=False),\n",
    "    ROCAUC(model=rf, classes=classes, ax=ax[1,1], micro=False, macro=False)\n",
    "]\n",
    "\n",
    "for viz in visualgrid:\n",
    "    viz.fit(X_train, y_train)\n",
    "    viz.score(X_test, y_test)\n",
    "    for label in viz.ax.texts:\n",
    "        label.set_size(15)\n",
    "    viz.finalize()\n"
   ]
  },
  {
   "cell_type": "markdown",
   "metadata": {},
   "source": [
    "### Classification reports\n",
    "Report on the accuracy of the classifier"
   ]
  },
  {
   "cell_type": "code",
   "execution_count": null,
   "metadata": {},
   "outputs": [],
   "source": [
    "fig, ax = plt.subplots(2,2, figsize=(15,8), tight_layout=True)\n",
    "\n",
    "visualgrid = [\n",
    "    ClassificationReport(model=mnb, classes=classes, ax=ax[0,0]),\n",
    "    ClassificationReport(model=lr, classes=classes, ax=ax[0,1]),\n",
    "    ClassificationReport(model=svm, classes=classes, ax=ax[1,0]),\n",
    "    ClassificationReport(model=rf, classes=classes, ax=ax[1,1])\n",
    "]\n",
    "\n",
    "for viz in visualgrid:\n",
    "    viz.fit(X_train, y_train)\n",
    "    viz.score(X_test, y_test)\n",
    "    for label in viz.ax.texts:\n",
    "        label.set_size(15)\n",
    "    viz.finalize()\n"
   ]
  }
 ],
 "metadata": {
  "kernelspec": {
   "display_name": "Python 3",
   "language": "python",
   "name": "python3"
  },
  "language_info": {
   "codemirror_mode": {
    "name": "ipython",
    "version": 3
   },
   "file_extension": ".py",
   "mimetype": "text/x-python",
   "name": "python",
   "nbconvert_exporter": "python",
   "pygments_lexer": "ipython3",
   "version": "3.7.3"
  },
  "toc": {
   "base_numbering": 1,
   "nav_menu": {},
   "number_sections": true,
   "sideBar": true,
   "skip_h1_title": false,
   "title_cell": "Table of Contents",
   "title_sidebar": "Contents",
   "toc_cell": false,
   "toc_position": {
    "height": "calc(100% - 180px)",
    "left": "10px",
    "top": "150px",
    "width": "290.6px"
   },
   "toc_section_display": true,
   "toc_window_display": false
  },
  "toc-autonumbering": true,
  "toc-showtags": false,
  "varInspector": {
   "cols": {
    "lenName": 16,
    "lenType": 16,
    "lenVar": 40
   },
   "kernels_config": {
    "python": {
     "delete_cmd_postfix": "",
     "delete_cmd_prefix": "del ",
     "library": "var_list.py",
     "varRefreshCmd": "print(var_dic_list())"
    },
    "r": {
     "delete_cmd_postfix": ") ",
     "delete_cmd_prefix": "rm(",
     "library": "var_list.r",
     "varRefreshCmd": "cat(var_dic_list()) "
    }
   },
   "position": {
    "height": "478.8px",
    "left": "1175.6px",
    "right": "20px",
    "top": "124px",
    "width": "341.4px"
   },
   "types_to_exclude": [
    "module",
    "function",
    "builtin_function_or_method",
    "instance",
    "_Feature"
   ],
   "window_display": false
  }
 },
 "nbformat": 4,
 "nbformat_minor": 4
}
