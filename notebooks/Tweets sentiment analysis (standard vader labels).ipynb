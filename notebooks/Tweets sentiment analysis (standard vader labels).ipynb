{
 "cells": [
  {
   "cell_type": "markdown",
   "metadata": {},
   "source": [
    "# Tweet sentiment analysis"
   ]
  },
  {
   "cell_type": "code",
   "execution_count": 3,
   "metadata": {
    "ExecuteTime": {
     "end_time": "2019-10-07T12:37:59.519464Z",
     "start_time": "2019-10-07T12:37:59.514999Z"
    }
   },
   "outputs": [],
   "source": [
    "import numpy as np\n",
    "import pandas as pd\n",
    "import matplotlib.pyplot as plt\n",
    "import matplotlib.ticker as ticker\n",
    "import seaborn as sns\n",
    "import datetime"
   ]
  },
  {
   "cell_type": "markdown",
   "metadata": {},
   "source": [
    "## Get dataframe from csv file"
   ]
  },
  {
   "cell_type": "code",
   "execution_count": 4,
   "metadata": {
    "ExecuteTime": {
     "end_time": "2019-10-07T12:38:01.307505Z",
     "start_time": "2019-10-07T12:38:01.256233Z"
    }
   },
   "outputs": [],
   "source": [
    "# Read CSV file\n",
    "tweets_today = pd.read_csv(r\"..\\datasets\\raw_data\\tweets{}.csv\".format(datetime.date.today()))\n",
    "#tweets_today = pd.read_csv(r\"..\\datasets\\tweets2019-09-24.csv\")\n",
    "tweets_today = tweets_today.head(5000)\n",
    "# Gets tweet texts\n",
    "tweets_today_text = tweets_today[\"tweet\"]"
   ]
  },
  {
   "cell_type": "markdown",
   "metadata": {},
   "source": [
    "## Data cleaning"
   ]
  },
  {
   "cell_type": "code",
   "execution_count": 5,
   "metadata": {
    "ExecuteTime": {
     "end_time": "2019-10-07T12:38:05.691292Z",
     "start_time": "2019-10-07T12:38:05.684844Z"
    }
   },
   "outputs": [],
   "source": [
    "# Preprocessing of tweet texts\n",
    "def format_tweet(tweet):\n",
    "    processed_tweet=\"\"\n",
    "    for word in tweet.full_text.split():\n",
    "        # Removing URL from tweet\n",
    "        processed_word = re.sub(r'([^0-9A-Za-z \\t])|(\\w+:\\/\\/\\S+)', ' ', word)\n",
    "        \n",
    "        # Remove all the special characters\n",
    "        #processed_word = re.sub(r'\\W', '', processed_word)\n",
    "        # remove all single characters\n",
    "        processed_word = re.sub(r'\\s+[a-zA-Z]\\s+', ' ', processed_word)\n",
    "        # Remove single characters from the start\n",
    "        processed_word = re.sub(r'\\^[a-zA-Z]\\s+', ' ', processed_word) \n",
    "        # Substituting multiple spaces with single space\n",
    "        processed_word = re.sub(r'\\s+', '', processed_word, flags=re.I)\n",
    "        # Removing prefixed 'b'\n",
    "        processed_word = re.sub(r'^b\\s+', ' ', processed_word)\n",
    "        # Removing &amp\n",
    "        processed_word = re.sub(r'&amp', '&', processed_word)\n",
    "        # Converting to Lowercase\n",
    "        processed_word = processed_word.lower()\n",
    "        processed_tweet= processed_tweet+\" \"+processed_word\n",
    "        return processed_tweet\n",
    "            \n",
    "    else:\n",
    "        return\n",
    "    \n",
    "    tweets_today_text = [format_tweet(tweet) for tweet in tweets_today_text]\n",
    "    tweets_today_text = list(filter(None, tweets_today_text))\n",
    "    \n"
   ]
  },
  {
   "cell_type": "markdown",
   "metadata": {},
   "source": [
    "## Labeling tweets with NLTK vader"
   ]
  },
  {
   "cell_type": "code",
   "execution_count": 6,
   "metadata": {
    "ExecuteTime": {
     "end_time": "2019-10-07T12:38:10.092561Z",
     "start_time": "2019-10-07T12:38:07.474689Z"
    }
   },
   "outputs": [
    {
     "name": "stderr",
     "output_type": "stream",
     "text": [
      "[nltk_data] Downloading package vader_lexicon to\n",
      "[nltk_data]     C:\\Users\\ViMs\\AppData\\Roaming\\nltk_data...\n",
      "[nltk_data]   Package vader_lexicon is already up-to-date!\n"
     ]
    },
    {
     "data": {
      "text/plain": [
       "True"
      ]
     },
     "execution_count": 6,
     "metadata": {},
     "output_type": "execute_result"
    }
   ],
   "source": [
    "import nltk\n",
    "from nltk.sentiment.vader import SentimentIntensityAnalyzer\n",
    "nltk.download('vader_lexicon')"
   ]
  },
  {
   "cell_type": "code",
   "execution_count": 7,
   "metadata": {
    "ExecuteTime": {
     "end_time": "2019-10-07T12:38:10.173897Z",
     "start_time": "2019-10-07T12:38:10.139684Z"
    }
   },
   "outputs": [
    {
     "name": "stdout",
     "output_type": "stream",
     "text": [
      "@PrettyBoyMweza hamba global warming! hayi lantsoooo: \n",
      "{'neg': 0.0, 'neu': 0.725, 'pos': 0.275, 'compound': 0.2244}\n",
      "\n",
      "\n",
      "@cooely5281 Climate Change is real hoax, it is a way to control people's lifestyles &amp; money. Paris Accord was collecting billions from countries worldwide. Those billions were taxpayer $'s. While they were jetting around the world &amp; being driven in Lg cars,  eating fine cuisine, fine hotels: \n",
      "{'neg': 0.043, 'neu': 0.883, 'pos': 0.074, 'compound': 0.128}\n",
      "\n",
      "\n",
      "@StopThatStuper @Charles68431225 @OwenJones84 @elbobaggins No you are a joke. The planet is being destroyed and rapid climate change and you think nuclear weapons should be on the political agenda of the UK. We have poverty homelessness and a disappearing nhs Nukes ain’t going to solve anything: \n",
      "{'neg': 0.216, 'neu': 0.709, 'pos': 0.075, 'compound': -0.8225}\n",
      "\n",
      "\n",
      "How does one get a person who believes in the sea level rise aspect of climate change, but refutes other things such as tidal flooding &amp; more frequent and stronger storms, to accept the latter? What's that convo like?: \n",
      "{'neg': 0.0, 'neu': 0.764, 'pos': 0.236, 'compound': 0.8958}\n",
      "\n",
      "\n",
      "“People think going vegan, banning single-use plastic and recycling will stop climate change – it won’t. Government has to act, and it’s on us to cause these disruptions to force them to. This has to be a mass movement.”: \n",
      "{'neg': 0.116, 'neu': 0.884, 'pos': 0.0, 'compound': -0.5574}\n",
      "\n",
      "\n"
     ]
    }
   ],
   "source": [
    "sid = SentimentIntensityAnalyzer()\n",
    "\n",
    "for tweet in tweets_today_text[:5]:\n",
    "    print(\"{0}: \\n{1}\\n\\n\".format(tweet, sid.polarity_scores(tweet)))"
   ]
  },
  {
   "cell_type": "code",
   "execution_count": 8,
   "metadata": {
    "ExecuteTime": {
     "end_time": "2019-10-07T12:38:11.807159Z",
     "start_time": "2019-10-07T12:38:10.221514Z"
    }
   },
   "outputs": [
    {
     "data": {
      "text/html": [
       "<div>\n",
       "<style scoped>\n",
       "    .dataframe tbody tr th:only-of-type {\n",
       "        vertical-align: middle;\n",
       "    }\n",
       "\n",
       "    .dataframe tbody tr th {\n",
       "        vertical-align: top;\n",
       "    }\n",
       "\n",
       "    .dataframe thead th {\n",
       "        text-align: right;\n",
       "    }\n",
       "</style>\n",
       "<table border=\"1\" class=\"dataframe\">\n",
       "  <thead>\n",
       "    <tr style=\"text-align: right;\">\n",
       "      <th></th>\n",
       "      <th>Sentiment</th>\n",
       "      <th>Polarity</th>\n",
       "      <th>Tweet</th>\n",
       "      <th>Username</th>\n",
       "      <th>Creation Date</th>\n",
       "    </tr>\n",
       "  </thead>\n",
       "  <tbody>\n",
       "    <tr>\n",
       "      <th>4340</th>\n",
       "      <td>positive</td>\n",
       "      <td>0.32</td>\n",
       "      <td>@annaklas_ @EddieJRClarke @lingtax @emilyandth...</td>\n",
       "      <td>Quin</td>\n",
       "      <td>2019-10-07 02:47:04</td>\n",
       "    </tr>\n",
       "    <tr>\n",
       "      <th>4341</th>\n",
       "      <td>negative</td>\n",
       "      <td>-0.17</td>\n",
       "      <td>Global warming really trying to cancel spooky ...</td>\n",
       "      <td>Bill Hinson</td>\n",
       "      <td>2019-10-07 02:47:01</td>\n",
       "    </tr>\n",
       "    <tr>\n",
       "      <th>4342</th>\n",
       "      <td>negative</td>\n",
       "      <td>-0.31</td>\n",
       "      <td>@realDonaldTrump @60Minutes So to sum it up, y...</td>\n",
       "      <td>JazzAndPolitics</td>\n",
       "      <td>2019-10-07 02:46:58</td>\n",
       "    </tr>\n",
       "    <tr>\n",
       "      <th>4343</th>\n",
       "      <td>neutral</td>\n",
       "      <td>0.00</td>\n",
       "      <td>@CNN They're also the main contributor to huma...</td>\n",
       "      <td>Dr. James B. Box, Ph.D.</td>\n",
       "      <td>2019-10-07 02:46:53</td>\n",
       "    </tr>\n",
       "    <tr>\n",
       "      <th>4344</th>\n",
       "      <td>negative</td>\n",
       "      <td>-0.51</td>\n",
       "      <td>@Amber8434 @ABJackson10 Your Son will learn th...</td>\n",
       "      <td>Lyme Disease Advocate</td>\n",
       "      <td>2019-10-07 02:46:52</td>\n",
       "    </tr>\n",
       "    <tr>\n",
       "      <th>4345</th>\n",
       "      <td>negative</td>\n",
       "      <td>-0.14</td>\n",
       "      <td>@CMA_Docs @CFNUPresident Please don’t forget t...</td>\n",
       "      <td>B McGuire</td>\n",
       "      <td>2019-10-07 02:46:51</td>\n",
       "    </tr>\n",
       "    <tr>\n",
       "      <th>4346</th>\n",
       "      <td>positive</td>\n",
       "      <td>0.08</td>\n",
       "      <td>@charliekirk11 Interesting that you have to go...</td>\n",
       "      <td>AroundOnlineMedia180</td>\n",
       "      <td>2019-10-07 02:46:44</td>\n",
       "    </tr>\n",
       "    <tr>\n",
       "      <th>4347</th>\n",
       "      <td>neutral</td>\n",
       "      <td>0.00</td>\n",
       "      <td>What kind of impacts does climate change have ...</td>\n",
       "      <td>Milhomens</td>\n",
       "      <td>2019-10-07 02:46:36</td>\n",
       "    </tr>\n",
       "    <tr>\n",
       "      <th>4348</th>\n",
       "      <td>positive</td>\n",
       "      <td>0.47</td>\n",
       "      <td>@BiasedSportsGod @evaandheriud As I said, i'm ...</td>\n",
       "      <td>frighten up</td>\n",
       "      <td>2019-10-07 02:46:33</td>\n",
       "    </tr>\n",
       "    <tr>\n",
       "      <th>4349</th>\n",
       "      <td>negative</td>\n",
       "      <td>-0.30</td>\n",
       "      <td>Cailey Fleming is gonna stop climate change 😌 ...</td>\n",
       "      <td>A.R. Moxon (Julius Goat)</td>\n",
       "      <td>2019-10-07 02:46:30</td>\n",
       "    </tr>\n",
       "    <tr>\n",
       "      <th>4350</th>\n",
       "      <td>positive</td>\n",
       "      <td>0.95</td>\n",
       "      <td>@Collaterly Yes, it would have been the same i...</td>\n",
       "      <td>GaryTap</td>\n",
       "      <td>2019-10-07 02:46:22</td>\n",
       "    </tr>\n",
       "    <tr>\n",
       "      <th>4351</th>\n",
       "      <td>positive</td>\n",
       "      <td>0.75</td>\n",
       "      <td>@ewarren Virtually nothing to do with humans.....</td>\n",
       "      <td>💧Tib</td>\n",
       "      <td>2019-10-07 02:46:16</td>\n",
       "    </tr>\n",
       "    <tr>\n",
       "      <th>4352</th>\n",
       "      <td>negative</td>\n",
       "      <td>-0.64</td>\n",
       "      <td>@_Oliver_Yates It's little wonder Morrison was...</td>\n",
       "      <td>Bill White</td>\n",
       "      <td>2019-10-07 02:46:05</td>\n",
       "    </tr>\n",
       "    <tr>\n",
       "      <th>4353</th>\n",
       "      <td>negative</td>\n",
       "      <td>-0.25</td>\n",
       "      <td>Vee covers all the climate predictions from th...</td>\n",
       "      <td>Eclectic ️American 🇺🇸</td>\n",
       "      <td>2019-10-07 02:46:00</td>\n",
       "    </tr>\n",
       "    <tr>\n",
       "      <th>4354</th>\n",
       "      <td>positive</td>\n",
       "      <td>0.25</td>\n",
       "      <td>Here comes Global Warming... I mean Climate Ch...</td>\n",
       "      <td>Hannah Sinclair</td>\n",
       "      <td>2019-10-07 02:46:00</td>\n",
       "    </tr>\n",
       "    <tr>\n",
       "      <th>4355</th>\n",
       "      <td>negative</td>\n",
       "      <td>-0.68</td>\n",
       "      <td>A small group of @ExtinctionR protesters have ...</td>\n",
       "      <td>Matt Harrington</td>\n",
       "      <td>2019-10-07 02:45:58</td>\n",
       "    </tr>\n",
       "    <tr>\n",
       "      <th>4356</th>\n",
       "      <td>negative</td>\n",
       "      <td>-0.25</td>\n",
       "      <td>\"She is aware—and has the bad manners to say s...</td>\n",
       "      <td>Ceist</td>\n",
       "      <td>2019-10-07 02:45:57</td>\n",
       "    </tr>\n",
       "    <tr>\n",
       "      <th>4357</th>\n",
       "      <td>positive</td>\n",
       "      <td>0.08</td>\n",
       "      <td>@VoisinSt @DamoPelham @CattMaxx @DawnTJ90 @JWS...</td>\n",
       "      <td>Sou at HotWhopper</td>\n",
       "      <td>2019-10-07 02:45:54</td>\n",
       "    </tr>\n",
       "    <tr>\n",
       "      <th>4358</th>\n",
       "      <td>neutral</td>\n",
       "      <td>0.00</td>\n",
       "      <td>@DawnTJ90 @VoisinSt @DamoPelham @Ceist8 @CattM...</td>\n",
       "      <td>Army Vet</td>\n",
       "      <td>2019-10-07 02:45:52</td>\n",
       "    </tr>\n",
       "    <tr>\n",
       "      <th>4359</th>\n",
       "      <td>positive</td>\n",
       "      <td>0.33</td>\n",
       "      <td>Isn't that the protesting cow trolling AOC on ...</td>\n",
       "      <td>fabien melanson</td>\n",
       "      <td>2019-10-07 02:45:44</td>\n",
       "    </tr>\n",
       "  </tbody>\n",
       "</table>\n",
       "</div>"
      ],
      "text/plain": [
       "     Sentiment  Polarity                                              Tweet  \\\n",
       "4340  positive      0.32  @annaklas_ @EddieJRClarke @lingtax @emilyandth...   \n",
       "4341  negative     -0.17  Global warming really trying to cancel spooky ...   \n",
       "4342  negative     -0.31  @realDonaldTrump @60Minutes So to sum it up, y...   \n",
       "4343   neutral      0.00  @CNN They're also the main contributor to huma...   \n",
       "4344  negative     -0.51  @Amber8434 @ABJackson10 Your Son will learn th...   \n",
       "4345  negative     -0.14  @CMA_Docs @CFNUPresident Please don’t forget t...   \n",
       "4346  positive      0.08  @charliekirk11 Interesting that you have to go...   \n",
       "4347   neutral      0.00  What kind of impacts does climate change have ...   \n",
       "4348  positive      0.47  @BiasedSportsGod @evaandheriud As I said, i'm ...   \n",
       "4349  negative     -0.30  Cailey Fleming is gonna stop climate change 😌 ...   \n",
       "4350  positive      0.95  @Collaterly Yes, it would have been the same i...   \n",
       "4351  positive      0.75  @ewarren Virtually nothing to do with humans.....   \n",
       "4352  negative     -0.64  @_Oliver_Yates It's little wonder Morrison was...   \n",
       "4353  negative     -0.25  Vee covers all the climate predictions from th...   \n",
       "4354  positive      0.25  Here comes Global Warming... I mean Climate Ch...   \n",
       "4355  negative     -0.68  A small group of @ExtinctionR protesters have ...   \n",
       "4356  negative     -0.25  \"She is aware—and has the bad manners to say s...   \n",
       "4357  positive      0.08  @VoisinSt @DamoPelham @CattMaxx @DawnTJ90 @JWS...   \n",
       "4358   neutral      0.00  @DawnTJ90 @VoisinSt @DamoPelham @Ceist8 @CattM...   \n",
       "4359  positive      0.33  Isn't that the protesting cow trolling AOC on ...   \n",
       "\n",
       "                      Username        Creation Date  \n",
       "4340                      Quin  2019-10-07 02:47:04  \n",
       "4341               Bill Hinson  2019-10-07 02:47:01  \n",
       "4342           JazzAndPolitics  2019-10-07 02:46:58  \n",
       "4343   Dr. James B. Box, Ph.D.  2019-10-07 02:46:53  \n",
       "4344     Lyme Disease Advocate  2019-10-07 02:46:52  \n",
       "4345                 B McGuire  2019-10-07 02:46:51  \n",
       "4346      AroundOnlineMedia180  2019-10-07 02:46:44  \n",
       "4347                 Milhomens  2019-10-07 02:46:36  \n",
       "4348               frighten up  2019-10-07 02:46:33  \n",
       "4349  A.R. Moxon (Julius Goat)  2019-10-07 02:46:30  \n",
       "4350                   GaryTap  2019-10-07 02:46:22  \n",
       "4351                      💧Tib  2019-10-07 02:46:16  \n",
       "4352                Bill White  2019-10-07 02:46:05  \n",
       "4353     Eclectic ️American 🇺🇸  2019-10-07 02:46:00  \n",
       "4354           Hannah Sinclair  2019-10-07 02:46:00  \n",
       "4355           Matt Harrington  2019-10-07 02:45:58  \n",
       "4356                     Ceist  2019-10-07 02:45:57  \n",
       "4357         Sou at HotWhopper  2019-10-07 02:45:54  \n",
       "4358                  Army Vet  2019-10-07 02:45:52  \n",
       "4359           fabien melanson  2019-10-07 02:45:44  "
      ]
     },
     "execution_count": 8,
     "metadata": {},
     "output_type": "execute_result"
    }
   ],
   "source": [
    "def get_sentiment(polarity):\n",
    "    if polarity > 0:\n",
    "        return 'positive'\n",
    "    if polarity == 0:\n",
    "        return 'neutral'\n",
    "    else:\n",
    "        return 'negative'\n",
    "\n",
    "polarity_tweets = [round(sid.polarity_scores(tweet)[\"compound\"], 2)\n",
    "                   for tweet in tweets_today_text]\n",
    "sentiment_tweets = [get_sentiment(polarity) for polarity in polarity_tweets]\n",
    "zipped_list = list(zip(sentiment_tweets, polarity_tweets,\n",
    "                       tweets_today['tweet'], tweets_today['username'], tweets_today['creation date']))\n",
    "\n",
    "# Store to new dataframe\n",
    "sentiment_df = pd.DataFrame(zipped_list, columns=[\n",
    "    \"Sentiment\", \"Polarity\", \"Tweet\", \"Username\", \"Creation Date\"])\n",
    "sentiment_df.tail(20)"
   ]
  },
  {
   "cell_type": "code",
   "execution_count": 9,
   "metadata": {
    "ExecuteTime": {
     "end_time": "2019-10-07T12:38:12.162291Z",
     "start_time": "2019-10-07T12:38:11.945013Z"
    }
   },
   "outputs": [
    {
     "data": {
      "image/png": "[encoded data removed]",
      "text/plain": [
       "<Figure size 432x288 with 1 Axes>"
      ]
     },
     "metadata": {},
     "output_type": "display_data"
    },
    {
     "name": "stdout",
     "output_type": "stream",
     "text": [
      "total positive: 1655\n",
      "total neutral: 670\n",
      "total negative: 2035\n"
     ]
    }
   ],
   "source": [
    "sentiment_count = round(sentiment_df[\"Polarity\"].value_counts(), 2)\n",
    "\n",
    "sentiments = [get_sentiment(polarity)\n",
    "              for polarity in sentiment_df[\"Polarity\"]]\n",
    "\n",
    "sentiment_count_list = np.array([sentiments.count(\n",
    "    \"positive\"), sentiments.count(\"neutral\"), sentiments.count(\"negative\")])\n",
    "\n",
    "labels = [\"positive\", \"neutral\", \"negative\"]\n",
    "colors = [\"green\", \"yellow\", \"red\"]\n",
    "fig1, ax1 = plt.subplots()\n",
    "ax1.pie(sentiment_count_list, labels=labels, shadow=True,\n",
    "        autopct='%1.1f%%', startangle=90, colors=colors)\n",
    "ax1.axis('equal')\n",
    "plt.title(\"Distribution of sentiment values\")\n",
    "plt.show()\n",
    "print(\"total positive: {}\".format(sentiments.count('positive')))\n",
    "print(\"total neutral: {}\".format(sentiments.count('neutral')))\n",
    "print(\"total negative: {}\".format(sentiments.count('negative')))"
   ]
  },
  {
   "cell_type": "markdown",
   "metadata": {},
   "source": [
    "Using this nltk vader implementation for sentiment analysis, we get entirely diferent results. There are way less neutral tweets and more than half of the tweets now have a negative sentiment assigned to them"
   ]
  },
  {
   "cell_type": "code",
   "execution_count": 10,
   "metadata": {
    "ExecuteTime": {
     "end_time": "2019-10-07T12:38:12.461929Z",
     "start_time": "2019-10-07T12:38:12.267907Z"
    }
   },
   "outputs": [
    {
     "data": {
      "image/png": "[encoded data removed]",
      "text/plain": [
       "<Figure size 432x288 with 1 Axes>"
      ]
     },
     "metadata": {
      "needs_background": "light"
     },
     "output_type": "display_data"
    }
   ],
   "source": [
    "sentiment_df[\"Polarity\"].hist(bins=5)\n",
    "plt.title(\"Distribution of sentiment polarities\")\n",
    "plt.xlabel(\"Sentiment polarities\")\n",
    "plt.ylabel(\"Amount of tweets\")\n",
    "plt.show()"
   ]
  },
  {
   "cell_type": "markdown",
   "metadata": {},
   "source": [
    "## Implementing machine learning algorithms"
   ]
  },
  {
   "cell_type": "code",
   "execution_count": 11,
   "metadata": {
    "ExecuteTime": {
     "end_time": "2019-10-07T12:38:25.510994Z",
     "start_time": "2019-10-07T12:38:25.390502Z"
    }
   },
   "outputs": [
    {
     "name": "stderr",
     "output_type": "stream",
     "text": [
      "[nltk_data] Downloading package stopwords to\n",
      "[nltk_data]     C:\\Users\\ViMs\\AppData\\Roaming\\nltk_data...\n",
      "[nltk_data]   Package stopwords is already up-to-date!\n",
      "[nltk_data] Downloading package wordnet to\n",
      "[nltk_data]     C:\\Users\\ViMs\\AppData\\Roaming\\nltk_data...\n",
      "[nltk_data]   Package wordnet is already up-to-date!\n"
     ]
    },
    {
     "data": {
      "text/plain": [
       "True"
      ]
     },
     "execution_count": 11,
     "metadata": {},
     "output_type": "execute_result"
    }
   ],
   "source": [
    "from sklearn.feature_selection import chi2\n",
    "from sklearn.feature_extraction.text import TfidfVectorizer\n",
    "from sklearn.pipeline import Pipeline\n",
    "from sklearn.model_selection import GridSearchCV\n",
    "from sklearn.model_selection import RandomizedSearchCV\n",
    "from sklearn.metrics import classification_report, confusion_matrix, accuracy_score\n",
    "from nltk.stem import WordNetLemmatizer\n",
    "from nltk.corpus import stopwords\n",
    "import nltk\n",
    "nltk.download('stopwords')\n",
    "nltk.download('wordnet')"
   ]
  },
  {
   "cell_type": "markdown",
   "metadata": {},
   "source": [
    "### Preprocessing data"
   ]
  },
  {
   "cell_type": "code",
   "execution_count": 12,
   "metadata": {
    "ExecuteTime": {
     "end_time": "2019-10-07T12:39:22.420832Z",
     "start_time": "2019-10-07T12:38:32.044042Z"
    }
   },
   "outputs": [
    {
     "name": "stdout",
     "output_type": "stream",
     "text": [
      "4360\n"
     ]
    }
   ],
   "source": [
    "labels = sentiment_df[\"Sentiment\"].values\n",
    "documents = []\n",
    "stemmer = WordNetLemmatizer()\n",
    "\n",
    "def filter_stopwords(word):\n",
    "    if word in stopwords.words('english'):\n",
    "        return False\n",
    "    else:\n",
    "        return True\n",
    "\n",
    "\n",
    "# Extract tweet column from df\n",
    "sentiment_df_text = sentiment_df[\"Tweet\"]\n",
    "\n",
    "for tweet in sentiment_df_text:\n",
    "    document = tweet.split()\n",
    "    document = [stemmer.lemmatize(word) for word in document]\n",
    "    document = filter(filter_stopwords, document)\n",
    "    document = ' '.join(document)\n",
    "    documents.append(document)\n",
    "print(len(documents))"
   ]
  },
  {
   "cell_type": "markdown",
   "metadata": {},
   "source": [
    "### Vectorize words with TF-IDF + normalize features"
   ]
  },
  {
   "cell_type": "code",
   "execution_count": 13,
   "metadata": {
    "ExecuteTime": {
     "end_time": "2019-10-07T12:39:22.896753Z",
     "start_time": "2019-10-07T12:39:22.644529Z"
    }
   },
   "outputs": [
    {
     "data": {
      "text/plain": [
       "array([[0., 0., 0., ..., 0., 0., 0.],\n",
       "       [0., 0., 0., ..., 0., 0., 0.],\n",
       "       [0., 0., 0., ..., 0., 0., 0.],\n",
       "       ...,\n",
       "       [0., 0., 0., ..., 0., 0., 0.],\n",
       "       [0., 0., 0., ..., 0., 0., 0.],\n",
       "       [0., 0., 0., ..., 0., 0., 0.]])"
      ]
     },
     "execution_count": 13,
     "metadata": {},
     "output_type": "execute_result"
    }
   ],
   "source": [
    "# tfidf = term frequency, inverse document frequency ()\n",
    "vectorizer = TfidfVectorizer(max_features=3000, min_df=5, max_df=0.80)\n",
    "processed_features = vectorizer.fit_transform(documents)\n",
    "#processed_features = normalize(processed_features)\n",
    "processed_features = processed_features.toarray()\n",
    "\n",
    "feature_names = vectorizer.get_feature_names()\n",
    "\n",
    "chi2score = chi2(x_train_tfidf, y_train)\n",
    "\n",
    "processed_features"
   ]
  },
  {
   "cell_type": "markdown",
   "metadata": {},
   "source": [
    "### Divide into training and test sets"
   ]
  },
  {
   "cell_type": "code",
   "execution_count": 14,
   "metadata": {
    "ExecuteTime": {
     "end_time": "2019-10-07T12:39:23.108519Z",
     "start_time": "2019-10-07T12:39:23.042055Z"
    }
   },
   "outputs": [
    {
     "name": "stdout",
     "output_type": "stream",
     "text": [
      "3488\n",
      "872\n"
     ]
    }
   ],
   "source": [
    "from sklearn.model_selection import train_test_split\n",
    "from sklearn.preprocessing import LabelEncoder\n",
    "\n",
    "label_encoder = LabelEncoder()\n",
    "labels = label_encoder.fit_transform(labels)\n",
    "\n",
    "X_train, X_test, y_train, y_test = train_test_split(processed_features,\n",
    "                                                    labels, test_size=0.2,\n",
    "                                                    random_state=1)\n",
    "\n",
    "print(len(X_train))\n",
    "print(len(X_test))"
   ]
  },
  {
   "cell_type": "markdown",
   "metadata": {},
   "source": [
    "### Implementing Multinomial Naive Bayes"
   ]
  },
  {
   "cell_type": "code",
   "execution_count": 15,
   "metadata": {
    "ExecuteTime": {
     "end_time": "2019-10-07T12:39:23.279143Z",
     "start_time": "2019-10-07T12:39:23.272696Z"
    }
   },
   "outputs": [],
   "source": [
    "from sklearn.naive_bayes import MultinomialNB"
   ]
  },
  {
   "cell_type": "code",
   "execution_count": 16,
   "metadata": {
    "ExecuteTime": {
     "end_time": "2019-10-07T12:39:35.869117Z",
     "start_time": "2019-10-07T12:39:23.472089Z"
    }
   },
   "outputs": [
    {
     "name": "stdout",
     "output_type": "stream",
     "text": [
      "Fitting 5 folds for each of 12 candidates, totalling 60 fits\n"
     ]
    },
    {
     "name": "stderr",
     "output_type": "stream",
     "text": [
      "[Parallel(n_jobs=-1)]: Using backend LokyBackend with 4 concurrent workers.\n",
      "[Parallel(n_jobs=-1)]: Done  33 tasks      | elapsed:    8.2s\n",
      "[Parallel(n_jobs=-1)]: Done  60 out of  60 | elapsed:   11.3s finished\n"
     ]
    },
    {
     "name": "stdout",
     "output_type": "stream",
     "text": [
      "Best cross-validation score: 0.65\n",
      "Best parameters:  {'alpha': 0.1, 'fit_prior': False}\n",
      "Best estimator:  MultinomialNB(alpha=0.1, class_prior=None, fit_prior=False)\n"
     ]
    }
   ],
   "source": [
    "param_grid_mnb = {'alpha': [0.001, 0.01, 0.1, 1.0, 10.0, 100.0],\n",
    "                  'fit_prior': [True, False]\n",
    "                 }\n",
    "grid_mnb = GridSearchCV(MultinomialNB(), param_grid_mnb, cv=5, verbose=2, n_jobs=-1)\n",
    "grid_mnb.fit(X_train, y_train)\n",
    "\n",
    "print(\"Best cross-validation score: {:.2f}\".format(grid_mnb.best_score_))\n",
    "print(\"Best parameters: \", grid_mnb.best_params_)\n",
    "print(\"Best estimator: \", grid_mnb.best_estimator_)"
   ]
  },
  {
   "cell_type": "markdown",
   "metadata": {},
   "source": [
    "* Best cross-validation score: 0.65\n",
    "* Best parameters:  {'alpha': 0.1, 'fit_prior': False}\n",
    "* Best estimator:  MultinomialNB(alpha=0.1, class_prior=None, fit_prior=False)"
   ]
  },
  {
   "cell_type": "code",
   "execution_count": 18,
   "metadata": {
    "ExecuteTime": {
     "end_time": "2019-10-07T12:40:24.300897Z",
     "start_time": "2019-10-07T12:40:24.223523Z"
    }
   },
   "outputs": [
    {
     "name": "stdout",
     "output_type": "stream",
     "text": [
      "[[277  40  94]\n",
      " [ 25  76  24]\n",
      " [ 68  31 237]]\n",
      "              precision    recall  f1-score   support\n",
      "\n",
      "           0       0.75      0.67      0.71       411\n",
      "           1       0.52      0.61      0.56       125\n",
      "           2       0.67      0.71      0.69       336\n",
      "\n",
      "    accuracy                           0.68       872\n",
      "   macro avg       0.64      0.66      0.65       872\n",
      "weighted avg       0.68      0.68      0.68       872\n",
      "\n",
      "The algorithm has reached an accuracy of: 67.66%\n"
     ]
    }
   ],
   "source": [
    "mnb = MultinomialNB(alpha=0.10, class_prior=None, fit_prior=False)\n",
    "mnb.fit(X_train, y_train)\n",
    "predictions_mnb = mnb.predict(X_test)\n",
    "print(confusion_matrix(y_test, predictions_mnb))\n",
    "print(classification_report(y_test, predictions_mnb))\n",
    "print(\"The algorithm has reached an accuracy of: {:.2f}%\".format(mnb.score(X_test, y_test)*100))"
   ]
  },
  {
   "cell_type": "markdown",
   "metadata": {},
   "source": [
    "### Implementing Logistic regression & tuning hyperparameters"
   ]
  },
  {
   "cell_type": "code",
   "execution_count": 19,
   "metadata": {
    "ExecuteTime": {
     "end_time": "2019-10-07T12:53:10.987926Z",
     "start_time": "2019-10-07T12:41:35.570298Z"
    }
   },
   "outputs": [
    {
     "name": "stdout",
     "output_type": "stream",
     "text": [
      "Fitting 5 folds for each of 1000 candidates, totalling 5000 fits\n"
     ]
    },
    {
     "name": "stderr",
     "output_type": "stream",
     "text": [
      "[Parallel(n_jobs=-1)]: Using backend LokyBackend with 4 concurrent workers.\n",
      "[Parallel(n_jobs=-1)]: Done  33 tasks      | elapsed:    5.5s\n",
      "[Parallel(n_jobs=-1)]: Done 154 tasks      | elapsed:   23.6s\n",
      "[Parallel(n_jobs=-1)]: Done 357 tasks      | elapsed:   51.6s\n",
      "[Parallel(n_jobs=-1)]: Done 640 tasks      | elapsed:  1.4min\n",
      "[Parallel(n_jobs=-1)]: Done 1005 tasks      | elapsed:  2.2min\n",
      "[Parallel(n_jobs=-1)]: Done 1450 tasks      | elapsed:  3.2min\n",
      "[Parallel(n_jobs=-1)]: Done 1977 tasks      | elapsed:  4.3min\n",
      "[Parallel(n_jobs=-1)]: Done 2584 tasks      | elapsed:  5.8min\n",
      "[Parallel(n_jobs=-1)]: Done 3273 tasks      | elapsed:  7.5min\n",
      "[Parallel(n_jobs=-1)]: Done 4042 tasks      | elapsed:  9.3min\n",
      "[Parallel(n_jobs=-1)]: Done 4893 tasks      | elapsed: 11.4min\n"
     ]
    },
    {
     "name": "stdout",
     "output_type": "stream",
     "text": [
      "Best cross-validation score: 0.68\n",
      "Best parameters:  {'warm_start': True, 'tol': 0.01, 'max_iter': 140, 'fit_intercept': False, 'dual': True, 'C': 10}\n",
      "Best estimator:  LogisticRegression(C=10, class_weight=None, dual=True, fit_intercept=False,\n",
      "                   intercept_scaling=1, l1_ratio=None, max_iter=140,\n",
      "                   multi_class='warn', n_jobs=None, penalty='l2',\n",
      "                   random_state=None, solver='warn', tol=0.01, verbose=0,\n",
      "                   warm_start=True)\n"
     ]
    },
    {
     "name": "stderr",
     "output_type": "stream",
     "text": [
      "[Parallel(n_jobs=-1)]: Done 5000 out of 5000 | elapsed: 11.6min finished\n"
     ]
    }
   ],
   "source": [
    "from sklearn.linear_model import LogisticRegression\n",
    "import warnings\n",
    "warnings.filterwarnings('ignore')\n",
    "\n",
    "param_grid_lr ={'dual': [True, False],\n",
    "                'tol': [1e-6, 1e-5, 1e-4, 1e-3, 1e-2 ],\n",
    "                'C': [0.001, 0.01, 0.1, 1, 10, 100, 1000],\n",
    "                'fit_intercept': [True, False],\n",
    "                'max_iter' : [100, 110, 120, 130, 140],\n",
    "                'warm_start': [True, False]\n",
    "              }\n",
    "grid_lr = RandomizedSearchCV(LogisticRegression(), param_grid_lr,n_iter=1000,  verbose=2, cv=5, n_jobs=-1)\n",
    "grid_lr.fit(X_train, y_train)\n",
    "print(\"Best cross-validation score: {:.2f}\".format(grid_lr.best_score_))\n",
    "print(\"Best parameters: \", grid_lr.best_params_)\n",
    "print(\"Best estimator: \", grid_lr.best_estimator_)"
   ]
  },
  {
   "cell_type": "markdown",
   "metadata": {},
   "source": [
    "* Best cross-validation score: 0.69\n",
    "* Best parameters:  {'C': 10, 'dual': True, 'fit_intercept': True, 'max_iter': 110, 'tol': 0.01, 'warm_start': True}\n",
    "* Best estimator:  LogisticRegression(C=10, class_weight=None, dual=True, fit_intercept=True, intercept_scaling=1, l1_ratio=None, max_iter=110, multi_class='warn', n_jobs=None, penalty='l2', random_state=None, solver='warn', tol=0.01, verbose=0, warm_start=True)"
   ]
  },
  {
   "cell_type": "code",
   "execution_count": 20,
   "metadata": {
    "ExecuteTime": {
     "end_time": "2019-10-07T12:54:31.433765Z",
     "start_time": "2019-10-07T12:54:31.332582Z"
    }
   },
   "outputs": [
    {
     "name": "stdout",
     "output_type": "stream",
     "text": [
      "[[314  24  73]\n",
      " [ 31  70  24]\n",
      " [ 86  19 231]]\n",
      "              precision    recall  f1-score   support\n",
      "\n",
      "           0       0.73      0.76      0.75       411\n",
      "           1       0.62      0.56      0.59       125\n",
      "           2       0.70      0.69      0.70       336\n",
      "\n",
      "    accuracy                           0.71       872\n",
      "   macro avg       0.68      0.67      0.68       872\n",
      "weighted avg       0.70      0.71      0.70       872\n",
      "\n",
      "The algorithm has reached an accuracy of: 70.53%\n"
     ]
    }
   ],
   "source": [
    "lr = LogisticRegression(C=10, class_weight=None, dual=True, fit_intercept=False,\n",
    "                   intercept_scaling=1, l1_ratio=None, max_iter=140,\n",
    "                   multi_class='warn', n_jobs=None, penalty='l2',\n",
    "                   random_state=None, solver='warn', tol=0.01, verbose=0,\n",
    "                   warm_start=True)\n",
    "\n",
    "lr.fit(X_train, y_train)\n",
    "predictions_lr = lr.predict(X_test)\n",
    "\n",
    "print(confusion_matrix(y_test, predictions_lr))\n",
    "print(classification_report(y_test, predictions_lr))\n",
    "print(\"The algorithm has reached an accuracy of: {:.2f}%\".format(\n",
    "    lr.score(X_test, y_test)*100))"
   ]
  },
  {
   "cell_type": "markdown",
   "metadata": {},
   "source": [
    "### Implementing Support Vector Machine"
   ]
  },
  {
   "cell_type": "code",
   "execution_count": 22,
   "metadata": {
    "ExecuteTime": {
     "end_time": "2019-10-07T14:34:31.469195Z",
     "start_time": "2019-10-07T12:54:59.343567Z"
    }
   },
   "outputs": [
    {
     "name": "stdout",
     "output_type": "stream",
     "text": [
      "Fitting 3 folds for each of 150 candidates, totalling 450 fits\n"
     ]
    },
    {
     "name": "stderr",
     "output_type": "stream",
     "text": [
      "[Parallel(n_jobs=-1)]: Using backend LokyBackend with 4 concurrent workers.\n",
      "[Parallel(n_jobs=-1)]: Done  33 tasks      | elapsed:  9.7min\n",
      "[Parallel(n_jobs=-1)]: Done 154 tasks      | elapsed: 38.4min\n",
      "[Parallel(n_jobs=-1)]: Done 357 tasks      | elapsed: 88.9min\n"
     ]
    },
    {
     "ename": "KeyboardInterrupt",
     "evalue": "",
     "output_type": "error",
     "traceback": [
      "\u001b[1;31m---------------------------------------------------------------------------\u001b[0m",
      "\u001b[1;31mKeyboardInterrupt\u001b[0m                         Traceback (most recent call last)",
      "\u001b[1;32m<ipython-input-22-36a1a11eca55>\u001b[0m in \u001b[0;36m<module>\u001b[1;34m\u001b[0m\n\u001b[0;32m      7\u001b[0m \u001b[1;33m\u001b[0m\u001b[0m\n\u001b[0;32m      8\u001b[0m \u001b[0mgrid_svc\u001b[0m \u001b[1;33m=\u001b[0m \u001b[0mRandomizedSearchCV\u001b[0m\u001b[1;33m(\u001b[0m\u001b[0mSVC\u001b[0m\u001b[1;33m(\u001b[0m\u001b[1;33m)\u001b[0m\u001b[1;33m,\u001b[0m \u001b[0mparam_grid_svm\u001b[0m\u001b[1;33m,\u001b[0m \u001b[0mn_iter\u001b[0m\u001b[1;33m=\u001b[0m\u001b[1;36m150\u001b[0m\u001b[1;33m,\u001b[0m \u001b[0mcv\u001b[0m\u001b[1;33m=\u001b[0m\u001b[1;36m3\u001b[0m\u001b[1;33m,\u001b[0m \u001b[0mverbose\u001b[0m\u001b[1;33m=\u001b[0m\u001b[1;36m2\u001b[0m\u001b[1;33m,\u001b[0m \u001b[0mn_jobs\u001b[0m\u001b[1;33m=\u001b[0m\u001b[1;33m-\u001b[0m\u001b[1;36m1\u001b[0m\u001b[1;33m)\u001b[0m\u001b[1;33m\u001b[0m\u001b[1;33m\u001b[0m\u001b[0m\n\u001b[1;32m----> 9\u001b[1;33m \u001b[0mgrid_svc\u001b[0m\u001b[1;33m.\u001b[0m\u001b[0mfit\u001b[0m\u001b[1;33m(\u001b[0m\u001b[0mX_train\u001b[0m\u001b[1;33m,\u001b[0m \u001b[0my_train\u001b[0m\u001b[1;33m)\u001b[0m\u001b[1;33m\u001b[0m\u001b[1;33m\u001b[0m\u001b[0m\n\u001b[0m\u001b[0;32m     10\u001b[0m \u001b[0mprint\u001b[0m\u001b[1;33m(\u001b[0m\u001b[1;34m\"Best cross-validation score: {:.2f}\"\u001b[0m\u001b[1;33m.\u001b[0m\u001b[0mformat\u001b[0m\u001b[1;33m(\u001b[0m\u001b[0mgrid_svc\u001b[0m\u001b[1;33m.\u001b[0m\u001b[0mbest_score_\u001b[0m\u001b[1;33m)\u001b[0m\u001b[1;33m)\u001b[0m\u001b[1;33m\u001b[0m\u001b[1;33m\u001b[0m\u001b[0m\n\u001b[0;32m     11\u001b[0m \u001b[0mprint\u001b[0m\u001b[1;33m(\u001b[0m\u001b[1;34m\"Best parameters: \"\u001b[0m\u001b[1;33m,\u001b[0m \u001b[0mgrid_svc\u001b[0m\u001b[1;33m.\u001b[0m\u001b[0mbest_params_\u001b[0m\u001b[1;33m)\u001b[0m\u001b[1;33m\u001b[0m\u001b[1;33m\u001b[0m\u001b[0m\n",
      "\u001b[1;32m~\\AppData\\Local\\Continuum\\anaconda3\\lib\\site-packages\\sklearn\\model_selection\\_search.py\u001b[0m in \u001b[0;36mfit\u001b[1;34m(self, X, y, groups, **fit_params)\u001b[0m\n\u001b[0;32m    685\u001b[0m                 \u001b[1;32mreturn\u001b[0m \u001b[0mresults\u001b[0m\u001b[1;33m\u001b[0m\u001b[1;33m\u001b[0m\u001b[0m\n\u001b[0;32m    686\u001b[0m \u001b[1;33m\u001b[0m\u001b[0m\n\u001b[1;32m--> 687\u001b[1;33m             \u001b[0mself\u001b[0m\u001b[1;33m.\u001b[0m\u001b[0m_run_search\u001b[0m\u001b[1;33m(\u001b[0m\u001b[0mevaluate_candidates\u001b[0m\u001b[1;33m)\u001b[0m\u001b[1;33m\u001b[0m\u001b[1;33m\u001b[0m\u001b[0m\n\u001b[0m\u001b[0;32m    688\u001b[0m \u001b[1;33m\u001b[0m\u001b[0m\n\u001b[0;32m    689\u001b[0m         \u001b[1;31m# For multi-metric evaluation, store the best_index_, best_params_ and\u001b[0m\u001b[1;33m\u001b[0m\u001b[1;33m\u001b[0m\u001b[1;33m\u001b[0m\u001b[0m\n",
      "\u001b[1;32m~\\AppData\\Local\\Continuum\\anaconda3\\lib\\site-packages\\sklearn\\model_selection\\_search.py\u001b[0m in \u001b[0;36m_run_search\u001b[1;34m(self, evaluate_candidates)\u001b[0m\n\u001b[0;32m   1466\u001b[0m         evaluate_candidates(ParameterSampler(\n\u001b[0;32m   1467\u001b[0m             \u001b[0mself\u001b[0m\u001b[1;33m.\u001b[0m\u001b[0mparam_distributions\u001b[0m\u001b[1;33m,\u001b[0m \u001b[0mself\u001b[0m\u001b[1;33m.\u001b[0m\u001b[0mn_iter\u001b[0m\u001b[1;33m,\u001b[0m\u001b[1;33m\u001b[0m\u001b[1;33m\u001b[0m\u001b[0m\n\u001b[1;32m-> 1468\u001b[1;33m             random_state=self.random_state))\n\u001b[0m",
      "\u001b[1;32m~\\AppData\\Local\\Continuum\\anaconda3\\lib\\site-packages\\sklearn\\model_selection\\_search.py\u001b[0m in \u001b[0;36mevaluate_candidates\u001b[1;34m(candidate_params)\u001b[0m\n\u001b[0;32m    664\u001b[0m                                \u001b[1;32mfor\u001b[0m \u001b[0mparameters\u001b[0m\u001b[1;33m,\u001b[0m \u001b[1;33m(\u001b[0m\u001b[0mtrain\u001b[0m\u001b[1;33m,\u001b[0m \u001b[0mtest\u001b[0m\u001b[1;33m)\u001b[0m\u001b[1;33m\u001b[0m\u001b[1;33m\u001b[0m\u001b[0m\n\u001b[0;32m    665\u001b[0m                                in product(candidate_params,\n\u001b[1;32m--> 666\u001b[1;33m                                           cv.split(X, y, groups)))\n\u001b[0m\u001b[0;32m    667\u001b[0m \u001b[1;33m\u001b[0m\u001b[0m\n\u001b[0;32m    668\u001b[0m                 \u001b[1;32mif\u001b[0m \u001b[0mlen\u001b[0m\u001b[1;33m(\u001b[0m\u001b[0mout\u001b[0m\u001b[1;33m)\u001b[0m \u001b[1;33m<\u001b[0m \u001b[1;36m1\u001b[0m\u001b[1;33m:\u001b[0m\u001b[1;33m\u001b[0m\u001b[1;33m\u001b[0m\u001b[0m\n",
      "\u001b[1;32m~\\AppData\\Local\\Continuum\\anaconda3\\lib\\site-packages\\joblib\\parallel.py\u001b[0m in \u001b[0;36m__call__\u001b[1;34m(self, iterable)\u001b[0m\n\u001b[0;32m    932\u001b[0m \u001b[1;33m\u001b[0m\u001b[0m\n\u001b[0;32m    933\u001b[0m             \u001b[1;32mwith\u001b[0m \u001b[0mself\u001b[0m\u001b[1;33m.\u001b[0m\u001b[0m_backend\u001b[0m\u001b[1;33m.\u001b[0m\u001b[0mretrieval_context\u001b[0m\u001b[1;33m(\u001b[0m\u001b[1;33m)\u001b[0m\u001b[1;33m:\u001b[0m\u001b[1;33m\u001b[0m\u001b[1;33m\u001b[0m\u001b[0m\n\u001b[1;32m--> 934\u001b[1;33m                 \u001b[0mself\u001b[0m\u001b[1;33m.\u001b[0m\u001b[0mretrieve\u001b[0m\u001b[1;33m(\u001b[0m\u001b[1;33m)\u001b[0m\u001b[1;33m\u001b[0m\u001b[1;33m\u001b[0m\u001b[0m\n\u001b[0m\u001b[0;32m    935\u001b[0m             \u001b[1;31m# Make sure that we get a last message telling us we are done\u001b[0m\u001b[1;33m\u001b[0m\u001b[1;33m\u001b[0m\u001b[1;33m\u001b[0m\u001b[0m\n\u001b[0;32m    936\u001b[0m             \u001b[0melapsed_time\u001b[0m \u001b[1;33m=\u001b[0m \u001b[0mtime\u001b[0m\u001b[1;33m.\u001b[0m\u001b[0mtime\u001b[0m\u001b[1;33m(\u001b[0m\u001b[1;33m)\u001b[0m \u001b[1;33m-\u001b[0m \u001b[0mself\u001b[0m\u001b[1;33m.\u001b[0m\u001b[0m_start_time\u001b[0m\u001b[1;33m\u001b[0m\u001b[1;33m\u001b[0m\u001b[0m\n",
      "\u001b[1;32m~\\AppData\\Local\\Continuum\\anaconda3\\lib\\site-packages\\joblib\\parallel.py\u001b[0m in \u001b[0;36mretrieve\u001b[1;34m(self)\u001b[0m\n\u001b[0;32m    831\u001b[0m             \u001b[1;32mtry\u001b[0m\u001b[1;33m:\u001b[0m\u001b[1;33m\u001b[0m\u001b[1;33m\u001b[0m\u001b[0m\n\u001b[0;32m    832\u001b[0m                 \u001b[1;32mif\u001b[0m \u001b[0mgetattr\u001b[0m\u001b[1;33m(\u001b[0m\u001b[0mself\u001b[0m\u001b[1;33m.\u001b[0m\u001b[0m_backend\u001b[0m\u001b[1;33m,\u001b[0m \u001b[1;34m'supports_timeout'\u001b[0m\u001b[1;33m,\u001b[0m \u001b[1;32mFalse\u001b[0m\u001b[1;33m)\u001b[0m\u001b[1;33m:\u001b[0m\u001b[1;33m\u001b[0m\u001b[1;33m\u001b[0m\u001b[0m\n\u001b[1;32m--> 833\u001b[1;33m                     \u001b[0mself\u001b[0m\u001b[1;33m.\u001b[0m\u001b[0m_output\u001b[0m\u001b[1;33m.\u001b[0m\u001b[0mextend\u001b[0m\u001b[1;33m(\u001b[0m\u001b[0mjob\u001b[0m\u001b[1;33m.\u001b[0m\u001b[0mget\u001b[0m\u001b[1;33m(\u001b[0m\u001b[0mtimeout\u001b[0m\u001b[1;33m=\u001b[0m\u001b[0mself\u001b[0m\u001b[1;33m.\u001b[0m\u001b[0mtimeout\u001b[0m\u001b[1;33m)\u001b[0m\u001b[1;33m)\u001b[0m\u001b[1;33m\u001b[0m\u001b[1;33m\u001b[0m\u001b[0m\n\u001b[0m\u001b[0;32m    834\u001b[0m                 \u001b[1;32melse\u001b[0m\u001b[1;33m:\u001b[0m\u001b[1;33m\u001b[0m\u001b[1;33m\u001b[0m\u001b[0m\n\u001b[0;32m    835\u001b[0m                     \u001b[0mself\u001b[0m\u001b[1;33m.\u001b[0m\u001b[0m_output\u001b[0m\u001b[1;33m.\u001b[0m\u001b[0mextend\u001b[0m\u001b[1;33m(\u001b[0m\u001b[0mjob\u001b[0m\u001b[1;33m.\u001b[0m\u001b[0mget\u001b[0m\u001b[1;33m(\u001b[0m\u001b[1;33m)\u001b[0m\u001b[1;33m)\u001b[0m\u001b[1;33m\u001b[0m\u001b[1;33m\u001b[0m\u001b[0m\n",
      "\u001b[1;32m~\\AppData\\Local\\Continuum\\anaconda3\\lib\\site-packages\\joblib\\_parallel_backends.py\u001b[0m in \u001b[0;36mwrap_future_result\u001b[1;34m(future, timeout)\u001b[0m\n\u001b[0;32m    519\u001b[0m         AsyncResults.get from multiprocessing.\"\"\"\n\u001b[0;32m    520\u001b[0m         \u001b[1;32mtry\u001b[0m\u001b[1;33m:\u001b[0m\u001b[1;33m\u001b[0m\u001b[1;33m\u001b[0m\u001b[0m\n\u001b[1;32m--> 521\u001b[1;33m             \u001b[1;32mreturn\u001b[0m \u001b[0mfuture\u001b[0m\u001b[1;33m.\u001b[0m\u001b[0mresult\u001b[0m\u001b[1;33m(\u001b[0m\u001b[0mtimeout\u001b[0m\u001b[1;33m=\u001b[0m\u001b[0mtimeout\u001b[0m\u001b[1;33m)\u001b[0m\u001b[1;33m\u001b[0m\u001b[1;33m\u001b[0m\u001b[0m\n\u001b[0m\u001b[0;32m    522\u001b[0m         \u001b[1;32mexcept\u001b[0m \u001b[0mLokyTimeoutError\u001b[0m\u001b[1;33m:\u001b[0m\u001b[1;33m\u001b[0m\u001b[1;33m\u001b[0m\u001b[0m\n\u001b[0;32m    523\u001b[0m             \u001b[1;32mraise\u001b[0m \u001b[0mTimeoutError\u001b[0m\u001b[1;33m(\u001b[0m\u001b[1;33m)\u001b[0m\u001b[1;33m\u001b[0m\u001b[1;33m\u001b[0m\u001b[0m\n",
      "\u001b[1;32m~\\AppData\\Local\\Continuum\\anaconda3\\lib\\concurrent\\futures\\_base.py\u001b[0m in \u001b[0;36mresult\u001b[1;34m(self, timeout)\u001b[0m\n\u001b[0;32m    425\u001b[0m                 \u001b[1;32mreturn\u001b[0m \u001b[0mself\u001b[0m\u001b[1;33m.\u001b[0m\u001b[0m__get_result\u001b[0m\u001b[1;33m(\u001b[0m\u001b[1;33m)\u001b[0m\u001b[1;33m\u001b[0m\u001b[1;33m\u001b[0m\u001b[0m\n\u001b[0;32m    426\u001b[0m \u001b[1;33m\u001b[0m\u001b[0m\n\u001b[1;32m--> 427\u001b[1;33m             \u001b[0mself\u001b[0m\u001b[1;33m.\u001b[0m\u001b[0m_condition\u001b[0m\u001b[1;33m.\u001b[0m\u001b[0mwait\u001b[0m\u001b[1;33m(\u001b[0m\u001b[0mtimeout\u001b[0m\u001b[1;33m)\u001b[0m\u001b[1;33m\u001b[0m\u001b[1;33m\u001b[0m\u001b[0m\n\u001b[0m\u001b[0;32m    428\u001b[0m \u001b[1;33m\u001b[0m\u001b[0m\n\u001b[0;32m    429\u001b[0m             \u001b[1;32mif\u001b[0m \u001b[0mself\u001b[0m\u001b[1;33m.\u001b[0m\u001b[0m_state\u001b[0m \u001b[1;32min\u001b[0m \u001b[1;33m[\u001b[0m\u001b[0mCANCELLED\u001b[0m\u001b[1;33m,\u001b[0m \u001b[0mCANCELLED_AND_NOTIFIED\u001b[0m\u001b[1;33m]\u001b[0m\u001b[1;33m:\u001b[0m\u001b[1;33m\u001b[0m\u001b[1;33m\u001b[0m\u001b[0m\n",
      "\u001b[1;32m~\\AppData\\Local\\Continuum\\anaconda3\\lib\\threading.py\u001b[0m in \u001b[0;36mwait\u001b[1;34m(self, timeout)\u001b[0m\n\u001b[0;32m    294\u001b[0m         \u001b[1;32mtry\u001b[0m\u001b[1;33m:\u001b[0m    \u001b[1;31m# restore state no matter what (e.g., KeyboardInterrupt)\u001b[0m\u001b[1;33m\u001b[0m\u001b[1;33m\u001b[0m\u001b[0m\n\u001b[0;32m    295\u001b[0m             \u001b[1;32mif\u001b[0m \u001b[0mtimeout\u001b[0m \u001b[1;32mis\u001b[0m \u001b[1;32mNone\u001b[0m\u001b[1;33m:\u001b[0m\u001b[1;33m\u001b[0m\u001b[1;33m\u001b[0m\u001b[0m\n\u001b[1;32m--> 296\u001b[1;33m                 \u001b[0mwaiter\u001b[0m\u001b[1;33m.\u001b[0m\u001b[0macquire\u001b[0m\u001b[1;33m(\u001b[0m\u001b[1;33m)\u001b[0m\u001b[1;33m\u001b[0m\u001b[1;33m\u001b[0m\u001b[0m\n\u001b[0m\u001b[0;32m    297\u001b[0m                 \u001b[0mgotit\u001b[0m \u001b[1;33m=\u001b[0m \u001b[1;32mTrue\u001b[0m\u001b[1;33m\u001b[0m\u001b[1;33m\u001b[0m\u001b[0m\n\u001b[0;32m    298\u001b[0m             \u001b[1;32melse\u001b[0m\u001b[1;33m:\u001b[0m\u001b[1;33m\u001b[0m\u001b[1;33m\u001b[0m\u001b[0m\n",
      "\u001b[1;31mKeyboardInterrupt\u001b[0m: "
     ]
    }
   ],
   "source": [
    "from sklearn.svm import SVC\n",
    "param_grid_svm = {'C': [0.1, 1, 10, 100],\n",
    "                  'kernel': ['linear', 'rbf', 'poly'],\n",
    "                  'gamma': [0.1, 1, 10, 100],\n",
    "                  'degree': [0, 1, 2, 3, 4, 5, 6]\n",
    "                 }\n",
    "\n",
    "grid_svc = RandomizedSearchCV(SVC(), param_grid_svm, n_iter=150, cv=3, verbose=2, n_jobs=-1)\n",
    "grid_svc.fit(X_train, y_train)\n",
    "print(\"Best cross-validation score: {:.2f}\".format(grid_svc.best_score_))\n",
    "print(\"Best parameters: \", grid_svc.best_params_)\n",
    "print(\"Best estimator: \", grid_svc.best_estimator_)"
   ]
  },
  {
   "cell_type": "markdown",
   "metadata": {},
   "source": [
    "* Best cross-validation score: 0.67\n",
    "* Best parameters:  {'kernel': 'rbf', 'gamma': 1, 'degree': 0, 'C': 100}\n",
    "* Best estimator:  SVC(C=100, cache_size=200, class_weight=None, coef0=0.0, decision_function_shape='ovr', degree=0, gamma=1, kernel='rbf', max_iter=-1, probability=False, random_state=None, shrinking=True, tol=0.001, verbose=False)"
   ]
  },
  {
   "cell_type": "code",
   "execution_count": 21,
   "metadata": {
    "ExecuteTime": {
     "end_time": "2019-10-07T12:54:52.662619Z",
     "start_time": "2019-10-07T12:54:51.818992Z"
    }
   },
   "outputs": [
    {
     "ename": "NameError",
     "evalue": "name 'SVC' is not defined",
     "output_type": "error",
     "traceback": [
      "\u001b[1;31m---------------------------------------------------------------------------\u001b[0m",
      "\u001b[1;31mNameError\u001b[0m                                 Traceback (most recent call last)",
      "\u001b[1;32m<ipython-input-21-dfaec5b1b7c5>\u001b[0m in \u001b[0;36m<module>\u001b[1;34m\u001b[0m\n\u001b[1;32m----> 1\u001b[1;33m svm = SVC(C=100, cache_size=200, class_weight=None, coef0=0.0,\n\u001b[0m\u001b[0;32m      2\u001b[0m     \u001b[0mdecision_function_shape\u001b[0m\u001b[1;33m=\u001b[0m\u001b[1;34m'ovr'\u001b[0m\u001b[1;33m,\u001b[0m \u001b[0mdegree\u001b[0m\u001b[1;33m=\u001b[0m\u001b[1;36m0\u001b[0m\u001b[1;33m,\u001b[0m \u001b[0mgamma\u001b[0m\u001b[1;33m=\u001b[0m\u001b[1;36m1\u001b[0m\u001b[1;33m,\u001b[0m \u001b[0mkernel\u001b[0m\u001b[1;33m=\u001b[0m\u001b[1;34m'rbf'\u001b[0m\u001b[1;33m,\u001b[0m \u001b[0mmax_iter\u001b[0m\u001b[1;33m=\u001b[0m\u001b[1;33m-\u001b[0m\u001b[1;36m1\u001b[0m\u001b[1;33m,\u001b[0m\u001b[1;33m\u001b[0m\u001b[1;33m\u001b[0m\u001b[0m\n\u001b[0;32m      3\u001b[0m     \u001b[0mprobability\u001b[0m\u001b[1;33m=\u001b[0m\u001b[1;32mFalse\u001b[0m\u001b[1;33m,\u001b[0m \u001b[0mrandom_state\u001b[0m\u001b[1;33m=\u001b[0m\u001b[1;32mNone\u001b[0m\u001b[1;33m,\u001b[0m \u001b[0mshrinking\u001b[0m\u001b[1;33m=\u001b[0m\u001b[1;32mTrue\u001b[0m\u001b[1;33m,\u001b[0m \u001b[0mtol\u001b[0m\u001b[1;33m=\u001b[0m\u001b[1;36m0.001\u001b[0m\u001b[1;33m,\u001b[0m\u001b[1;33m\u001b[0m\u001b[1;33m\u001b[0m\u001b[0m\n\u001b[0;32m      4\u001b[0m     verbose=False)\n\u001b[0;32m      5\u001b[0m \u001b[0msvm_fit\u001b[0m \u001b[1;33m=\u001b[0m \u001b[0msvm\u001b[0m\u001b[1;33m.\u001b[0m\u001b[0mfit\u001b[0m\u001b[1;33m(\u001b[0m\u001b[0mX_train\u001b[0m\u001b[1;33m,\u001b[0m \u001b[0my_train\u001b[0m\u001b[1;33m)\u001b[0m\u001b[1;33m\u001b[0m\u001b[1;33m\u001b[0m\u001b[0m\n",
      "\u001b[1;31mNameError\u001b[0m: name 'SVC' is not defined"
     ]
    }
   ],
   "source": [
    "\n",
    "svm = SVC(C=100, cache_size=200, class_weight=None, coef0=0.0,\n",
    "    decision_function_shape='ovr', degree=0, gamma=1, kernel='rbf', max_iter=-1,\n",
    "    probability=False, random_state=None, shrinking=True, tol=0.001,\n",
    "    verbose=False)\n",
    "svm_fit = svm.fit(X_train, y_train)\n",
    "score_svm = svm.score(X_test, y_test)\n",
    "predictions_svm = svm.predict(X_test)\n",
    "print(confusion_matrix(y_test, predictions_svm))\n",
    "print(classification_report(y_test, predictions_svm))\n",
    "print(\"The algorithm has reached an accuracy of: {:.2f}%\".format(score_svm*100))"
   ]
  },
  {
   "cell_type": "markdown",
   "metadata": {},
   "source": [
    "### Implementing Random Forest & tuning hyperparameters"
   ]
  },
  {
   "cell_type": "code",
   "execution_count": null,
   "metadata": {
    "ExecuteTime": {
     "end_time": "2019-09-30T13:00:24.631289Z",
     "start_time": "2019-09-30T12:59:02.354590Z"
    }
   },
   "outputs": [],
   "source": [
    "from sklearn.ensemble import RandomForestClassifier\n",
    "from sklearn.metrics import classification_report, confusion_matrix, accuracy_score\n",
    "\n",
    "param_grid_rf = {'n_estimators': [1, 2, 4, 8, 16, 32, 64, 100, 200],\n",
    "               'max_features': ['auto', 'sqrt'],\n",
    "               'max_depth': np.linspace(1, 32, 32, endpoint=True),\n",
    "               'min_samples_split': [2, 5, 10],\n",
    "               'min_samples_leaf': [1, 2, 4],\n",
    "               'bootstrap': [True, False]}\n",
    "\n",
    "grid_rf = RandomizedSearchCV(RandomForestClassifier(), param_grid_rf, cv=3, n_iter=1000 , verbose=2, n_jobs=-1)\n",
    "\n",
    "grid_rf.fit(X_train, y_train)\n",
    "\n",
    "print(\"Best cross-validation score: {:.2f}\".format(grid_rf.best_score_))\n",
    "print(\"Best parameters: \", grid_rf.best_params_)\n",
    "print(\"Best estimator: \", grid_rf.best_estimator_)"
   ]
  },
  {
   "cell_type": "code",
   "execution_count": null,
   "metadata": {},
   "outputs": [],
   "source": [
    "rf = grid_rf.best_estimator_\n",
    "\n",
    "rf.fit(X_train, y_train)\n",
    "predictions_rf = rf.predict(X_test)\n",
    "print(confusion_matrix(y_test, predictions_rf))\n",
    "print(classification_report(y_test, predictions_rf))\n",
    "print(\"The algorithm has reached an accuracy of: {:.2f}%\".format(\n",
    "    accuracy_score(y_test, predictions_rf)*100))\n",
    "print(rf.score(X_test, y_test))"
   ]
  },
  {
   "cell_type": "code",
   "execution_count": null,
   "metadata": {},
   "outputs": [],
   "source": []
  }
 ],
 "metadata": {
  "kernelspec": {
   "display_name": "Python 3",
   "language": "python",
   "name": "python3"
  },
  "language_info": {
   "codemirror_mode": {
    "name": "ipython",
    "version": 3
   },
   "file_extension": ".py",
   "mimetype": "text/x-python",
   "name": "python",
   "nbconvert_exporter": "python",
   "pygments_lexer": "ipython3",
   "version": "3.7.3"
  },
  "toc": {
   "base_numbering": 1,
   "nav_menu": {},
   "number_sections": true,
   "sideBar": true,
   "skip_h1_title": false,
   "title_cell": "Table of Contents",
   "title_sidebar": "Contents",
   "toc_cell": false,
   "toc_position": {},
   "toc_section_display": true,
   "toc_window_display": false
  },
  "varInspector": {
   "cols": {
    "lenName": 16,
    "lenType": 16,
    "lenVar": 40
   },
   "kernels_config": {
    "python": {
     "delete_cmd_postfix": "",
     "delete_cmd_prefix": "del ",
     "library": "var_list.py",
     "varRefreshCmd": "print(var_dic_list())"
    },
    "r": {
     "delete_cmd_postfix": ") ",
     "delete_cmd_prefix": "rm(",
     "library": "var_list.r",
     "varRefreshCmd": "cat(var_dic_list()) "
    }
   },
   "position": {
    "height": "478.8px",
    "left": "1175.6px",
    "right": "20px",
    "top": "124px",
    "width": "341.4px"
   },
   "types_to_exclude": [
    "module",
    "function",
    "builtin_function_or_method",
    "instance",
    "_Feature"
   ],
   "window_display": false
  }
 },
 "nbformat": 4,
 "nbformat_minor": 2
}
