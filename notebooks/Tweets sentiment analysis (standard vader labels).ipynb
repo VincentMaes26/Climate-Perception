{
 "cells": [
  {
   "cell_type": "markdown",
   "metadata": {},
   "source": [
    "# Tweet sentiment analysis"
   ]
  },
  {
   "cell_type": "code",
   "execution_count": 1,
   "metadata": {
    "ExecuteTime": {
     "end_time": "2019-10-15T08:29:38.960952Z",
     "start_time": "2019-10-15T08:29:32.002360Z"
    }
   },
   "outputs": [],
   "source": [
    "import re\n",
    "import numpy as np\n",
    "import pandas as pd\n",
    "import matplotlib.pyplot as plt\n",
    "import matplotlib.ticker as ticker\n",
    "import seaborn as sns\n",
    "import cufflinks as cf\n",
    "import plotly\n",
    "import plotly.graph_objs as go\n",
    "import datetime\n",
    "import boto3\n",
    "import s3fs\n",
    "pd.set_option('display.max_colwidth', -1)\n",
    "cf.go_offline()\n",
    "cf.set_config_file(offline=False, world_readable=True)"
   ]
  },
  {
   "cell_type": "markdown",
   "metadata": {},
   "source": [
    "## Get dataframe from S3 bucket"
   ]
  },
  {
   "cell_type": "code",
   "execution_count": 2,
   "metadata": {
    "ExecuteTime": {
     "end_time": "2019-10-15T08:31:55.249705Z",
     "start_time": "2019-10-15T08:31:53.151786Z"
    }
   },
   "outputs": [
    {
     "name": "stdout",
     "output_type": "stream",
     "text": [
      "Objects in S3 bucket: \n",
      "\ttweet-objects/tweets2019-10-10.json\n",
      "\ttweet-objects/tweets2019-10-12.json\n",
      "\ttweet-objects/tweets2019-10-13.json\n",
      "\ttweet-objects/tweets2019-10-14.json\n",
      "\ttweet-objects/tweets2019-10-15.json\n",
      "\ttweet-objects/tweets2019-10-16.json\n",
      "\ttweet-objects/tweets2019-10-17.json\n",
      "\ttweet-objects/tweets2019-10-18.json\n",
      "\ttweet-objects/tweets2019-10-19.json\n",
      "\ttweet-objects/tweets2019-10-20.json\n",
      "\ttweet-objects/tweets2019-10-21.json\n",
      "\n",
      "\n",
      "<class 'pandas.core.frame.DataFrame'>\n",
      "RangeIndex: 12630 entries, 0 to 12629\n",
      "Data columns (total 4 columns):\n",
      "creation date    12630 non-null object\n",
      "keyword          12630 non-null object\n",
      "tweet            12630 non-null object\n",
      "username         12630 non-null object\n",
      "dtypes: object(4)\n",
      "memory usage: 394.8+ KB\n"
     ]
    }
   ],
   "source": [
    "bucketname = 'ops-vw-interns-climate-perception-tweets'\n",
    "dataframe = pd.DataFrame(columns=('creation date','keyword', 'tweet', \n",
    "                                  'username'))\n",
    "s3 = boto3.resource('s3')\n",
    "\n",
    "s3_tweets = s3.Bucket(bucketname).objects.filter(Prefix='objects/', Delimiter='/').all()\n",
    "for file in s3_tweets:\n",
    "    temp_df = pd.read_json('s3://{}/{}'.format(bucketname, file.key))\n",
    "    dataframe = dataframe.append(temp_df, sort=False, ignore_index=True)\n",
    "dataframe_tweets = dataframe['tweet']\n",
    "dataframe.info()"
   ]
  },
  {
   "cell_type": "markdown",
   "metadata": {},
   "source": [
    "## Data cleaning"
   ]
  },
  {
   "cell_type": "code",
   "execution_count": null,
   "metadata": {},
   "outputs": [],
   "source": [
    "pattern = 'climate change|climatechange|global warming|globalwarming'\n",
    "dataframe = dataframe[dataframe.tweet.str.contains('(?i)'+pattern)]\n",
    "dataframe.info()"
   ]
  },
  {
   "cell_type": "code",
   "execution_count": 3,
   "metadata": {
    "ExecuteTime": {
     "end_time": "2019-10-15T08:30:39.182116Z",
     "start_time": "2019-10-15T08:30:38.686605Z"
    }
   },
   "outputs": [
    {
     "name": "stdout",
     "output_type": "stream",
     "text": [
      "unprocessed tweet: \n",
      "AOC: My ‘Dreams of Motherhood Now Bittersweet’ Because of Global Warming https://t.co/uUIM3uSbTi https://t.co/WFLq78IywX\n",
      "\n",
      "processed tweet: \n",
      " aoc my dreams of motherhood now bittersweet because of global warming  \n"
     ]
    }
   ],
   "source": [
    "# Preprocessing of tweet texts\n",
    "def format_tweet(tweet):\n",
    "    processed_tweet=''\n",
    "    for word in tweet.split():\n",
    "        # Removing URL from tweet\n",
    "        processed_word = re.sub('([^0-9A-Za-z \\t])|(\\w+:\\/\\/\\S+)', ' ', word)\n",
    "        \n",
    "        # remove all single characters\n",
    "        processed_word = re.sub('\\s+[a-zA-Z]\\s+', ' ', processed_word)\n",
    "        \n",
    "        # Remove single characters from the start\n",
    "        processed_word = re.sub('\\^[a-zA-Z]\\s+', ' ', processed_word) \n",
    "        \n",
    "        # Substituting multiple spaces with single space\n",
    "        processed_word = re.sub('\\s+', '', processed_word, flags=re.I)\n",
    "        \n",
    "        # Removing prefixed 'b'\n",
    "        processed_word = re.sub('^b\\s+', ' ', processed_word)\n",
    "        \n",
    "        # Removing &amp\n",
    "        processed_word = re.sub('&amp', '&', processed_word)\n",
    "        \n",
    "        # Removing breaks\n",
    "        processed_word = re.sub('<br/>', '', processed_word)\n",
    "        \n",
    "        # converts to lower\n",
    "        processed_word = processed_word.lower()\n",
    "        processed_tweet= processed_tweet+' '+processed_word\n",
    "    return processed_tweet        \n",
    "    \n",
    "tweets_text = [format_tweet(tweet) for tweet in dataframe_tweets]\n",
    "print('unprocessed tweet: \\n'+ dataframe['tweet'][15])\n",
    "print('\\nprocessed tweet: \\n' + tweets_text[15])"
   ]
  },
  {
   "cell_type": "markdown",
   "metadata": {},
   "source": [
    "## Labeling tweets with NLTK vader\n",
    "Provides te dataframe of the needed 'label' / 'target' column. In our case this column contains the sentiment values (Positive, Neutral, Negative)"
   ]
  },
  {
   "cell_type": "code",
   "execution_count": 2,
   "metadata": {
    "ExecuteTime": {
     "end_time": "2019-10-15T08:30:51.110714Z",
     "start_time": "2019-10-15T08:30:48.976936Z"
    }
   },
   "outputs": [
    {
     "name": "stderr",
     "output_type": "stream",
     "text": [
      "/home/ec2-user/anaconda3/envs/python3/lib/python3.6/site-packages/nltk/twitter/__init__.py:20: UserWarning: The twython library has not been installed. Some functionality from the twitter package will not be available.\n",
      "  warnings.warn(\"The twython library has not been installed. \"\n"
     ]
    },
    {
     "name": "stdout",
     "output_type": "stream",
     "text": [
      "[nltk_data] Downloading package vader_lexicon to\n",
      "[nltk_data]     /home/ec2-user/nltk_data...\n"
     ]
    },
    {
     "data": {
      "text/plain": [
       "True"
      ]
     },
     "execution_count": 2,
     "metadata": {},
     "output_type": "execute_result"
    }
   ],
   "source": [
    "import nltk\n",
    "from nltk.sentiment.vader import SentimentIntensityAnalyzer\n",
    "nltk.download('vader_lexicon')"
   ]
  },
  {
   "cell_type": "code",
   "execution_count": 5,
   "metadata": {
    "ExecuteTime": {
     "end_time": "2019-10-15T08:30:51.190570Z",
     "start_time": "2019-10-15T08:30:51.145401Z"
    }
   },
   "outputs": [
    {
     "name": "stdout",
     "output_type": "stream",
     "text": [
      "0: climate change evidence how do we know gt vital signs of the planet global climate change and global warming how do we know its happening heres the evidence  \n",
      "{'neg': 0.0, 'neu': 0.809, 'pos': 0.191, 'compound': 0.5994}\n",
      "\n",
      "\n",
      "1: the election debate is over stay on the track libs mistakes in four years must not be hidden apologized snc lavalin climate change vs pipeline international relations economy down huge deficit list goes on never repeated libs must go say no to libs vote no  \n",
      "{'neg': 0.219, 'neu': 0.738, 'pos': 0.044, 'compound': -0.8054}\n",
      "\n",
      "\n",
      "2: revealed google made large contributions to climate change deniers  \n",
      "{'neg': 0.208, 'neu': 0.792, 'pos': 0.0, 'compound': -0.2732}\n",
      "\n",
      "\n",
      "3: climate change the devastating effect plastics have on our oceans dwindling numbers of rare species nah  \n",
      "{'neg': 0.289, 'neu': 0.711, 'pos': 0.0, 'compound': -0.6908}\n",
      "\n",
      "\n",
      "4: pieces of junk toplevel japanese climate scientist rejects global warming panic  opinion  lifesite  \n",
      "{'neg': 0.359, 'neu': 0.552, 'pos': 0.088, 'compound': -0.7096}\n",
      "\n",
      "\n",
      "5: the simpsons predicted greta thunbergs climate change speech in 2007  nme  \n",
      "{'neg': 0.237, 'neu': 0.763, 'pos': 0.0, 'compound': -0.4767}\n",
      "\n",
      "\n",
      "6: aoc gets choked up at climate forum my dreams of motherhood are now bittersweet  please do not procreate draintheswamp walkawayfromdemocratsocialists \n",
      "{'neg': 0.173, 'neu': 0.63, 'pos': 0.197, 'compound': 0.1531}\n",
      "\n",
      "\n",
      "7: climatechange protesters hold london funeral march  \n",
      "{'neg': 0.524, 'neu': 0.476, 'pos': 0.0, 'compound': -0.5267}\n",
      "\n",
      "\n",
      "8: im not the first to point it out but there is zero reason why if i know your position on gun control i also have a good chance of guessing your position on abortion and climate change these things are not a priori related and should not be bundled  \n",
      "{'neg': 0.06, 'neu': 0.816, 'pos': 0.123, 'compound': 0.5023}\n",
      "\n",
      "\n",
      "9: jane fonda plans climate change civil disobedience on the capitol steps  \n",
      "{'neg': 0.0, 'neu': 1.0, 'pos': 0.0, 'compound': 0.0}\n",
      "\n",
      "\n"
     ]
    }
   ],
   "source": [
    "sid = SentimentIntensityAnalyzer()\n",
    "\n",
    "for i, tweet in enumerate(tweets_text[50:60]):\n",
    "    print('{0}:{1} \\n{2}\\n\\n'.format(i, tweet, sid.polarity_scores(tweet)))"
   ]
  },
  {
   "cell_type": "code",
   "execution_count": 6,
   "metadata": {
    "ExecuteTime": {
     "end_time": "2019-10-15T08:30:51.901996Z",
     "start_time": "2019-10-15T08:30:51.229227Z"
    }
   },
   "outputs": [
    {
     "name": "stdout",
     "output_type": "stream",
     "text": [
      "<class 'pandas.core.frame.DataFrame'>\n",
      "RangeIndex: 12630 entries, 0 to 12629\n",
      "Data columns (total 7 columns):\n",
      "Sentiment        12630 non-null object\n",
      "Polarity         12630 non-null float64\n",
      "Tweet            12630 non-null object\n",
      "Word count       12630 non-null int64\n",
      "Keyword          12630 non-null object\n",
      "Username         12630 non-null object\n",
      "Creation Date    12630 non-null object\n",
      "dtypes: float64(1), int64(1), object(5)\n",
      "memory usage: 690.8+ KB\n"
     ]
    }
   ],
   "source": [
    "def get_sentiment(polarity):\n",
    "    if polarity > 0:\n",
    "        return 'positive'\n",
    "    if polarity == 0:\n",
    "        return 'neutral'\n",
    "    else:\n",
    "        return 'negative'\n",
    "\n",
    "word_count = [len(tweet.split()) for tweet in dataframe_tweets]\n",
    "\n",
    "polarity_tweets = [round(sid.polarity_scores(tweet)['compound'], 2)\n",
    "                   for tweet in tweets_text]\n",
    "\n",
    "sentiment_tweets = [get_sentiment(polarity) for polarity in polarity_tweets]\n",
    "\n",
    "zipped_list = list(zip(sentiment_tweets, polarity_tweets,\n",
    "                       tweets_text, word_count, dataframe['username'], \n",
    "                       dataframe['creation date']))\n",
    "\n",
    "\n",
    "# Store to new dataframe with sentiment values and polarities\n",
    "sentiment_df = pd.DataFrame(zipped_list, \n",
    "                            columns=['Sentiment', 'Polarity', \n",
    "                                     'Tweet', 'Word count', 'Username', \n",
    "                                     'Creation Date'])\n",
    "sentiment_df.info()"
   ]
  },
  {
   "cell_type": "code",
   "execution_count": 7,
   "metadata": {},
   "outputs": [
    {
     "data": {
      "text/html": [
       "<div>\n",
       "<style scoped>\n",
       "    .dataframe tbody tr th:only-of-type {\n",
       "        vertical-align: middle;\n",
       "    }\n",
       "\n",
       "    .dataframe tbody tr th {\n",
       "        vertical-align: top;\n",
       "    }\n",
       "\n",
       "    .dataframe thead th {\n",
       "        text-align: right;\n",
       "    }\n",
       "</style>\n",
       "<table border=\"1\" class=\"dataframe\">\n",
       "  <thead>\n",
       "    <tr style=\"text-align: right;\">\n",
       "      <th></th>\n",
       "      <th>Sentiment</th>\n",
       "      <th>Polarity</th>\n",
       "      <th>Tweet</th>\n",
       "      <th>Word count</th>\n",
       "      <th>Keyword</th>\n",
       "      <th>Username</th>\n",
       "      <th>Creation Date</th>\n",
       "    </tr>\n",
       "  </thead>\n",
       "  <tbody>\n",
       "    <tr>\n",
       "      <th>11456</th>\n",
       "      <td>positive</td>\n",
       "      <td>0.51</td>\n",
       "      <td>bill gates sat down with david rubenstein on the new peer to peer conversations to discuss global warming big tech and why he thinks impossible foods and beyond meat can help the environment apple podcasts   spotify</td>\n",
       "      <td>41</td>\n",
       "      <td>Climate change</td>\n",
       "      <td>1e8bdda56b849fd45138ffb756673fea</td>\n",
       "      <td>2019-10-21 20:26:56</td>\n",
       "    </tr>\n",
       "    <tr>\n",
       "      <th>8104</th>\n",
       "      <td>negative</td>\n",
       "      <td>-0.78</td>\n",
       "      <td>the fear of climate change will keep aoc from procreating how is that a negative result</td>\n",
       "      <td>16</td>\n",
       "      <td>Climate change</td>\n",
       "      <td>b3e0de21545039c964fc683c71cbb183</td>\n",
       "      <td>2019-10-19 20:12:18</td>\n",
       "    </tr>\n",
       "    <tr>\n",
       "      <th>6627</th>\n",
       "      <td>positive</td>\n",
       "      <td>0.13</td>\n",
       "      <td>watch graceandfrankie protest climate change like the cast of graceandfrankie</td>\n",
       "      <td>11</td>\n",
       "      <td>Climate change</td>\n",
       "      <td>c4c092e3488625e6c4d7b5bea403579c</td>\n",
       "      <td>2019-10-18 20:18:53</td>\n",
       "    </tr>\n",
       "    <tr>\n",
       "      <th>9920</th>\n",
       "      <td>positive</td>\n",
       "      <td>0.69</td>\n",
       "      <td>so good sending it out in a new form thank you maryheglar</td>\n",
       "      <td>13</td>\n",
       "      <td>Climate change</td>\n",
       "      <td>7eaca03787732c5489f4f72896f03a9f</td>\n",
       "      <td>2019-10-20 19:46:39</td>\n",
       "    </tr>\n",
       "    <tr>\n",
       "      <th>4863</th>\n",
       "      <td>positive</td>\n",
       "      <td>0.75</td>\n",
       "      <td>putting a price on carbon can have a largescale impact on climate change half a dozen bills now in congress call for some form of carbon pricing join many others to support this vital national policy</td>\n",
       "      <td>37</td>\n",
       "      <td>Climate change</td>\n",
       "      <td>52755fd063d5d6f80a3d6978e86ebb26</td>\n",
       "      <td>2019-10-17 20:31:00</td>\n",
       "    </tr>\n",
       "    <tr>\n",
       "      <th>4322</th>\n",
       "      <td>positive</td>\n",
       "      <td>0.38</td>\n",
       "      <td>icse seis 2020 is now accepting research papers with societal impacts  climate change public health cybersecurity or democracy deadlineoct 29  icse20 icseconf</td>\n",
       "      <td>24</td>\n",
       "      <td>Climate change</td>\n",
       "      <td>6c1c37003a87bdd58fa0810ac3559146</td>\n",
       "      <td>2019-10-16 19:31:39</td>\n",
       "    </tr>\n",
       "    <tr>\n",
       "      <th>7558</th>\n",
       "      <td>negative</td>\n",
       "      <td>-0.66</td>\n",
       "      <td>anticipated unpopular opinion supporting those being arrested for protesting climate change then 10 mins later tweeting about how the private jet youre on has wifi isnt a good look</td>\n",
       "      <td>29</td>\n",
       "      <td>Climate change</td>\n",
       "      <td>99a7993f81ee1accf1ae51a1d37e2594</td>\n",
       "      <td>2019-10-18 19:10:58</td>\n",
       "    </tr>\n",
       "    <tr>\n",
       "      <th>11614</th>\n",
       "      <td>neutral</td>\n",
       "      <td>0.00</td>\n",
       "      <td>why does the arctic region influence climate change worldwide learn more here  climatecrisis actonclimatechange</td>\n",
       "      <td>16</td>\n",
       "      <td>Climate change</td>\n",
       "      <td>02927b2fb0a1f5dbb487da291a65a5b3</td>\n",
       "      <td>2019-10-21 20:15:21</td>\n",
       "    </tr>\n",
       "    <tr>\n",
       "      <th>4854</th>\n",
       "      <td>positive</td>\n",
       "      <td>0.27</td>\n",
       "      <td>mayor ronnirenberg plans to create a council of youth ambassadors as he recognized that the younger generation are the ones calling to their elected officials for governmental action on climate change</td>\n",
       "      <td>32</td>\n",
       "      <td>Global warming</td>\n",
       "      <td>ecef0f2a3a5f2cdaa0c936259046e5ce</td>\n",
       "      <td>2019-10-17 20:32:07</td>\n",
       "    </tr>\n",
       "    <tr>\n",
       "      <th>11396</th>\n",
       "      <td>positive</td>\n",
       "      <td>0.38</td>\n",
       "      <td>we have over 800 military bases why we can save billions by closing some of them lets start with the ones affected by climate change</td>\n",
       "      <td>25</td>\n",
       "      <td>Climate change</td>\n",
       "      <td>47dee0ac8703ba1069780a7e55258af0</td>\n",
       "      <td>2019-10-21 20:31:09</td>\n",
       "    </tr>\n",
       "    <tr>\n",
       "      <th>9057</th>\n",
       "      <td>neutral</td>\n",
       "      <td>0.00</td>\n",
       "      <td>imagine thinking meat really is the leading factor of climate change</td>\n",
       "      <td>12</td>\n",
       "      <td>Climate change</td>\n",
       "      <td>df9584e64b5b1f1812292ab41c4982d8</td>\n",
       "      <td>2019-10-19 18:19:06</td>\n",
       "    </tr>\n",
       "    <tr>\n",
       "      <th>7136</th>\n",
       "      <td>negative</td>\n",
       "      <td>-0.51</td>\n",
       "      <td>climate change hoax collapses as new science finds human activity has virtually zero impact on global temperatures</td>\n",
       "      <td>20</td>\n",
       "      <td>Climate change</td>\n",
       "      <td>407bf7fcc4260dd4dd5521a16f58c9b8</td>\n",
       "      <td>2019-10-18 19:42:14</td>\n",
       "    </tr>\n",
       "    <tr>\n",
       "      <th>356</th>\n",
       "      <td>positive</td>\n",
       "      <td>0.44</td>\n",
       "      <td>i finally was able to talk back to my dad abt climate changefeels good to be educated</td>\n",
       "      <td>17</td>\n",
       "      <td>Climate change</td>\n",
       "      <td>b3b7eca0709c3c25e677677937e8f609</td>\n",
       "      <td>2019-10-12 20:24:10</td>\n",
       "    </tr>\n",
       "    <tr>\n",
       "      <th>1956</th>\n",
       "      <td>positive</td>\n",
       "      <td>0.15</td>\n",
       "      <td>5 years ago we were not able to go outside due to the radioactive partials in the air global warming does not exist</td>\n",
       "      <td>23</td>\n",
       "      <td>Climate change</td>\n",
       "      <td>7a456996e57b51d37ff499b83593ec27</td>\n",
       "      <td>2019-10-14 20:24:43</td>\n",
       "    </tr>\n",
       "    <tr>\n",
       "      <th>7733</th>\n",
       "      <td>negative</td>\n",
       "      <td>-0.23</td>\n",
       "      <td>fighting global warming for fifty years  via youtube</td>\n",
       "      <td>9</td>\n",
       "      <td>Climate change</td>\n",
       "      <td>cf0c7f4e1f5cec44044c1540cd1b2dc6</td>\n",
       "      <td>2019-10-18 18:59:59</td>\n",
       "    </tr>\n",
       "  </tbody>\n",
       "</table>\n",
       "</div>"
      ],
      "text/plain": [
       "      Sentiment  Polarity  \\\n",
       "11456  positive  0.51       \n",
       "8104   negative -0.78       \n",
       "6627   positive  0.13       \n",
       "9920   positive  0.69       \n",
       "4863   positive  0.75       \n",
       "4322   positive  0.38       \n",
       "7558   negative -0.66       \n",
       "11614  neutral   0.00       \n",
       "4854   positive  0.27       \n",
       "11396  positive  0.38       \n",
       "9057   neutral   0.00       \n",
       "7136   negative -0.51       \n",
       "356    positive  0.44       \n",
       "1956   positive  0.15       \n",
       "7733   negative -0.23       \n",
       "\n",
       "                                                                                                                                                                                                                             Tweet  \\\n",
       "11456   bill gates sat down with david rubenstein on the new peer to peer conversations to discuss global warming big tech and why he thinks impossible foods and beyond meat can help the environment apple podcasts   spotify      \n",
       "8104    the fear of climate change will keep aoc from procreating how is that a negative result                                                                                                                                      \n",
       "6627    watch graceandfrankie protest climate change like the cast of graceandfrankie                                                                                                                                                \n",
       "9920    so good sending it out in a new form thank you maryheglar                                                                                                                                                                    \n",
       "4863    putting a price on carbon can have a largescale impact on climate change half a dozen bills now in congress call for some form of carbon pricing join many others to support this vital national policy                      \n",
       "4322    icse seis 2020 is now accepting research papers with societal impacts  climate change public health cybersecurity or democracy deadlineoct 29  icse20 icseconf                                                               \n",
       "7558    anticipated unpopular opinion supporting those being arrested for protesting climate change then 10 mins later tweeting about how the private jet youre on has wifi isnt a good look                                         \n",
       "11614   why does the arctic region influence climate change worldwide learn more here  climatecrisis actonclimatechange                                                                                                              \n",
       "4854    mayor ronnirenberg plans to create a council of youth ambassadors as he recognized that the younger generation are the ones calling to their elected officials for governmental action on climate change                     \n",
       "11396   we have over 800 military bases why we can save billions by closing some of them lets start with the ones affected by climate change                                                                                         \n",
       "9057    imagine thinking meat really is the leading factor of climate change                                                                                                                                                         \n",
       "7136    climate change hoax collapses as new science finds human activity has virtually zero impact on global temperatures                                                                                                           \n",
       "356     i finally was able to talk back to my dad abt climate changefeels good to be educated                                                                                                                                        \n",
       "1956    5 years ago we were not able to go outside due to the radioactive partials in the air global warming does not exist                                                                                                          \n",
       "7733    fighting global warming for fifty years  via youtube                                                                                                                                                                         \n",
       "\n",
       "       Word count         Keyword                          Username  \\\n",
       "11456  41          Climate change  1e8bdda56b849fd45138ffb756673fea   \n",
       "8104   16          Climate change  b3e0de21545039c964fc683c71cbb183   \n",
       "6627   11          Climate change  c4c092e3488625e6c4d7b5bea403579c   \n",
       "9920   13          Climate change  7eaca03787732c5489f4f72896f03a9f   \n",
       "4863   37          Climate change  52755fd063d5d6f80a3d6978e86ebb26   \n",
       "4322   24          Climate change  6c1c37003a87bdd58fa0810ac3559146   \n",
       "7558   29          Climate change  99a7993f81ee1accf1ae51a1d37e2594   \n",
       "11614  16          Climate change  02927b2fb0a1f5dbb487da291a65a5b3   \n",
       "4854   32          Global warming  ecef0f2a3a5f2cdaa0c936259046e5ce   \n",
       "11396  25          Climate change  47dee0ac8703ba1069780a7e55258af0   \n",
       "9057   12          Climate change  df9584e64b5b1f1812292ab41c4982d8   \n",
       "7136   20          Climate change  407bf7fcc4260dd4dd5521a16f58c9b8   \n",
       "356    17          Climate change  b3b7eca0709c3c25e677677937e8f609   \n",
       "1956   23          Climate change  7a456996e57b51d37ff499b83593ec27   \n",
       "7733   9           Climate change  cf0c7f4e1f5cec44044c1540cd1b2dc6   \n",
       "\n",
       "             Creation Date  \n",
       "11456  2019-10-21 20:26:56  \n",
       "8104   2019-10-19 20:12:18  \n",
       "6627   2019-10-18 20:18:53  \n",
       "9920   2019-10-20 19:46:39  \n",
       "4863   2019-10-17 20:31:00  \n",
       "4322   2019-10-16 19:31:39  \n",
       "7558   2019-10-18 19:10:58  \n",
       "11614  2019-10-21 20:15:21  \n",
       "4854   2019-10-17 20:32:07  \n",
       "11396  2019-10-21 20:31:09  \n",
       "9057   2019-10-19 18:19:06  \n",
       "7136   2019-10-18 19:42:14  \n",
       "356    2019-10-12 20:24:10  \n",
       "1956   2019-10-14 20:24:43  \n",
       "7733   2019-10-18 18:59:59  "
      ]
     },
     "execution_count": 7,
     "metadata": {},
     "output_type": "execute_result"
    }
   ],
   "source": [
    "sentiment_df.sample(15)"
   ]
  },
  {
   "cell_type": "code",
   "execution_count": 8,
   "metadata": {},
   "outputs": [
    {
     "name": "stdout",
     "output_type": "stream",
     "text": [
      "5 most negative tweets: \n",
      "\n"
     ]
    },
    {
     "data": {
      "text/html": [
       "<div>\n",
       "<style scoped>\n",
       "    .dataframe tbody tr th:only-of-type {\n",
       "        vertical-align: middle;\n",
       "    }\n",
       "\n",
       "    .dataframe tbody tr th {\n",
       "        vertical-align: top;\n",
       "    }\n",
       "\n",
       "    .dataframe thead th {\n",
       "        text-align: right;\n",
       "    }\n",
       "</style>\n",
       "<table border=\"1\" class=\"dataframe\">\n",
       "  <thead>\n",
       "    <tr style=\"text-align: right;\">\n",
       "      <th></th>\n",
       "      <th>Tweet</th>\n",
       "      <th>Polarity</th>\n",
       "    </tr>\n",
       "  </thead>\n",
       "  <tbody>\n",
       "    <tr>\n",
       "      <th>3882</th>\n",
       "      <td>this is literally worse than isis terrorism racism homophobia sexism cancer global warming poverty world hunger israel war drug addiction the prison system police animal abuse pollution murder sexual abuse violence zionism depression mass shootings</td>\n",
       "      <td>-0.99</td>\n",
       "    </tr>\n",
       "    <tr>\n",
       "      <th>10416</th>\n",
       "      <td>snap the hell out of it people border crisis not working climate change failing gun confiscation failing oh so lets jump on the period crisis really if you fall for this one and participate in any way you really are a lost brain deadwashed person</td>\n",
       "      <td>-0.98</td>\n",
       "    </tr>\n",
       "    <tr>\n",
       "      <th>2328</th>\n",
       "      <td>i think everyone in this country has a short fuse right now due to rump amp the company he keeps i know i seem to get angry mad sad pissed frustrated discouraged and angry some more now talk about climate change since 2016 when rump got put in office i think were all hot</td>\n",
       "      <td>-0.97</td>\n",
       "    </tr>\n",
       "    <tr>\n",
       "      <th>4429</th>\n",
       "      <td>doctored photos wild conspiracy theories amp vile abuse if you navigate through social media you will find out the abuse that climate activist gretathunberg has been receiving at the hands of climate change trolls this bullying must stop this report by palkisu tells you more</td>\n",
       "      <td>-0.97</td>\n",
       "    </tr>\n",
       "    <tr>\n",
       "      <th>9911</th>\n",
       "      <td>fuck you fuck feelings fuck gender norms fuck global warming fuck the education system fuck discrimination fuck everything</td>\n",
       "      <td>-0.97</td>\n",
       "    </tr>\n",
       "  </tbody>\n",
       "</table>\n",
       "</div>"
      ],
      "text/plain": [
       "                                                                                                                                                                                                                                                                                       Tweet  \\\n",
       "3882    this is literally worse than isis terrorism racism homophobia sexism cancer global warming poverty world hunger israel war drug addiction the prison system police animal abuse pollution murder sexual abuse violence zionism depression mass shootings                               \n",
       "10416   snap the hell out of it people border crisis not working climate change failing gun confiscation failing oh so lets jump on the period crisis really if you fall for this one and participate in any way you really are a lost brain deadwashed person                                 \n",
       "2328    i think everyone in this country has a short fuse right now due to rump amp the company he keeps i know i seem to get angry mad sad pissed frustrated discouraged and angry some more now talk about climate change since 2016 when rump got put in office i think were all hot        \n",
       "4429    doctored photos wild conspiracy theories amp vile abuse if you navigate through social media you will find out the abuse that climate activist gretathunberg has been receiving at the hands of climate change trolls this bullying must stop this report by palkisu tells you more    \n",
       "9911    fuck you fuck feelings fuck gender norms fuck global warming fuck the education system fuck discrimination fuck everything                                                                                                                                                             \n",
       "\n",
       "       Polarity  \n",
       "3882  -0.99      \n",
       "10416 -0.98      \n",
       "2328  -0.97      \n",
       "4429  -0.97      \n",
       "9911  -0.97      "
      ]
     },
     "execution_count": 8,
     "metadata": {},
     "output_type": "execute_result"
    }
   ],
   "source": [
    "print('5 most negative tweets: \\n')\n",
    "top5_negative = pd.DataFrame(sentiment_df.sort_values('Polarity')[['Tweet','Polarity']].head(5))\n",
    "top5_negative"
   ]
  },
  {
   "cell_type": "code",
   "execution_count": 9,
   "metadata": {},
   "outputs": [
    {
     "name": "stdout",
     "output_type": "stream",
     "text": [
      "5 most positive tweets: \n",
      "\n"
     ]
    },
    {
     "data": {
      "text/html": [
       "<div>\n",
       "<style scoped>\n",
       "    .dataframe tbody tr th:only-of-type {\n",
       "        vertical-align: middle;\n",
       "    }\n",
       "\n",
       "    .dataframe tbody tr th {\n",
       "        vertical-align: top;\n",
       "    }\n",
       "\n",
       "    .dataframe thead th {\n",
       "        text-align: right;\n",
       "    }\n",
       "</style>\n",
       "<table border=\"1\" class=\"dataframe\">\n",
       "  <thead>\n",
       "    <tr style=\"text-align: right;\">\n",
       "      <th></th>\n",
       "      <th>Tweet</th>\n",
       "      <th>Polarity</th>\n",
       "    </tr>\n",
       "  </thead>\n",
       "  <tbody>\n",
       "    <tr>\n",
       "      <th>8334</th>\n",
       "      <td>dear greta i want to thank you and your family for coming to canada to encourage climate activism and radical change you have made a huge difference and given people like me hope thank you amp blessings</td>\n",
       "      <td>0.97</td>\n",
       "    </tr>\n",
       "    <tr>\n",
       "      <th>3936</th>\n",
       "      <td>i rarely pay attention to will but he wears a sherwani well kate has also looked quite lovely in her outfits by  designers i am so glad they are trying to highlight the effects of climate change with their visit and hope both brothers continue using their platforms to do so</td>\n",
       "      <td>0.97</td>\n",
       "    </tr>\n",
       "    <tr>\n",
       "      <th>1884</th>\n",
       "      <td>great visit this pm to centrealttech in machynlleth to meet their management team and listen to their exciting and ambitious plans for the future impressive increase in both visitor and student numbers this year hopefully a sign of more interest in climate change perhaps</td>\n",
       "      <td>0.97</td>\n",
       "    </tr>\n",
       "    <tr>\n",
       "      <th>10092</th>\n",
       "      <td>challenge to provide reliability to a growing population while addressing climate change that which makes us distinctive intellect and true love share many of the same qualities indestructible pure and beautiful to</td>\n",
       "      <td>0.96</td>\n",
       "    </tr>\n",
       "    <tr>\n",
       "      <th>12200</th>\n",
       "      <td>god of creation we pray for solutions to urgent environmental concerns such as global warming diminishing resources and pollution merciful lord please prompt rich government corporations and the wealthy to fund initiatives that can protect our worldamen careforni</td>\n",
       "      <td>0.96</td>\n",
       "    </tr>\n",
       "  </tbody>\n",
       "</table>\n",
       "</div>"
      ],
      "text/plain": [
       "                                                                                                                                                                                                                                                                                      Tweet  \\\n",
       "8334    dear greta i want to thank you and your family for coming to canada to encourage climate activism and radical change you have made a huge difference and given people like me hope thank you amp blessings                                                                            \n",
       "3936    i rarely pay attention to will but he wears a sherwani well kate has also looked quite lovely in her outfits by  designers i am so glad they are trying to highlight the effects of climate change with their visit and hope both brothers continue using their platforms to do so    \n",
       "1884    great visit this pm to centrealttech in machynlleth to meet their management team and listen to their exciting and ambitious plans for the future impressive increase in both visitor and student numbers this year hopefully a sign of more interest in climate change perhaps       \n",
       "10092   challenge to provide reliability to a growing population while addressing climate change that which makes us distinctive intellect and true love share many of the same qualities indestructible pure and beautiful to                                                                \n",
       "12200   god of creation we pray for solutions to urgent environmental concerns such as global warming diminishing resources and pollution merciful lord please prompt rich government corporations and the wealthy to fund initiatives that can protect our worldamen careforni               \n",
       "\n",
       "       Polarity  \n",
       "8334   0.97      \n",
       "3936   0.97      \n",
       "1884   0.97      \n",
       "10092  0.96      \n",
       "12200  0.96      "
      ]
     },
     "execution_count": 9,
     "metadata": {},
     "output_type": "execute_result"
    }
   ],
   "source": [
    "print('5 most positive tweets: \\n')\n",
    "top5_positive = sentiment_df.sort_values('Polarity', ascending=False)[['Tweet', 'Polarity']].head(5)\n",
    "top5_positive"
   ]
  },
  {
   "cell_type": "markdown",
   "metadata": {
    "ExecuteTime": {
     "end_time": "2019-10-15T08:31:14.354651Z",
     "start_time": "2019-10-15T08:31:14.205648Z"
    }
   },
   "source": [
    "## Data visualisation"
   ]
  },
  {
   "cell_type": "code",
   "execution_count": 11,
   "metadata": {
    "ExecuteTime": {
     "end_time": "2019-10-15T08:31:22.912746Z",
     "start_time": "2019-10-15T08:31:22.677160Z"
    }
   },
   "outputs": [
    {
     "data": {
      "image/png": "[encoded data removed]",
      "text/plain": [
       "<Figure size 720x432 with 1 Axes>"
      ]
     },
     "metadata": {
      "needs_background": "light"
     },
     "output_type": "display_data"
    }
   ],
   "source": [
    "sentiment_df['Sentiment'].iplot(\n",
    "    kind='hist',\n",
    "    linecolor='black',\n",
    "    theme='ggplot',\n",
    "    xTitle='Sentiment',\n",
    "    yTitle='count',\n",
    "    title='Class distribution')"
   ]
  },
  {
   "cell_type": "code",
   "execution_count": 12,
   "metadata": {},
   "outputs": [
    {
     "name": "stdout",
     "output_type": "stream",
     "text": [
      "Total tweets with climate change keyword: 10908\n",
      "Total tweets with global warming keyword: 1634\n",
      "Total tweets with Global warming & Climate change as keyword: 88\n"
     ]
    },
    {
     "data": {
      "image/png": "[encoded data removed]",
      "text/plain": [
       "<Figure size 720x432 with 1 Axes>"
      ]
     },
     "metadata": {
      "needs_background": "light"
     },
     "output_type": "display_data"
    }
   ],
   "source": [
    "sentiment_df['Polarity'].iplot(\n",
    "    kind='hist',\n",
    "    bins=75,\n",
    "    linecolor='black',\n",
    "    theme='ggplot',\n",
    "    xTitle='polarity',\n",
    "    yTitle='count',\n",
    "    title='Sentiment Polarity Distribution')\n",
    "plt.show()"
   ]
  },
  {
   "cell_type": "code",
   "execution_count": null,
   "metadata": {},
   "outputs": [],
   "source": [
    "sentiment_df['Word count'].iplot(\n",
    "    kind='hist',\n",
    "    bins=100,\n",
    "    xTitle='word count',\n",
    "    linecolor='black',\n",
    "    colors='blue',\n",
    "    theme=\"ggplot\",\n",
    "    yTitle='count',\n",
    "    title='Tweet text word count distribution')"
   ]
  },
  {
   "cell_type": "code",
   "execution_count": null,
   "metadata": {},
   "outputs": [],
   "source": [
    "import wordcloud\n",
    "# Joins all tweets to one string:\n",
    "text = ' '.join(tweet for tweet in sentiment_df[sentiment_df['Sentiment']=='negative']['Tweet'])\n",
    "\n",
    "# Create and generate a word cloud image:\n",
    "wordcloud = wordcloud.WordCloud(background_color=\"white\", width=1600, height=800).generate(text)\n",
    "\n",
    "# Display the generated image:\n",
    "\n",
    "plt.figure(figsize=[15,10])\n",
    "plt.title('Most used words in negative tweets')\n",
    "plt.imshow(wordcloud, interpolation='bilinear')\n",
    "plt.axis(\"off\")\n",
    "plt.show()"
   ]
  },
  {
   "cell_type": "code",
   "execution_count": null,
   "metadata": {},
   "outputs": [],
   "source": [
    "import wordcloud\n",
    "# Joins all tweets to one string:\n",
    "text = ' '.join(tweet for tweet in sentiment_df[sentiment_df['Sentiment']=='positive']['Tweet'])\n",
    "\n",
    "# Create and generate a word cloud image:\n",
    "wordcloud = wordcloud.WordCloud(background_color=\"white\", width=1600, height=800).generate(text)\n",
    "\n",
    "# Display the generated image:\n",
    "plt.figure(figsize=[15,10])\n",
    "plt.title('Most used words in positive tweets')\n",
    "plt.imshow(wordcloud)\n",
    "plt.axis(\"off\")\n",
    "plt.show()"
   ]
  },
  {
   "cell_type": "markdown",
   "metadata": {},
   "source": [
    "## Implementing machine learning classifiers"
   ]
  },
  {
   "cell_type": "code",
   "execution_count": 3,
   "metadata": {
    "ExecuteTime": {
     "end_time": "2019-10-15T08:37:21.161385Z",
     "start_time": "2019-10-15T08:37:21.154939Z"
    }
   },
   "outputs": [
    {
     "ename": "ModuleNotFoundError",
     "evalue": "No module named 'yellowbrick'",
     "output_type": "error",
     "traceback": [
      "\u001b[0;31m---------------------------------------------------------------------------\u001b[0m",
      "\u001b[0;31mModuleNotFoundError\u001b[0m                       Traceback (most recent call last)",
      "\u001b[0;32m<ipython-input-3-e48d42562f11>\u001b[0m in \u001b[0;36m<module>\u001b[0;34m()\u001b[0m\n\u001b[1;32m      8\u001b[0m \u001b[0;32mimport\u001b[0m \u001b[0mnltk\u001b[0m\u001b[0;34m\u001b[0m\u001b[0m\n\u001b[1;32m      9\u001b[0m \u001b[0;32mfrom\u001b[0m \u001b[0mnltk\u001b[0m\u001b[0;34m.\u001b[0m\u001b[0mstem\u001b[0m \u001b[0;32mimport\u001b[0m \u001b[0mPorterStemmer\u001b[0m\u001b[0;34m\u001b[0m\u001b[0m\n\u001b[0;32m---> 10\u001b[0;31m \u001b[0;32mfrom\u001b[0m \u001b[0myellowbrick\u001b[0m\u001b[0;34m.\u001b[0m\u001b[0mclassifier\u001b[0m \u001b[0;32mimport\u001b[0m \u001b[0mConfusionMatrix\u001b[0m\u001b[0;34m\u001b[0m\u001b[0m\n\u001b[0m\u001b[1;32m     11\u001b[0m \u001b[0;32mfrom\u001b[0m \u001b[0myellowbrick\u001b[0m\u001b[0;34m.\u001b[0m\u001b[0mclassifier\u001b[0m \u001b[0;32mimport\u001b[0m \u001b[0mClassificationReport\u001b[0m\u001b[0;34m\u001b[0m\u001b[0m\n\u001b[1;32m     12\u001b[0m \u001b[0;32mfrom\u001b[0m \u001b[0myellowbrick\u001b[0m\u001b[0;34m.\u001b[0m\u001b[0mclassifier\u001b[0m \u001b[0;32mimport\u001b[0m \u001b[0mROCAUC\u001b[0m\u001b[0;34m\u001b[0m\u001b[0m\n",
      "\u001b[0;31mModuleNotFoundError\u001b[0m: No module named 'yellowbrick'"
     ]
    }
   ],
   "source": [
    "from sklearn.feature_extraction.text import TfidfTransformer\n",
    "from sklearn.feature_extraction.text import CountVectorizer\n",
    "from sklearn.decomposition import PCA\n",
    "from sklearn.pipeline import Pipeline\n",
    "from sklearn.model_selection import GridSearchCV\n",
    "from sklearn.model_selection import RandomizedSearchCV\n",
    "from sklearn.metrics import accuracy_score\n",
    "import nltk\n",
    "from nltk.stem import PorterStemmer\n",
    "from yellowbrick.classifier import ConfusionMatrix\n",
    "from yellowbrick.classifier import ClassificationReport\n",
    "from yellowbrick.classifier import ROCAUC\n",
    "from yellowbrick.target import ClassBalance\n",
    "from yellowbrick.features.pca import PCADecomposition"
   ]
  },
  {
   "cell_type": "markdown",
   "metadata": {},
   "source": [
    "### Divide into training and test sets\n",
    "We create our feature and label sets for training and testing using sklearn's train_test_split. 80% of the data will go to training sets and 20% will go to the testing sets. The method shuffles the data in a random order to make sure the sets are not unbalanced."
   ]
  },
  {
   "cell_type": "code",
   "execution_count": 14,
   "metadata": {
    "ExecuteTime": {
     "end_time": "2019-10-15T08:37:22.190191Z",
     "start_time": "2019-10-15T08:37:22.181260Z"
    }
   },
   "outputs": [
    {
     "name": "stdout",
     "output_type": "stream",
     "text": [
      "Training set contains: 10104 samples\n",
      "Testing set contains: 2526 samples\n"
     ]
    }
   ],
   "source": [
    "from sklearn.model_selection import train_test_split\n",
    "\n",
    "# Extract features from df\n",
    "features = sentiment_df['Tweet']\n",
    "\n",
    "# Extract labels from df\n",
    "labels = sentiment_df['Sentiment']\n",
    "\n",
    "X_train, X_test, y_train, y_test = train_test_split(features,\n",
    "                                                    labels, test_size=0.2,\n",
    "                                                    random_state=1)\n",
    "\n",
    "print('Training set contains: '+str(len(X_train))+ ' samples')\n",
    "print('Testing set contains: '+str(len(X_test))+ ' samples')"
   ]
  },
  {
   "cell_type": "markdown",
   "metadata": {
    "toc-hr-collapsed": true
   },
   "source": [
    "### Preparing pipeline variables\n",
    "Setup of tokenizers (converting 1 text object to a list of text objects)\n",
    "and vectorizers"
   ]
  },
  {
   "cell_type": "code",
   "execution_count": 16,
   "metadata": {
    "ExecuteTime": {
     "end_time": "2019-10-15T08:37:29.428395Z",
     "start_time": "2019-10-15T08:37:29.421450Z"
    }
   },
   "outputs": [],
   "source": [
    "count_vec = CountVectorizer(strip_accents=None, lowercase=False, \n",
    "                            preprocessor = None)\n",
    "tfidf = TfidfTransformer()\n",
    "\n",
    "def tokenizer(text):\n",
    "    return text.split()\n",
    "\n",
    "porter = PorterStemmer()\n",
    "def tokenizer_porter(text):\n",
    "    return [porter.stem(word) for word in text.split()]"
   ]
  },
  {
   "cell_type": "markdown",
   "metadata": {},
   "source": [
    "#### Testing tokenizers"
   ]
  },
  {
   "cell_type": "code",
   "execution_count": 17,
   "metadata": {},
   "outputs": [],
   "source": [
    "sample_tweet = tweets_text[455]\n",
    "\n",
    "token_list = tokenizer(sample_tweet)\n",
    "\n",
    "porter_list =tokenizer_porter(sample_tweet)\n",
    "print(sample_tweet)"
   ]
  },
  {
   "cell_type": "code",
   "execution_count": 18,
   "metadata": {},
   "outputs": [
    {
     "name": "stdout",
     "output_type": "stream",
     "text": [
      "With normal tokenizer:\n"
     ]
    },
    {
     "data": {
      "text/plain": [
       "{'Hi': 0,\n",
       " 'think': 6,\n",
       " 'global': 4,\n",
       " 'warming': 7,\n",
       " 'is': 5,\n",
       " 'awesome': 3,\n",
       " 'What': 1,\n",
       " 'about': 2,\n",
       " 'you': 8}"
      ]
     },
     "execution_count": 18,
     "metadata": {},
     "output_type": "execute_result"
    }
   ],
   "source": [
    "count_vec.fit(token_list)\n",
    "print('With normal tokenizer:')\n",
    "count_vec.vocabulary_"
   ]
  },
  {
   "cell_type": "code",
   "execution_count": 19,
   "metadata": {},
   "outputs": [
    {
     "name": "stdout",
     "output_type": "stream",
     "text": [
      "With porter tokenizer (stemmer):\n"
     ]
    },
    {
     "data": {
      "text/plain": [
       "{'Hi': 0,\n",
       " 'think': 5,\n",
       " 'global': 3,\n",
       " 'warm': 6,\n",
       " 'is': 4,\n",
       " 'awesome': 2,\n",
       " 'what': 7,\n",
       " 'about': 1,\n",
       " 'you': 8}"
      ]
     },
     "execution_count": 19,
     "metadata": {},
     "output_type": "execute_result"
    }
   ],
   "source": [
    "count_vec.fit(porter_list)\n",
    "print('With porter tokenizer (stemmer):')\n",
    "count_vec.vocabulary_"
   ]
  },
  {
   "cell_type": "markdown",
   "metadata": {},
   "source": [
    "### Implementing logistic regression classifier"
   ]
  },
  {
   "cell_type": "code",
   "execution_count": 20,
   "metadata": {
    "ExecuteTime": {
     "end_time": "2019-10-15T08:42:27.714496Z",
     "start_time": "2019-10-15T08:42:27.710528Z"
    }
   },
   "outputs": [],
   "source": [
    "from sklearn.linear_model import LogisticRegression"
   ]
  },
  {
   "cell_type": "code",
   "execution_count": 21,
   "metadata": {
    "ExecuteTime": {
     "end_time": "2019-10-15T08:45:49.701272Z",
     "start_time": "2019-10-15T08:42:28.563613Z"
    }
   },
   "outputs": [
    {
     "name": "stdout",
     "output_type": "stream",
     "text": [
      "Fitting 9 folds for each of 80 candidates, totalling 720 fits\n"
     ]
    },
    {
     "name": "stderr",
     "output_type": "stream",
     "text": [
      "[Parallel(n_jobs=2)]: Using backend LokyBackend with 2 concurrent workers.\n",
      "[Parallel(n_jobs=2)]: Done  46 tasks      | elapsed:  1.7min\n",
      "[Parallel(n_jobs=2)]: Done 196 tasks      | elapsed:  8.0min\n",
      "[Parallel(n_jobs=2)]: Done 446 tasks      | elapsed: 14.9min\n",
      "[Parallel(n_jobs=2)]: Done 720 out of 720 | elapsed: 26.1min finished\n"
     ]
    },
    {
     "name": "stdout",
     "output_type": "stream",
     "text": [
      "\n"
     ]
    }
   ],
   "source": [
    "import warnings\n",
    "warnings.filterwarnings('ignore')\n",
    "\n",
    "lr_pipeline = Pipeline([('vect', count_vec), ('tfidf', tfidf), \n",
    "                        ('clf', LogisticRegression(random_state=1))])\n",
    "\n",
    "lr_param_grid ={\n",
    "                'vect__ngram_range': [(1,1),(1,2)],\n",
    "                'vect__tokenizer': [tokenizer, tokenizer_porter],\n",
    "    \n",
    "                 'tfidf__use_idf': [True, False],\n",
    "                 'tfidf__norm': ['l1', 'l2'],\n",
    "    \n",
    "                'clf__dual': [True, False],\n",
    "                'clf__tol': [1e-6, 1e-5, 1e-4, 1e-3, 1e-2 ],\n",
    "                'clf__C': [0.001, 0.01, 0.1, 1, 10, 100, 1000],\n",
    "                'clf__fit_intercept': [True, False],\n",
    "                'clf__max_iter' : [100, 110, 120, 130, 140],\n",
    "                'clf__warm_start': [True, False]\n",
    "              }\n",
    "lr_grid = RandomizedSearchCV(lr_pipeline, lr_param_grid, n_iter=10,\n",
    "                             verbose=10, cv=5, n_jobs=-1, scoring='accuracy')\n",
    "lr_grid.fit(X_train, y_train)\n",
    "print()"
   ]
  },
  {
   "cell_type": "code",
   "execution_count": 22,
   "metadata": {
    "ExecuteTime": {
     "end_time": "2019-10-15T08:48:05.421020Z",
     "start_time": "2019-10-15T08:48:05.416062Z"
    }
   },
   "outputs": [
    {
     "name": "stdout",
     "output_type": "stream",
     "text": [
      "Best parameters:  {'vect__tokenizer': <function tokenizer_porter at 0x0000025320CCC6A8>, 'vect__ngram_range': (1, 1), 'tfidf__use_idf': False, 'tfidf__norm': 'l2', 'clf__fit_prior': False, 'clf__alpha': 0.1}\n",
      "\n",
      "The Multinomial Naive Bayes classifier has reached an accuracy of: 74.51% \n",
      "\n"
     ]
    }
   ],
   "source": [
    "print('Best parameters: ', grid_lr.best_params_)\n",
    "\n",
    "print('\\nThe Logistic Regression classifier has reached an accuracy of: {:.2f}% \\n'\n",
    "      .format(grid_lr.best_score_*100))\n",
    "\n",
    "lr_results = pd.DataFrame.from_dict(lr_grid.cv_results_)\n",
    "\n",
    "pd.set_option('display.max_colwidth', 50)\n",
    "\n",
    "lr_results"
   ]
  },
  {
   "cell_type": "code",
   "execution_count": null,
   "metadata": {},
   "outputs": [],
   "source": [
    "lr_results['std_fit_time'].iplot(\n",
    "    kind='scatter',\n",
    "    xTitle='',\n",
    "    linecolor='black',\n",
    "    colors='blue',\n",
    "    theme=\"ggplot\",\n",
    "    yTitle='count',\n",
    "    title='')"
   ]
  },
  {
   "cell_type": "markdown",
   "metadata": {},
   "source": [
    "### Implementing Multinomial Naive Bayes\n",
    "Based on Bayes theorem. Predicts the probability of an output based on combination of given input parameters"
   ]
  },
  {
   "cell_type": "code",
   "execution_count": 23,
   "metadata": {
    "ExecuteTime": {
     "end_time": "2019-10-14T13:29:37.222315Z",
     "start_time": "2019-10-14T13:29:37.217850Z"
    }
   },
   "outputs": [],
   "source": [
    "from sklearn.naive_bayes import MultinomialNB"
   ]
  },
  {
   "cell_type": "code",
   "execution_count": 24,
   "metadata": {
    "ExecuteTime": {
     "end_time": "2019-10-14T13:40:16.169261Z",
     "start_time": "2019-10-14T13:30:13.945787Z"
    }
   },
   "outputs": [
    {
     "name": "stdout",
     "output_type": "stream",
     "text": [
      "Fitting 7 folds for each of 150 candidates, totalling 1050 fits\n"
     ]
    },
    {
     "name": "stderr",
     "output_type": "stream",
     "text": [
      "[Parallel(n_jobs=2)]: Using backend LokyBackend with 2 concurrent workers.\n",
      "[Parallel(n_jobs=2)]: Done  46 tasks      | elapsed:  1.9min\n",
      "[Parallel(n_jobs=2)]: Done 196 tasks      | elapsed:  8.3min\n",
      "[Parallel(n_jobs=2)]: Done 446 tasks      | elapsed: 17.7min\n",
      "[Parallel(n_jobs=2)]: Done 796 tasks      | elapsed: 27.0min\n",
      "[Parallel(n_jobs=2)]: Done 1050 out of 1050 | elapsed: 36.3min finished\n"
     ]
    },
    {
     "name": "stdout",
     "output_type": "stream",
     "text": [
      "\n"
     ]
    }
   ],
   "source": [
    "mnb_pipeline = Pipeline([('vect', count_vec), ('tfidf', tfidf), \n",
    "                         ('clf', MultinomialNB())])\n",
    "\n",
    "mnb_param_grid = {\n",
    "                  'vect__ngram_range': [(1,1), (1,2), (1,3)],\n",
    "                  'vect__tokenizer': [tokenizer, tokenizer_porter],\n",
    "    \n",
    "                  'tfidf__use_idf': [True, False],\n",
    "                  'tfidf__norm': ['l1', 'l2'],\n",
    "    \n",
    "                  'clf__alpha': [0.0001, 0.001, 0.01, 0.1, 1.0, 10.0, 100.0],\n",
    "                  'clf__fit_prior': [True, False]\n",
    "                 }\n",
    "mnb_grid = RandomizedSearchCV(mnb_pipeline, mnb_param_grid, n_iter=50,\n",
    "                              cv=5, verbose=10, n_jobs=-1, scoring='accuracy')\n",
    "mnb_grid.fit(X_train, y_train)\n",
    "print()"
   ]
  },
  {
   "cell_type": "code",
   "execution_count": 25,
   "metadata": {
    "ExecuteTime": {
     "end_time": "2019-10-14T13:40:29.961909Z",
     "start_time": "2019-10-14T13:40:29.955956Z"
    }
   },
   "outputs": [
    {
     "name": "stdout",
     "output_type": "stream",
     "text": [
      "Best parameters:  {'vect__tokenizer': <function tokenizer_porter at 0x0000025320CCC6A8>, 'vect__ngram_range': (1, 1), 'tfidf__use_idf': True, 'tfidf__norm': 'l2', 'clf__warm_start': True, 'clf__tol': 0.001, 'clf__max_iter': 100, 'clf__fit_intercept': True, 'clf__dual': True, 'clf__C': 10}\n",
      "\n",
      "The Logistic Regression classifier has reached an accuracy of: 80.80% \n",
      "\n"
     ]
    }
   ],
   "source": [
    "print('Best parameters: ', grid_mnb.best_params_)\n",
    "\n",
    "print('\\nThe Logistic Regression classifier has reached an accuracy of: {:.2f}% \\n'\n",
    "      .format(grid_mnb.best_score_*100))\n",
    "\n",
    "mnb_results = pd.DataFrame.from_dict(grid_mnb.cv_results_)\n",
    "\n",
    "pd.set_option('display.max_colwidth', 50)\n",
    "\n",
    "mnb_results"
   ]
  },
  {
   "cell_type": "markdown",
   "metadata": {},
   "source": [
    "### Implementing Support Vector Machine"
   ]
  },
  {
   "cell_type": "code",
   "execution_count": 26,
   "metadata": {
    "ExecuteTime": {
     "end_time": "2019-10-15T08:40:35.452418Z",
     "start_time": "2019-10-15T08:40:35.447953Z"
    }
   },
   "outputs": [],
   "source": [
    "from sklearn.svm import SVC"
   ]
  },
  {
   "cell_type": "code",
   "execution_count": null,
   "metadata": {
    "ExecuteTime": {
     "end_time": "2019-10-15T08:40:36.328709Z",
     "start_time": "2019-10-15T08:40:36.308868Z"
    }
   },
   "outputs": [
    {
     "name": "stdout",
     "output_type": "stream",
     "text": [
      "Fitting 7 folds for each of 80 candidates, totalling 560 fits\n"
     ]
    },
    {
     "name": "stderr",
     "output_type": "stream",
     "text": [
      "[Parallel(n_jobs=2)]: Using backend LokyBackend with 2 concurrent workers.\n",
      "[Parallel(n_jobs=2)]: Done  46 tasks      | elapsed: 18.6min\n",
      "[Parallel(n_jobs=2)]: Done 196 tasks      | elapsed: 72.2min\n"
     ]
    }
   ],
   "source": [
    "svc_pipeline = Pipeline([('vect', count_vec), ('tfidf', tfidf),\n",
    "                         ('clf', SVC(random_state=1))])\n",
    "\n",
    "svc_param_grid = {\n",
    "                  'vect__ngram_range': [(1,1),(1,2)],\n",
    "                  'vect__tokenizer': [tokenizer, tokenizer_porter],\n",
    "    \n",
    "                  'tfidf__use_idf': [True, False],\n",
    "                  'tfidf__norm': ['l1', 'l2'],                  \n",
    "    \n",
    "                  'clf__C': [0.1, 1, 10, 100],\n",
    "                  'clf__kernel': ['linear', 'rbf', 'poly'],\n",
    "                  'clf__gamma': [0.1, 1, 10, 100],\n",
    "                  'clf__degree': [0, 1, 2, 3, 4, 5, 6]\n",
    "                 }\n",
    "\n",
    "svc_grid = RandomizedSearchCV(svc_pipeline, svc_param_grid, n_iter=80, \n",
    "                              cv=7, verbose=1, n_jobs=2, scoring='accuracy')\n",
    "svc_grid.fit(X_train, y_train)\n",
    "print()"
   ]
  },
  {
   "cell_type": "code",
   "execution_count": null,
   "metadata": {
    "ExecuteTime": {
     "end_time": "2019-10-14T14:26:37.291804Z",
     "start_time": "2019-10-14T14:26:37.287340Z"
    }
   },
   "outputs": [],
   "source": [
    "print('Best parameters: ', grid_svc.best_params_)\n",
    "#Create classifier based on best parameters\n",
    "\n",
    "print('\\nThe Support Vector classifier has reached an accuracy of: {:.2f}% \\n'\n",
    "      .format(svc_grid.best_score_*100))\n",
    "\n",
    "svc_results = pd.DataFrame.from_dict(svc_grid.cv_results_)\n",
    "\n",
    "pd.set_option('display.max_colwidth', 50)\n",
    "svc_results"
   ]
  },
  {
   "cell_type": "markdown",
   "metadata": {},
   "source": [
    "### Implementing decision tree\n",
    "Tries to determin the class/label of a datapoint based on sequential conditions"
   ]
  },
  {
   "cell_type": "code",
   "execution_count": null,
   "metadata": {},
   "outputs": [],
   "source": [
    "from sklearn import tree"
   ]
  },
  {
   "cell_type": "code",
   "execution_count": null,
   "metadata": {},
   "outputs": [],
   "source": [
    "dt_pipeline = Pipeline([('vect', count_vec), ('tfidf', tfidf),\n",
    "                         ('clf', tree.DecisionTreeClassifier(random_state=1))])\n",
    "\n",
    "dt_param_grid = {\n",
    "                  'vect__ngram_range': [(1,1),(1,2)],\n",
    "                  'vect__tokenizer': [tokenizer, tokenizer_porter],\n",
    "    \n",
    "                  'tfidf__use_idf': [True, False],\n",
    "                  'tfidf__norm': ['l1', 'l2'],                  \n",
    "    \n",
    "                  'clf__max_depth': np.arange(1, 100),\n",
    "                  'clf__max_features': np.arange(1, 50),\n",
    "                  'clf__min_samples_leaf': np.arange(1, 50),\n",
    "                  'clf__criterion':['gini','entropy']\n",
    "                 }\n",
    "\n",
    "dt_grid = RandomizedSearchCV(dt_pipeline, dt_param_grid, n_iter=50, \n",
    "                              cv=5, verbose=1, n_jobs=-1, scoring='accuracy')\n",
    "dt_grid.fit(X_train, y_train)\n",
    "print()"
   ]
  },
  {
   "cell_type": "code",
   "execution_count": null,
   "metadata": {},
   "outputs": [],
   "source": [
    "print('Best parameters: ', dt_grid.best_params_)\n",
    "\n",
    "print('\\nThe Logistic Regression classifier has reached an accuracy of: {:.2f}% \\n'\n",
    "      .format(dt_grid.best_score_*100))\n",
    "\n",
    "dt_results = pd.DataFrame.from_dict(dt_grid.cv_results_)\n",
    "\n",
    "pd.set_option('display.max_colwidth', 50)\n",
    "\n",
    "dt_results"
   ]
  },
  {
   "cell_type": "markdown",
   "metadata": {},
   "source": [
    "### Implementing Random Forest"
   ]
  },
  {
   "cell_type": "code",
   "execution_count": null,
   "metadata": {
    "ExecuteTime": {
     "end_time": "2019-10-14T13:41:37.673843Z",
     "start_time": "2019-10-14T13:41:37.393165Z"
    }
   },
   "outputs": [],
   "source": [
    "from sklearn.ensemble import RandomForestClassifier"
   ]
  },
  {
   "cell_type": "code",
   "execution_count": null,
   "metadata": {
    "ExecuteTime": {
     "end_time": "2019-10-14T14:19:49.583603Z",
     "start_time": "2019-10-14T14:08:04.705991Z"
    }
   },
   "outputs": [],
   "source": [
    "rf_pipeline = Pipeline([('vect', count_vec), ('tfidf', tfidf), \n",
    "                        ('clf', RandomForestClassifier(random_state=1))])\n",
    "\n",
    "rf_param_grid = {\n",
    "                 'vect__ngram_range': [(1,1),(1,2), (1,3)],\n",
    "                 'vect__tokenizer': [tokenizer, tokenizer_porter],\n",
    "    \n",
    "                 'tfidf__use_idf': [True, False],\n",
    "                 'tfidf__norm': ['l1', 'l2'],                  \n",
    "    \n",
    "                 'clf__n_estimators': [500, 750, 1000, 1500],\n",
    "                 'clf__max_features': ['auto', 'sqrt'],\n",
    "                 'clf__max_depth': np.linspace(1, 64, 32, endpoint=True),\n",
    "                 'clf__min_samples_split': [2, 5, 10],\n",
    "                 'clf__min_samples_leaf': [1, 2, 4],\n",
    "                 'clf__bootstrap': [True, False]\n",
    "                }\n",
    "\n",
    "rf_grid = RandomizedSearchCV(rf_pipeline, rf_param_grid,\n",
    "                             cv=7, n_iter=100 , verbose=1, n_jobs=2, \n",
    "                             scoring='accuracy')\n",
    "\n",
    "rf_grid.fit(X_train, y_train)\n",
    "print()"
   ]
  },
  {
   "cell_type": "code",
   "execution_count": null,
   "metadata": {
    "ExecuteTime": {
     "end_time": "2019-10-14T14:19:49.797381Z",
     "start_time": "2019-10-14T14:19:49.792420Z"
    }
   },
   "outputs": [],
   "source": [
    "print('Best parameters: ', rf_grid.best_params_)\n",
    "\n",
    "print('\\nThe Logistic Regression classifier has reached an accuracy of: {:.2f}% \\n'\n",
    "      .format(rf_grid.best_score_*100))\n",
    "\n",
    "rf_results = pd.DataFrame.from_dict(rf_grid.cv_results_)\n",
    "\n",
    "pd.set_option('display.max_colwidth', 50)\n",
    "\n",
    "rf_results"
   ]
  },
  {
   "cell_type": "markdown",
   "metadata": {},
   "source": [
    "### Testing XGBoost (extreme gradient boosting)\n",
    "\n",
    "XGBoost is an implementation of gradient boosted decision trees designed for speed and performance.\n",
    "Very popular"
   ]
  },
  {
   "cell_type": "code",
   "execution_count": null,
   "metadata": {},
   "outputs": [],
   "source": [
    "import xgboost"
   ]
  },
  {
   "cell_type": "code",
   "execution_count": null,
   "metadata": {},
   "outputs": [],
   "source": [
    "xgb_pipeline = Pipeline([('vect', count_vec), ('tfidf', tfidf),\n",
    "                         ('clf', xgboost.XGBClassifier())])\n",
    "\n",
    "param_grid_xgb_param_grid = {\n",
    "                  'vect__ngram_range': [(1,1),(1,2)],\n",
    "                  'vect__tokenizer': [tokenizer, tokenizer_porter],\n",
    "    \n",
    "                  'tfidf__use_idf': [True, False],\n",
    "                  'tfidf__norm': ['l1', 'l2'],                  \n",
    "    \n",
    "                  'clf__learning_rate'    : [0.005, 0.01, 0.05, 0.10, 0.15, 0.20] ,\n",
    "                  # Defines how many different features are used in each tree\n",
    "                  'clf__max_depth'        : [ 3, 4, 5, 6, 8, 10, 12, 15],\n",
    "                  'clf__min_child_weight' : [ 1, 3, 5, 7 ],\n",
    "                  'clf__gamma'            : [ 0, 0.01, 1, 5 ],\n",
    "                  'clf__colsample_bytree' : [ 0.3, 0.4, 0.5 , 0.7 ],\n",
    "                  'clf__n_estimators'     : [ 10, 100, 1000]\n",
    "                 }\n",
    "\n",
    "xgb_grid = RandomizedSearchCV(xgb_pipeline,xgb_param_grid, n_iter=4, \n",
    "                              cv=2, verbose=5, n_jobs=-1, scoring='accuracy')\n",
    "xgb_grid.fit(X_train, y_train)\n",
    "print()"
   ]
  },
  {
   "cell_type": "code",
   "execution_count": null,
   "metadata": {},
   "outputs": [],
   "source": [
    "print('Best parameters chosen by grid search: \\n'+str(xgb_grid.best_params_))\n",
    "#Create classifier based on best parameters\n",
    "print('\\nThe XGBoost  classifier has reached an accuracy of: {:.2f}% \\n'\n",
    "       .format(xgb_grid.best_score_*100))\n",
    "\n",
    "xgb_results = pd.DataFrame.from_dict(xgb_grid.cv_results_)\n",
    "\n",
    "pd.set_option('display.max_colwidth', 50)\n",
    "\n",
    "xgb_results"
   ]
  },
  {
   "cell_type": "markdown",
   "metadata": {},
   "source": [
    "## Comparing clasiffier results"
   ]
  },
  {
   "cell_type": "markdown",
   "metadata": {},
   "source": [
    "### Confusion matrices\n",
    "Matrix that shows the true and false predictions per class"
   ]
  },
  {
   "cell_type": "code",
   "execution_count": null,
   "metadata": {},
   "outputs": [],
   "source": [
    "fig, ax = plt.subplots(2,2, figsize=(15,8), tight_layout=True)\n",
    "\n",
    "visualgrid = [\n",
    "    ConfusionMatrix(model=mnb, classes=classes, ax=ax[0,0]),\n",
    "    ConfusionMatrix(model=lr, classes=classes, ax=ax[0,1]),\n",
    "    ConfusionMatrix(model=svm, classes=classes, ax=ax[1,0]),\n",
    "    ConfusionMatrix(model=rf, classes=classes, ax=ax[1,1])\n",
    "]\n",
    "\n",
    "for viz in visualgrid:\n",
    "    viz.fit(X_train, y_train)\n",
    "    viz.score(X_test, y_test)\n",
    "    viz.finalize()\n"
   ]
  },
  {
   "cell_type": "markdown",
   "metadata": {},
   "source": [
    "### ROCAUC curve\n",
    "tradeoff between the model’s sensitivity and specificity"
   ]
  },
  {
   "cell_type": "code",
   "execution_count": null,
   "metadata": {},
   "outputs": [],
   "source": [
    "fig, ax = plt.subplots(2,2, figsize=(15,15), tight_layout=True)\n",
    "\n",
    "visualgrid = [\n",
    "    ROCAUC(model=mnb, classes=classes, ax=ax[0,0], micro=False, macro=False),\n",
    "    ROCAUC(model=lr, classes=classes, ax=ax[0,1], micro=False, macro=False),\n",
    "    ROCAUC(model=svm, classes=classes, ax=ax[1,0], micro=False, macro=False),\n",
    "    ROCAUC(model=rf, classes=classes, ax=ax[1,1], micro=False, macro=False)\n",
    "]\n",
    "\n",
    "for viz in visualgrid:\n",
    "    viz.fit(X_train, y_train)\n",
    "    viz.score(X_test, y_test)\n",
    "    for label in viz.ax.texts:\n",
    "        label.set_size(15)\n",
    "    viz.finalize()\n"
   ]
  },
  {
   "cell_type": "markdown",
   "metadata": {},
   "source": [
    "### Classification reports\n",
    "Report on the accuracy of the classifier"
   ]
  },
  {
   "cell_type": "code",
   "execution_count": null,
   "metadata": {},
   "outputs": [],
   "source": [
    "fig, ax = plt.subplots(2,2, figsize=(15,8), tight_layout=True)\n",
    "\n",
    "visualgrid = [\n",
    "    ClassificationReport(model=mnb, classes=classes, ax=ax[0,0]),\n",
    "    ClassificationReport(model=lr, classes=classes, ax=ax[0,1]),\n",
    "    ClassificationReport(model=svm, classes=classes, ax=ax[1,0]),\n",
    "    ClassificationReport(model=rf, classes=classes, ax=ax[1,1])\n",
    "]\n",
    "\n",
    "for viz in visualgrid:\n",
    "    viz.fit(X_train, y_train)\n",
    "    viz.score(X_test, y_test)\n",
    "    for label in viz.ax.texts:\n",
    "        label.set_size(15)\n",
    "    viz.finalize()\n"
   ]
  }
 ],
 "metadata": {
  "kernelspec": {
   "display_name": "Python 3",
   "language": "python",
   "name": "python3"
  },
  "language_info": {
   "codemirror_mode": {
    "name": "ipython",
    "version": 3
   },
   "file_extension": ".py",
   "mimetype": "text/x-python",
   "name": "python",
   "nbconvert_exporter": "python",
   "pygments_lexer": "ipython3",
   "version": "3.7.3"
  },
  "toc": {
   "base_numbering": 1,
   "nav_menu": {},
   "number_sections": true,
   "sideBar": true,
   "skip_h1_title": false,
   "title_cell": "Table of Contents",
   "title_sidebar": "Contents",
   "toc_cell": false,
   "toc_position": {
    "height": "calc(100% - 180px)",
    "left": "10px",
    "top": "150px",
    "width": "290.6px"
   },
   "toc_section_display": true,
   "toc_window_display": false
  },
  "toc-autonumbering": true,
  "toc-showtags": false,
  "varInspector": {
   "cols": {
    "lenName": 16,
    "lenType": 16,
    "lenVar": 40
   },
   "kernels_config": {
    "python": {
     "delete_cmd_postfix": "",
     "delete_cmd_prefix": "del ",
     "library": "var_list.py",
     "varRefreshCmd": "print(var_dic_list())"
    },
    "r": {
     "delete_cmd_postfix": ") ",
     "delete_cmd_prefix": "rm(",
     "library": "var_list.r",
     "varRefreshCmd": "cat(var_dic_list()) "
    }
   },
   "position": {
    "height": "478.8px",
    "left": "1175.6px",
    "right": "20px",
    "top": "124px",
    "width": "341.4px"
   },
   "types_to_exclude": [
    "module",
    "function",
    "builtin_function_or_method",
    "instance",
    "_Feature"
   ],
   "window_display": false
  }
 },
 "nbformat": 4,
 "nbformat_minor": 4
}
