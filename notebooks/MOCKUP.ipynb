{
 "cells": [
  {
   "cell_type": "markdown",
   "metadata": {},
   "source": [
    "# Tweet sentiment analysis"
   ]
  },
  {
   "cell_type": "code",
   "execution_count": 2,
   "metadata": {
    "ExecuteTime": {
     "end_time": "2019-10-09T12:18:44.653957Z",
     "start_time": "2019-10-09T12:18:32.984243Z"
    }
   },
   "outputs": [],
   "source": [
    "#Libary imports\n",
    "from textblob import TextBlob\n",
    "import numpy as np\n",
    "import pandas as pd\n",
    "import matplotlib.pyplot as plt\n",
    "import matplotlib.ticker as ticker\n",
    "import seaborn as sns\n",
    "import datetime"
   ]
  },
  {
   "cell_type": "markdown",
   "metadata": {},
   "source": [
    "## Titel\n",
    "\n",
    "Lorem ipsum dolor sit amet, consectetur adipiscing elit, sed do eiusmod tempor incididunt ut labore et dolore magna aliqua. Ut enim ad minim veniam, quis nostrud exercitation ullamco laboris nisi ut aliquip ex ea commodo consequat. Duis aute irure dolor in reprehenderit in voluptate velit esse cillum dolore eu fugiat nulla pariatur. Excepteur sint occaecat cupidatat non proident, sunt in culpa qui officia deserunt mollit anim id est laborum."
   ]
  },
  {
   "cell_type": "code",
   "execution_count": 3,
   "metadata": {
    "ExecuteTime": {
     "end_time": "2019-10-09T12:18:44.791846Z",
     "start_time": "2019-10-09T12:18:44.733319Z"
    }
   },
   "outputs": [],
   "source": [
    "# Example code with comments\n",
    "tweets_today = pd.read_csv(r\"..\\datasets\\tweets2019-09-24.csv\")\n",
    "tweets_today = tweets_today.head(5000)\n",
    "# Gets tweet texts\n",
    "tweets_today_text = tweets_today[\"tweet\"]"
   ]
  },
  {
   "cell_type": "markdown",
   "metadata": {},
   "source": [
    "## Labeling data with TextBlob"
   ]
  },
  {
   "cell_type": "code",
   "execution_count": 4,
   "metadata": {
    "ExecuteTime": {
     "end_time": "2019-10-09T12:18:46.377948Z",
     "start_time": "2019-10-09T12:18:44.835494Z"
    }
   },
   "outputs": [
    {
     "data": {
      "text/html": [
       "<div>\n",
       "<style scoped>\n",
       "    .dataframe tbody tr th:only-of-type {\n",
       "        vertical-align: middle;\n",
       "    }\n",
       "\n",
       "    .dataframe tbody tr th {\n",
       "        vertical-align: top;\n",
       "    }\n",
       "\n",
       "    .dataframe thead th {\n",
       "        text-align: right;\n",
       "    }\n",
       "</style>\n",
       "<table border=\"1\" class=\"dataframe\">\n",
       "  <thead>\n",
       "    <tr style=\"text-align: right;\">\n",
       "      <th></th>\n",
       "      <th>Sentiment</th>\n",
       "      <th>Polarity</th>\n",
       "      <th>Creation Date</th>\n",
       "      <th>Tweet</th>\n",
       "      <th>Username</th>\n",
       "    </tr>\n",
       "  </thead>\n",
       "  <tbody>\n",
       "    <tr>\n",
       "      <th>4995</th>\n",
       "      <td>negative</td>\n",
       "      <td>-0.11</td>\n",
       "      <td>2019-09-24 11:43:24</td>\n",
       "      <td>shes so right bbc news  greta thunberg leader...</td>\n",
       "      <td>Joanna</td>\n",
       "    </tr>\n",
       "    <tr>\n",
       "      <th>4996</th>\n",
       "      <td>positive</td>\n",
       "      <td>0.12</td>\n",
       "      <td>2019-09-24 11:43:24</td>\n",
       "      <td>redpbluep cmagracias alvadistveburg every sin...</td>\n",
       "      <td>telekinetica</td>\n",
       "    </tr>\n",
       "    <tr>\n",
       "      <th>4997</th>\n",
       "      <td>neutral</td>\n",
       "      <td>0.00</td>\n",
       "      <td>2019-09-24 11:43:23</td>\n",
       "      <td>iam platform curated tweet we are on the fron...</td>\n",
       "      <td>IAM Platform</td>\n",
       "    </tr>\n",
       "    <tr>\n",
       "      <th>4998</th>\n",
       "      <td>neutral</td>\n",
       "      <td>0.00</td>\n",
       "      <td>2019-09-24 11:43:23</td>\n",
       "      <td>gotta be startin somethin  mj</td>\n",
       "      <td>Cassie Woolworth 🗽 🇺🇸</td>\n",
       "    </tr>\n",
       "    <tr>\n",
       "      <th>4999</th>\n",
       "      <td>positive</td>\n",
       "      <td>1.00</td>\n",
       "      <td>2019-09-24 11:43:19</td>\n",
       "      <td>literally the best thread about climate change</td>\n",
       "      <td>Feit 🇬🇧🇸🇪🌲</td>\n",
       "    </tr>\n",
       "  </tbody>\n",
       "</table>\n",
       "</div>"
      ],
      "text/plain": [
       "     Sentiment  Polarity        Creation Date  \\\n",
       "4995  negative     -0.11  2019-09-24 11:43:24   \n",
       "4996  positive      0.12  2019-09-24 11:43:24   \n",
       "4997   neutral      0.00  2019-09-24 11:43:23   \n",
       "4998   neutral      0.00  2019-09-24 11:43:23   \n",
       "4999  positive      1.00  2019-09-24 11:43:19   \n",
       "\n",
       "                                                  Tweet               Username  \n",
       "4995   shes so right bbc news  greta thunberg leader...                 Joanna  \n",
       "4996   redpbluep cmagracias alvadistveburg every sin...           telekinetica  \n",
       "4997   iam platform curated tweet we are on the fron...           IAM Platform  \n",
       "4998                     gotta be startin somethin  mj   Cassie Woolworth 🗽 🇺🇸  \n",
       "4999    literally the best thread about climate change              Feit 🇬🇧🇸🇪🌲  "
      ]
     },
     "execution_count": 4,
     "metadata": {},
     "output_type": "execute_result"
    }
   ],
   "source": [
    "def get_sentiment(polarity):\n",
    "    if polarity > 0:\n",
    "        return 'positive'\n",
    "    if polarity == 0:\n",
    "        return 'neutral'\n",
    "    else:\n",
    "        return 'negative'\n",
    "\n",
    "\n",
    "# Extract columns from df & perform textblob sentiment analysis\n",
    "textblob_tweets = [TextBlob(tweet) for tweet in tweets_today_text]\n",
    "polarity_tweets = [round(tweet.sentiment.polarity, 2)\n",
    "                   for tweet in textblob_tweets]\n",
    "sentiment_tweets = [get_sentiment(polarity) for polarity in polarity_tweets]\n",
    "\n",
    "zipped_list = list(zip(sentiment_tweets, polarity_tweets,\n",
    "                       tweets_today['creation date'],\n",
    "                       tweets_today['tweet'], tweets_today['username']))\n",
    "\n",
    "# Store to new dataframe\n",
    "sentiment_df = pd.DataFrame(zipped_list, columns=[\n",
    "    \"Sentiment\", \"Polarity\", \"Creation Date\", \"Tweet\", \"Username\"])\n",
    "\n",
    "sentiment_df.tail()"
   ]
  },
  {
   "cell_type": "code",
   "execution_count": 5,
   "metadata": {
    "ExecuteTime": {
     "end_time": "2019-10-09T12:18:46.515877Z",
     "start_time": "2019-10-09T12:18:46.499556Z"
    }
   },
   "outputs": [
    {
     "name": "stdout",
     "output_type": "stream",
     "text": [
      "Tweet text:  ericislander youre not going to change minds because the morons who dont believe in climate change couldnt care less its making open minded people aware\n",
      "Polarity of the tweet: -0.18\n",
      "Sentiment of the tweet: negative\n",
      "\n",
      "\n",
      "Tweet text:  read riskparty63s eyeopening analysis when 130 major banks with a combined value of 47 trillion signed the principles for responsible banking at the un climatechange summit they committed to reduce investments in oil amp gas expect a major earthquake in energy markets \n",
      "Polarity of the tweet: 0.11\n",
      "Sentiment of the tweet: positive\n",
      "\n",
      "\n",
      "Tweet text:  cathmckenna this child is a royal ottawa hospital case uniformed indoctrinated and used as a shield by a hose with climate change political pusher and money spender shame\n",
      "Polarity of the tweet: 0.0\n",
      "Sentiment of the tweet: neutral\n",
      "\n",
      "\n",
      "Tweet text:  the us didnt believe in al gore a white male harvard graduate slash climate change activist slash nobel prize winner who ran for presidentu think theyd believe in a nordic teen girl\n",
      "Polarity of the tweet: 0.0\n",
      "Sentiment of the tweet: neutral\n",
      "\n",
      "\n",
      "Tweet text:  eupakistan climate change is a most important and serious issue which should be discussed on every forum and every country should take steps to reduce it\n",
      "Polarity of the tweet: 0.19\n",
      "Sentiment of the tweet: positive\n",
      "\n",
      "\n",
      "Tweet text:  gandalfthewhi19 its not climate change that will kill us its the toxic environment that is going to get us\n",
      "Polarity of the tweet: 0.0\n",
      "Sentiment of the tweet: neutral\n",
      "\n",
      "\n",
      "Tweet text:  myunpopularopinionis im against climate change\n",
      "Polarity of the tweet: 0.0\n",
      "Sentiment of the tweet: neutral\n",
      "\n",
      "\n",
      "Tweet text:  drnormanbergrun rjrw10 huntstunning paddyfern davidlammy uklabour its based on proven science climate change denial is based on pure faith i know which one is a religion\n",
      "Polarity of the tweet: 0.21\n",
      "Sentiment of the tweet: positive\n",
      "\n",
      "\n",
      "Tweet text:  yuchanslay my town has a facebook group and ive started an argument with loads of old people on this guys post blaming the younger generation for climate change\n",
      "Polarity of the tweet: 0.05\n",
      "Sentiment of the tweet: positive\n",
      "\n",
      "\n",
      "Tweet text:  robborobson21 mattbors pixelatedboat does that make to her lies about climate change more accurate what if it was a thirtysevenyearold telling you that theres no rise of white supremacy science is not for the uninitiated \n",
      "Polarity of the tweet: 0.3\n",
      "Sentiment of the tweet: positive\n",
      "\n",
      "\n",
      "Tweet text:  kkretz4art whitehouse realdonaldtrump her speech highlights her age and inexperience the youth of the world beleive what they are told most often and the loudest and in this time in history they are told that humans are causing climate change hogwash\n",
      "Polarity of the tweet: 0.5\n",
      "Sentiment of the tweet: positive\n",
      "\n",
      "\n",
      "Tweet text:  this man is a piece of shit who uses a 16 yos autism as a talking point instead of addressing her correct argument that adults inaction on climate change is dangerous and stupid \n",
      "Polarity of the tweet: -0.53\n",
      "Sentiment of the tweet: negative\n",
      "\n",
      "\n",
      "Tweet text:  nyinla2121 so robertjeffress built a business on praying to invisible people yet he calls climate change a fake problem is he a scientist what proof does he have fuck foxnews for encouraging their viewers to dispute the very real problem of climate change\n",
      "Polarity of the tweet: -0.21\n",
      "Sentiment of the tweet: negative\n",
      "\n",
      "\n",
      "Tweet text:  vardmos mxalher dofaquarius tesla elonmusk yes everywhere blame all those people that keep talking about climate change just kidding im in st louis missouri and its only about 50f and my friend in copenhagen says that it is snowing a lot there all day thats all for weather  next up sports\n",
      "Polarity of the tweet: 0.0\n",
      "Sentiment of the tweet: neutral\n",
      "\n",
      "\n",
      "Tweet text:  russmilam1 laylaondabeat heyfrase have you done your part in help with climate change russ you seem to have the time\n",
      "Polarity of the tweet: 0.0\n",
      "Sentiment of the tweet: neutral\n",
      "\n",
      "\n",
      "Tweet text:  shes so right bbc news  greta thunberg leaders failed us on climate change \n",
      "Polarity of the tweet: -0.11\n",
      "Sentiment of the tweet: negative\n",
      "\n",
      "\n",
      "Tweet text:  redpbluep cmagracias alvadistveburg every single issue is real the only part that isnt real is political parties using it to gain votes via fear we cant change anything back the climate changes on it own regardless of our actions but lets be honestsince the industrial revolution weve been mucking it up\n",
      "Polarity of the tweet: 0.12\n",
      "Sentiment of the tweet: positive\n",
      "\n",
      "\n",
      "Tweet text:  iam platform curated tweet we are on the front line of climate change marshall islands president says  npr  adaptation antarctica arctic carbondioxide climateaction climatechange topinfluence iamplatform\n",
      "Polarity of the tweet: 0.0\n",
      "Sentiment of the tweet: neutral\n",
      "\n",
      "\n",
      "Tweet text:   gotta be startin somethin  mj \n",
      "Polarity of the tweet: 0.0\n",
      "Sentiment of the tweet: neutral\n",
      "\n",
      "\n",
      "Tweet text:  literally the best thread about climate change \n",
      "Polarity of the tweet: 1.0\n",
      "Sentiment of the tweet: positive\n",
      "\n",
      "\n"
     ]
    }
   ],
   "source": [
    "test_df = sentiment_df[[\"Tweet\", \"Polarity\", \"Sentiment\"]].tail(20)\n",
    "for index, row in test_df.iterrows():\n",
    "    print(\"Tweet text: \"+row[\"Tweet\"])\n",
    "    print(\"Polarity of the tweet: \"+str(row[\"Polarity\"]))\n",
    "    print(\"Sentiment of the tweet: \"+str(row[\"Sentiment\"]))\n",
    "    print(\"\\n\")"
   ]
  },
  {
   "cell_type": "markdown",
   "metadata": {},
   "source": [
    "## Pie Chart"
   ]
  },
  {
   "cell_type": "code",
   "execution_count": 6,
   "metadata": {
    "ExecuteTime": {
     "end_time": "2019-10-09T12:18:46.819431Z",
     "start_time": "2019-10-09T12:18:46.637895Z"
    }
   },
   "outputs": [
    {
     "data": {
      "image/png": "[encoded data removed]",
      "text/plain": [
       "<Figure size 432x288 with 1 Axes>"
      ]
     },
     "metadata": {},
     "output_type": "display_data"
    }
   ],
   "source": [
    "sentiment_count = sentiment_df[\"Polarity\"].value_counts()\n",
    "\n",
    "sentiments = [get_sentiment(polarity)\n",
    "              for polarity in sentiment_df[\"Polarity\"]]\n",
    "\n",
    "sentiment_count_list = np.array([sentiments.count(\"positive\"),\n",
    "                                 sentiments.count(\"neutral\"),\n",
    "                                 sentiments.count(\"negative\")])\n",
    "\n",
    "labels = [\"positive\", \"neutral\", \"negative\"]\n",
    "colors = [\"green\", \"yellow\", \"red\"]\n",
    "fig1, ax1 = plt.subplots()\n",
    "ax1.pie(sentiment_count_list, labels=labels, shadow=True,\n",
    "        autopct='%1.1f%%', startangle=90, colors=colors)\n",
    "ax1.axis('equal')\n",
    "plt.show()"
   ]
  },
  {
   "cell_type": "markdown",
   "metadata": {},
   "source": [
    "## Titel\n",
    "\n",
    "Lorem ipsum dolor sit amet, consectetur adipiscing elit, sed do eiusmod tempor incididunt ut labore et dolore magna aliqua. Ut enim ad minim veniam, quis nostrud exercitation ullamco laboris nisi ut aliquip ex ea commodo consequat. Duis aute irure dolor in reprehenderit in voluptate velit esse cillum dolore eu fugiat nulla pariatur. Excepteur sint occaecat cupidatat non proident, sunt in culpa qui officia deserunt mollit anim id est laborum."
   ]
  },
  {
   "cell_type": "code",
   "execution_count": 7,
   "metadata": {
    "ExecuteTime": {
     "end_time": "2019-10-09T12:18:47.160678Z",
     "start_time": "2019-10-09T12:18:46.935968Z"
    }
   },
   "outputs": [
    {
     "data": {
      "image/png": "[encoded data removed]",
      "text/plain": [
       "<Figure size 432x288 with 1 Axes>"
      ]
     },
     "metadata": {
      "needs_background": "light"
     },
     "output_type": "display_data"
    }
   ],
   "source": [
    "# Code block example with comments\n",
    "sentiment_df[\"Polarity\"].hist(bins=50, color='#86bf91', grid=False)\n",
    "plt.title(\"Distribution of sentiment polarities\")\n",
    "plt.xlabel(\"Sentiment polarities\")\n",
    "plt.ylabel(\"Amount of tweets\")\n",
    "plt.show()"
   ]
  },
  {
   "cell_type": "markdown",
   "metadata": {},
   "source": [
    "## Implementing Machine Learning algorithms with textblob labeled data"
   ]
  },
  {
   "cell_type": "code",
   "execution_count": 8,
   "metadata": {
    "ExecuteTime": {
     "end_time": "2019-10-09T12:18:48.114564Z",
     "start_time": "2019-10-09T12:18:47.286991Z"
    }
   },
   "outputs": [
    {
     "name": "stderr",
     "output_type": "stream",
     "text": [
      "[nltk_data] Downloading package stopwords to\n",
      "[nltk_data]     C:\\Users\\ViMs\\AppData\\Roaming\\nltk_data...\n",
      "[nltk_data]   Package stopwords is already up-to-date!\n"
     ]
    },
    {
     "data": {
      "text/plain": [
       "True"
      ]
     },
     "execution_count": 8,
     "metadata": {},
     "output_type": "execute_result"
    }
   ],
   "source": [
    "from sklearn.preprocessing import normalize\n",
    "from sklearn.feature_extraction.text import TfidfVectorizer\n",
    "from nltk.stem import WordNetLemmatizer\n",
    "from nltk.corpus import stopwords\n",
    "import nltk\n",
    "nltk.download('stopwords')"
   ]
  },
  {
   "cell_type": "markdown",
   "metadata": {},
   "source": [
    "### Lemmatization (reduces words to dictionary root form) + filtering stop words"
   ]
  },
  {
   "cell_type": "code",
   "execution_count": null,
   "metadata": {
    "ExecuteTime": {
     "start_time": "2019-10-09T12:18:42.521Z"
    }
   },
   "outputs": [],
   "source": [
    "labels = sentiment_df[\"Sentiment\"].values\n",
    "documents = []\n",
    "stemmer = WordNetLemmatizer()\n",
    "\n",
    "def filter_stopwords(word):\n",
    "    if word in stopwords.words('english'):\n",
    "        return False\n",
    "    else:\n",
    "        return True\n",
    "\n",
    "\n",
    "# Extract tweet column from df\n",
    "sentiment_df_text = sentiment_df[\"Tweet\"]\n",
    "\n",
    "for tweet in sentiment_df_text:\n",
    "    document = tweet.split()\n",
    "    document = [stemmer.lemmatize(word) for word in document]\n",
    "    document = filter(filter_stopwords, document)\n",
    "    document = ' '.join(document)\n",
    "    documents.append(document)\n",
    "print(len(documents))"
   ]
  },
  {
   "cell_type": "markdown",
   "metadata": {},
   "source": [
    "### Vectorize words, filter stopwords"
   ]
  },
  {
   "cell_type": "code",
   "execution_count": 20,
   "metadata": {
    "ExecuteTime": {
     "end_time": "2019-09-30T12:59:09.549766Z",
     "start_time": "2019-09-30T12:59:09.296360Z"
    }
   },
   "outputs": [
    {
     "data": {
      "text/plain": [
       "array([[0., 0., 0., ..., 0., 0., 0.],\n",
       "       [0., 0., 0., ..., 0., 0., 0.],\n",
       "       [0., 0., 0., ..., 0., 0., 0.],\n",
       "       ...,\n",
       "       [0., 0., 0., ..., 0., 0., 0.],\n",
       "       [0., 0., 0., ..., 0., 0., 0.],\n",
       "       [0., 0., 0., ..., 0., 0., 0.]])"
      ]
     },
     "execution_count": 20,
     "metadata": {},
     "output_type": "execute_result"
    }
   ],
   "source": [
    "# tfidf = term frequency, inverse document frequency ()\n",
    "vectorizer = TfidfVectorizer(max_features=3000, min_df=5, max_df=0.80)\n",
    "processed_features = vectorizer.fit_transform(documents).toarray()\n",
    "\n",
    "feature_names = vectorizer.get_feature_names()\n",
    "\n",
    "processed_features"
   ]
  },
  {
   "cell_type": "markdown",
   "metadata": {},
   "source": [
    "### Divide into training and test sets"
   ]
  },
  {
   "cell_type": "code",
   "execution_count": 21,
   "metadata": {
    "ExecuteTime": {
     "end_time": "2019-09-30T12:59:09.658475Z",
     "start_time": "2019-09-30T12:59:09.552758Z"
    }
   },
   "outputs": [
    {
     "name": "stdout",
     "output_type": "stream",
     "text": [
      "4000\n",
      "1000\n"
     ]
    }
   ],
   "source": [
    "from sklearn.model_selection import train_test_split\n",
    "\n",
    "X_train, X_test, y_train, y_test = train_test_split(processed_features,\n",
    "                                                    labels, test_size=0.2,\n",
    "                                                    random_state=1)\n",
    "print(len(X_train))\n",
    "print(len(X_test))"
   ]
  },
  {
   "cell_type": "markdown",
   "metadata": {},
   "source": [
    "### Implementing Random Forest Classifier & making predictions"
   ]
  },
  {
   "cell_type": "code",
   "execution_count": 22,
   "metadata": {
    "ExecuteTime": {
     "end_time": "2019-09-30T13:00:29.899297Z",
     "start_time": "2019-09-30T12:59:09.661468Z"
    }
   },
   "outputs": [
    {
     "name": "stdout",
     "output_type": "stream",
     "text": [
      "[[138  38 113]\n",
      " [  9 209  48]\n",
      " [ 41  59 345]]\n",
      "              precision    recall  f1-score   support\n",
      "\n",
      "    negative       0.73      0.48      0.58       289\n",
      "     neutral       0.68      0.79      0.73       266\n",
      "    positive       0.68      0.78      0.73       445\n",
      "\n",
      "    accuracy                           0.69      1000\n",
      "   macro avg       0.70      0.68      0.68      1000\n",
      "weighted avg       0.70      0.69      0.68      1000\n",
      "\n",
      "The algorithm has reached an accuracy of: 69.20%\n"
     ]
    }
   ],
   "source": [
    "from sklearn.ensemble import RandomForestClassifier\n",
    "from sklearn.metrics import classification_report, confusion_matrix, accuracy_score\n",
    "\n",
    "text_classifier = RandomForestClassifier(n_estimators=350, random_state=0)\n",
    "text_classifier.fit(X_train, y_train)\n",
    "\n",
    "predictions_rf = text_classifier.predict(X_test)\n",
    "\n",
    "print(confusion_matrix(y_test, predictions_rf))\n",
    "print(classification_report(y_test, predictions_rf))\n",
    "print(\"The algorithm has reached an accuracy of: {:.2f}%\".format(\n",
    "    accuracy_score(y_test, predictions_rf)*100))"
   ]
  },
  {
   "cell_type": "markdown",
   "metadata": {},
   "source": [
    "### Implementing Logistic regression Classifier"
   ]
  },
  {
   "cell_type": "code",
   "execution_count": 26,
   "metadata": {
    "ExecuteTime": {
     "end_time": "2019-09-30T13:17:42.756579Z",
     "start_time": "2019-09-30T13:17:38.922831Z"
    }
   },
   "outputs": [
    {
     "name": "stdout",
     "output_type": "stream",
     "text": [
      "Best cross-validation score: 0.68\n",
      "Best parameters:  {'C': 10}\n",
      "Best estimator:  LogisticRegression(C=10, class_weight=None, dual=False, fit_intercept=True,\n",
      "                   intercept_scaling=1, l1_ratio=None, max_iter=100,\n",
      "                   multi_class='warn', n_jobs=None, penalty='l2',\n",
      "                   random_state=None, solver='warn', tol=0.0001, verbose=0,\n",
      "                   warm_start=False)\n"
     ]
    }
   ],
   "source": [
    "from sklearn.model_selection import GridSearchCV\n",
    "from sklearn.linear_model import LogisticRegression\n",
    "import warnings\n",
    "warnings.filterwarnings('ignore')\n",
    "\n",
    "param_grid = {'C': [0.001, 0.01, 0.1, 1, 10, 100, 1000]}\n",
    "grid = GridSearchCV(LogisticRegression(), param_grid, cv=5)\n",
    "grid.fit(X_train, y_train)\n",
    "\n",
    "print(\"Best cross-validation score: {:.2f}\".format(grid.best_score_))\n",
    "print(\"Best parameters: \", grid.best_params_)\n",
    "print(\"Best estimator: \", grid.best_estimator_)"
   ]
  },
  {
   "cell_type": "code",
   "execution_count": 24,
   "metadata": {
    "ExecuteTime": {
     "end_time": "2019-09-30T13:00:36.225578Z",
     "start_time": "2019-09-30T13:00:36.039075Z"
    }
   },
   "outputs": [
    {
     "name": "stdout",
     "output_type": "stream",
     "text": [
      "[[169  24  96]\n",
      " [ 35 177  54]\n",
      " [ 58  38 349]]\n",
      "              precision    recall  f1-score   support\n",
      "\n",
      "    negative       0.65      0.58      0.61       289\n",
      "     neutral       0.74      0.67      0.70       266\n",
      "    positive       0.70      0.78      0.74       445\n",
      "\n",
      "    accuracy                           0.69      1000\n",
      "   macro avg       0.70      0.68      0.68      1000\n",
      "weighted avg       0.69      0.69      0.69      1000\n",
      "\n",
      "The algorithm has reached an accuracy of: 69.50%\n"
     ]
    }
   ],
   "source": [
    "lr = grid.best_estimator_\n",
    "lr.fit(X_train, y_train)\n",
    "predictions_lr = lr.predict(X_test)\n",
    "print(confusion_matrix(y_test, predictions_lr))\n",
    "print(classification_report(y_test, predictions_lr))\n",
    "print(\"The algorithm has reached an accuracy of: {:.2f}%\".format(\n",
    "    lr.score(X_test, y_test)*100))"
   ]
  }
 ],
 "metadata": {
  "kernelspec": {
   "display_name": "Python 3",
   "language": "python",
   "name": "python3"
  },
  "language_info": {
   "codemirror_mode": {
    "name": "ipython",
    "version": 3
   },
   "file_extension": ".py",
   "mimetype": "text/x-python",
   "name": "python",
   "nbconvert_exporter": "python",
   "pygments_lexer": "ipython3",
   "version": "3.7.3"
  },
  "toc": {
   "base_numbering": 1,
   "nav_menu": {},
   "number_sections": true,
   "sideBar": true,
   "skip_h1_title": false,
   "title_cell": "Table of Contents",
   "title_sidebar": "Contents",
   "toc_cell": false,
   "toc_position": {},
   "toc_section_display": true,
   "toc_window_display": false
  },
  "varInspector": {
   "cols": {
    "lenName": 16,
    "lenType": 16,
    "lenVar": 40
   },
   "kernels_config": {
    "python": {
     "delete_cmd_postfix": "",
     "delete_cmd_prefix": "del ",
     "library": "var_list.py",
     "varRefreshCmd": "print(var_dic_list())"
    },
    "r": {
     "delete_cmd_postfix": ") ",
     "delete_cmd_prefix": "rm(",
     "library": "var_list.r",
     "varRefreshCmd": "cat(var_dic_list()) "
    }
   },
   "position": {
    "height": "478.8px",
    "left": "1175.6px",
    "right": "20px",
    "top": "124px",
    "width": "341.4px"
   },
   "types_to_exclude": [
    "module",
    "function",
    "builtin_function_or_method",
    "instance",
    "_Feature"
   ],
   "window_display": false
  }
 },
 "nbformat": 4,
 "nbformat_minor": 2
}
