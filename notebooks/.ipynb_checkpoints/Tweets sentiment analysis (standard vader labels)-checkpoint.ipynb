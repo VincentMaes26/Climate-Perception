{
 "cells": [
  {
   "cell_type": "markdown",
   "metadata": {},
   "source": [
    "# Tweet sentiment analysis"
   ]
  },
  {
   "cell_type": "code",
   "execution_count": 2,
   "metadata": {
    "ExecuteTime": {
     "end_time": "2019-10-15T08:29:38.960952Z",
     "start_time": "2019-10-15T08:29:32.002360Z"
    }
   },
   "outputs": [],
   "source": [
    "import re\n",
    "import numpy as np\n",
    "import pandas as pd\n",
    "import matplotlib.pyplot as plt\n",
    "import matplotlib.ticker as ticker\n",
    "import seaborn as sns\n",
    "import datetime\n",
    "import boto3\n",
    "import s3fs\n",
    "plt.style.use('seaborn-dark')"
   ]
  },
  {
   "cell_type": "markdown",
   "metadata": {},
   "source": [
    "## Get dataframe from S3 bucket"
   ]
  },
  {
   "cell_type": "code",
   "execution_count": 3,
   "metadata": {
    "ExecuteTime": {
     "end_time": "2019-10-15T08:31:55.249705Z",
     "start_time": "2019-10-15T08:31:53.151786Z"
    }
   },
   "outputs": [
    {
     "name": "stdout",
     "output_type": "stream",
     "text": [
      "3223\n"
     ]
    }
   ],
   "source": [
    "# # Read CSV file\n",
    "# #tweets_today = pd.read_csv(r\"..\\datasets\\raw_data\\tweets{}.csv\".format(datetime.date.today()))\n",
    "# tweets_today = pd.read_csv(r\"..\\datasets\\raw_data\\tweets2019-10-08.csv\")\n",
    "# tweets_today = tweets_today.head(5000)\n",
    "# # Gets tweet texts\n",
    "# tweets_today_text = tweets_today[\"tweet\"]\n",
    "bucketname = 'ops-vw-interns-climate-perception-tweets'\n",
    "dataframe = pd.DataFrame(columns=(\"creation date\",\"keyword\", \"tweet\", \n",
    "                                  \"username\"))\n",
    "s3 = boto3.resource(\"s3\")\n",
    "\n",
    "s3_tweets = s3.Bucket(bucketname).objects.all()\n",
    "for file in s3_tweets:\n",
    "    temp_df = pd.read_json('s3://{}/{}'.format(bucketname, file.key))\n",
    "    dataframe = dataframe.append(temp_df, sort=False, ignore_index=True) \n",
    "\n",
    "dataframe_tweets = dataframe[\"tweet\"]\n",
    "print(len(dataframe))"
   ]
  },
  {
   "cell_type": "markdown",
   "metadata": {},
   "source": [
    "## Data cleaning"
   ]
  },
  {
   "cell_type": "code",
   "execution_count": 4,
   "metadata": {
    "ExecuteTime": {
     "end_time": "2019-10-15T08:30:39.182116Z",
     "start_time": "2019-10-15T08:30:38.686605Z"
    }
   },
   "outputs": [
    {
     "name": "stdout",
     "output_type": "stream",
     "text": [
      " im all for democracy and freedom of speech unless of course were talking about climate change protesters  those guys should be beaten up pepper sprayed locked up andor ran down by the cops because they inconvenience me \n",
      "\n",
      " trees bans and new technology what arsenal chelsea and spurs are doing about climate change coyg afc \n",
      "\n",
      " doug fords conservative government has made next to no progress on plan to cut carbon emissions but has spent millions on fighting a real plan to cut emissions onpoli cdnpoli climatechange elxn43 \n",
      "\n",
      " the saudi kings oil company chevron and russias mob run gazprom are the top three producers of greenhouse gases driving the entire worlds climate change trump republicans best people trumpgenocide climatestrike republicangenocide \n",
      "\n",
      " global warming is a joke its just bad science its high jacking public policy its the greatest scam in history\n",
      "\n",
      " scifi ways scientists could mimic volcanic eruptions to help avert climate disaster \n",
      "\n",
      " terrorism killer heatwaves deadly drought predicted for spain as climate change study reveals mediterranean is warming 20 faster than global average \n",
      "\n",
      " salem thanks for listening to my rant about the socioeconomic implications of climate change red wine does something weird to me hereforyou lyftreviews winewednesday\n",
      "\n",
      " we must no longer view the natural world as a mere warehouse of commodities for humans to exploit but rather a remarkable community to which we belong and to whom we owe responsibilities \n",
      "\n",
      " is climate change doomsday coming \n",
      "\n",
      " dubai world expo next year will be so inspiring for innovation climate subjects arts architecture it will change your perspectives especially if you combine it with real nature in the desert with orienttoursuae \n",
      "\n",
      " someone should do a research paper on how much carbon footprint and wastage metal straws has created everyone buys it but dont use it and still use plastic straws talk about saving the world you are just making it worst climate change is inevitable\n",
      "\n",
      " these state birds may be forced out of their states as the world warms \n",
      "\n",
      " yeah these are the fing fools who want to school you about climate change depopulation estimate of 227 million by 2025  lets hope theyre included in that \n",
      "\n",
      " people who think people who the worlds gonna deny climate end in 12 years change  fuck science\n",
      "\n",
      " aoc my dreams of motherhood now bittersweet because of global warming  \n",
      "\n",
      " is climate change doomsday coming \n",
      "\n",
      " omg tfwrail its like a sauna on this valleys line train surely this cant be helping with global warming\n",
      "\n",
      " doctors join climate change protest to warn of health dangers climateemergency \n",
      "\n",
      " instead of making memes about narendramodi photo spread awareness about the climate change actonclimate incredibleindia saveearth\n",
      "\n"
     ]
    }
   ],
   "source": [
    "# Preprocessing of tweet texts\n",
    "def format_tweet(tweet):\n",
    "    processed_tweet=\"\"\n",
    "    for word in tweet.split():\n",
    "        # Removing URL from tweet\n",
    "        processed_word = re.sub('([^0-9A-Za-z \\t])|(\\w+:\\/\\/\\S+)', ' ', word)\n",
    "        # remove all single characters\n",
    "        processed_word = re.sub('\\s+[a-zA-Z]\\s+', ' ', processed_word)\n",
    "        # Remove single characters from the start\n",
    "        processed_word = re.sub('\\^[a-zA-Z]\\s+', ' ', processed_word) \n",
    "        # Substituting multiple spaces with single space\n",
    "        processed_word = re.sub('\\s+', '', processed_word, flags=re.I)\n",
    "        # Removing prefixed 'b'\n",
    "        processed_word = re.sub('^b\\s+', ' ', processed_word)\n",
    "        # Removing &amp\n",
    "        processed_word = re.sub('&amp', '&', processed_word)\n",
    "        # Removing breaks\n",
    "        processed_word = re.sub('<br/>', '', processed_word)\n",
    "        # converts to lower\n",
    "        processed_word = processed_word.lower()\n",
    "        processed_tweet= processed_tweet+\" \"+processed_word\n",
    "    return processed_tweet        \n",
    "    \n",
    "tweets_text = [format_tweet(tweet) for tweet in dataframe_tweets]\n",
    "tweets_text = list(filter(None, tweets_text))\n",
    "\n",
    "for tweet in tweets_text[:20]:\n",
    "    print(tweet + \"\\n\")\n"
   ]
  },
  {
   "cell_type": "markdown",
   "metadata": {},
   "source": [
    "## Labeling tweets with NLTK vader"
   ]
  },
  {
   "cell_type": "code",
   "execution_count": 5,
   "metadata": {
    "ExecuteTime": {
     "end_time": "2019-10-15T08:30:51.110714Z",
     "start_time": "2019-10-15T08:30:48.976936Z"
    }
   },
   "outputs": [
    {
     "name": "stderr",
     "output_type": "stream",
     "text": [
      "[nltk_data] Downloading package vader_lexicon to\n",
      "[nltk_data]     C:\\Users\\ViMs\\AppData\\Roaming\\nltk_data...\n",
      "[nltk_data]   Package vader_lexicon is already up-to-date!\n"
     ]
    },
    {
     "data": {
      "text/plain": [
       "True"
      ]
     },
     "execution_count": 5,
     "metadata": {},
     "output_type": "execute_result"
    }
   ],
   "source": [
    "import nltk\n",
    "from nltk.sentiment.vader import SentimentIntensityAnalyzer\n",
    "nltk.download('vader_lexicon')"
   ]
  },
  {
   "cell_type": "code",
   "execution_count": 6,
   "metadata": {
    "ExecuteTime": {
     "end_time": "2019-10-15T08:30:51.190570Z",
     "start_time": "2019-10-15T08:30:51.145401Z"
    }
   },
   "outputs": [
    {
     "name": "stdout",
     "output_type": "stream",
     "text": [
      " scifi ways scientists could mimic volcanic eruptions to help avert climate disaster : \n",
      "{'neg': 0.331, 'neu': 0.514, 'pos': 0.154, 'compound': -0.4767}\n",
      "\n",
      "\n",
      " terrorism killer heatwaves deadly drought predicted for spain as climate change study reveals mediterranean is warming 20 faster than global average : \n",
      "{'neg': 0.312, 'neu': 0.632, 'pos': 0.056, 'compound': -0.8519}\n",
      "\n",
      "\n",
      " salem thanks for listening to my rant about the socioeconomic implications of climate change red wine does something weird to me hereforyou lyftreviews winewednesday: \n",
      "{'neg': 0.146, 'neu': 0.75, 'pos': 0.104, 'compound': -0.0516}\n",
      "\n",
      "\n",
      " we must no longer view the natural world as a mere warehouse of commodities for humans to exploit but rather a remarkable community to which we belong and to whom we owe responsibilities : \n",
      "{'neg': 0.077, 'neu': 0.741, 'pos': 0.182, 'compound': 0.705}\n",
      "\n",
      "\n",
      " is climate change doomsday coming : \n",
      "{'neg': 0.487, 'neu': 0.513, 'pos': 0.0, 'compound': -0.5859}\n",
      "\n",
      "\n"
     ]
    }
   ],
   "source": [
    "sid = SentimentIntensityAnalyzer()\n",
    "\n",
    "for tweet in tweets_text[5:10]:\n",
    "    print(\"{0}: \\n{1}\\n\\n\".format(tweet, sid.polarity_scores(tweet)))"
   ]
  },
  {
   "cell_type": "code",
   "execution_count": 183,
   "metadata": {
    "ExecuteTime": {
     "end_time": "2019-10-15T08:30:51.901996Z",
     "start_time": "2019-10-15T08:30:51.229227Z"
    }
   },
   "outputs": [
    {
     "data": {
      "text/html": [
       "<div>\n",
       "<style scoped>\n",
       "    .dataframe tbody tr th:only-of-type {\n",
       "        vertical-align: middle;\n",
       "    }\n",
       "\n",
       "    .dataframe tbody tr th {\n",
       "        vertical-align: top;\n",
       "    }\n",
       "\n",
       "    .dataframe thead th {\n",
       "        text-align: right;\n",
       "    }\n",
       "</style>\n",
       "<table border=\"1\" class=\"dataframe\">\n",
       "  <thead>\n",
       "    <tr style=\"text-align: right;\">\n",
       "      <th></th>\n",
       "      <th>Sentiment</th>\n",
       "      <th>Polarity</th>\n",
       "      <th>Tweet</th>\n",
       "      <th>Keyword</th>\n",
       "      <th>Username</th>\n",
       "      <th>Creation Date</th>\n",
       "    </tr>\n",
       "  </thead>\n",
       "  <tbody>\n",
       "    <tr>\n",
       "      <th>1433</th>\n",
       "      <td>positive</td>\n",
       "      <td>0.32</td>\n",
       "      <td>marclacey climate change has hardly been cove...</td>\n",
       "      <td>Climate change</td>\n",
       "      <td>Juan Bigote</td>\n",
       "      <td>2019-10-13 19:57:47</td>\n",
       "    </tr>\n",
       "    <tr>\n",
       "      <th>309</th>\n",
       "      <td>negative</td>\n",
       "      <td>-0.83</td>\n",
       "      <td>is it odd that fires stared as soon as the po...</td>\n",
       "      <td>Climate change</td>\n",
       "      <td>Scottalotta2</td>\n",
       "      <td>2019-10-12 20:29:18</td>\n",
       "    </tr>\n",
       "    <tr>\n",
       "      <th>1608</th>\n",
       "      <td>positive</td>\n",
       "      <td>0.76</td>\n",
       "      <td>happy that  whats the coming change us thanks...</td>\n",
       "      <td>Climate change</td>\n",
       "      <td>William Foster</td>\n",
       "      <td>2019-10-13 19:37:12</td>\n",
       "    </tr>\n",
       "    <tr>\n",
       "      <th>295</th>\n",
       "      <td>neutral</td>\n",
       "      <td>0.00</td>\n",
       "      <td>socialist rep alexandria ocasiocortez ny plan...</td>\n",
       "      <td>Climate change</td>\n",
       "      <td>Ryan Saavedra</td>\n",
       "      <td>2019-10-12 20:30:07</td>\n",
       "    </tr>\n",
       "    <tr>\n",
       "      <th>1084</th>\n",
       "      <td>negative</td>\n",
       "      <td>-0.27</td>\n",
       "      <td>revealed google made large contributions to c...</td>\n",
       "      <td>Climate change</td>\n",
       "      <td>Front Porch Forum</td>\n",
       "      <td>2019-10-13 20:31:23</td>\n",
       "    </tr>\n",
       "    <tr>\n",
       "      <th>1789</th>\n",
       "      <td>negative</td>\n",
       "      <td>-0.25</td>\n",
       "      <td>santa gives u coal gt burn coal gt cause glob...</td>\n",
       "      <td>Global warming</td>\n",
       "      <td>🎃 Harper ⚓</td>\n",
       "      <td>2019-10-14 20:43:24</td>\n",
       "    </tr>\n",
       "    <tr>\n",
       "      <th>2515</th>\n",
       "      <td>positive</td>\n",
       "      <td>0.36</td>\n",
       "      <td>if you speak english and want to know what di...</td>\n",
       "      <td>Climate change</td>\n",
       "      <td>Irmak Ekin Karel</td>\n",
       "      <td>2019-10-15 20:51:00</td>\n",
       "    </tr>\n",
       "    <tr>\n",
       "      <th>2294</th>\n",
       "      <td>positive</td>\n",
       "      <td>0.61</td>\n",
       "      <td>a lot of the houses in braeswood have been li...</td>\n",
       "      <td>Climate change</td>\n",
       "      <td>wilfre, salvidaric icon</td>\n",
       "      <td>2019-10-14 19:56:13</td>\n",
       "    </tr>\n",
       "    <tr>\n",
       "      <th>3150</th>\n",
       "      <td>negative</td>\n",
       "      <td>-0.46</td>\n",
       "      <td>if were to find solutions for climate change ...</td>\n",
       "      <td>Climate change</td>\n",
       "      <td>Grassroots Intl</td>\n",
       "      <td>2019-10-15 19:55:05</td>\n",
       "    </tr>\n",
       "    <tr>\n",
       "      <th>2105</th>\n",
       "      <td>positive</td>\n",
       "      <td>0.13</td>\n",
       "      <td>children deserve a future without runaway cli...</td>\n",
       "      <td>Climate change</td>\n",
       "      <td>Ben Holt 💚 🌎</td>\n",
       "      <td>2019-10-14 20:10:48</td>\n",
       "    </tr>\n",
       "    <tr>\n",
       "      <th>363</th>\n",
       "      <td>positive</td>\n",
       "      <td>0.54</td>\n",
       "      <td>petition consult with focus groups of young p...</td>\n",
       "      <td>Climate change</td>\n",
       "      <td>Beth⎊n Curley</td>\n",
       "      <td>2019-10-12 20:23:47</td>\n",
       "    </tr>\n",
       "    <tr>\n",
       "      <th>2427</th>\n",
       "      <td>negative</td>\n",
       "      <td>-0.65</td>\n",
       "      <td>striking statistic that such a high percentag...</td>\n",
       "      <td>Climate change</td>\n",
       "      <td>Kristina Vidal</td>\n",
       "      <td>2019-10-15 20:58:38</td>\n",
       "    </tr>\n",
       "    <tr>\n",
       "      <th>873</th>\n",
       "      <td>positive</td>\n",
       "      <td>0.15</td>\n",
       "      <td>global warming costume cult calls for civil d...</td>\n",
       "      <td>Climate change</td>\n",
       "      <td>shofarsounder</td>\n",
       "      <td>2019-10-13 20:56:27</td>\n",
       "    </tr>\n",
       "    <tr>\n",
       "      <th>89</th>\n",
       "      <td>positive</td>\n",
       "      <td>0.64</td>\n",
       "      <td>the uns food and agriculture organization pl...</td>\n",
       "      <td>Climate change</td>\n",
       "      <td>UNA-USA San Diego</td>\n",
       "      <td>2019-10-12 20:52:05</td>\n",
       "    </tr>\n",
       "    <tr>\n",
       "      <th>162</th>\n",
       "      <td>negative</td>\n",
       "      <td>-0.32</td>\n",
       "      <td>oops californias expensive solar panels to fi...</td>\n",
       "      <td>Climate change</td>\n",
       "      <td>Ken Lukasiewicz</td>\n",
       "      <td>2019-10-12 20:45:01</td>\n",
       "    </tr>\n",
       "    <tr>\n",
       "      <th>1026</th>\n",
       "      <td>negative</td>\n",
       "      <td>-0.36</td>\n",
       "      <td>my latest post on acornacts  talking turkey a...</td>\n",
       "      <td>Climate change</td>\n",
       "      <td>Mat Walton</td>\n",
       "      <td>2019-10-13 20:38:27</td>\n",
       "    </tr>\n",
       "    <tr>\n",
       "      <th>2874</th>\n",
       "      <td>negative</td>\n",
       "      <td>-0.62</td>\n",
       "      <td>climate change solar storms can devastate civ...</td>\n",
       "      <td>Climate change</td>\n",
       "      <td>emctsprime</td>\n",
       "      <td>2019-10-15 20:17:16</td>\n",
       "    </tr>\n",
       "    <tr>\n",
       "      <th>3220</th>\n",
       "      <td>neutral</td>\n",
       "      <td>0.00</td>\n",
       "      <td>according to wallace there is a silver lining...</td>\n",
       "      <td>Climate change</td>\n",
       "      <td>Kailey</td>\n",
       "      <td>2019-10-15 19:48:24</td>\n",
       "    </tr>\n",
       "    <tr>\n",
       "      <th>2962</th>\n",
       "      <td>positive</td>\n",
       "      <td>0.53</td>\n",
       "      <td>while moomaw lauds intensifying efforts to pl...</td>\n",
       "      <td>Climate change</td>\n",
       "      <td>CelloMom on Cars</td>\n",
       "      <td>2019-10-15 20:10:32</td>\n",
       "    </tr>\n",
       "    <tr>\n",
       "      <th>1664</th>\n",
       "      <td>positive</td>\n",
       "      <td>0.40</td>\n",
       "      <td>a certain age groupclimate scientists refute ...</td>\n",
       "      <td>Global warming</td>\n",
       "      <td>Robin Purcell</td>\n",
       "      <td>2019-10-14 20:55:42</td>\n",
       "    </tr>\n",
       "  </tbody>\n",
       "</table>\n",
       "</div>"
      ],
      "text/plain": [
       "     Sentiment  Polarity                                              Tweet  \\\n",
       "1433  positive      0.32   marclacey climate change has hardly been cove...   \n",
       "309   negative     -0.83   is it odd that fires stared as soon as the po...   \n",
       "1608  positive      0.76   happy that  whats the coming change us thanks...   \n",
       "295    neutral      0.00   socialist rep alexandria ocasiocortez ny plan...   \n",
       "1084  negative     -0.27   revealed google made large contributions to c...   \n",
       "1789  negative     -0.25   santa gives u coal gt burn coal gt cause glob...   \n",
       "2515  positive      0.36   if you speak english and want to know what di...   \n",
       "2294  positive      0.61   a lot of the houses in braeswood have been li...   \n",
       "3150  negative     -0.46   if were to find solutions for climate change ...   \n",
       "2105  positive      0.13   children deserve a future without runaway cli...   \n",
       "363   positive      0.54   petition consult with focus groups of young p...   \n",
       "2427  negative     -0.65   striking statistic that such a high percentag...   \n",
       "873   positive      0.15   global warming costume cult calls for civil d...   \n",
       "89    positive      0.64    the uns food and agriculture organization pl...   \n",
       "162   negative     -0.32   oops californias expensive solar panels to fi...   \n",
       "1026  negative     -0.36   my latest post on acornacts  talking turkey a...   \n",
       "2874  negative     -0.62   climate change solar storms can devastate civ...   \n",
       "3220   neutral      0.00   according to wallace there is a silver lining...   \n",
       "2962  positive      0.53   while moomaw lauds intensifying efforts to pl...   \n",
       "1664  positive      0.40   a certain age groupclimate scientists refute ...   \n",
       "\n",
       "             Keyword                 Username        Creation Date  \n",
       "1433  Climate change              Juan Bigote  2019-10-13 19:57:47  \n",
       "309   Climate change             Scottalotta2  2019-10-12 20:29:18  \n",
       "1608  Climate change           William Foster  2019-10-13 19:37:12  \n",
       "295   Climate change            Ryan Saavedra  2019-10-12 20:30:07  \n",
       "1084  Climate change        Front Porch Forum  2019-10-13 20:31:23  \n",
       "1789  Global warming               🎃 Harper ⚓  2019-10-14 20:43:24  \n",
       "2515  Climate change         Irmak Ekin Karel  2019-10-15 20:51:00  \n",
       "2294  Climate change  wilfre, salvidaric icon  2019-10-14 19:56:13  \n",
       "3150  Climate change          Grassroots Intl  2019-10-15 19:55:05  \n",
       "2105  Climate change             Ben Holt 💚 🌎  2019-10-14 20:10:48  \n",
       "363   Climate change            Beth⎊n Curley  2019-10-12 20:23:47  \n",
       "2427  Climate change           Kristina Vidal  2019-10-15 20:58:38  \n",
       "873   Climate change            shofarsounder  2019-10-13 20:56:27  \n",
       "89    Climate change        UNA-USA San Diego  2019-10-12 20:52:05  \n",
       "162   Climate change          Ken Lukasiewicz  2019-10-12 20:45:01  \n",
       "1026  Climate change               Mat Walton  2019-10-13 20:38:27  \n",
       "2874  Climate change               emctsprime  2019-10-15 20:17:16  \n",
       "3220  Climate change                   Kailey  2019-10-15 19:48:24  \n",
       "2962  Climate change         CelloMom on Cars  2019-10-15 20:10:32  \n",
       "1664  Global warming            Robin Purcell  2019-10-14 20:55:42  "
      ]
     },
     "execution_count": 183,
     "metadata": {},
     "output_type": "execute_result"
    }
   ],
   "source": [
    "def get_sentiment(polarity):\n",
    "    if polarity > 0:\n",
    "        return 'positive'\n",
    "    if polarity == 0:\n",
    "        return 'neutral'\n",
    "    else:\n",
    "        return 'negative'\n",
    "\n",
    "polarity_tweets = [round(sid.polarity_scores(tweet)[\"compound\"], 2)\n",
    "                   for tweet in tweets_text]\n",
    "\n",
    "sentiment_tweets = [get_sentiment(polarity) for polarity in polarity_tweets]\n",
    "\n",
    "zipped_list = list(zip(sentiment_tweets, polarity_tweets,\n",
    "                       tweets_text, dataframe['keyword'],\n",
    "                       dataframe['username'], dataframe['creation date']))\n",
    "\n",
    "# Store to new dataframe\n",
    "sentiment_df = pd.DataFrame(zipped_list, \n",
    "                            columns=[\"Sentiment\", \"Polarity\", \n",
    "                                     \"Tweet\", \"Keyword\", \"Username\", \n",
    "                                     \"Creation Date\"])\n",
    "sentiment_df.sample(20)"
   ]
  },
  {
   "cell_type": "code",
   "execution_count": 181,
   "metadata": {},
   "outputs": [
    {
     "name": "stdout",
     "output_type": "stream",
     "text": [
      "5 most negative tweets: \n",
      "\n",
      "1:  i think everyone in this country has a short fuse right now due to rump amp the company he keeps i know i seem to get angry mad sad pissed frustrated discouraged and angry some more now talk about climate change since 2016 when rump got put in office i think were all hot \n",
      "\n",
      "2:  lets get the record straight you employ a massive racist sexist homophobic global warming denier and criminal who takes the piss out of a 16 year old with aspergers because she doesnt want the planet to die so fuck off with ur shitty poll gmb \n",
      "\n",
      "3:  at some point we need to get angry but if your angers directed  those protesting rather than  parliamentarians  i suspect youve consigned yourself to expecting nothing to change  you have become more annoyed by protest than a lack of action \n",
      "\n",
      "4:   conflicts of interest  treason  rape sexual assault sexual predator  tax evasion  campaign finance fraud  money laundering  collusion  crimes against humanity  bribery  war crimes  against climate change  habitual liar  philanderer  illiterate impeachandremove\n",
      "\n",
      "5:  fuck those extinction rebellion twats fuck climate change which is due to the solar cycle and bugger all to do with humanity this is what we really need to be scared about and taking action to stop5g it will kill people its already killing \n",
      "\n",
      "\n"
     ]
    }
   ],
   "source": [
    "print(\"5 most negative tweets: \\n\")\n",
    "top5_negative = list(sentiment_df.sort_values(\"Polarity\")[\"Tweet\"].head(5))\n",
    "[print(str(i+1) + \": \"+ neg_tweet + \"\\n\") for i, neg_tweet in enumerate(top5_negative)]\n",
    "print()"
   ]
  },
  {
   "cell_type": "code",
   "execution_count": 182,
   "metadata": {},
   "outputs": [
    {
     "name": "stdout",
     "output_type": "stream",
     "text": [
      "5 most positive tweets: \n",
      "\n",
      "1:  haha ben thinks he will be among the super rich and that privilege will protect from climate change driving extinction events elxn43 cdnpoli \n",
      "\n",
      "2:  american climate change scientists  true american patriots working to protect our nation from global warming bc rest of world causes 80 of ghg leading to warming those scientists r international heroes they work for the good of your families support them when you can\n",
      "\n",
      "3:  happy b day aoc love what youre doing to help bring awareness for climate change please dont stop doing what youre doing youre on the right track many blessings bronxboricuas greennewdeal \n",
      "\n",
      "4:  yes good idea i am going to re read too heres 10 to do based on 2 climate change degees free for all their success is mainly due to laudatosi ideally you do one share with your followers how you got on and your thoughts they have long lasting effects   \n",
      "\n",
      "5:  great visit this pm to centrealttech in machynlleth to meet their management team and listen to their exciting and ambitious plans for the future impressive increase in both visitor and student numbers this year hopefully a sign of more interest in climate change perhaps \n",
      "\n",
      "\n"
     ]
    }
   ],
   "source": [
    "print(\"5 most positive tweets: \\n\")\n",
    "top5_positive = list(sentiment_df.sort_values(\"Polarity\")[\"Tweet\"].tail(5))\n",
    "[print(str(i+1) + \": \"+ neg_tweet + \"\\n\") for i, neg_tweet in enumerate(top5_positive)]\n",
    "print()"
   ]
  },
  {
   "cell_type": "code",
   "execution_count": 147,
   "metadata": {
    "ExecuteTime": {
     "end_time": "2019-10-15T08:31:14.354651Z",
     "start_time": "2019-10-15T08:31:14.205648Z"
    }
   },
   "outputs": [
    {
     "data": {
      "image/png": "[encoded data removed]",
      "text/plain": [
       "<Figure size 576x576 with 1 Axes>"
      ]
     },
     "metadata": {},
     "output_type": "display_data"
    },
    {
     "name": "stdout",
     "output_type": "stream",
     "text": [
      "total positive: 1254 => 38.91%\n",
      "total neutral: 586 => 18.18%\n",
      "total negative: 1383 => 42.91%\n"
     ]
    }
   ],
   "source": [
    "sentiments = [get_sentiment(polarity)\n",
    "              for polarity in sentiment_df[\"Polarity\"]]\n",
    "\n",
    "sentiment_count_list = np.array([sentiments.count(\n",
    "    \"positive\"), sentiments.count(\"neutral\"), sentiments.count(\"negative\")])\n",
    "\n",
    "classes = [\"positive\", \"neutral\", \"negative\"]\n",
    "count_df_values = list(zip(classes, sentiment_count_list))\n",
    "count_df = pd.DataFrame(count_df_values, columns=(\"Sentiment\", \"Totals\"))\n",
    "\n",
    "colors = [\"green\", \"yellow\", \"red\"]\n",
    "\n",
    "count_df.plot.pie(y=\"Totals\", labels=classes, colors=colors, title=\"Distribution of sentiment values\", figsize=(8, 8))\n",
    "plt.show()\n",
    "\n",
    "print(\"total positive: {} => {:.2f}%\".format(sentiments.count('positive'), (sentiments.count('positive')/ len(sentiment_df))*100))\n",
    "print(\"total neutral: {} => {:.2f}%\".format(sentiments.count('neutral'), (sentiments.count('neutral')/ len(sentiment_df))*100))\n",
    "print(\"total negative: {} => {:.2f}%\".format(sentiments.count('negative'), (sentiments.count('negative')/ len(sentiment_df))*100))"
   ]
  },
  {
   "cell_type": "code",
   "execution_count": 156,
   "metadata": {
    "ExecuteTime": {
     "end_time": "2019-10-15T08:31:22.912746Z",
     "start_time": "2019-10-15T08:31:22.677160Z"
    }
   },
   "outputs": [
    {
     "data": {
      "image/png": "[encoded data removed]",
      "text/plain": [
       "<Figure size 576x396 with 1 Axes>"
      ]
     },
     "metadata": {},
     "output_type": "display_data"
    }
   ],
   "source": [
    "sentiment_df.hist(bins=5)\n",
    "plt.title(\"Distribution of sentiment polarities\")\n",
    "plt.xlabel(\"Sentiment polarities\")\n",
    "plt.ylabel(\"Amount of tweets\")\n",
    "plt.show()"
   ]
  },
  {
   "cell_type": "code",
   "execution_count": 171,
   "metadata": {},
   "outputs": [
    {
     "data": {
      "image/png": "[encoded data removed]",
      "text/plain": [
       "<Figure size 576x396 with 1 Axes>"
      ]
     },
     "metadata": {},
     "output_type": "display_data"
    }
   ],
   "source": [
    "sns.boxplot(x=sentiment_df['Keyword'], y=sentiment_df['Polarity'])\n",
    "plt.title(\"Boxplot of sentiment polarities per keyword\")\n",
    "plt.show()"
   ]
  },
  {
   "cell_type": "markdown",
   "metadata": {},
   "source": [
    "## Implementing machine learning algorithms"
   ]
  },
  {
   "cell_type": "code",
   "execution_count": 73,
   "metadata": {
    "ExecuteTime": {
     "end_time": "2019-10-15T08:37:21.161385Z",
     "start_time": "2019-10-15T08:37:21.154939Z"
    }
   },
   "outputs": [],
   "source": [
    "from sklearn.feature_extraction.text import TfidfTransformer\n",
    "from sklearn.feature_extraction.text import CountVectorizer\n",
    "from sklearn.decomposition import PCA\n",
    "from sklearn.pipeline import Pipeline\n",
    "from sklearn.model_selection import GridSearchCV\n",
    "from sklearn.model_selection import RandomizedSearchCV\n",
    "from sklearn.metrics import classification_report, confusion_matrix, accuracy_score\n",
    "import nltk\n",
    "from nltk.stem import PorterStemmer\n",
    "from yellowbrick.classifier import ClassPredictionError\n",
    "from yellowbrick.classifier import ConfusionMatrix\n",
    "from yellowbrick.classifier import ClassificationReport"
   ]
  },
  {
   "cell_type": "markdown",
   "metadata": {},
   "source": [
    "### Divide into training and test sets"
   ]
  },
  {
   "cell_type": "code",
   "execution_count": 36,
   "metadata": {
    "ExecuteTime": {
     "end_time": "2019-10-15T08:37:22.190191Z",
     "start_time": "2019-10-15T08:37:22.181260Z"
    }
   },
   "outputs": [
    {
     "name": "stdout",
     "output_type": "stream",
     "text": [
      "2578\n",
      "645\n"
     ]
    }
   ],
   "source": [
    "from sklearn.model_selection import train_test_split\n",
    "\n",
    "# Extract features from df\n",
    "features = sentiment_df[\"Tweet\"]\n",
    "\n",
    "# Extract labels from df\n",
    "labels = sentiment_df[\"Sentiment\"]\n",
    "\n",
    "X_train, X_test, y_train, y_test = train_test_split(features,\n",
    "                                                    labels, test_size=0.2,\n",
    "                                                    random_state=1)\n",
    "\n",
    "print(len(X_train))\n",
    "print(len(X_test))"
   ]
  },
  {
   "cell_type": "markdown",
   "metadata": {},
   "source": [
    "### Preparing pipeline variables"
   ]
  },
  {
   "cell_type": "code",
   "execution_count": 37,
   "metadata": {
    "ExecuteTime": {
     "end_time": "2019-10-15T08:37:29.428395Z",
     "start_time": "2019-10-15T08:37:29.421450Z"
    }
   },
   "outputs": [],
   "source": [
    "count_vec = CountVectorizer(strip_accents=None, lowercase=False, \n",
    "                            preprocessor = None)\n",
    "tfidf = TfidfTransformer()\n",
    "\n",
    "def tokenizer(text):\n",
    "    return text.split()\n",
    "\n",
    "porter = PorterStemmer()\n",
    "def tokenizer_porter(text):\n",
    "    return [porter.stem(word) for word in text.split()]"
   ]
  },
  {
   "cell_type": "markdown",
   "metadata": {},
   "source": [
    "### Implementing Multinomial Naive Bayes"
   ]
  },
  {
   "cell_type": "code",
   "execution_count": 38,
   "metadata": {
    "ExecuteTime": {
     "end_time": "2019-10-15T08:42:27.714496Z",
     "start_time": "2019-10-15T08:42:27.710528Z"
    }
   },
   "outputs": [],
   "source": [
    "from sklearn.naive_bayes import MultinomialNB"
   ]
  },
  {
   "cell_type": "code",
   "execution_count": 39,
   "metadata": {
    "ExecuteTime": {
     "end_time": "2019-10-15T08:45:49.701272Z",
     "start_time": "2019-10-15T08:42:28.563613Z"
    }
   },
   "outputs": [
    {
     "name": "stdout",
     "output_type": "stream",
     "text": [
      "Fitting 9 folds for each of 80 candidates, totalling 720 fits\n"
     ]
    },
    {
     "name": "stderr",
     "output_type": "stream",
     "text": [
      "[Parallel(n_jobs=-1)]: Using backend LokyBackend with 4 concurrent workers.\n",
      "[Parallel(n_jobs=-1)]: Done  42 tasks      | elapsed:   50.3s\n",
      "[Parallel(n_jobs=-1)]: Done 192 tasks      | elapsed:  2.3min\n",
      "[Parallel(n_jobs=-1)]: Done 442 tasks      | elapsed:  4.3min\n",
      "[Parallel(n_jobs=-1)]: Done 720 out of 720 | elapsed:  6.6min finished\n"
     ]
    },
    {
     "name": "stdout",
     "output_type": "stream",
     "text": [
      "\n"
     ]
    }
   ],
   "source": [
    "mnb_pipeline = Pipeline([('vect', count_vec), ('tfidf', tfidf), \n",
    "                         ('clf', MultinomialNB())])\n",
    "\n",
    "param_grid_mnb = {\n",
    "                  'vect__ngram_range': [(1,1), (1,2), (1,3)],\n",
    "                  'vect__tokenizer': [tokenizer, tokenizer_porter],\n",
    "    \n",
    "                  'tfidf__use_idf': [True, False],\n",
    "                  'tfidf__norm': ['l1', 'l2'],\n",
    "    \n",
    "                  'clf__alpha': [0.0001, 0.001, 0.01, 0.1, 1.0, 10.0, 100.0],\n",
    "                  'clf__fit_prior': [True, False]\n",
    "                 }\n",
    "grid_mnb = RandomizedSearchCV(mnb_pipeline, param_grid_mnb, n_iter=80,\n",
    "                              cv=9, verbose=1, n_jobs=-1, scoring='accuracy')\n",
    "grid_mnb.fit(X_train, y_train)\n",
    "print()"
   ]
  },
  {
   "cell_type": "code",
   "execution_count": 55,
   "metadata": {
    "ExecuteTime": {
     "end_time": "2019-10-15T08:48:05.421020Z",
     "start_time": "2019-10-15T08:48:05.416062Z"
    }
   },
   "outputs": [
    {
     "name": "stdout",
     "output_type": "stream",
     "text": [
      "{'vect__tokenizer': <function tokenizer_porter at 0x0000024296BA72F0>, 'vect__ngram_range': (1, 1), 'tfidf__use_idf': False, 'tfidf__norm': 'l2', 'clf__fit_prior': False, 'clf__alpha': 0.1}\n"
     ]
    }
   ],
   "source": [
    "print(grid_mnb.best_params_)"
   ]
  },
  {
   "cell_type": "code",
   "execution_count": 153,
   "metadata": {},
   "outputs": [
    {
     "name": "stdout",
     "output_type": "stream",
     "text": [
      "The classifier has reached an accuracy of: 71.47% \n",
      "\n"
     ]
    },
    {
     "data": {
      "image/png": "[encoded data removed]",
      "text/plain": [
       "<Figure size 576x396 with 1 Axes>"
      ]
     },
     "metadata": {},
     "output_type": "display_data"
    },
    {
     "data": {
      "image/png": "[encoded data removed]",
      "text/plain": [
       "<Figure size 576x396 with 2 Axes>"
      ]
     },
     "metadata": {},
     "output_type": "display_data"
    }
   ],
   "source": [
    "#Create classifier based on best parameters\n",
    "mnb = grid_mnb.best_estimator_\n",
    "\n",
    "#Fit the data and predict the classes\n",
    "mnb.fit(X_train, y_train)\n",
    "predictions_mnb = mnb.predict(X_test)\n",
    "\n",
    "print(\"The classifier has reached an accuracy of: {:.2f}% \\n\"\n",
    "      .format(mnb.score(X_test, y_test)*100))\n",
    "\n",
    "#Matrix that shows the true and false predictions per class\n",
    "cm_mnb = ConfusionMatrix(model=mnb, classes=classes)\n",
    "cm_mnb.fit(X_train, y_train)\n",
    "cm_mnb.score(X_test, y_test)\n",
    "cm_mnb.show()\n",
    "\n",
    "#Report on the accuracy of the classifier\n",
    "cr_mnb = ClassificationReport(model=mnb, classes=classes, support=True)\n",
    "cr_mnb.fit(X_train, y_train)\n",
    "cr_mnb.score(X_test, y_test)\n",
    "cr_mnb.show()  \n",
    "\n",
    "plt.show()"
   ]
  },
  {
   "cell_type": "markdown",
   "metadata": {},
   "source": [
    "### Implementing Logistic regression"
   ]
  },
  {
   "cell_type": "code",
   "execution_count": 44,
   "metadata": {
    "ExecuteTime": {
     "end_time": "2019-10-14T13:29:37.222315Z",
     "start_time": "2019-10-14T13:29:37.217850Z"
    }
   },
   "outputs": [],
   "source": [
    "from sklearn.linear_model import LogisticRegression"
   ]
  },
  {
   "cell_type": "code",
   "execution_count": 45,
   "metadata": {
    "ExecuteTime": {
     "end_time": "2019-10-14T13:40:16.169261Z",
     "start_time": "2019-10-14T13:30:13.945787Z"
    }
   },
   "outputs": [
    {
     "name": "stdout",
     "output_type": "stream",
     "text": [
      "Fitting 7 folds for each of 500 candidates, totalling 3500 fits\n"
     ]
    },
    {
     "name": "stderr",
     "output_type": "stream",
     "text": [
      "[Parallel(n_jobs=-1)]: Using backend LokyBackend with 4 concurrent workers.\n",
      "[Parallel(n_jobs=-1)]: Done  42 tasks      | elapsed:    9.7s\n",
      "[Parallel(n_jobs=-1)]: Done 192 tasks      | elapsed:  1.6min\n",
      "[Parallel(n_jobs=-1)]: Done 442 tasks      | elapsed:  4.5min\n",
      "[Parallel(n_jobs=-1)]: Done 792 tasks      | elapsed:  8.3min\n",
      "[Parallel(n_jobs=-1)]: Done 1242 tasks      | elapsed: 13.2min\n",
      "[Parallel(n_jobs=-1)]: Done 1792 tasks      | elapsed: 17.9min\n",
      "[Parallel(n_jobs=-1)]: Done 2442 tasks      | elapsed: 23.8min\n",
      "[Parallel(n_jobs=-1)]: Done 3192 tasks      | elapsed: 30.1min\n",
      "[Parallel(n_jobs=-1)]: Done 3500 out of 3500 | elapsed: 32.2min finished\n"
     ]
    },
    {
     "name": "stdout",
     "output_type": "stream",
     "text": [
      "\n"
     ]
    }
   ],
   "source": [
    "import warnings\n",
    "warnings.filterwarnings('ignore')\n",
    "\n",
    "lr_pipeline = Pipeline([('vect', count_vec), ('tfidf', tfidf), \n",
    "                        ('clf', LogisticRegression(random_state=1))])\n",
    "\n",
    "param_grid_lr ={\n",
    "                'vect__ngram_range': [(1,1),(1,2)],\n",
    "                'vect__tokenizer': [tokenizer, tokenizer_porter],\n",
    "    \n",
    "                 'tfidf__use_idf': [True, False],\n",
    "                 'tfidf__norm': ['l1', 'l2'],\n",
    "    \n",
    "                'clf__dual': [True, False],\n",
    "                'clf__tol': [1e-6, 1e-5, 1e-4, 1e-3, 1e-2 ],\n",
    "                'clf__C': [0.001, 0.01, 0.1, 1, 10, 100, 1000],\n",
    "                'clf__fit_intercept': [True, False],\n",
    "                'clf__max_iter' : [100, 110, 120, 130, 140],\n",
    "                'clf__warm_start': [True, False]\n",
    "              }\n",
    "grid_lr = RandomizedSearchCV(lr_pipeline, param_grid_lr, n_iter=500,\n",
    "                             verbose=1, cv=7, n_jobs=-1, scoring='accuracy')\n",
    "grid_lr.fit(X_train, y_train)\n",
    "print()"
   ]
  },
  {
   "cell_type": "code",
   "execution_count": 46,
   "metadata": {
    "ExecuteTime": {
     "end_time": "2019-10-14T13:40:29.961909Z",
     "start_time": "2019-10-14T13:40:29.955956Z"
    }
   },
   "outputs": [
    {
     "name": "stdout",
     "output_type": "stream",
     "text": [
      "Best parameters:  {'vect__tokenizer': <function tokenizer_porter at 0x0000024296BA72F0>, 'vect__ngram_range': (1, 1), 'tfidf__use_idf': True, 'tfidf__norm': 'l2', 'clf__warm_start': False, 'clf__tol': 0.01, 'clf__max_iter': 120, 'clf__fit_intercept': False, 'clf__dual': False, 'clf__C': 100}\n"
     ]
    }
   ],
   "source": [
    "print(\"Best parameters: \", grid_lr.best_params_)"
   ]
  },
  {
   "cell_type": "code",
   "execution_count": 149,
   "metadata": {},
   "outputs": [
    {
     "name": "stdout",
     "output_type": "stream",
     "text": [
      "The classifier has reached an accuracy of: 72.71% \n",
      "\n"
     ]
    },
    {
     "data": {
      "image/png": "[encoded data removed]",
      "text/plain": [
       "<Figure size 576x396 with 1 Axes>"
      ]
     },
     "metadata": {},
     "output_type": "display_data"
    },
    {
     "data": {
      "image/png": "[encoded data removed]",
      "text/plain": [
       "<Figure size 576x396 with 2 Axes>"
      ]
     },
     "metadata": {},
     "output_type": "display_data"
    }
   ],
   "source": [
    "#Create classifier based on best parameters\n",
    "lr = grid_lr.best_estimator_\n",
    "\n",
    "#Fit the data and predict the classes\n",
    "lr.fit(X_train, y_train)\n",
    "predictions_lr = lr.predict(X_test)\n",
    "\n",
    "print(\"The classifier has reached an accuracy of: {:.2f}% \\n\"\n",
    "      .format(lr.score(X_test, y_test)*100))\n",
    "\n",
    "#Matrix that shows the true and false predictions per class\n",
    "cm_lr = ConfusionMatrix(model=lr, classes=classes)\n",
    "cm_lr.fit(X_train, y_train)\n",
    "cm_lr.score(X_test, y_test)\n",
    "cm_lr.show()\n",
    "\n",
    "#Report on the accuracy of the classifier\n",
    "cr_lr = ClassificationReport(model=lr, classes=classes, support=True)\n",
    "cr_lr.fit(X_train, y_train)\n",
    "cr_lr.score(X_test, y_test)\n",
    "cr_lr.show()  \n",
    "\n",
    "plt.show()"
   ]
  },
  {
   "cell_type": "markdown",
   "metadata": {},
   "source": [
    "### Implementing Support Vector Machine"
   ]
  },
  {
   "cell_type": "code",
   "execution_count": 49,
   "metadata": {
    "ExecuteTime": {
     "end_time": "2019-10-15T08:40:35.452418Z",
     "start_time": "2019-10-15T08:40:35.447953Z"
    }
   },
   "outputs": [],
   "source": [
    "from sklearn.svm import SVC"
   ]
  },
  {
   "cell_type": "code",
   "execution_count": 50,
   "metadata": {
    "ExecuteTime": {
     "end_time": "2019-10-15T08:40:36.328709Z",
     "start_time": "2019-10-15T08:40:36.308868Z"
    }
   },
   "outputs": [
    {
     "name": "stdout",
     "output_type": "stream",
     "text": [
      "Fitting 7 folds for each of 80 candidates, totalling 560 fits\n"
     ]
    },
    {
     "name": "stderr",
     "output_type": "stream",
     "text": [
      "[Parallel(n_jobs=-1)]: Using backend LokyBackend with 4 concurrent workers.\n",
      "[Parallel(n_jobs=-1)]: Done  42 tasks      | elapsed:  1.2min\n",
      "[Parallel(n_jobs=-1)]: Done 192 tasks      | elapsed:  4.6min\n",
      "[Parallel(n_jobs=-1)]: Done 442 tasks      | elapsed: 10.4min\n",
      "[Parallel(n_jobs=-1)]: Done 560 out of 560 | elapsed: 13.3min finished\n"
     ]
    },
    {
     "name": "stdout",
     "output_type": "stream",
     "text": [
      "\n"
     ]
    }
   ],
   "source": [
    "svc_pipeline = Pipeline([('vect', count_vec), ('tfidf', tfidf),\n",
    "                         ('clf', SVC(random_state=1))])\n",
    "\n",
    "param_grid_svm = {\n",
    "                  'vect__ngram_range': [(1,1),(1,2)],\n",
    "                  'vect__tokenizer': [tokenizer, tokenizer_porter],\n",
    "    \n",
    "                  'tfidf__use_idf': [True, False],\n",
    "                  'tfidf__norm': ['l1', 'l2'],                  \n",
    "    \n",
    "                  'clf__C': [0.1, 1, 10, 100],\n",
    "                  'clf__kernel': ['linear', 'rbf', 'poly'],\n",
    "                  'clf__gamma': [0.1, 1, 10, 100],\n",
    "                  'clf__degree': [0, 1, 2, 3, 4, 5, 6]\n",
    "                 }\n",
    "\n",
    "grid_svc = RandomizedSearchCV(svc_pipeline, param_grid_svm, n_iter=80, \n",
    "                              cv=7, verbose=1, n_jobs=-1, scoring='accuracy')\n",
    "grid_svc.fit(X_train, y_train)\n",
    "print()"
   ]
  },
  {
   "cell_type": "code",
   "execution_count": 53,
   "metadata": {
    "ExecuteTime": {
     "end_time": "2019-10-14T14:26:37.291804Z",
     "start_time": "2019-10-14T14:26:37.287340Z"
    }
   },
   "outputs": [
    {
     "name": "stdout",
     "output_type": "stream",
     "text": [
      "Best parameters:  {'vect__tokenizer': <function tokenizer_porter at 0x0000024296BA72F0>, 'vect__ngram_range': (1, 1), 'tfidf__use_idf': True, 'tfidf__norm': 'l1', 'clf__kernel': 'rbf', 'clf__gamma': 1, 'clf__degree': 6, 'clf__C': 10}\n"
     ]
    }
   ],
   "source": [
    "print(\"Best parameters: \", grid_svc.best_params_)"
   ]
  },
  {
   "cell_type": "code",
   "execution_count": 150,
   "metadata": {},
   "outputs": [
    {
     "name": "stdout",
     "output_type": "stream",
     "text": [
      "The classifier has reached an accuracy of: 70.23% \n",
      "\n"
     ]
    },
    {
     "data": {
      "image/png": "[encoded data removed]",
      "text/plain": [
       "<Figure size 576x396 with 1 Axes>"
      ]
     },
     "metadata": {},
     "output_type": "display_data"
    },
    {
     "data": {
      "image/png": "[encoded data removed]",
      "text/plain": [
       "<Figure size 576x396 with 2 Axes>"
      ]
     },
     "metadata": {},
     "output_type": "display_data"
    }
   ],
   "source": [
    "#Create classifier based on best parameters\n",
    "svm = grid_svc.best_estimator_\n",
    "\n",
    "#Fit the data and predict the classes\n",
    "svm_fit = svm.fit(X_train, y_train)\n",
    "predictions_svm = svm.predict(X_test)\n",
    "\n",
    "print(\"The classifier has reached an accuracy of: {:.2f}% \\n\"\n",
    "      .format(svm.score(X_test, y_test)*100))\n",
    "\n",
    "#Matrix that shows the true and false predictions per class\n",
    "cm_svm = ConfusionMatrix(model=svm, classes=classes)\n",
    "cm_svm.fit(X_train, y_train)\n",
    "cm_svm.score(X_test, y_test)\n",
    "cm_svm.show()\n",
    "\n",
    "#Report on the accuracy of the classifier\n",
    "cr_svm = ClassificationReport(model=svm, classes=classes, support=True)\n",
    "cr_svm.fit(X_train, y_train)\n",
    "cr_svm.score(X_test, y_test)\n",
    "cr_svm.show()  \n",
    "\n",
    "plt.show()"
   ]
  },
  {
   "cell_type": "markdown",
   "metadata": {},
   "source": [
    "### Implementing Random Forest"
   ]
  },
  {
   "cell_type": "code",
   "execution_count": 66,
   "metadata": {
    "ExecuteTime": {
     "end_time": "2019-10-14T13:41:37.673843Z",
     "start_time": "2019-10-14T13:41:37.393165Z"
    }
   },
   "outputs": [],
   "source": [
    "from sklearn.ensemble import RandomForestClassifier"
   ]
  },
  {
   "cell_type": "code",
   "execution_count": 67,
   "metadata": {
    "ExecuteTime": {
     "end_time": "2019-10-14T14:19:49.583603Z",
     "start_time": "2019-10-14T14:08:04.705991Z"
    }
   },
   "outputs": [
    {
     "name": "stdout",
     "output_type": "stream",
     "text": [
      "Fitting 7 folds for each of 250 candidates, totalling 1750 fits\n"
     ]
    },
    {
     "name": "stderr",
     "output_type": "stream",
     "text": [
      "[Parallel(n_jobs=-1)]: Using backend LokyBackend with 4 concurrent workers.\n",
      "[Parallel(n_jobs=-1)]: Done  42 tasks      | elapsed:  1.5min\n",
      "[Parallel(n_jobs=-1)]: Done 192 tasks      | elapsed:  8.4min\n",
      "[Parallel(n_jobs=-1)]: Done 442 tasks      | elapsed: 20.8min\n",
      "[Parallel(n_jobs=-1)]: Done 792 tasks      | elapsed: 38.4min\n",
      "[Parallel(n_jobs=-1)]: Done 1242 tasks      | elapsed: 57.5min\n",
      "[Parallel(n_jobs=-1)]: Done 1750 out of 1750 | elapsed: 83.2min finished\n"
     ]
    },
    {
     "name": "stdout",
     "output_type": "stream",
     "text": [
      "\n"
     ]
    }
   ],
   "source": [
    "rf_pipeline = Pipeline([('vect', count_vec), ('tfidf', tfidf), \n",
    "                        ('clf', RandomForestClassifier(random_state=1))])\n",
    "\n",
    "param_grid_rf = {\n",
    "                 'vect__ngram_range': [(1,1),(1,2), (1,3)],\n",
    "                 'vect__tokenizer': [tokenizer, tokenizer_porter],\n",
    "    \n",
    "                 'tfidf__use_idf': [True, False],\n",
    "                 'tfidf__norm': ['l1', 'l2'],                  \n",
    "    \n",
    "                 'clf__n_estimators': [500, 750, 1000, 1500],\n",
    "                 'clf__max_features': ['auto', 'sqrt'],\n",
    "                 'clf__max_depth': np.linspace(1, 64, 32, endpoint=True),\n",
    "                 'clf__min_samples_split': [2, 5, 10],\n",
    "                 'clf__min_samples_leaf': [1, 2, 4],\n",
    "                 'clf__bootstrap': [True, False]\n",
    "                }\n",
    "\n",
    "grid_rf = RandomizedSearchCV(rf_pipeline, param_grid_rf,\n",
    "                             cv=7, n_iter=250 , verbose=1, n_jobs=-1, \n",
    "                             scoring='accuracy')\n",
    "\n",
    "grid_rf.fit(X_train, y_train)\n",
    "print()"
   ]
  },
  {
   "cell_type": "code",
   "execution_count": 68,
   "metadata": {
    "ExecuteTime": {
     "end_time": "2019-10-14T14:19:49.797381Z",
     "start_time": "2019-10-14T14:19:49.792420Z"
    }
   },
   "outputs": [
    {
     "name": "stdout",
     "output_type": "stream",
     "text": [
      "{'vect__tokenizer': <function tokenizer_porter at 0x0000024296BA72F0>, 'vect__ngram_range': (1, 1), 'tfidf__use_idf': True, 'tfidf__norm': 'l1', 'clf__n_estimators': 750, 'clf__min_samples_split': 5, 'clf__min_samples_leaf': 1, 'clf__max_features': 'sqrt', 'clf__max_depth': 59.935483870967744, 'clf__bootstrap': False}\n"
     ]
    }
   ],
   "source": [
    "print(grid_rf.best_params_)"
   ]
  },
  {
   "cell_type": "code",
   "execution_count": 152,
   "metadata": {},
   "outputs": [
    {
     "name": "stdout",
     "output_type": "stream",
     "text": [
      "The classifier has reached an accuracy of: 68.37% \n",
      "\n"
     ]
    },
    {
     "data": {
      "image/png": "[encoded data removed]",
      "text/plain": [
       "<Figure size 576x396 with 1 Axes>"
      ]
     },
     "metadata": {},
     "output_type": "display_data"
    },
    {
     "data": {
      "image/png": "[encoded data removed]",
      "text/plain": [
       "<Figure size 576x396 with 2 Axes>"
      ]
     },
     "metadata": {},
     "output_type": "display_data"
    }
   ],
   "source": [
    "#Create classifier based on best parameters\n",
    "rf = grid_rf.best_estimator_\n",
    "\n",
    "#Fit the data and predict the classes\n",
    "rf.fit(X_train, y_train)\n",
    "predictions_rf = rf.predict(X_test)\n",
    "\n",
    "print(\"The classifier has reached an accuracy of: {:.2f}% \\n\"\n",
    "      .format(rf.score(X_test, y_test)*100))\n",
    "\n",
    "#Matrix that shows the true and false predictions per class\n",
    "cm_rf = ConfusionMatrix(model=rf, classes=classes)\n",
    "cm_rf.fit(X_train, y_train)\n",
    "cm_rf.score(X_test, y_test)\n",
    "cm_rf.show()\n",
    "\n",
    "#Report on the accuracy of the classifier\n",
    "cr_rf = ClassificationReport(model=rf, classes=classes, support=True)\n",
    "cr_rf.fit(X_train, y_train)\n",
    "cr_rf.score(X_test, y_test)\n",
    "cr_rf.show()  \n",
    "\n",
    "plt.show()"
   ]
  }
 ],
 "metadata": {
  "kernelspec": {
   "display_name": "Python 3",
   "language": "python",
   "name": "python3"
  },
  "language_info": {
   "codemirror_mode": {
    "name": "ipython",
    "version": 3
   },
   "file_extension": ".py",
   "mimetype": "text/x-python",
   "name": "python",
   "nbconvert_exporter": "python",
   "pygments_lexer": "ipython3",
   "version": "3.7.3"
  },
  "toc": {
   "base_numbering": 1,
   "nav_menu": {},
   "number_sections": true,
   "sideBar": true,
   "skip_h1_title": false,
   "title_cell": "Table of Contents",
   "title_sidebar": "Contents",
   "toc_cell": false,
   "toc_position": {
    "height": "calc(100% - 180px)",
    "left": "10px",
    "top": "150px",
    "width": "290.6px"
   },
   "toc_section_display": true,
   "toc_window_display": false
  },
  "toc-autonumbering": true,
  "toc-showtags": false,
  "varInspector": {
   "cols": {
    "lenName": 16,
    "lenType": 16,
    "lenVar": 40
   },
   "kernels_config": {
    "python": {
     "delete_cmd_postfix": "",
     "delete_cmd_prefix": "del ",
     "library": "var_list.py",
     "varRefreshCmd": "print(var_dic_list())"
    },
    "r": {
     "delete_cmd_postfix": ") ",
     "delete_cmd_prefix": "rm(",
     "library": "var_list.r",
     "varRefreshCmd": "cat(var_dic_list()) "
    }
   },
   "position": {
    "height": "478.8px",
    "left": "1175.6px",
    "right": "20px",
    "top": "124px",
    "width": "341.4px"
   },
   "types_to_exclude": [
    "module",
    "function",
    "builtin_function_or_method",
    "instance",
    "_Feature"
   ],
   "window_display": false
  }
 },
 "nbformat": 4,
 "nbformat_minor": 4
}
