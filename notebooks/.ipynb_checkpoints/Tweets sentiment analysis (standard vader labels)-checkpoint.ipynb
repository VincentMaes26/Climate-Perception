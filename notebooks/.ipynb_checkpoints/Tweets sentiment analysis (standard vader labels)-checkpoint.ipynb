{
 "cells": [
  {
   "cell_type": "markdown",
   "metadata": {},
   "source": [
    "# Tweet sentiment analysis"
   ]
  },
  {
   "cell_type": "code",
   "execution_count": 1,
   "metadata": {
    "ExecuteTime": {
     "end_time": "2019-10-08T12:46:43.562044Z",
     "start_time": "2019-10-08T12:46:39.049615Z"
    }
   },
   "outputs": [],
   "source": [
    "import numpy as np\n",
    "import pandas as pd\n",
    "import matplotlib.pyplot as plt\n",
    "import matplotlib.ticker as ticker\n",
    "import seaborn as sns\n",
    "import datetime"
   ]
  },
  {
   "cell_type": "markdown",
   "metadata": {},
   "source": [
    "## Get dataframe from csv file"
   ]
  },
  {
   "cell_type": "code",
   "execution_count": 2,
   "metadata": {
    "ExecuteTime": {
     "end_time": "2019-10-08T12:46:43.618628Z",
     "start_time": "2019-10-08T12:46:43.572812Z"
    }
   },
   "outputs": [],
   "source": [
    "# Read CSV file\n",
    "tweets_today = pd.read_csv(r\"..\\datasets\\raw_data\\tweets{}.csv\".format(datetime.date.today()))\n",
    "#tweets_today = pd.read_csv(r\"..\\datasets\\tweets2019-09-24.csv\")\n",
    "tweets_today = tweets_today.head(5000)\n",
    "# Gets tweet texts\n",
    "tweets_today_text = tweets_today[\"tweet\"]"
   ]
  },
  {
   "cell_type": "markdown",
   "metadata": {},
   "source": [
    "## Data cleaning"
   ]
  },
  {
   "cell_type": "code",
   "execution_count": 3,
   "metadata": {
    "ExecuteTime": {
     "end_time": "2019-10-08T12:46:43.662256Z",
     "start_time": "2019-10-08T12:46:43.639936Z"
    }
   },
   "outputs": [],
   "source": [
    "# Preprocessing of tweet texts\n",
    "def format_tweet(tweet):\n",
    "    processed_tweet=\"\"\n",
    "    for word in tweet.full_text.split():\n",
    "        # Removing URL from tweet\n",
    "        processed_word = re.sub(r'([^0-9A-Za-z \\t])|(\\w+:\\/\\/\\S+)', ' ', word)\n",
    "        \n",
    "        # Remove all the special characters\n",
    "        #processed_word = re.sub(r'\\W', '', processed_word)\n",
    "        # remove all single characters\n",
    "        processed_word = re.sub(r'\\s+[a-zA-Z]\\s+', ' ', processed_word)\n",
    "        # Remove single characters from the start\n",
    "        processed_word = re.sub(r'\\^[a-zA-Z]\\s+', ' ', processed_word) \n",
    "        # Substituting multiple spaces with single space\n",
    "        processed_word = re.sub(r'\\s+', '', processed_word, flags=re.I)\n",
    "        # Removing prefixed 'b'\n",
    "        processed_word = re.sub(r'^b\\s+', ' ', processed_word)\n",
    "        # Removing &amp\n",
    "        processed_word = re.sub(r'&amp', '&', processed_word)\n",
    "        # Converting to Lowercase\n",
    "        processed_word = processed_word.lower()\n",
    "        processed_tweet= processed_tweet+\" \"+processed_word\n",
    "        return processed_tweet\n",
    "            \n",
    "    else:\n",
    "        return\n",
    "    \n",
    "    tweets_today_text = [format_tweet(tweet) for tweet in tweets_today_text]\n",
    "    tweets_today_text = list(filter(None, tweets_today_text))\n",
    "    \n"
   ]
  },
  {
   "cell_type": "markdown",
   "metadata": {},
   "source": [
    "## Labeling tweets with NLTK vader"
   ]
  },
  {
   "cell_type": "code",
   "execution_count": 4,
   "metadata": {
    "ExecuteTime": {
     "end_time": "2019-10-08T12:46:45.992743Z",
     "start_time": "2019-10-08T12:46:43.684081Z"
    }
   },
   "outputs": [
    {
     "name": "stderr",
     "output_type": "stream",
     "text": [
      "[nltk_data] Downloading package vader_lexicon to\n",
      "[nltk_data]     C:\\Users\\ViMs\\AppData\\Roaming\\nltk_data...\n",
      "[nltk_data]   Package vader_lexicon is already up-to-date!\n"
     ]
    },
    {
     "data": {
      "text/plain": [
       "True"
      ]
     },
     "execution_count": 4,
     "metadata": {},
     "output_type": "execute_result"
    }
   ],
   "source": [
    "import nltk\n",
    "from nltk.sentiment.vader import SentimentIntensityAnalyzer\n",
    "nltk.download('vader_lexicon')"
   ]
  },
  {
   "cell_type": "code",
   "execution_count": 5,
   "metadata": {
    "ExecuteTime": {
     "end_time": "2019-10-08T12:46:46.078809Z",
     "start_time": "2019-10-08T12:46:46.023991Z"
    }
   },
   "outputs": [
    {
     "name": "stdout",
     "output_type": "stream",
     "text": [
      "(Source, among others: “It may not come as a surprise that the largest industrial military in the history of the world is also the single biggest polluter on the planet.” https://t.co/Zac0fMplAm): \n",
      "{'neg': 0.141, 'neu': 0.859, 'pos': 0.0, 'compound': -0.5594}\n",
      "\n",
      "\n",
      "@piersmorgan A snowflake such as yourself should be very worried about global warming and rain.: \n",
      "{'neg': 0.155, 'neu': 0.746, 'pos': 0.099, 'compound': -0.2247}\n",
      "\n",
      "\n",
      "There are words that have two different and opposite meanings.  This reminds me of climate change and Yom Kippur. #tftd #r4today: \n",
      "{'neg': 0.0, 'neu': 1.0, 'pos': 0.0, 'compound': 0.0}\n",
      "\n",
      "\n",
      "@StrangeRichard Yeah coz nobody ever heard of climate change before the girl whose childhood was stolen ( never explained ) or ER: \n",
      "{'neg': 0.137, 'neu': 0.769, 'pos': 0.094, 'compound': -0.25}\n",
      "\n",
      "\n",
      "“Judges are bound by precedence, but they cannot ignore cultural change. A court ought not be affected by the weather of the day, but will be by the climate of the era.” \n",
      "\n",
      "Today’s another day to continue our fight for human rights: \n",
      "{'neg': 0.074, 'neu': 0.831, 'pos': 0.095, 'compound': -0.0178}\n",
      "\n",
      "\n"
     ]
    }
   ],
   "source": [
    "sid = SentimentIntensityAnalyzer()\n",
    "\n",
    "for tweet in tweets_today_text[:5]:\n",
    "    print(\"{0}: \\n{1}\\n\\n\".format(tweet, sid.polarity_scores(tweet)))"
   ]
  },
  {
   "cell_type": "code",
   "execution_count": 6,
   "metadata": {
    "ExecuteTime": {
     "end_time": "2019-10-08T12:46:47.560368Z",
     "start_time": "2019-10-08T12:46:46.098161Z"
    }
   },
   "outputs": [
    {
     "data": {
      "text/html": [
       "<div>\n",
       "<style scoped>\n",
       "    .dataframe tbody tr th:only-of-type {\n",
       "        vertical-align: middle;\n",
       "    }\n",
       "\n",
       "    .dataframe tbody tr th {\n",
       "        vertical-align: top;\n",
       "    }\n",
       "\n",
       "    .dataframe thead th {\n",
       "        text-align: right;\n",
       "    }\n",
       "</style>\n",
       "<table border=\"1\" class=\"dataframe\">\n",
       "  <thead>\n",
       "    <tr style=\"text-align: right;\">\n",
       "      <th></th>\n",
       "      <th>Sentiment</th>\n",
       "      <th>Polarity</th>\n",
       "      <th>Tweet</th>\n",
       "      <th>Username</th>\n",
       "      <th>Creation Date</th>\n",
       "    </tr>\n",
       "  </thead>\n",
       "  <tbody>\n",
       "    <tr>\n",
       "      <th>4323</th>\n",
       "      <td>positive</td>\n",
       "      <td>0.89</td>\n",
       "      <td>@jojojoheeley @standardnews I know some of the...</td>\n",
       "      <td>Darren Moore 💚</td>\n",
       "      <td>2019-10-08 09:21:11</td>\n",
       "    </tr>\n",
       "    <tr>\n",
       "      <th>4324</th>\n",
       "      <td>negative</td>\n",
       "      <td>-0.18</td>\n",
       "      <td>@Daisydewdrop18 @HMS_Indomitable @tomhfh What ...</td>\n",
       "      <td>Ray D O'Lisner</td>\n",
       "      <td>2019-10-08 09:21:08</td>\n",
       "    </tr>\n",
       "    <tr>\n",
       "      <th>4325</th>\n",
       "      <td>neutral</td>\n",
       "      <td>0.00</td>\n",
       "      <td>NEWS: A German icebreaker has set sail for a g...</td>\n",
       "      <td>Meteorological Technology World Expo</td>\n",
       "      <td>2019-10-08 09:21:07</td>\n",
       "    </tr>\n",
       "    <tr>\n",
       "      <th>4326</th>\n",
       "      <td>negative</td>\n",
       "      <td>-0.78</td>\n",
       "      <td>Hmmmm, life vs death.  Well, if it is going to...</td>\n",
       "      <td>Bitterbek.co.za</td>\n",
       "      <td>2019-10-08 09:21:00</td>\n",
       "    </tr>\n",
       "    <tr>\n",
       "      <th>4327</th>\n",
       "      <td>positive</td>\n",
       "      <td>0.34</td>\n",
       "      <td>Yes that was good buy MAY was so annoying and ...</td>\n",
       "      <td>Scott</td>\n",
       "      <td>2019-10-08 09:21:00</td>\n",
       "    </tr>\n",
       "    <tr>\n",
       "      <th>4328</th>\n",
       "      <td>negative</td>\n",
       "      <td>-0.68</td>\n",
       "      <td>@TheRealKeean Trudeau is a poster child for th...</td>\n",
       "      <td>Izhar Perlman</td>\n",
       "      <td>2019-10-08 09:20:59</td>\n",
       "    </tr>\n",
       "    <tr>\n",
       "      <th>4329</th>\n",
       "      <td>negative</td>\n",
       "      <td>-0.43</td>\n",
       "      <td>I think we need climate change action, and I f...</td>\n",
       "      <td>Xexa</td>\n",
       "      <td>2019-10-08 09:20:57</td>\n",
       "    </tr>\n",
       "    <tr>\n",
       "      <th>4330</th>\n",
       "      <td>positive</td>\n",
       "      <td>0.95</td>\n",
       "      <td>This week we are thinking about Climate Change...</td>\n",
       "      <td>St_Denis_Eco</td>\n",
       "      <td>2019-10-08 09:20:53</td>\n",
       "    </tr>\n",
       "    <tr>\n",
       "      <th>4331</th>\n",
       "      <td>negative</td>\n",
       "      <td>-0.53</td>\n",
       "      <td>@ClaretPaul26 @georgefwoods Ok fair enough you...</td>\n",
       "      <td>XRJedi</td>\n",
       "      <td>2019-10-08 09:20:52</td>\n",
       "    </tr>\n",
       "    <tr>\n",
       "      <th>4332</th>\n",
       "      <td>positive</td>\n",
       "      <td>0.15</td>\n",
       "      <td>Just listened to @AlanJones spiel on #Jonesand...</td>\n",
       "      <td>mark thomas brennan</td>\n",
       "      <td>2019-10-08 09:20:51</td>\n",
       "    </tr>\n",
       "    <tr>\n",
       "      <th>4333</th>\n",
       "      <td>negative</td>\n",
       "      <td>-0.57</td>\n",
       "      <td>@Ravenser The Earth is CARBON INSUFFICIENT. Cl...</td>\n",
       "      <td>⭐️⭐️⭐️Agree to Disagree⭐️⭐️⭐️ (AKA Albion Mantra)</td>\n",
       "      <td>2019-10-08 09:20:49</td>\n",
       "    </tr>\n",
       "    <tr>\n",
       "      <th>4334</th>\n",
       "      <td>negative</td>\n",
       "      <td>-0.42</td>\n",
       "      <td>BOE to stress test its financial system agains...</td>\n",
       "      <td>Reuters Top News</td>\n",
       "      <td>2019-10-08 09:20:47</td>\n",
       "    </tr>\n",
       "    <tr>\n",
       "      <th>4335</th>\n",
       "      <td>negative</td>\n",
       "      <td>-0.73</td>\n",
       "      <td>@ItsAnkolika No doubt the climate change is re...</td>\n",
       "      <td>Saravana</td>\n",
       "      <td>2019-10-08 09:20:45</td>\n",
       "    </tr>\n",
       "    <tr>\n",
       "      <th>4336</th>\n",
       "      <td>positive</td>\n",
       "      <td>0.56</td>\n",
       "      <td>@Simon31245554 @darcianflux @skimmbo @MarkFran...</td>\n",
       "      <td>Susan Harris</td>\n",
       "      <td>2019-10-08 09:20:45</td>\n",
       "    </tr>\n",
       "    <tr>\n",
       "      <th>4337</th>\n",
       "      <td>negative</td>\n",
       "      <td>-0.48</td>\n",
       "      <td>@implausibleblog @rachaelvenables Wait until c...</td>\n",
       "      <td>AndyS</td>\n",
       "      <td>2019-10-08 09:20:45</td>\n",
       "    </tr>\n",
       "    <tr>\n",
       "      <th>4338</th>\n",
       "      <td>positive</td>\n",
       "      <td>0.36</td>\n",
       "      <td>@Rajani_Weather Hyderabad is seeing Mumbai lik...</td>\n",
       "      <td>Frustitute 2.0</td>\n",
       "      <td>2019-10-08 09:20:43</td>\n",
       "    </tr>\n",
       "    <tr>\n",
       "      <th>4339</th>\n",
       "      <td>negative</td>\n",
       "      <td>-0.62</td>\n",
       "      <td>bro stop talking about climate change ur scari...</td>\n",
       "      <td>zach</td>\n",
       "      <td>2019-10-08 09:20:34</td>\n",
       "    </tr>\n",
       "    <tr>\n",
       "      <th>4340</th>\n",
       "      <td>negative</td>\n",
       "      <td>-0.27</td>\n",
       "      <td>@_WhyzGuy_ Teachers, police officers, politici...</td>\n",
       "      <td>T.M.N</td>\n",
       "      <td>2019-10-08 09:20:34</td>\n",
       "    </tr>\n",
       "    <tr>\n",
       "      <th>4341</th>\n",
       "      <td>negative</td>\n",
       "      <td>-0.15</td>\n",
       "      <td>If you can, get out and join climate protester...</td>\n",
       "      <td>Polly Toynbee</td>\n",
       "      <td>2019-10-08 09:20:31</td>\n",
       "    </tr>\n",
       "    <tr>\n",
       "      <th>4342</th>\n",
       "      <td>neutral</td>\n",
       "      <td>0.00</td>\n",
       "      <td>@abcnews @fitzhunter @PatsKarvelas Says @fitzh...</td>\n",
       "      <td>💧keith dwyer</td>\n",
       "      <td>2019-10-08 09:20:25</td>\n",
       "    </tr>\n",
       "  </tbody>\n",
       "</table>\n",
       "</div>"
      ],
      "text/plain": [
       "     Sentiment  Polarity                                              Tweet  \\\n",
       "4323  positive      0.89  @jojojoheeley @standardnews I know some of the...   \n",
       "4324  negative     -0.18  @Daisydewdrop18 @HMS_Indomitable @tomhfh What ...   \n",
       "4325   neutral      0.00  NEWS: A German icebreaker has set sail for a g...   \n",
       "4326  negative     -0.78  Hmmmm, life vs death.  Well, if it is going to...   \n",
       "4327  positive      0.34  Yes that was good buy MAY was so annoying and ...   \n",
       "4328  negative     -0.68  @TheRealKeean Trudeau is a poster child for th...   \n",
       "4329  negative     -0.43  I think we need climate change action, and I f...   \n",
       "4330  positive      0.95  This week we are thinking about Climate Change...   \n",
       "4331  negative     -0.53  @ClaretPaul26 @georgefwoods Ok fair enough you...   \n",
       "4332  positive      0.15  Just listened to @AlanJones spiel on #Jonesand...   \n",
       "4333  negative     -0.57  @Ravenser The Earth is CARBON INSUFFICIENT. Cl...   \n",
       "4334  negative     -0.42  BOE to stress test its financial system agains...   \n",
       "4335  negative     -0.73  @ItsAnkolika No doubt the climate change is re...   \n",
       "4336  positive      0.56  @Simon31245554 @darcianflux @skimmbo @MarkFran...   \n",
       "4337  negative     -0.48  @implausibleblog @rachaelvenables Wait until c...   \n",
       "4338  positive      0.36  @Rajani_Weather Hyderabad is seeing Mumbai lik...   \n",
       "4339  negative     -0.62  bro stop talking about climate change ur scari...   \n",
       "4340  negative     -0.27  @_WhyzGuy_ Teachers, police officers, politici...   \n",
       "4341  negative     -0.15  If you can, get out and join climate protester...   \n",
       "4342   neutral      0.00  @abcnews @fitzhunter @PatsKarvelas Says @fitzh...   \n",
       "\n",
       "                                               Username        Creation Date  \n",
       "4323                                     Darren Moore 💚  2019-10-08 09:21:11  \n",
       "4324                                     Ray D O'Lisner  2019-10-08 09:21:08  \n",
       "4325               Meteorological Technology World Expo  2019-10-08 09:21:07  \n",
       "4326                                    Bitterbek.co.za  2019-10-08 09:21:00  \n",
       "4327                                              Scott  2019-10-08 09:21:00  \n",
       "4328                                      Izhar Perlman  2019-10-08 09:20:59  \n",
       "4329                                               Xexa  2019-10-08 09:20:57  \n",
       "4330                                       St_Denis_Eco  2019-10-08 09:20:53  \n",
       "4331                                             XRJedi  2019-10-08 09:20:52  \n",
       "4332                                mark thomas brennan  2019-10-08 09:20:51  \n",
       "4333  ⭐️⭐️⭐️Agree to Disagree⭐️⭐️⭐️ (AKA Albion Mantra)  2019-10-08 09:20:49  \n",
       "4334                                   Reuters Top News  2019-10-08 09:20:47  \n",
       "4335                                           Saravana  2019-10-08 09:20:45  \n",
       "4336                                       Susan Harris  2019-10-08 09:20:45  \n",
       "4337                                              AndyS  2019-10-08 09:20:45  \n",
       "4338                                     Frustitute 2.0  2019-10-08 09:20:43  \n",
       "4339                                               zach  2019-10-08 09:20:34  \n",
       "4340                                              T.M.N  2019-10-08 09:20:34  \n",
       "4341                                      Polly Toynbee  2019-10-08 09:20:31  \n",
       "4342                                       💧keith dwyer  2019-10-08 09:20:25  "
      ]
     },
     "execution_count": 6,
     "metadata": {},
     "output_type": "execute_result"
    }
   ],
   "source": [
    "def get_sentiment(polarity):\n",
    "    if polarity > 0:\n",
    "        return 'positive'\n",
    "    if polarity == 0:\n",
    "        return 'neutral'\n",
    "    else:\n",
    "        return 'negative'\n",
    "\n",
    "polarity_tweets = [round(sid.polarity_scores(tweet)[\"compound\"], 2)\n",
    "                   for tweet in tweets_today_text]\n",
    "sentiment_tweets = [get_sentiment(polarity) for polarity in polarity_tweets]\n",
    "zipped_list = list(zip(sentiment_tweets, polarity_tweets,\n",
    "                       tweets_today['tweet'], tweets_today['username'], tweets_today['creation date']))\n",
    "\n",
    "# Store to new dataframe\n",
    "sentiment_df = pd.DataFrame(zipped_list, columns=[\n",
    "    \"Sentiment\", \"Polarity\", \"Tweet\", \"Username\", \"Creation Date\"])\n",
    "sentiment_df.tail(20)"
   ]
  },
  {
   "cell_type": "code",
   "execution_count": 7,
   "metadata": {
    "ExecuteTime": {
     "end_time": "2019-10-08T12:46:47.751685Z",
     "start_time": "2019-10-08T12:46:47.616416Z"
    }
   },
   "outputs": [
    {
     "data": {
      "image/png": "[encoded data removed]",
      "text/plain": [
       "<Figure size 432x288 with 1 Axes>"
      ]
     },
     "metadata": {},
     "output_type": "display_data"
    },
    {
     "name": "stdout",
     "output_type": "stream",
     "text": [
      "total positive: 1743\n",
      "total neutral: 627\n",
      "total negative: 1973\n"
     ]
    }
   ],
   "source": [
    "sentiment_count = round(sentiment_df[\"Polarity\"].value_counts(), 2)\n",
    "\n",
    "sentiments = [get_sentiment(polarity)\n",
    "              for polarity in sentiment_df[\"Polarity\"]]\n",
    "\n",
    "sentiment_count_list = np.array([sentiments.count(\n",
    "    \"positive\"), sentiments.count(\"neutral\"), sentiments.count(\"negative\")])\n",
    "\n",
    "labels = [\"positive\", \"neutral\", \"negative\"]\n",
    "colors = [\"green\", \"yellow\", \"red\"]\n",
    "fig1, ax1 = plt.subplots()\n",
    "ax1.pie(sentiment_count_list, labels=labels, shadow=True,\n",
    "        autopct='%1.1f%%', startangle=90, colors=colors)\n",
    "ax1.axis('equal')\n",
    "plt.title(\"Distribution of sentiment values\")\n",
    "plt.show()\n",
    "print(\"total positive: {}\".format(sentiments.count('positive')))\n",
    "print(\"total neutral: {}\".format(sentiments.count('neutral')))\n",
    "print(\"total negative: {}\".format(sentiments.count('negative')))"
   ]
  },
  {
   "cell_type": "markdown",
   "metadata": {},
   "source": [
    "Using this nltk vader implementation for sentiment analysis, we get entirely diferent results. There are way less neutral tweets and more than half of the tweets now have a negative sentiment assigned to them"
   ]
  },
  {
   "cell_type": "code",
   "execution_count": 8,
   "metadata": {
    "ExecuteTime": {
     "end_time": "2019-10-08T12:46:47.999652Z",
     "start_time": "2019-10-08T12:46:47.814148Z"
    }
   },
   "outputs": [
    {
     "data": {
      "image/png": "[encoded data removed]",
      "text/plain": [
       "<Figure size 432x288 with 1 Axes>"
      ]
     },
     "metadata": {
      "needs_background": "light"
     },
     "output_type": "display_data"
    }
   ],
   "source": [
    "sentiment_df[\"Polarity\"].hist(bins=5)\n",
    "plt.title(\"Distribution of sentiment polarities\")\n",
    "plt.xlabel(\"Sentiment polarities\")\n",
    "plt.ylabel(\"Amount of tweets\")\n",
    "plt.show()"
   ]
  },
  {
   "cell_type": "markdown",
   "metadata": {},
   "source": [
    "## Implementing machine learning algorithms"
   ]
  },
  {
   "cell_type": "code",
   "execution_count": 9,
   "metadata": {
    "ExecuteTime": {
     "end_time": "2019-10-08T12:47:52.657010Z",
     "start_time": "2019-10-08T12:47:52.351306Z"
    }
   },
   "outputs": [
    {
     "name": "stderr",
     "output_type": "stream",
     "text": [
      "[nltk_data] Downloading package stopwords to\n",
      "[nltk_data]     C:\\Users\\ViMs\\AppData\\Roaming\\nltk_data...\n",
      "[nltk_data]   Package stopwords is already up-to-date!\n",
      "[nltk_data] Downloading package wordnet to\n",
      "[nltk_data]     C:\\Users\\ViMs\\AppData\\Roaming\\nltk_data...\n",
      "[nltk_data]   Package wordnet is already up-to-date!\n"
     ]
    },
    {
     "data": {
      "text/plain": [
       "True"
      ]
     },
     "execution_count": 9,
     "metadata": {},
     "output_type": "execute_result"
    }
   ],
   "source": [
    "from sklearn.feature_selection import chi2\n",
    "from sklearn.feature_extraction.text import TfidfVectorizer\n",
    "from sklearn.pipeline import Pipeline\n",
    "from sklearn.model_selection import GridSearchCV\n",
    "from sklearn.model_selection import RandomizedSearchCV\n",
    "from sklearn.metrics import classification_report, confusion_matrix, accuracy_score\n",
    "from nltk.stem import WordNetLemmatizer\n",
    "from nltk.corpus import stopwords\n",
    "import nltk\n",
    "nltk.download('stopwords')\n",
    "nltk.download('wordnet')"
   ]
  },
  {
   "cell_type": "markdown",
   "metadata": {},
   "source": [
    "### Preprocessing data"
   ]
  },
  {
   "cell_type": "code",
   "execution_count": 10,
   "metadata": {
    "ExecuteTime": {
     "end_time": "2019-10-08T12:48:49.814227Z",
     "start_time": "2019-10-08T12:47:56.972646Z"
    }
   },
   "outputs": [
    {
     "name": "stdout",
     "output_type": "stream",
     "text": [
      "4343\n"
     ]
    }
   ],
   "source": [
    "labels = sentiment_df[\"Sentiment\"].values\n",
    "documents = []\n",
    "stemmer = WordNetLemmatizer()\n",
    "\n",
    "def filter_stopwords(word):\n",
    "    if word in stopwords.words('english'):\n",
    "        return False\n",
    "    else:\n",
    "        return True\n",
    "\n",
    "\n",
    "# Extract tweet column from df\n",
    "sentiment_df_text = sentiment_df[\"Tweet\"]\n",
    "\n",
    "for tweet in sentiment_df_text:\n",
    "    document = tweet.split()\n",
    "    document = [stemmer.lemmatize(word) for word in document]\n",
    "    document = filter(filter_stopwords, document)\n",
    "    document = ' '.join(document)\n",
    "    documents.append(document)\n",
    "print(len(documents))"
   ]
  },
  {
   "cell_type": "markdown",
   "metadata": {},
   "source": [
    "### Vectorize words with TF-IDF + normalize features"
   ]
  },
  {
   "cell_type": "code",
   "execution_count": 12,
   "metadata": {
    "ExecuteTime": {
     "end_time": "2019-10-08T12:49:08.520547Z",
     "start_time": "2019-10-08T12:49:08.286882Z"
    }
   },
   "outputs": [
    {
     "data": {
      "text/plain": [
       "array([[0., 0., 0., ..., 0., 0., 0.],\n",
       "       [0., 0., 0., ..., 0., 0., 0.],\n",
       "       [0., 0., 0., ..., 0., 0., 0.],\n",
       "       ...,\n",
       "       [0., 0., 0., ..., 0., 0., 0.],\n",
       "       [0., 0., 0., ..., 0., 0., 0.],\n",
       "       [0., 0., 0., ..., 0., 0., 0.]])"
      ]
     },
     "execution_count": 12,
     "metadata": {},
     "output_type": "execute_result"
    }
   ],
   "source": [
    "# tfidf = term frequency, inverse document frequency ()\n",
    "vectorizer = TfidfVectorizer(max_features=3000, min_df=5, max_df=0.80)\n",
    "processed_features = vectorizer.fit_transform(documents)\n",
    "#processed_features = normalize(processed_features)\n",
    "processed_features = processed_features.toarray()\n",
    "\n",
    "feature_names = vectorizer.get_feature_names()\n",
    "\n",
    "#chi2score = chi2(x_train_tfidf, y_train)\n",
    "\n",
    "processed_features"
   ]
  },
  {
   "cell_type": "markdown",
   "metadata": {},
   "source": [
    "### Divide into training and test sets"
   ]
  },
  {
   "cell_type": "code",
   "execution_count": 13,
   "metadata": {
    "ExecuteTime": {
     "end_time": "2019-10-08T12:49:13.328502Z",
     "start_time": "2019-10-08T12:49:13.237733Z"
    }
   },
   "outputs": [
    {
     "name": "stdout",
     "output_type": "stream",
     "text": [
      "3474\n",
      "869\n"
     ]
    }
   ],
   "source": [
    "from sklearn.model_selection import train_test_split\n",
    "from sklearn.preprocessing import LabelEncoder\n",
    "\n",
    "label_encoder = LabelEncoder()\n",
    "labels = label_encoder.fit_transform(labels)\n",
    "\n",
    "X_train, X_test, y_train, y_test = train_test_split(processed_features,\n",
    "                                                    labels, test_size=0.2,\n",
    "                                                    random_state=1)\n",
    "\n",
    "print(len(X_train))\n",
    "print(len(X_test))"
   ]
  },
  {
   "cell_type": "markdown",
   "metadata": {},
   "source": [
    "### Implementing Multinomial Naive Bayes"
   ]
  },
  {
   "cell_type": "code",
   "execution_count": 15,
   "metadata": {
    "ExecuteTime": {
     "end_time": "2019-10-07T12:39:23.279143Z",
     "start_time": "2019-10-07T12:39:23.272696Z"
    }
   },
   "outputs": [],
   "source": [
    "from sklearn.naive_bayes import MultinomialNB"
   ]
  },
  {
   "cell_type": "code",
   "execution_count": 16,
   "metadata": {
    "ExecuteTime": {
     "end_time": "2019-10-07T12:39:35.869117Z",
     "start_time": "2019-10-07T12:39:23.472089Z"
    }
   },
   "outputs": [
    {
     "name": "stdout",
     "output_type": "stream",
     "text": [
      "Fitting 5 folds for each of 12 candidates, totalling 60 fits\n"
     ]
    },
    {
     "name": "stderr",
     "output_type": "stream",
     "text": [
      "[Parallel(n_jobs=-1)]: Using backend LokyBackend with 4 concurrent workers.\n",
      "[Parallel(n_jobs=-1)]: Done  33 tasks      | elapsed:    8.2s\n",
      "[Parallel(n_jobs=-1)]: Done  60 out of  60 | elapsed:   11.3s finished\n"
     ]
    },
    {
     "name": "stdout",
     "output_type": "stream",
     "text": [
      "Best cross-validation score: 0.65\n",
      "Best parameters:  {'alpha': 0.1, 'fit_prior': False}\n",
      "Best estimator:  MultinomialNB(alpha=0.1, class_prior=None, fit_prior=False)\n"
     ]
    }
   ],
   "source": [
    "param_grid_mnb = {'alpha': [0.001, 0.01, 0.1, 1.0, 10.0, 100.0],\n",
    "                  'fit_prior': [True, False]\n",
    "                 }\n",
    "grid_mnb = GridSearchCV(MultinomialNB(), param_grid_mnb, cv=5, verbose=2, n_jobs=-1)\n",
    "grid_mnb.fit(X_train, y_train)\n",
    "\n",
    "print(\"Best cross-validation score: {:.2f}\".format(grid_mnb.best_score_))\n",
    "print(\"Best parameters: \", grid_mnb.best_params_)\n",
    "print(\"Best estimator: \", grid_mnb.best_estimator_)"
   ]
  },
  {
   "cell_type": "markdown",
   "metadata": {},
   "source": [
    "* Best cross-validation score: 0.65\n",
    "* Best parameters:  {'alpha': 0.1, 'fit_prior': False}\n",
    "* Best estimator:  MultinomialNB(alpha=0.1, class_prior=None, fit_prior=False)"
   ]
  },
  {
   "cell_type": "code",
   "execution_count": 18,
   "metadata": {
    "ExecuteTime": {
     "end_time": "2019-10-07T12:40:24.300897Z",
     "start_time": "2019-10-07T12:40:24.223523Z"
    }
   },
   "outputs": [
    {
     "name": "stdout",
     "output_type": "stream",
     "text": [
      "[[277  40  94]\n",
      " [ 25  76  24]\n",
      " [ 68  31 237]]\n",
      "              precision    recall  f1-score   support\n",
      "\n",
      "           0       0.75      0.67      0.71       411\n",
      "           1       0.52      0.61      0.56       125\n",
      "           2       0.67      0.71      0.69       336\n",
      "\n",
      "    accuracy                           0.68       872\n",
      "   macro avg       0.64      0.66      0.65       872\n",
      "weighted avg       0.68      0.68      0.68       872\n",
      "\n",
      "The algorithm has reached an accuracy of: 67.66%\n"
     ]
    }
   ],
   "source": [
    "mnb = grid_mnb.best_estimator_\n",
    "mnb.fit(X_train, y_train)\n",
    "predictions_mnb = mnb.predict(X_test)\n",
    "print(confusion_matrix(y_test, predictions_mnb))\n",
    "print(classification_report(y_test, predictions_mnb))\n",
    "print(\"The algorithm has reached an accuracy of: {:.2f}%\".format(mnb.score(X_test, y_test)*100))"
   ]
  },
  {
   "cell_type": "markdown",
   "metadata": {},
   "source": [
    "### Implementing Logistic regression & tuning hyperparameters"
   ]
  },
  {
   "cell_type": "code",
   "execution_count": 15,
   "metadata": {
    "ExecuteTime": {
     "end_time": "2019-10-08T12:50:37.749771Z",
     "start_time": "2019-10-08T12:50:37.745304Z"
    }
   },
   "outputs": [],
   "source": [
    "from sklearn.linear_model import LogisticRegression"
   ]
  },
  {
   "cell_type": "code",
   "execution_count": 17,
   "metadata": {
    "ExecuteTime": {
     "end_time": "2019-10-08T12:52:17.495658Z",
     "start_time": "2019-10-08T12:51:06.371485Z"
    }
   },
   "outputs": [
    {
     "name": "stdout",
     "output_type": "stream",
     "text": [
      "Fitting 5 folds for each of 100 candidates, totalling 500 fits\n"
     ]
    },
    {
     "name": "stderr",
     "output_type": "stream",
     "text": [
      "[Parallel(n_jobs=-1)]: Using backend LokyBackend with 4 concurrent workers.\n",
      "[Parallel(n_jobs=-1)]: Done  33 tasks      | elapsed:    7.8s\n",
      "[Parallel(n_jobs=-1)]: Done 154 tasks      | elapsed:   22.9s\n",
      "[Parallel(n_jobs=-1)]: Done 357 tasks      | elapsed:   51.1s\n"
     ]
    },
    {
     "name": "stdout",
     "output_type": "stream",
     "text": [
      "Best cross-validation score: 0.66\n",
      "Best parameters:  {'warm_start': False, 'tol': 0.001, 'max_iter': 120, 'fit_intercept': True, 'dual': False, 'C': 10}\n",
      "Best estimator:  LogisticRegression(C=10, class_weight=None, dual=False, fit_intercept=True,\n",
      "                   intercept_scaling=1, l1_ratio=None, max_iter=120,\n",
      "                   multi_class='warn', n_jobs=None, penalty='l2',\n",
      "                   random_state=None, solver='warn', tol=0.001, verbose=0,\n",
      "                   warm_start=False)\n"
     ]
    },
    {
     "name": "stderr",
     "output_type": "stream",
     "text": [
      "[Parallel(n_jobs=-1)]: Done 500 out of 500 | elapsed:  1.2min finished\n"
     ]
    }
   ],
   "source": [
    "import warnings\n",
    "warnings.filterwarnings('ignore')\n",
    "\n",
    "param_grid_lr ={'dual': [True, False],\n",
    "                'tol': [1e-6, 1e-5, 1e-4, 1e-3, 1e-2 ],\n",
    "                'C': [0.001, 0.01, 0.1, 1, 10, 100, 1000],\n",
    "                'fit_intercept': [True, False],\n",
    "                'max_iter' : [100, 110, 120, 130, 140],\n",
    "                'warm_start': [True, False]\n",
    "              }\n",
    "grid_lr = RandomizedSearchCV(LogisticRegression(), param_grid_lr,n_iter=100,  verbose=2, cv=5, n_jobs=-1)\n",
    "grid_lr.fit(X_train, y_train)\n",
    "print(\"Best cross-validation score: {:.2f}\".format(grid_lr.best_score_))\n",
    "print(\"Best parameters: \", grid_lr.best_params_)\n",
    "print(\"Best estimator: \", grid_lr.best_estimator_)"
   ]
  },
  {
   "cell_type": "markdown",
   "metadata": {},
   "source": [
    "* Best cross-validation score: 0.69\n",
    "* Best parameters:  {'C': 10, 'dual': True, 'fit_intercept': True, 'max_iter': 110, 'tol': 0.01, 'warm_start': True}\n",
    "* Best estimator:  LogisticRegression(C=10, class_weight=None, dual=True, fit_intercept=True, intercept_scaling=1, l1_ratio=None, max_iter=110, multi_class='warn', n_jobs=None, penalty='l2', random_state=None, solver='warn', tol=0.01, verbose=0, warm_start=True)"
   ]
  },
  {
   "cell_type": "code",
   "execution_count": 19,
   "metadata": {
    "ExecuteTime": {
     "end_time": "2019-10-08T12:52:52.593473Z",
     "start_time": "2019-10-08T12:52:52.506177Z"
    }
   },
   "outputs": [
    {
     "name": "stdout",
     "output_type": "stream",
     "text": [
      "[[295  15  90]\n",
      " [ 49  53  35]\n",
      " [ 76  18 238]]\n",
      "              precision    recall  f1-score   support\n",
      "\n",
      "           0       0.70      0.74      0.72       400\n",
      "           1       0.62      0.39      0.48       137\n",
      "           2       0.66      0.72      0.68       332\n",
      "\n",
      "    accuracy                           0.67       869\n",
      "   macro avg       0.66      0.61      0.63       869\n",
      "weighted avg       0.67      0.67      0.67       869\n",
      "\n",
      "The algorithm has reached an accuracy of: 67.43%\n"
     ]
    }
   ],
   "source": [
    "lr = grid_lr.best_estimator_\n",
    "\n",
    "lr.fit(X_train, y_train)\n",
    "predictions_lr = lr.predict(X_test)\n",
    "\n",
    "print(confusion_matrix(y_test, predictions_lr))\n",
    "print(classification_report(y_test, predictions_lr))\n",
    "print(\"The algorithm has reached an accuracy of: {:.2f}%\".format(\n",
    "    lr.score(X_test, y_test)*100))"
   ]
  },
  {
   "cell_type": "markdown",
   "metadata": {},
   "source": [
    "### Implementing Support Vector Machine"
   ]
  },
  {
   "cell_type": "code",
   "execution_count": 22,
   "metadata": {
    "ExecuteTime": {
     "end_time": "2019-10-07T14:34:31.469195Z",
     "start_time": "2019-10-07T12:54:59.343567Z"
    }
   },
   "outputs": [
    {
     "name": "stdout",
     "output_type": "stream",
     "text": [
      "Fitting 3 folds for each of 150 candidates, totalling 450 fits\n"
     ]
    },
    {
     "name": "stderr",
     "output_type": "stream",
     "text": [
      "[Parallel(n_jobs=-1)]: Using backend LokyBackend with 4 concurrent workers.\n",
      "[Parallel(n_jobs=-1)]: Done  33 tasks      | elapsed:  9.7min\n",
      "[Parallel(n_jobs=-1)]: Done 154 tasks      | elapsed: 38.4min\n",
      "[Parallel(n_jobs=-1)]: Done 357 tasks      | elapsed: 88.9min\n"
     ]
    },
    {
     "ename": "KeyboardInterrupt",
     "evalue": "",
     "output_type": "error",
     "traceback": [
      "\u001b[1;31m---------------------------------------------------------------------------\u001b[0m",
      "\u001b[1;31mKeyboardInterrupt\u001b[0m                         Traceback (most recent call last)",
      "\u001b[1;32m<ipython-input-22-36a1a11eca55>\u001b[0m in \u001b[0;36m<module>\u001b[1;34m\u001b[0m\n\u001b[0;32m      7\u001b[0m \u001b[1;33m\u001b[0m\u001b[0m\n\u001b[0;32m      8\u001b[0m \u001b[0mgrid_svc\u001b[0m \u001b[1;33m=\u001b[0m \u001b[0mRandomizedSearchCV\u001b[0m\u001b[1;33m(\u001b[0m\u001b[0mSVC\u001b[0m\u001b[1;33m(\u001b[0m\u001b[1;33m)\u001b[0m\u001b[1;33m,\u001b[0m \u001b[0mparam_grid_svm\u001b[0m\u001b[1;33m,\u001b[0m \u001b[0mn_iter\u001b[0m\u001b[1;33m=\u001b[0m\u001b[1;36m150\u001b[0m\u001b[1;33m,\u001b[0m \u001b[0mcv\u001b[0m\u001b[1;33m=\u001b[0m\u001b[1;36m3\u001b[0m\u001b[1;33m,\u001b[0m \u001b[0mverbose\u001b[0m\u001b[1;33m=\u001b[0m\u001b[1;36m2\u001b[0m\u001b[1;33m,\u001b[0m \u001b[0mn_jobs\u001b[0m\u001b[1;33m=\u001b[0m\u001b[1;33m-\u001b[0m\u001b[1;36m1\u001b[0m\u001b[1;33m)\u001b[0m\u001b[1;33m\u001b[0m\u001b[1;33m\u001b[0m\u001b[0m\n\u001b[1;32m----> 9\u001b[1;33m \u001b[0mgrid_svc\u001b[0m\u001b[1;33m.\u001b[0m\u001b[0mfit\u001b[0m\u001b[1;33m(\u001b[0m\u001b[0mX_train\u001b[0m\u001b[1;33m,\u001b[0m \u001b[0my_train\u001b[0m\u001b[1;33m)\u001b[0m\u001b[1;33m\u001b[0m\u001b[1;33m\u001b[0m\u001b[0m\n\u001b[0m\u001b[0;32m     10\u001b[0m \u001b[0mprint\u001b[0m\u001b[1;33m(\u001b[0m\u001b[1;34m\"Best cross-validation score: {:.2f}\"\u001b[0m\u001b[1;33m.\u001b[0m\u001b[0mformat\u001b[0m\u001b[1;33m(\u001b[0m\u001b[0mgrid_svc\u001b[0m\u001b[1;33m.\u001b[0m\u001b[0mbest_score_\u001b[0m\u001b[1;33m)\u001b[0m\u001b[1;33m)\u001b[0m\u001b[1;33m\u001b[0m\u001b[1;33m\u001b[0m\u001b[0m\n\u001b[0;32m     11\u001b[0m \u001b[0mprint\u001b[0m\u001b[1;33m(\u001b[0m\u001b[1;34m\"Best parameters: \"\u001b[0m\u001b[1;33m,\u001b[0m \u001b[0mgrid_svc\u001b[0m\u001b[1;33m.\u001b[0m\u001b[0mbest_params_\u001b[0m\u001b[1;33m)\u001b[0m\u001b[1;33m\u001b[0m\u001b[1;33m\u001b[0m\u001b[0m\n",
      "\u001b[1;32m~\\AppData\\Local\\Continuum\\anaconda3\\lib\\site-packages\\sklearn\\model_selection\\_search.py\u001b[0m in \u001b[0;36mfit\u001b[1;34m(self, X, y, groups, **fit_params)\u001b[0m\n\u001b[0;32m    685\u001b[0m                 \u001b[1;32mreturn\u001b[0m \u001b[0mresults\u001b[0m\u001b[1;33m\u001b[0m\u001b[1;33m\u001b[0m\u001b[0m\n\u001b[0;32m    686\u001b[0m \u001b[1;33m\u001b[0m\u001b[0m\n\u001b[1;32m--> 687\u001b[1;33m             \u001b[0mself\u001b[0m\u001b[1;33m.\u001b[0m\u001b[0m_run_search\u001b[0m\u001b[1;33m(\u001b[0m\u001b[0mevaluate_candidates\u001b[0m\u001b[1;33m)\u001b[0m\u001b[1;33m\u001b[0m\u001b[1;33m\u001b[0m\u001b[0m\n\u001b[0m\u001b[0;32m    688\u001b[0m \u001b[1;33m\u001b[0m\u001b[0m\n\u001b[0;32m    689\u001b[0m         \u001b[1;31m# For multi-metric evaluation, store the best_index_, best_params_ and\u001b[0m\u001b[1;33m\u001b[0m\u001b[1;33m\u001b[0m\u001b[1;33m\u001b[0m\u001b[0m\n",
      "\u001b[1;32m~\\AppData\\Local\\Continuum\\anaconda3\\lib\\site-packages\\sklearn\\model_selection\\_search.py\u001b[0m in \u001b[0;36m_run_search\u001b[1;34m(self, evaluate_candidates)\u001b[0m\n\u001b[0;32m   1466\u001b[0m         evaluate_candidates(ParameterSampler(\n\u001b[0;32m   1467\u001b[0m             \u001b[0mself\u001b[0m\u001b[1;33m.\u001b[0m\u001b[0mparam_distributions\u001b[0m\u001b[1;33m,\u001b[0m \u001b[0mself\u001b[0m\u001b[1;33m.\u001b[0m\u001b[0mn_iter\u001b[0m\u001b[1;33m,\u001b[0m\u001b[1;33m\u001b[0m\u001b[1;33m\u001b[0m\u001b[0m\n\u001b[1;32m-> 1468\u001b[1;33m             random_state=self.random_state))\n\u001b[0m",
      "\u001b[1;32m~\\AppData\\Local\\Continuum\\anaconda3\\lib\\site-packages\\sklearn\\model_selection\\_search.py\u001b[0m in \u001b[0;36mevaluate_candidates\u001b[1;34m(candidate_params)\u001b[0m\n\u001b[0;32m    664\u001b[0m                                \u001b[1;32mfor\u001b[0m \u001b[0mparameters\u001b[0m\u001b[1;33m,\u001b[0m \u001b[1;33m(\u001b[0m\u001b[0mtrain\u001b[0m\u001b[1;33m,\u001b[0m \u001b[0mtest\u001b[0m\u001b[1;33m)\u001b[0m\u001b[1;33m\u001b[0m\u001b[1;33m\u001b[0m\u001b[0m\n\u001b[0;32m    665\u001b[0m                                in product(candidate_params,\n\u001b[1;32m--> 666\u001b[1;33m                                           cv.split(X, y, groups)))\n\u001b[0m\u001b[0;32m    667\u001b[0m \u001b[1;33m\u001b[0m\u001b[0m\n\u001b[0;32m    668\u001b[0m                 \u001b[1;32mif\u001b[0m \u001b[0mlen\u001b[0m\u001b[1;33m(\u001b[0m\u001b[0mout\u001b[0m\u001b[1;33m)\u001b[0m \u001b[1;33m<\u001b[0m \u001b[1;36m1\u001b[0m\u001b[1;33m:\u001b[0m\u001b[1;33m\u001b[0m\u001b[1;33m\u001b[0m\u001b[0m\n",
      "\u001b[1;32m~\\AppData\\Local\\Continuum\\anaconda3\\lib\\site-packages\\joblib\\parallel.py\u001b[0m in \u001b[0;36m__call__\u001b[1;34m(self, iterable)\u001b[0m\n\u001b[0;32m    932\u001b[0m \u001b[1;33m\u001b[0m\u001b[0m\n\u001b[0;32m    933\u001b[0m             \u001b[1;32mwith\u001b[0m \u001b[0mself\u001b[0m\u001b[1;33m.\u001b[0m\u001b[0m_backend\u001b[0m\u001b[1;33m.\u001b[0m\u001b[0mretrieval_context\u001b[0m\u001b[1;33m(\u001b[0m\u001b[1;33m)\u001b[0m\u001b[1;33m:\u001b[0m\u001b[1;33m\u001b[0m\u001b[1;33m\u001b[0m\u001b[0m\n\u001b[1;32m--> 934\u001b[1;33m                 \u001b[0mself\u001b[0m\u001b[1;33m.\u001b[0m\u001b[0mretrieve\u001b[0m\u001b[1;33m(\u001b[0m\u001b[1;33m)\u001b[0m\u001b[1;33m\u001b[0m\u001b[1;33m\u001b[0m\u001b[0m\n\u001b[0m\u001b[0;32m    935\u001b[0m             \u001b[1;31m# Make sure that we get a last message telling us we are done\u001b[0m\u001b[1;33m\u001b[0m\u001b[1;33m\u001b[0m\u001b[1;33m\u001b[0m\u001b[0m\n\u001b[0;32m    936\u001b[0m             \u001b[0melapsed_time\u001b[0m \u001b[1;33m=\u001b[0m \u001b[0mtime\u001b[0m\u001b[1;33m.\u001b[0m\u001b[0mtime\u001b[0m\u001b[1;33m(\u001b[0m\u001b[1;33m)\u001b[0m \u001b[1;33m-\u001b[0m \u001b[0mself\u001b[0m\u001b[1;33m.\u001b[0m\u001b[0m_start_time\u001b[0m\u001b[1;33m\u001b[0m\u001b[1;33m\u001b[0m\u001b[0m\n",
      "\u001b[1;32m~\\AppData\\Local\\Continuum\\anaconda3\\lib\\site-packages\\joblib\\parallel.py\u001b[0m in \u001b[0;36mretrieve\u001b[1;34m(self)\u001b[0m\n\u001b[0;32m    831\u001b[0m             \u001b[1;32mtry\u001b[0m\u001b[1;33m:\u001b[0m\u001b[1;33m\u001b[0m\u001b[1;33m\u001b[0m\u001b[0m\n\u001b[0;32m    832\u001b[0m                 \u001b[1;32mif\u001b[0m \u001b[0mgetattr\u001b[0m\u001b[1;33m(\u001b[0m\u001b[0mself\u001b[0m\u001b[1;33m.\u001b[0m\u001b[0m_backend\u001b[0m\u001b[1;33m,\u001b[0m \u001b[1;34m'supports_timeout'\u001b[0m\u001b[1;33m,\u001b[0m \u001b[1;32mFalse\u001b[0m\u001b[1;33m)\u001b[0m\u001b[1;33m:\u001b[0m\u001b[1;33m\u001b[0m\u001b[1;33m\u001b[0m\u001b[0m\n\u001b[1;32m--> 833\u001b[1;33m                     \u001b[0mself\u001b[0m\u001b[1;33m.\u001b[0m\u001b[0m_output\u001b[0m\u001b[1;33m.\u001b[0m\u001b[0mextend\u001b[0m\u001b[1;33m(\u001b[0m\u001b[0mjob\u001b[0m\u001b[1;33m.\u001b[0m\u001b[0mget\u001b[0m\u001b[1;33m(\u001b[0m\u001b[0mtimeout\u001b[0m\u001b[1;33m=\u001b[0m\u001b[0mself\u001b[0m\u001b[1;33m.\u001b[0m\u001b[0mtimeout\u001b[0m\u001b[1;33m)\u001b[0m\u001b[1;33m)\u001b[0m\u001b[1;33m\u001b[0m\u001b[1;33m\u001b[0m\u001b[0m\n\u001b[0m\u001b[0;32m    834\u001b[0m                 \u001b[1;32melse\u001b[0m\u001b[1;33m:\u001b[0m\u001b[1;33m\u001b[0m\u001b[1;33m\u001b[0m\u001b[0m\n\u001b[0;32m    835\u001b[0m                     \u001b[0mself\u001b[0m\u001b[1;33m.\u001b[0m\u001b[0m_output\u001b[0m\u001b[1;33m.\u001b[0m\u001b[0mextend\u001b[0m\u001b[1;33m(\u001b[0m\u001b[0mjob\u001b[0m\u001b[1;33m.\u001b[0m\u001b[0mget\u001b[0m\u001b[1;33m(\u001b[0m\u001b[1;33m)\u001b[0m\u001b[1;33m)\u001b[0m\u001b[1;33m\u001b[0m\u001b[1;33m\u001b[0m\u001b[0m\n",
      "\u001b[1;32m~\\AppData\\Local\\Continuum\\anaconda3\\lib\\site-packages\\joblib\\_parallel_backends.py\u001b[0m in \u001b[0;36mwrap_future_result\u001b[1;34m(future, timeout)\u001b[0m\n\u001b[0;32m    519\u001b[0m         AsyncResults.get from multiprocessing.\"\"\"\n\u001b[0;32m    520\u001b[0m         \u001b[1;32mtry\u001b[0m\u001b[1;33m:\u001b[0m\u001b[1;33m\u001b[0m\u001b[1;33m\u001b[0m\u001b[0m\n\u001b[1;32m--> 521\u001b[1;33m             \u001b[1;32mreturn\u001b[0m \u001b[0mfuture\u001b[0m\u001b[1;33m.\u001b[0m\u001b[0mresult\u001b[0m\u001b[1;33m(\u001b[0m\u001b[0mtimeout\u001b[0m\u001b[1;33m=\u001b[0m\u001b[0mtimeout\u001b[0m\u001b[1;33m)\u001b[0m\u001b[1;33m\u001b[0m\u001b[1;33m\u001b[0m\u001b[0m\n\u001b[0m\u001b[0;32m    522\u001b[0m         \u001b[1;32mexcept\u001b[0m \u001b[0mLokyTimeoutError\u001b[0m\u001b[1;33m:\u001b[0m\u001b[1;33m\u001b[0m\u001b[1;33m\u001b[0m\u001b[0m\n\u001b[0;32m    523\u001b[0m             \u001b[1;32mraise\u001b[0m \u001b[0mTimeoutError\u001b[0m\u001b[1;33m(\u001b[0m\u001b[1;33m)\u001b[0m\u001b[1;33m\u001b[0m\u001b[1;33m\u001b[0m\u001b[0m\n",
      "\u001b[1;32m~\\AppData\\Local\\Continuum\\anaconda3\\lib\\concurrent\\futures\\_base.py\u001b[0m in \u001b[0;36mresult\u001b[1;34m(self, timeout)\u001b[0m\n\u001b[0;32m    425\u001b[0m                 \u001b[1;32mreturn\u001b[0m \u001b[0mself\u001b[0m\u001b[1;33m.\u001b[0m\u001b[0m__get_result\u001b[0m\u001b[1;33m(\u001b[0m\u001b[1;33m)\u001b[0m\u001b[1;33m\u001b[0m\u001b[1;33m\u001b[0m\u001b[0m\n\u001b[0;32m    426\u001b[0m \u001b[1;33m\u001b[0m\u001b[0m\n\u001b[1;32m--> 427\u001b[1;33m             \u001b[0mself\u001b[0m\u001b[1;33m.\u001b[0m\u001b[0m_condition\u001b[0m\u001b[1;33m.\u001b[0m\u001b[0mwait\u001b[0m\u001b[1;33m(\u001b[0m\u001b[0mtimeout\u001b[0m\u001b[1;33m)\u001b[0m\u001b[1;33m\u001b[0m\u001b[1;33m\u001b[0m\u001b[0m\n\u001b[0m\u001b[0;32m    428\u001b[0m \u001b[1;33m\u001b[0m\u001b[0m\n\u001b[0;32m    429\u001b[0m             \u001b[1;32mif\u001b[0m \u001b[0mself\u001b[0m\u001b[1;33m.\u001b[0m\u001b[0m_state\u001b[0m \u001b[1;32min\u001b[0m \u001b[1;33m[\u001b[0m\u001b[0mCANCELLED\u001b[0m\u001b[1;33m,\u001b[0m \u001b[0mCANCELLED_AND_NOTIFIED\u001b[0m\u001b[1;33m]\u001b[0m\u001b[1;33m:\u001b[0m\u001b[1;33m\u001b[0m\u001b[1;33m\u001b[0m\u001b[0m\n",
      "\u001b[1;32m~\\AppData\\Local\\Continuum\\anaconda3\\lib\\threading.py\u001b[0m in \u001b[0;36mwait\u001b[1;34m(self, timeout)\u001b[0m\n\u001b[0;32m    294\u001b[0m         \u001b[1;32mtry\u001b[0m\u001b[1;33m:\u001b[0m    \u001b[1;31m# restore state no matter what (e.g., KeyboardInterrupt)\u001b[0m\u001b[1;33m\u001b[0m\u001b[1;33m\u001b[0m\u001b[0m\n\u001b[0;32m    295\u001b[0m             \u001b[1;32mif\u001b[0m \u001b[0mtimeout\u001b[0m \u001b[1;32mis\u001b[0m \u001b[1;32mNone\u001b[0m\u001b[1;33m:\u001b[0m\u001b[1;33m\u001b[0m\u001b[1;33m\u001b[0m\u001b[0m\n\u001b[1;32m--> 296\u001b[1;33m                 \u001b[0mwaiter\u001b[0m\u001b[1;33m.\u001b[0m\u001b[0macquire\u001b[0m\u001b[1;33m(\u001b[0m\u001b[1;33m)\u001b[0m\u001b[1;33m\u001b[0m\u001b[1;33m\u001b[0m\u001b[0m\n\u001b[0m\u001b[0;32m    297\u001b[0m                 \u001b[0mgotit\u001b[0m \u001b[1;33m=\u001b[0m \u001b[1;32mTrue\u001b[0m\u001b[1;33m\u001b[0m\u001b[1;33m\u001b[0m\u001b[0m\n\u001b[0;32m    298\u001b[0m             \u001b[1;32melse\u001b[0m\u001b[1;33m:\u001b[0m\u001b[1;33m\u001b[0m\u001b[1;33m\u001b[0m\u001b[0m\n",
      "\u001b[1;31mKeyboardInterrupt\u001b[0m: "
     ]
    }
   ],
   "source": [
    "from sklearn.svm import SVC\n",
    "param_grid_svm = {'C': [0.1, 1, 10, 100],\n",
    "                  'kernel': ['linear', 'rbf', 'poly'],\n",
    "                  'gamma': [0.1, 1, 10, 100],\n",
    "                  'degree': [0, 1, 2, 3, 4, 5, 6]\n",
    "                 }\n",
    "\n",
    "grid_svc = RandomizedSearchCV(SVC(), param_grid_svm, n_iter=100, cv=3, verbose=2, n_jobs=-1)\n",
    "grid_svc.fit(X_train, y_train)\n",
    "print(\"Best cross-validation score: {:.2f}\".format(grid_svc.best_score_))\n",
    "print(\"Best parameters: \", grid_svc.best_params_)\n",
    "print(\"Best estimator: \", grid_svc.best_estimator_)"
   ]
  },
  {
   "cell_type": "markdown",
   "metadata": {},
   "source": [
    "* Best cross-validation score: 0.67\n",
    "* Best parameters:  {'kernel': 'rbf', 'gamma': 1, 'degree': 0, 'C': 100}\n",
    "* Best estimator:  SVC(C=100, cache_size=200, class_weight=None, coef0=0.0, decision_function_shape='ovr', degree=0, gamma=1, kernel='rbf', max_iter=-1, probability=False, random_state=None, shrinking=True, tol=0.001, verbose=False)"
   ]
  },
  {
   "cell_type": "code",
   "execution_count": 21,
   "metadata": {
    "ExecuteTime": {
     "end_time": "2019-10-07T12:54:52.662619Z",
     "start_time": "2019-10-07T12:54:51.818992Z"
    }
   },
   "outputs": [
    {
     "ename": "NameError",
     "evalue": "name 'SVC' is not defined",
     "output_type": "error",
     "traceback": [
      "\u001b[1;31m---------------------------------------------------------------------------\u001b[0m",
      "\u001b[1;31mNameError\u001b[0m                                 Traceback (most recent call last)",
      "\u001b[1;32m<ipython-input-21-dfaec5b1b7c5>\u001b[0m in \u001b[0;36m<module>\u001b[1;34m\u001b[0m\n\u001b[1;32m----> 1\u001b[1;33m svm = SVC(C=100, cache_size=200, class_weight=None, coef0=0.0,\n\u001b[0m\u001b[0;32m      2\u001b[0m     \u001b[0mdecision_function_shape\u001b[0m\u001b[1;33m=\u001b[0m\u001b[1;34m'ovr'\u001b[0m\u001b[1;33m,\u001b[0m \u001b[0mdegree\u001b[0m\u001b[1;33m=\u001b[0m\u001b[1;36m0\u001b[0m\u001b[1;33m,\u001b[0m \u001b[0mgamma\u001b[0m\u001b[1;33m=\u001b[0m\u001b[1;36m1\u001b[0m\u001b[1;33m,\u001b[0m \u001b[0mkernel\u001b[0m\u001b[1;33m=\u001b[0m\u001b[1;34m'rbf'\u001b[0m\u001b[1;33m,\u001b[0m \u001b[0mmax_iter\u001b[0m\u001b[1;33m=\u001b[0m\u001b[1;33m-\u001b[0m\u001b[1;36m1\u001b[0m\u001b[1;33m,\u001b[0m\u001b[1;33m\u001b[0m\u001b[1;33m\u001b[0m\u001b[0m\n\u001b[0;32m      3\u001b[0m     \u001b[0mprobability\u001b[0m\u001b[1;33m=\u001b[0m\u001b[1;32mFalse\u001b[0m\u001b[1;33m,\u001b[0m \u001b[0mrandom_state\u001b[0m\u001b[1;33m=\u001b[0m\u001b[1;32mNone\u001b[0m\u001b[1;33m,\u001b[0m \u001b[0mshrinking\u001b[0m\u001b[1;33m=\u001b[0m\u001b[1;32mTrue\u001b[0m\u001b[1;33m,\u001b[0m \u001b[0mtol\u001b[0m\u001b[1;33m=\u001b[0m\u001b[1;36m0.001\u001b[0m\u001b[1;33m,\u001b[0m\u001b[1;33m\u001b[0m\u001b[1;33m\u001b[0m\u001b[0m\n\u001b[0;32m      4\u001b[0m     verbose=False)\n\u001b[0;32m      5\u001b[0m \u001b[0msvm_fit\u001b[0m \u001b[1;33m=\u001b[0m \u001b[0msvm\u001b[0m\u001b[1;33m.\u001b[0m\u001b[0mfit\u001b[0m\u001b[1;33m(\u001b[0m\u001b[0mX_train\u001b[0m\u001b[1;33m,\u001b[0m \u001b[0my_train\u001b[0m\u001b[1;33m)\u001b[0m\u001b[1;33m\u001b[0m\u001b[1;33m\u001b[0m\u001b[0m\n",
      "\u001b[1;31mNameError\u001b[0m: name 'SVC' is not defined"
     ]
    }
   ],
   "source": [
    "\n",
    "svm = grid_svc.best_estimator_\n",
    "svm_fit = svm.fit(X_train, y_train)\n",
    "score_svm = svm.score(X_test, y_test)\n",
    "predictions_svm = svm.predict(X_test)\n",
    "print(confusion_matrix(y_test, predictions_svm))\n",
    "print(classification_report(y_test, predictions_svm))\n",
    "print(\"The algorithm has reached an accuracy of: {:.2f}%\".format(score_svm*100))"
   ]
  },
  {
   "cell_type": "markdown",
   "metadata": {},
   "source": [
    "### Implementing Random Forest & tuning hyperparameters"
   ]
  },
  {
   "cell_type": "code",
   "execution_count": null,
   "metadata": {
    "ExecuteTime": {
     "end_time": "2019-09-30T13:00:24.631289Z",
     "start_time": "2019-09-30T12:59:02.354590Z"
    }
   },
   "outputs": [],
   "source": [
    "from sklearn.ensemble import RandomForestClassifier\n",
    "from sklearn.metrics import classification_report, confusion_matrix, accuracy_score\n",
    "\n",
    "param_grid_rf = {'n_estimators': [1, 2, 4, 8, 16, 32, 64, 100, 200],\n",
    "               'max_features': ['auto', 'sqrt'],\n",
    "               'max_depth': np.linspace(1, 32, 32, endpoint=True),\n",
    "               'min_samples_split': [2, 5, 10],\n",
    "               'min_samples_leaf': [1, 2, 4],\n",
    "               'bootstrap': [True, False]}\n",
    "\n",
    "grid_rf = RandomizedSearchCV(RandomForestClassifier(), param_grid_rf, cv=3, n_iter=1000 , verbose=2, n_jobs=-1)\n",
    "\n",
    "grid_rf.fit(X_train, y_train)\n",
    "\n",
    "print(\"Best cross-validation score: {:.2f}\".format(grid_rf.best_score_))\n",
    "print(\"Best parameters: \", grid_rf.best_params_)\n",
    "print(\"Best estimator: \", grid_rf.best_estimator_)"
   ]
  },
  {
   "cell_type": "code",
   "execution_count": null,
   "metadata": {},
   "outputs": [],
   "source": [
    "rf = grid_rf.best_estimator_\n",
    "\n",
    "rf.fit(X_train, y_train)\n",
    "predictions_rf = rf.predict(X_test)\n",
    "print(confusion_matrix(y_test, predictions_rf))\n",
    "print(classification_report(y_test, predictions_rf))\n",
    "print(\"The algorithm has reached an accuracy of: {:.2f}%\".format(\n",
    "    accuracy_score(y_test, predictions_rf)*100))\n",
    "print(rf.score(X_test, y_test))"
   ]
  },
  {
   "cell_type": "code",
   "execution_count": null,
   "metadata": {},
   "outputs": [],
   "source": []
  }
 ],
 "metadata": {
  "kernelspec": {
   "display_name": "Python 3",
   "language": "python",
   "name": "python3"
  },
  "language_info": {
   "codemirror_mode": {
    "name": "ipython",
    "version": 3
   },
   "file_extension": ".py",
   "mimetype": "text/x-python",
   "name": "python",
   "nbconvert_exporter": "python",
   "pygments_lexer": "ipython3",
   "version": "3.7.3"
  },
  "toc": {
   "base_numbering": 1,
   "nav_menu": {},
   "number_sections": true,
   "sideBar": true,
   "skip_h1_title": false,
   "title_cell": "Table of Contents",
   "title_sidebar": "Contents",
   "toc_cell": false,
   "toc_position": {},
   "toc_section_display": true,
   "toc_window_display": false
  },
  "varInspector": {
   "cols": {
    "lenName": 16,
    "lenType": 16,
    "lenVar": 40
   },
   "kernels_config": {
    "python": {
     "delete_cmd_postfix": "",
     "delete_cmd_prefix": "del ",
     "library": "var_list.py",
     "varRefreshCmd": "print(var_dic_list())"
    },
    "r": {
     "delete_cmd_postfix": ") ",
     "delete_cmd_prefix": "rm(",
     "library": "var_list.r",
     "varRefreshCmd": "cat(var_dic_list()) "
    }
   },
   "position": {
    "height": "478.8px",
    "left": "1175.6px",
    "right": "20px",
    "top": "124px",
    "width": "341.4px"
   },
   "types_to_exclude": [
    "module",
    "function",
    "builtin_function_or_method",
    "instance",
    "_Feature"
   ],
   "window_display": false
  }
 },
 "nbformat": 4,
 "nbformat_minor": 2
}
