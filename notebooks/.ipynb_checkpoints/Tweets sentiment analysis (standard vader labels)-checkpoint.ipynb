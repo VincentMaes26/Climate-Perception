{
 "cells": [
  {
   "cell_type": "markdown",
   "metadata": {},
   "source": [
    "# Tweet sentiment analysis"
   ]
  },
  {
   "cell_type": "code",
   "execution_count": 1,
   "metadata": {
    "ExecuteTime": {
     "end_time": "2019-10-15T08:29:38.960952Z",
     "start_time": "2019-10-15T08:29:32.002360Z"
    }
   },
   "outputs": [],
   "source": [
    "import re\n",
    "import numpy as np\n",
    "import pandas as pd\n",
    "import matplotlib.pyplot as plt\n",
    "import matplotlib.ticker as ticker\n",
    "import seaborn as sns\n",
    "import datetime\n",
    "import boto3\n",
    "import s3fs\n",
    "%matplotlib inline\n",
    "plt.style.use('seaborn-dark')\n",
    "pd.set_option('display.max_colwidth', -1)"
   ]
  },
  {
   "cell_type": "markdown",
   "metadata": {},
   "source": [
    "## Get dataframe from S3 bucket\n",
    "Iterates over all objects in the tweet-object folder in the aws s3 bucket.\n",
    "The objects are retrieved in JSON format and converted to a Pandas dataframe."
   ]
  },
  {
   "cell_type": "code",
   "execution_count": 2,
   "metadata": {
    "ExecuteTime": {
     "end_time": "2019-10-15T08:31:55.249705Z",
     "start_time": "2019-10-15T08:31:53.151786Z"
    }
   },
   "outputs": [
    {
     "name": "stdout",
     "output_type": "stream",
     "text": [
      "<class 'pandas.core.frame.DataFrame'>\n",
      "RangeIndex: 52046 entries, 0 to 52045\n",
      "Data columns (total 4 columns):\n",
      "creation date    52046 non-null object\n",
      "keyword          52046 non-null object\n",
      "tweet            52046 non-null object\n",
      "username         52046 non-null object\n",
      "dtypes: object(4)\n",
      "memory usage: 1.6+ MB\n"
     ]
    }
   ],
   "source": [
    "# # Read CSV file\n",
    "# #tweets_today = pd.read_csv(r'..\\datasets\\raw_data\\tweets{}.csv'.format(datetime.date.today()))\n",
    "# tweets_today = pd.read_csv(r'..\\datasets\\raw_data\\tweets2019-10-08.csv')\n",
    "# tweets_today = tweets_today.head(5000)\n",
    "# # Gets tweet texts\n",
    "# tweets_today_text = tweets_today['tweet']\n",
    "bucketname = 'ops-vw-interns-climate-perception-tweets'\n",
    "dataframe = pd.DataFrame(columns=('creation date','keyword', 'tweet', \n",
    "                                  'username'))\n",
    "s3 = boto3.resource('s3')\n",
    "\n",
    "s3_tweets = s3.Bucket(bucketname).objects.filter(Prefix='tweet-objects/', Delimiter='/').all()\n",
    "for file in s3_tweets:\n",
    "    temp_df = pd.read_json('s3://{}/{}'.format(bucketname, file.key))\n",
    "    dataframe = dataframe.append(temp_df, sort=False, ignore_index=True)\n",
    "dataframe_tweets = dataframe['tweet']\n",
    "dataframe.info()"
   ]
  },
  {
   "cell_type": "markdown",
   "metadata": {},
   "source": [
    "## Data cleaning\n",
    "Removing unneeded characters from the tweet texts like hashtags and urls"
   ]
  },
  {
   "cell_type": "code",
   "execution_count": 3,
   "metadata": {
    "ExecuteTime": {
     "end_time": "2019-10-15T08:30:39.182116Z",
     "start_time": "2019-10-15T08:30:38.686605Z"
    }
   },
   "outputs": [
    {
     "name": "stdout",
     "output_type": "stream",
     "text": [
      "unprocessed tweet: \n",
      "AOC: My ‘Dreams of Motherhood Now Bittersweet’ Because of Global Warming https://t.co/uUIM3uSbTi https://t.co/WFLq78IywX\n",
      "\n",
      "processed tweet: \n",
      " aoc my dreams of motherhood now bittersweet because of global warming  \n"
     ]
    }
   ],
   "source": [
    "# Preprocessing of tweet texts\n",
    "def format_tweet(tweet):\n",
    "    processed_tweet=''\n",
    "    for word in tweet.split():\n",
    "        # Removing URL from tweet\n",
    "        processed_word = re.sub('([^0-9A-Za-z \\t])|(\\w+:\\/\\/\\S+)', ' ', word)\n",
    "        \n",
    "        # remove all single characters\n",
    "        processed_word = re.sub('\\s+[a-zA-Z]\\s+', ' ', processed_word)\n",
    "        \n",
    "        # Remove single characters from the start\n",
    "        processed_word = re.sub('\\^[a-zA-Z]\\s+', ' ', processed_word) \n",
    "        \n",
    "        # Substituting multiple spaces with single space\n",
    "        processed_word = re.sub('\\s+', '', processed_word, flags=re.I)\n",
    "        \n",
    "        # Removing prefixed 'b'\n",
    "        processed_word = re.sub('^b\\s+', ' ', processed_word)\n",
    "        \n",
    "        # Removing &amp\n",
    "        processed_word = re.sub('&amp', '&', processed_word)\n",
    "        \n",
    "        # Removing breaks\n",
    "        processed_word = re.sub('<br/>', '', processed_word)\n",
    "        \n",
    "        # converts to lower\n",
    "        processed_word = processed_word.lower()\n",
    "        processed_tweet= processed_tweet+' '+processed_word\n",
    "    return processed_tweet        \n",
    "    \n",
    "tweets_text = [format_tweet(tweet) for tweet in dataframe_tweets]\n",
    "print('unprocessed tweet: \\n'+ dataframe['tweet'][15])\n",
    "print('\\nprocessed tweet: \\n' + tweets_text[15])"
   ]
  },
  {
   "cell_type": "markdown",
   "metadata": {},
   "source": [
    "## Labeling tweets with NLTK vader\n",
    "Provides te dataframe of the needed \"label\" / \"target\" column. In our case this column contains the sentiment values (Positive, Neutral, Negative)"
   ]
  },
  {
   "cell_type": "code",
   "execution_count": 4,
   "metadata": {
    "ExecuteTime": {
     "end_time": "2019-10-15T08:30:51.110714Z",
     "start_time": "2019-10-15T08:30:48.976936Z"
    }
   },
   "outputs": [
    {
     "name": "stderr",
     "output_type": "stream",
     "text": [
      "[nltk_data] Downloading package vader_lexicon to\n",
      "[nltk_data]     C:\\Users\\ViMs\\AppData\\Roaming\\nltk_data...\n",
      "[nltk_data]   Package vader_lexicon is already up-to-date!\n"
     ]
    },
    {
     "data": {
      "text/plain": [
       "True"
      ]
     },
     "execution_count": 4,
     "metadata": {},
     "output_type": "execute_result"
    }
   ],
   "source": [
    "import nltk\n",
    "from nltk.sentiment.vader import SentimentIntensityAnalyzer\n",
    "nltk.download('vader_lexicon')"
   ]
  },
  {
   "cell_type": "markdown",
   "metadata": {},
   "source": [
    "The NLTK.vader library helps us label the tweets by giving the tweet text a positive, neutral and negative score. Based on those scores it calculates the \"compound\" / \"total\" score. This is the value that gets stored in the dataframe "
   ]
  },
  {
   "cell_type": "code",
   "execution_count": 5,
   "metadata": {
    "ExecuteTime": {
     "end_time": "2019-10-15T08:30:51.190570Z",
     "start_time": "2019-10-15T08:30:51.145401Z"
    }
   },
   "outputs": [
    {
     "name": "stdout",
     "output_type": "stream",
     "text": [
      "0: climate change evidence how do we know gt vital signs of the planet global climate change and global warming how do we know its happening heres the evidence  \n",
      "{'neg': 0.0, 'neu': 0.809, 'pos': 0.191, 'compound': 0.5994}\n",
      "\n",
      "\n",
      "1: the election debate is over stay on the track libs mistakes in four years must not be hidden apologized snc lavalin climate change vs pipeline international relations economy down huge deficit list goes on never repeated libs must go say no to libs vote no  \n",
      "{'neg': 0.219, 'neu': 0.738, 'pos': 0.044, 'compound': -0.8054}\n",
      "\n",
      "\n",
      "2: revealed google made large contributions to climate change deniers  \n",
      "{'neg': 0.208, 'neu': 0.792, 'pos': 0.0, 'compound': -0.2732}\n",
      "\n",
      "\n",
      "3: climate change the devastating effect plastics have on our oceans dwindling numbers of rare species nah  \n",
      "{'neg': 0.289, 'neu': 0.711, 'pos': 0.0, 'compound': -0.6908}\n",
      "\n",
      "\n",
      "4: pieces of junk toplevel japanese climate scientist rejects global warming panic  opinion  lifesite  \n",
      "{'neg': 0.359, 'neu': 0.552, 'pos': 0.088, 'compound': -0.7096}\n",
      "\n",
      "\n",
      "5: the simpsons predicted greta thunbergs climate change speech in 2007  nme  \n",
      "{'neg': 0.237, 'neu': 0.763, 'pos': 0.0, 'compound': -0.4767}\n",
      "\n",
      "\n",
      "6: aoc gets choked up at climate forum my dreams of motherhood are now bittersweet  please do not procreate draintheswamp walkawayfromdemocratsocialists \n",
      "{'neg': 0.173, 'neu': 0.63, 'pos': 0.197, 'compound': 0.1531}\n",
      "\n",
      "\n",
      "7: climatechange protesters hold london funeral march  \n",
      "{'neg': 0.524, 'neu': 0.476, 'pos': 0.0, 'compound': -0.5267}\n",
      "\n",
      "\n",
      "8: im not the first to point it out but there is zero reason why if i know your position on gun control i also have a good chance of guessing your position on abortion and climate change these things are not a priori related and should not be bundled  \n",
      "{'neg': 0.06, 'neu': 0.816, 'pos': 0.123, 'compound': 0.5023}\n",
      "\n",
      "\n",
      "9: jane fonda plans climate change civil disobedience on the capitol steps  \n",
      "{'neg': 0.0, 'neu': 1.0, 'pos': 0.0, 'compound': 0.0}\n",
      "\n",
      "\n"
     ]
    }
   ],
   "source": [
    "sid = SentimentIntensityAnalyzer()\n",
    "\n",
    "for i, tweet in enumerate(tweets_text[50:60]):\n",
    "    print('{0}:{1} \\n{2}\\n\\n'.format(i, tweet, sid.polarity_scores(tweet)))"
   ]
  },
  {
   "cell_type": "code",
   "execution_count": 6,
   "metadata": {
    "ExecuteTime": {
     "end_time": "2019-10-15T08:30:51.901996Z",
     "start_time": "2019-10-15T08:30:51.229227Z"
    }
   },
   "outputs": [
    {
     "name": "stdout",
     "output_type": "stream",
     "text": [
      "<class 'pandas.core.frame.DataFrame'>\n",
      "RangeIndex: 52046 entries, 0 to 52045\n",
      "Data columns (total 7 columns):\n",
      "Sentiment        52046 non-null object\n",
      "Polarity         52046 non-null float64\n",
      "Tweet            52046 non-null object\n",
      "Word count       52046 non-null int64\n",
      "Keyword          52046 non-null object\n",
      "Username         52046 non-null object\n",
      "Creation Date    52046 non-null object\n",
      "dtypes: float64(1), int64(1), object(5)\n",
      "memory usage: 2.8+ MB\n"
     ]
    }
   ],
   "source": [
    "# Creates the text labels for the dataframe\n",
    "def get_sentiment(polarity):\n",
    "    if polarity > 0:\n",
    "        return 'positive'\n",
    "    if polarity == 0:\n",
    "        return 'neutral'\n",
    "    else:\n",
    "        return 'negative'\n",
    "\n",
    "word_count = [len(tweet.split()) for tweet in dataframe_tweets]\n",
    "\n",
    "polarity_tweets = [round(sid.polarity_scores(tweet)['compound'], 2)\n",
    "                   for tweet in tweets_text]\n",
    "\n",
    "sentiment_tweets = [get_sentiment(polarity) for polarity in polarity_tweets]\n",
    "\n",
    "zipped_list = list(zip(sentiment_tweets, polarity_tweets,\n",
    "                       tweets_text, word_count, dataframe['keyword'],\n",
    "                       dataframe['username'], dataframe['creation date']))\n",
    "\n",
    "\n",
    "# Store to new dataframe with sentiment values and polarities\n",
    "sentiment_df = pd.DataFrame(zipped_list, \n",
    "                            columns=['Sentiment', 'Polarity', \n",
    "                                     'Tweet', 'Word count', 'Keyword', 'Username', \n",
    "                                     'Creation Date'])\n",
    "sentiment_df.info()"
   ]
  },
  {
   "cell_type": "code",
   "execution_count": 7,
   "metadata": {},
   "outputs": [
    {
     "data": {
      "text/html": [
       "<div>\n",
       "<style scoped>\n",
       "    .dataframe tbody tr th:only-of-type {\n",
       "        vertical-align: middle;\n",
       "    }\n",
       "\n",
       "    .dataframe tbody tr th {\n",
       "        vertical-align: top;\n",
       "    }\n",
       "\n",
       "    .dataframe thead th {\n",
       "        text-align: right;\n",
       "    }\n",
       "</style>\n",
       "<table border=\"1\" class=\"dataframe\">\n",
       "  <thead>\n",
       "    <tr style=\"text-align: right;\">\n",
       "      <th></th>\n",
       "      <th>Sentiment</th>\n",
       "      <th>Polarity</th>\n",
       "      <th>Tweet</th>\n",
       "      <th>Word count</th>\n",
       "      <th>Keyword</th>\n",
       "      <th>Username</th>\n",
       "      <th>Creation Date</th>\n",
       "    </tr>\n",
       "  </thead>\n",
       "  <tbody>\n",
       "    <tr>\n",
       "      <th>10659</th>\n",
       "      <td>negative</td>\n",
       "      <td>-0.88</td>\n",
       "      <td>people think global warming is disastrous its not as effective in killing as compared to the ice age that follows</td>\n",
       "      <td>20</td>\n",
       "      <td>Climate change</td>\n",
       "      <td>8351f1c8e4d346921dc249513e6a1ea7</td>\n",
       "      <td>2019-10-20 18:08:50</td>\n",
       "    </tr>\n",
       "    <tr>\n",
       "      <th>35164</th>\n",
       "      <td>neutral</td>\n",
       "      <td>0.00</td>\n",
       "      <td>and the games will be played in 100 degree weather on dirt fields as fires burn nearby because of climate change</td>\n",
       "      <td>22</td>\n",
       "      <td>Global warming</td>\n",
       "      <td>4194fa459cfe84993aebbb828a721dbb</td>\n",
       "      <td>2019-10-26 14:55:01</td>\n",
       "    </tr>\n",
       "    <tr>\n",
       "      <th>16438</th>\n",
       "      <td>neutral</td>\n",
       "      <td>-0.00</td>\n",
       "      <td>lagos and rain stuck in the car to drop off the little one at prenursery and time for work is counting am like who sent me should we go back home or wait it out     global warming is real</td>\n",
       "      <td>44</td>\n",
       "      <td>Climate change</td>\n",
       "      <td>43b31151d6c6d6ccde584ccff46b66bb</td>\n",
       "      <td>2019-10-23 06:53:35</td>\n",
       "    </tr>\n",
       "    <tr>\n",
       "      <th>40228</th>\n",
       "      <td>neutral</td>\n",
       "      <td>0.00</td>\n",
       "      <td>exxonmobils climatechange accounting goes on trial  stateofclimate climatechange climateaction climate via christophernfox</td>\n",
       "      <td>13</td>\n",
       "      <td>Climate change</td>\n",
       "      <td>defa68bcaeaf80e51014dcde157449d1</td>\n",
       "      <td>2019-10-27 11:34:01</td>\n",
       "    </tr>\n",
       "    <tr>\n",
       "      <th>17426</th>\n",
       "      <td>positive</td>\n",
       "      <td>0.36</td>\n",
       "      <td>traveling to abuja for one competition like that on climate change</td>\n",
       "      <td>12</td>\n",
       "      <td>Climate change</td>\n",
       "      <td>2a837ebe2f061a00ea3418a3c1eded8b</td>\n",
       "      <td>2019-10-23 10:56:55</td>\n",
       "    </tr>\n",
       "    <tr>\n",
       "      <th>42744</th>\n",
       "      <td>positive</td>\n",
       "      <td>0.49</td>\n",
       "      <td>there is an old forgotten actress who shows up at the capital just to get arrested every friday to protest climate change since she is only looking for publicity i refuse to name her but in any case ya think someone should tell her climate change is perfectly normal</td>\n",
       "      <td>51</td>\n",
       "      <td>Climate change</td>\n",
       "      <td>fd39bd52a290975adebcad1704fa5e0f</td>\n",
       "      <td>2019-10-27 21:43:25</td>\n",
       "    </tr>\n",
       "    <tr>\n",
       "      <th>17038</th>\n",
       "      <td>neutral</td>\n",
       "      <td>0.00</td>\n",
       "      <td>beware kerala 20cm rain in 4 hours at kochi reveals global warmings bare fangs</td>\n",
       "      <td>15</td>\n",
       "      <td>Global warming</td>\n",
       "      <td>0cec0ec9ef5e70889a60802df8a19c8c</td>\n",
       "      <td>2019-10-23 08:41:09</td>\n",
       "    </tr>\n",
       "    <tr>\n",
       "      <th>33905</th>\n",
       "      <td>negative</td>\n",
       "      <td>-0.56</td>\n",
       "      <td>we should start charging them for the free publicity they get these two non important should pay for their arrest jane fonda ted danson arrested in dc for protesting climate change</td>\n",
       "      <td>32</td>\n",
       "      <td>Climate change</td>\n",
       "      <td>89238e8036a3f849ce8bf499cd87de26</td>\n",
       "      <td>2019-10-26 09:56:19</td>\n",
       "    </tr>\n",
       "    <tr>\n",
       "      <th>23423</th>\n",
       "      <td>positive</td>\n",
       "      <td>0.03</td>\n",
       "      <td>im doing my part to prevent climate change im farting less</td>\n",
       "      <td>12</td>\n",
       "      <td>Global warming</td>\n",
       "      <td>9a3f17091f6a3575551a1b445e1b50ce</td>\n",
       "      <td>2019-10-24 10:41:36</td>\n",
       "    </tr>\n",
       "    <tr>\n",
       "      <th>20057</th>\n",
       "      <td>negative</td>\n",
       "      <td>-0.13</td>\n",
       "      <td>bp is responsible for 15 of global co2 emissions since 1971 whats your carbonfootprint greenwash</td>\n",
       "      <td>17</td>\n",
       "      <td>Climate change</td>\n",
       "      <td>424fc06f5f4e8043cecbe5a3217c0b4d</td>\n",
       "      <td>2019-10-23 21:56:08</td>\n",
       "    </tr>\n",
       "    <tr>\n",
       "      <th>34380</th>\n",
       "      <td>positive</td>\n",
       "      <td>0.13</td>\n",
       "      <td>climate change is real and crackers on diwali adds fuel to the fire lets make this world a better place to live in for humans and animals both saynotocrackers managerswithoutborders digitalmarketing</td>\n",
       "      <td>32</td>\n",
       "      <td>Climate change</td>\n",
       "      <td>e5dcdbaca8da0173c96948dd48ae2356</td>\n",
       "      <td>2019-10-26 11:59:37</td>\n",
       "    </tr>\n",
       "    <tr>\n",
       "      <th>7511</th>\n",
       "      <td>positive</td>\n",
       "      <td>0.57</td>\n",
       "      <td>hurray for climate change gardenersworld</td>\n",
       "      <td>5</td>\n",
       "      <td>Climate change</td>\n",
       "      <td>e7ddd24c39f659cf0923c35063207203</td>\n",
       "      <td>2019-10-18 19:14:07</td>\n",
       "    </tr>\n",
       "    <tr>\n",
       "      <th>46403</th>\n",
       "      <td>negative</td>\n",
       "      <td>-0.51</td>\n",
       "      <td>nonsense science says earth is cooling there is no global warming</td>\n",
       "      <td>12</td>\n",
       "      <td>Climate change</td>\n",
       "      <td>e978d9821561bbdfbcdc358c37f0a6d9</td>\n",
       "      <td>2019-10-28 11:31:19</td>\n",
       "    </tr>\n",
       "    <tr>\n",
       "      <th>9315</th>\n",
       "      <td>negative</td>\n",
       "      <td>-0.68</td>\n",
       "      <td>how are you going to pay for that is the ultimate gaslighting by the capital class they never asked each other how they were going to pay for the staggering wellknown costs of global warming they never intended to pay for that theyre terrified someone might make them</td>\n",
       "      <td>48</td>\n",
       "      <td>Climate change</td>\n",
       "      <td>c1b82379741e5442b8b13f30df7e1e7b</td>\n",
       "      <td>2019-10-19 17:52:58</td>\n",
       "    </tr>\n",
       "    <tr>\n",
       "      <th>32659</th>\n",
       "      <td>negative</td>\n",
       "      <td>-0.27</td>\n",
       "      <td>the real reason scientists downplay the risks of climate change  dale jamieson michael oppenheimer and naomi oreskes</td>\n",
       "      <td>19</td>\n",
       "      <td>Climate change</td>\n",
       "      <td>a4a54c67bdabcfe9dfc9cbe304b7dda7</td>\n",
       "      <td>2019-10-26 04:58:26</td>\n",
       "    </tr>\n",
       "  </tbody>\n",
       "</table>\n",
       "</div>"
      ],
      "text/plain": [
       "      Sentiment  Polarity  \\\n",
       "10659  negative -0.88       \n",
       "35164  neutral   0.00       \n",
       "16438  neutral  -0.00       \n",
       "40228  neutral   0.00       \n",
       "17426  positive  0.36       \n",
       "42744  positive  0.49       \n",
       "17038  neutral   0.00       \n",
       "33905  negative -0.56       \n",
       "23423  positive  0.03       \n",
       "20057  negative -0.13       \n",
       "34380  positive  0.13       \n",
       "7511   positive  0.57       \n",
       "46403  negative -0.51       \n",
       "9315   negative -0.68       \n",
       "32659  negative -0.27       \n",
       "\n",
       "                                                                                                                                                                                                                                                                               Tweet  \\\n",
       "10659   people think global warming is disastrous its not as effective in killing as compared to the ice age that follows                                                                                                                                                              \n",
       "35164   and the games will be played in 100 degree weather on dirt fields as fires burn nearby because of climate change                                                                                                                                                               \n",
       "16438   lagos and rain stuck in the car to drop off the little one at prenursery and time for work is counting am like who sent me should we go back home or wait it out     global warming is real                                                                                    \n",
       "40228   exxonmobils climatechange accounting goes on trial  stateofclimate climatechange climateaction climate via christophernfox                                                                                                                                                     \n",
       "17426   traveling to abuja for one competition like that on climate change                                                                                                                                                                                                             \n",
       "42744   there is an old forgotten actress who shows up at the capital just to get arrested every friday to protest climate change since she is only looking for publicity i refuse to name her but in any case ya think someone should tell her climate change is perfectly normal     \n",
       "17038   beware kerala 20cm rain in 4 hours at kochi reveals global warmings bare fangs                                                                                                                                                                                                 \n",
       "33905   we should start charging them for the free publicity they get these two non important should pay for their arrest jane fonda ted danson arrested in dc for protesting climate change                                                                                           \n",
       "23423   im doing my part to prevent climate change im farting less                                                                                                                                                                                                                     \n",
       "20057   bp is responsible for 15 of global co2 emissions since 1971 whats your carbonfootprint greenwash                                                                                                                                                                               \n",
       "34380   climate change is real and crackers on diwali adds fuel to the fire lets make this world a better place to live in for humans and animals both saynotocrackers managerswithoutborders digitalmarketing                                                                         \n",
       "7511    hurray for climate change gardenersworld                                                                                                                                                                                                                                       \n",
       "46403   nonsense science says earth is cooling there is no global warming                                                                                                                                                                                                              \n",
       "9315    how are you going to pay for that is the ultimate gaslighting by the capital class they never asked each other how they were going to pay for the staggering wellknown costs of global warming they never intended to pay for that theyre terrified someone might make them    \n",
       "32659   the real reason scientists downplay the risks of climate change  dale jamieson michael oppenheimer and naomi oreskes                                                                                                                                                           \n",
       "\n",
       "       Word count         Keyword                          Username  \\\n",
       "10659  20          Climate change  8351f1c8e4d346921dc249513e6a1ea7   \n",
       "35164  22          Global warming  4194fa459cfe84993aebbb828a721dbb   \n",
       "16438  44          Climate change  43b31151d6c6d6ccde584ccff46b66bb   \n",
       "40228  13          Climate change  defa68bcaeaf80e51014dcde157449d1   \n",
       "17426  12          Climate change  2a837ebe2f061a00ea3418a3c1eded8b   \n",
       "42744  51          Climate change  fd39bd52a290975adebcad1704fa5e0f   \n",
       "17038  15          Global warming  0cec0ec9ef5e70889a60802df8a19c8c   \n",
       "33905  32          Climate change  89238e8036a3f849ce8bf499cd87de26   \n",
       "23423  12          Global warming  9a3f17091f6a3575551a1b445e1b50ce   \n",
       "20057  17          Climate change  424fc06f5f4e8043cecbe5a3217c0b4d   \n",
       "34380  32          Climate change  e5dcdbaca8da0173c96948dd48ae2356   \n",
       "7511   5           Climate change  e7ddd24c39f659cf0923c35063207203   \n",
       "46403  12          Climate change  e978d9821561bbdfbcdc358c37f0a6d9   \n",
       "9315   48          Climate change  c1b82379741e5442b8b13f30df7e1e7b   \n",
       "32659  19          Climate change  a4a54c67bdabcfe9dfc9cbe304b7dda7   \n",
       "\n",
       "             Creation Date  \n",
       "10659  2019-10-20 18:08:50  \n",
       "35164  2019-10-26 14:55:01  \n",
       "16438  2019-10-23 06:53:35  \n",
       "40228  2019-10-27 11:34:01  \n",
       "17426  2019-10-23 10:56:55  \n",
       "42744  2019-10-27 21:43:25  \n",
       "17038  2019-10-23 08:41:09  \n",
       "33905  2019-10-26 09:56:19  \n",
       "23423  2019-10-24 10:41:36  \n",
       "20057  2019-10-23 21:56:08  \n",
       "34380  2019-10-26 11:59:37  \n",
       "7511   2019-10-18 19:14:07  \n",
       "46403  2019-10-28 11:31:19  \n",
       "9315   2019-10-19 17:52:58  \n",
       "32659  2019-10-26 04:58:26  "
      ]
     },
     "execution_count": 7,
     "metadata": {},
     "output_type": "execute_result"
    }
   ],
   "source": [
    "sentiment_df.sample(15)"
   ]
  },
  {
   "cell_type": "code",
   "execution_count": 8,
   "metadata": {},
   "outputs": [
    {
     "name": "stdout",
     "output_type": "stream",
     "text": [
      "5 most negative tweets: \n",
      "\n"
     ]
    },
    {
     "data": {
      "text/html": [
       "<div>\n",
       "<style scoped>\n",
       "    .dataframe tbody tr th:only-of-type {\n",
       "        vertical-align: middle;\n",
       "    }\n",
       "\n",
       "    .dataframe tbody tr th {\n",
       "        vertical-align: top;\n",
       "    }\n",
       "\n",
       "    .dataframe thead th {\n",
       "        text-align: right;\n",
       "    }\n",
       "</style>\n",
       "<table border=\"1\" class=\"dataframe\">\n",
       "  <thead>\n",
       "    <tr style=\"text-align: right;\">\n",
       "      <th></th>\n",
       "      <th>Tweet</th>\n",
       "      <th>Polarity</th>\n",
       "    </tr>\n",
       "  </thead>\n",
       "  <tbody>\n",
       "    <tr>\n",
       "      <th>22660</th>\n",
       "      <td>capitalism is murder cyberbullying is murder minimum wage is murder billionaires existing is murder homicide is murder global warming is murder a group of crows is murder angela lansbury is murder she wrote</td>\n",
       "      <td>-0.99</td>\n",
       "    </tr>\n",
       "    <tr>\n",
       "      <th>3882</th>\n",
       "      <td>this is literally worse than isis terrorism racism homophobia sexism cancer global warming poverty world hunger israel war drug addiction the prison system police animal abuse pollution murder sexual abuse violence zionism depression mass shootings</td>\n",
       "      <td>-0.99</td>\n",
       "    </tr>\n",
       "    <tr>\n",
       "      <th>46460</th>\n",
       "      <td>the wars are lies wrapped in half truth central banking war on market boom and bust paris accords war on climate change drug enforcement war on drugs dept of education war on illiteracy in every instance reasonable cause when addressed with logic and fact fails</td>\n",
       "      <td>-0.98</td>\n",
       "    </tr>\n",
       "    <tr>\n",
       "      <th>40424</th>\n",
       "      <td>brainwashed idiots worried about so called climate change when were these fools ever worried about western regimes illegal wars destabilizing the middle east us missiles in poland civil wars spreading in europe no no ill worry about the weather</td>\n",
       "      <td>-0.98</td>\n",
       "    </tr>\n",
       "    <tr>\n",
       "      <th>36659</th>\n",
       "      <td>breaking the law inciting riots breeding hate and violence endangering the lives of policecitizens is not cool you ignorant liberals its sedition its treason democrats are a terrorist cult and a danger to america</td>\n",
       "      <td>-0.98</td>\n",
       "    </tr>\n",
       "  </tbody>\n",
       "</table>\n",
       "</div>"
      ],
      "text/plain": [
       "                                                                                                                                                                                                                                                                         Tweet  \\\n",
       "22660   capitalism is murder cyberbullying is murder minimum wage is murder billionaires existing is murder homicide is murder global warming is murder a group of crows is murder angela lansbury is murder she wrote                                                           \n",
       "3882    this is literally worse than isis terrorism racism homophobia sexism cancer global warming poverty world hunger israel war drug addiction the prison system police animal abuse pollution murder sexual abuse violence zionism depression mass shootings                 \n",
       "46460   the wars are lies wrapped in half truth central banking war on market boom and bust paris accords war on climate change drug enforcement war on drugs dept of education war on illiteracy in every instance reasonable cause when addressed with logic and fact fails    \n",
       "40424   brainwashed idiots worried about so called climate change when were these fools ever worried about western regimes illegal wars destabilizing the middle east us missiles in poland civil wars spreading in europe no no ill worry about the weather                     \n",
       "36659   breaking the law inciting riots breeding hate and violence endangering the lives of policecitizens is not cool you ignorant liberals its sedition its treason democrats are a terrorist cult and a danger to america                                                     \n",
       "\n",
       "       Polarity  \n",
       "22660 -0.99      \n",
       "3882  -0.99      \n",
       "46460 -0.98      \n",
       "40424 -0.98      \n",
       "36659 -0.98      "
      ]
     },
     "execution_count": 8,
     "metadata": {},
     "output_type": "execute_result"
    }
   ],
   "source": [
    "print('5 most negative tweets: \\n')\n",
    "top5_negative = pd.DataFrame(sentiment_df.sort_values('Polarity')[['Tweet','Polarity']].head(5))\n",
    "top5_negative"
   ]
  },
  {
   "cell_type": "code",
   "execution_count": 9,
   "metadata": {},
   "outputs": [
    {
     "name": "stdout",
     "output_type": "stream",
     "text": [
      "5 most positive tweets: \n",
      "\n"
     ]
    },
    {
     "data": {
      "text/html": [
       "<div>\n",
       "<style scoped>\n",
       "    .dataframe tbody tr th:only-of-type {\n",
       "        vertical-align: middle;\n",
       "    }\n",
       "\n",
       "    .dataframe tbody tr th {\n",
       "        vertical-align: top;\n",
       "    }\n",
       "\n",
       "    .dataframe thead th {\n",
       "        text-align: right;\n",
       "    }\n",
       "</style>\n",
       "<table border=\"1\" class=\"dataframe\">\n",
       "  <thead>\n",
       "    <tr style=\"text-align: right;\">\n",
       "      <th></th>\n",
       "      <th>Tweet</th>\n",
       "      <th>Polarity</th>\n",
       "    </tr>\n",
       "  </thead>\n",
       "  <tbody>\n",
       "    <tr>\n",
       "      <th>39530</th>\n",
       "      <td>happy diwali to all have fun have great food enjoy also dont forget that climate change is a real concern be safe and try your best to keep it environment friendly keep the animals safe its a festival for everyone lets not steal their freedom</td>\n",
       "      <td>0.98</td>\n",
       "    </tr>\n",
       "    <tr>\n",
       "      <th>41177</th>\n",
       "      <td>success takes many shapes and forms it can be a successful career your efforts to fight global warming writing a great book helping the homeless etc thrive success inspiration talent motivation</td>\n",
       "      <td>0.98</td>\n",
       "    </tr>\n",
       "    <tr>\n",
       "      <th>26668</th>\n",
       "      <td>in ww2 the government rose taxes and kept wages down but the rich made big profits on armaments to fight climate change the rich are going to lose out on selling coal and oil they are prepared to chance the great famine to protect their wealth they will eat while you stave</td>\n",
       "      <td>0.98</td>\n",
       "    </tr>\n",
       "    <tr>\n",
       "      <th>49055</th>\n",
       "      <td>anyway since all you little crackpots are out for blood to protect your precious moral code on climate change if you wear your morals like a badge of honour please bounce off my tl i am against perfection borrowed that from adorable  toronto onpoli cdnpoli</td>\n",
       "      <td>0.97</td>\n",
       "    </tr>\n",
       "    <tr>\n",
       "      <th>3936</th>\n",
       "      <td>i rarely pay attention to will but he wears a sherwani well kate has also looked quite lovely in her outfits by  designers i am so glad they are trying to highlight the effects of climate change with their visit and hope both brothers continue using their platforms to do so</td>\n",
       "      <td>0.97</td>\n",
       "    </tr>\n",
       "  </tbody>\n",
       "</table>\n",
       "</div>"
      ],
      "text/plain": [
       "                                                                                                                                                                                                                                                                                      Tweet  \\\n",
       "39530   happy diwali to all have fun have great food enjoy also dont forget that climate change is a real concern be safe and try your best to keep it environment friendly keep the animals safe its a festival for everyone lets not steal their freedom                                    \n",
       "41177   success takes many shapes and forms it can be a successful career your efforts to fight global warming writing a great book helping the homeless etc thrive success inspiration talent motivation                                                                                     \n",
       "26668   in ww2 the government rose taxes and kept wages down but the rich made big profits on armaments to fight climate change the rich are going to lose out on selling coal and oil they are prepared to chance the great famine to protect their wealth they will eat while you stave     \n",
       "49055   anyway since all you little crackpots are out for blood to protect your precious moral code on climate change if you wear your morals like a badge of honour please bounce off my tl i am against perfection borrowed that from adorable  toronto onpoli cdnpoli                      \n",
       "3936    i rarely pay attention to will but he wears a sherwani well kate has also looked quite lovely in her outfits by  designers i am so glad they are trying to highlight the effects of climate change with their visit and hope both brothers continue using their platforms to do so    \n",
       "\n",
       "       Polarity  \n",
       "39530  0.98      \n",
       "41177  0.98      \n",
       "26668  0.98      \n",
       "49055  0.97      \n",
       "3936   0.97      "
      ]
     },
     "execution_count": 9,
     "metadata": {},
     "output_type": "execute_result"
    }
   ],
   "source": [
    "print('5 most positive tweets: \\n')\n",
    "top5_positive = sentiment_df.sort_values('Polarity', ascending=False)[['Tweet', 'Polarity']].head(5)\n",
    "top5_positive"
   ]
  },
  {
   "cell_type": "code",
   "execution_count": 10,
   "metadata": {
    "ExecuteTime": {
     "end_time": "2019-10-15T08:31:14.354651Z",
     "start_time": "2019-10-15T08:31:14.205648Z"
    }
   },
   "outputs": [
    {
     "name": "stdout",
     "output_type": "stream",
     "text": [
      "total positive: 20207\n",
      "total neutral: 9250\n",
      "total negative: 22589\n"
     ]
    },
    {
     "data": {
      "image/png": "[encoded data removed]",
      "text/plain": [
       "<Figure size 504x504 with 1 Axes>"
      ]
     },
     "metadata": {},
     "output_type": "display_data"
    }
   ],
   "source": [
    "sentiments = [get_sentiment(polarity)\n",
    "              for polarity in sentiment_df['Polarity']]\n",
    "\n",
    "sentiment_count_list = np.array([sentiments.count(\n",
    "    'positive'), sentiments.count('neutral'), sentiments.count('negative')])\n",
    "\n",
    "classes = ['positive', 'neutral', 'negative']\n",
    "colors = ['green', 'yellow', 'red']\n",
    "plt.figure(figsize=(7,7))\n",
    "plt.pie(sentiment_count_list, labels=classes, autopct='%1.1f%%',startangle=90, colors=colors)\n",
    "plt.title('Distribution of sentiment values')\n",
    "\n",
    "print('total positive: {}'.format(sentiments.count('positive')))\n",
    "\n",
    "print('total neutral: {}'.format(sentiments.count('neutral')))\n",
    "\n",
    "print('total negative: {}'.format(sentiments.count('negative')))"
   ]
  },
  {
   "cell_type": "code",
   "execution_count": 11,
   "metadata": {
    "ExecuteTime": {
     "end_time": "2019-10-15T08:31:22.912746Z",
     "start_time": "2019-10-15T08:31:22.677160Z"
    }
   },
   "outputs": [
    {
     "data": {
      "image/png": "[encoded data removed]",
      "text/plain": [
       "<Figure size 720x432 with 1 Axes>"
      ]
     },
     "metadata": {
      "needs_background": "light"
     },
     "output_type": "display_data"
    }
   ],
   "source": [
    "sentiment_df['Polarity'].plot.hist(bins=5, figsize=(10, 6), title='Distribution of sentiment polarities')\n",
    "plt.xlabel('Sentiment polarities')\n",
    "plt.ylabel('Amount of tweets')\n",
    "plt.show()"
   ]
  },
  {
   "cell_type": "code",
   "execution_count": null,
   "metadata": {},
   "outputs": [],
   "source": []
  },
  {
   "cell_type": "code",
   "execution_count": 12,
   "metadata": {},
   "outputs": [
    {
     "name": "stdout",
     "output_type": "stream",
     "text": [
      "Total tweets with climate change keyword: 44036\n",
      "Total tweets with global warming keyword: 7645\n",
      "Total tweets with Global warming & Climate change as keyword: 365\n"
     ]
    },
    {
     "data": {
      "image/png": "[encoded data removed]",
      "text/plain": [
       "<Figure size 720x432 with 1 Axes>"
      ]
     },
     "metadata": {
      "needs_background": "light"
     },
     "output_type": "display_data"
    }
   ],
   "source": [
    "plt.figure(figsize=(10, 6))\n",
    "sns.boxplot(x=sentiment_df['Keyword'], y=sentiment_df['Polarity'])\n",
    "plt.title('Bar plot of sentiment polarities per keywords of tweet')\n",
    "total_cc = len(sentiment_df[sentiment_df['Keyword']=='Climate change'])\n",
    "total_gw = len(sentiment_df[sentiment_df['Keyword']=='Global warming'])\n",
    "total_ccgw = len(sentiment_df[sentiment_df['Keyword']=='Global warming & Climate change'])\n",
    "\n",
    "print('Total tweets with climate change keyword: ' + str(total_cc))\n",
    "print('Total tweets with global warming keyword: ' + str(total_gw))\n",
    "print('Total tweets with Global warming & Climate change as keyword: ' + str(total_ccgw))\n"
   ]
  },
  {
   "cell_type": "markdown",
   "metadata": {},
   "source": [
    "## Implementing machine learning classifiers"
   ]
  },
  {
   "cell_type": "code",
   "execution_count": 13,
   "metadata": {
    "ExecuteTime": {
     "end_time": "2019-10-15T08:37:21.161385Z",
     "start_time": "2019-10-15T08:37:21.154939Z"
    }
   },
   "outputs": [],
   "source": [
    "from sklearn.feature_extraction.text import TfidfTransformer\n",
    "from sklearn.feature_extraction.text import CountVectorizer\n",
    "from sklearn.decomposition import PCA\n",
    "from sklearn.pipeline import Pipeline\n",
    "from sklearn.model_selection import GridSearchCV\n",
    "from sklearn.model_selection import RandomizedSearchCV\n",
    "from sklearn.metrics import accuracy_score\n",
    "import nltk\n",
    "from nltk.stem import PorterStemmer\n",
    "from yellowbrick.classifier import ConfusionMatrix\n",
    "from yellowbrick.classifier import ClassificationReport\n",
    "from yellowbrick.classifier import ROCAUC\n",
    "from yellowbrick.target import ClassBalance\n",
    "from yellowbrick.features.pca import PCADecomposition"
   ]
  },
  {
   "cell_type": "markdown",
   "metadata": {},
   "source": [
    "### Divide into training and test sets\n",
    "We create our feature and label sets for training and testing using sklearn's train_test_split. 80% of the data will go to training sets and 20% will go to the testing sets. The method shuffles the data in a random order to make sure the sets are not unbalanced."
   ]
  },
  {
   "cell_type": "code",
   "execution_count": 14,
   "metadata": {
    "ExecuteTime": {
     "end_time": "2019-10-15T08:37:22.190191Z",
     "start_time": "2019-10-15T08:37:22.181260Z"
    }
   },
   "outputs": [
    {
     "name": "stdout",
     "output_type": "stream",
     "text": [
      "Training set contains: 41636 samples\n",
      "Testing set contains: 10410 samples\n"
     ]
    }
   ],
   "source": [
    "from sklearn.model_selection import train_test_split\n",
    "\n",
    "# Extract features from df\n",
    "features = sentiment_df['Tweet']\n",
    "\n",
    "# Extract labels from df\n",
    "labels = sentiment_df['Sentiment']\n",
    "\n",
    "X_train, X_test, y_train, y_test = train_test_split(features,\n",
    "                                                    labels, test_size=0.2,\n",
    "                                                    random_state=1)\n",
    "\n",
    "print('Training set contains: '+str(len(X_train))+ ' samples')\n",
    "print('Testing set contains: '+str(len(X_test))+ ' samples')"
   ]
  },
  {
   "cell_type": "markdown",
   "metadata": {},
   "source": [
    "The next graph shows us how many instances of each class/label there are in the training set. We can see that the \"neutral\" class has the least instances so the prediction results of this class might be slightly more inacurate."
   ]
  },
  {
   "cell_type": "code",
   "execution_count": 15,
   "metadata": {},
   "outputs": [
    {
     "data": {
      "image/png": "[encoded data removed]",
      "text/plain": [
       "<Figure size 576x396 with 1 Axes>"
      ]
     },
     "metadata": {},
     "output_type": "display_data"
    },
    {
     "data": {
      "text/plain": [
       "<matplotlib.axes._subplots.AxesSubplot at 0x22f82860588>"
      ]
     },
     "execution_count": 15,
     "metadata": {},
     "output_type": "execute_result"
    }
   ],
   "source": [
    "class_balance = ClassBalance(labels=['negative', 'neutral', 'positive'])\n",
    "class_balance.fit(y_train) \n",
    "class_balance.show()\n"
   ]
  },
  {
   "cell_type": "markdown",
   "metadata": {
    "toc-hr-collapsed": true
   },
   "source": [
    "### Preparing pipeline variables\n",
    "Setup of tokenizers (converting 1 text object to a list of text objects)\n",
    "and vectorizers"
   ]
  },
  {
   "cell_type": "code",
   "execution_count": 16,
   "metadata": {
    "ExecuteTime": {
     "end_time": "2019-10-15T08:37:29.428395Z",
     "start_time": "2019-10-15T08:37:29.421450Z"
    }
   },
   "outputs": [],
   "source": [
    "count_vec = CountVectorizer(strip_accents=None, lowercase=False, \n",
    "                            preprocessor = None)\n",
    "tfidf = TfidfTransformer()\n",
    "\n",
    "def tokenizer(text):\n",
    "    return text.split()\n",
    "\n",
    "porter = PorterStemmer()\n",
    "def tokenizer_porter(text):\n",
    "    return [porter.stem(word) for word in text.split()]"
   ]
  },
  {
   "cell_type": "markdown",
   "metadata": {},
   "source": [
    "#### Testing tokenizers"
   ]
  },
  {
   "cell_type": "code",
   "execution_count": 17,
   "metadata": {},
   "outputs": [],
   "source": [
    "sample_tweet = 'Hi i think global warming is awesome. What about you?'\n",
    "\n",
    "token_list = tokenizer(sample_tweet)\n",
    "\n",
    "porter_list =tokenizer_porter(sample_tweet)"
   ]
  },
  {
   "cell_type": "code",
   "execution_count": 18,
   "metadata": {},
   "outputs": [
    {
     "name": "stdout",
     "output_type": "stream",
     "text": [
      "With normal tokenizer:\n"
     ]
    },
    {
     "data": {
      "text/plain": [
       "{'Hi': 0,\n",
       " 'think': 6,\n",
       " 'global': 4,\n",
       " 'warming': 7,\n",
       " 'is': 5,\n",
       " 'awesome': 3,\n",
       " 'What': 1,\n",
       " 'about': 2,\n",
       " 'you': 8}"
      ]
     },
     "execution_count": 18,
     "metadata": {},
     "output_type": "execute_result"
    }
   ],
   "source": [
    "count_vec.fit(token_list)\n",
    "print('With normal tokenizer:')\n",
    "count_vec.vocabulary_"
   ]
  },
  {
   "cell_type": "code",
   "execution_count": 19,
   "metadata": {},
   "outputs": [
    {
     "name": "stdout",
     "output_type": "stream",
     "text": [
      "With porter tokenizer (stemmer):\n"
     ]
    },
    {
     "data": {
      "text/plain": [
       "{'Hi': 0,\n",
       " 'think': 5,\n",
       " 'global': 3,\n",
       " 'warm': 6,\n",
       " 'is': 4,\n",
       " 'awesome': 2,\n",
       " 'what': 7,\n",
       " 'about': 1,\n",
       " 'you': 8}"
      ]
     },
     "execution_count": 19,
     "metadata": {},
     "output_type": "execute_result"
    }
   ],
   "source": [
    "count_vec.fit(porter_list)\n",
    "print('With porter tokenizer (stemmer):')\n",
    "count_vec.vocabulary_"
   ]
  },
  {
   "cell_type": "markdown",
   "metadata": {},
   "source": [
    "### Implementing Logistic regression\n",
    "One of the least complicated classifiers. Based on linear regression but adapted to predict classes instead of scalar values (Has good performance on both small and large datasets)"
   ]
  },
  {
   "cell_type": "code",
   "execution_count": 20,
   "metadata": {
    "ExecuteTime": {
     "end_time": "2019-10-14T13:29:37.222315Z",
     "start_time": "2019-10-14T13:29:37.217850Z"
    }
   },
   "outputs": [],
   "source": [
    "from sklearn.linear_model import LogisticRegression"
   ]
  },
  {
   "cell_type": "code",
   "execution_count": null,
   "metadata": {
    "ExecuteTime": {
     "end_time": "2019-10-14T13:40:16.169261Z",
     "start_time": "2019-10-14T13:30:13.945787Z"
    }
   },
   "outputs": [
    {
     "name": "stdout",
     "output_type": "stream",
     "text": [
      "Fitting 7 folds for each of 150 candidates, totalling 1050 fits\n"
     ]
    },
    {
     "name": "stderr",
     "output_type": "stream",
     "text": [
      "[Parallel(n_jobs=2)]: Using backend LokyBackend with 2 concurrent workers.\n",
      "[Parallel(n_jobs=2)]: Done  46 tasks      | elapsed:  5.3min\n",
      "[Parallel(n_jobs=2)]: Done 196 tasks      | elapsed: 20.6min\n"
     ]
    }
   ],
   "source": [
    "import warnings\n",
    "warnings.filterwarnings('ignore')\n",
    "\n",
    "lr_pipeline = Pipeline([('vect', count_vec), ('tfidf', tfidf), \n",
    "                        ('clf', LogisticRegression(random_state=1))])\n",
    "\n",
    "param_grid_lr ={\n",
    "                'vect__ngram_range': [(1,1),(1,2)],\n",
    "                'vect__tokenizer': [tokenizer, tokenizer_porter],\n",
    "    \n",
    "                 'tfidf__use_idf': [True, False],\n",
    "                 'tfidf__norm': ['l1', 'l2'],\n",
    "    \n",
    "                'clf__dual': [True, False],\n",
    "                'clf__tol': [1e-6, 1e-5, 1e-4, 1e-3, 1e-2 ],\n",
    "                'clf__C': [0.001, 0.01, 0.1, 1, 10, 100, 1000],\n",
    "                'clf__fit_intercept': [True, False],\n",
    "                'clf__max_iter' : [100, 110, 120, 130, 140],\n",
    "                'clf__warm_start': [True, False]\n",
    "              }\n",
    "grid_lr = RandomizedSearchCV(lr_pipeline, param_grid_lr, n_iter=50,\n",
    "                             verbose=10, cv=5, n_jobs=-1, scoring='accuracy')\n",
    "grid_lr.fit(X_train, y_train)\n",
    "print()"
   ]
  },
  {
   "cell_type": "code",
   "execution_count": 22,
   "metadata": {
    "ExecuteTime": {
     "end_time": "2019-10-14T13:40:29.961909Z",
     "start_time": "2019-10-14T13:40:29.955956Z"
    }
   },
   "outputs": [
    {
     "name": "stdout",
     "output_type": "stream",
     "text": [
      "Best parameters:  {'vect__tokenizer': <function tokenizer at 0x0000022F6E1DBD08>, 'vect__ngram_range': (1, 1), 'tfidf__use_idf': False, 'tfidf__norm': 'l2', 'clf__warm_start': False, 'clf__tol': 1e-05, 'clf__max_iter': 120, 'clf__fit_intercept': True, 'clf__dual': False, 'clf__C': 100}\n",
      "\n",
      "The Logistic Regression classifier has reached an accuracy of: 86.51% \n",
      "\n"
     ]
    }
   ],
   "source": [
    "print('Best parameters: ', grid_lr.best_params_)\n",
    "\n",
    "#Create classifier based on best parameters\n",
    "lr = grid_lr.best_estimator_\n",
    "\n",
    "#Fit the data and predict the classes\n",
    "lr.fit(X_train, y_train)\n",
    "predictions_lr = lr.predict(X_test)\n",
    "\n",
    "print('\\nThe Logistic Regression classifier has reached an accuracy of: {:.2f}% \\n'\n",
    "      .format(lr.score(X_test, y_test)*100))"
   ]
  },
  {
   "cell_type": "markdown",
   "metadata": {},
   "source": [
    "### Implementing Multinomial Naive Bayes\n",
    "Based on Bayes theorem. Predicts the probability of an output based on combination of given input parameters"
   ]
  },
  {
   "cell_type": "code",
   "execution_count": 25,
   "metadata": {
    "ExecuteTime": {
     "end_time": "2019-10-15T08:42:27.714496Z",
     "start_time": "2019-10-15T08:42:27.710528Z"
    }
   },
   "outputs": [],
   "source": [
    "from sklearn.naive_bayes import MultinomialNB"
   ]
  },
  {
   "cell_type": "code",
   "execution_count": 34,
   "metadata": {
    "ExecuteTime": {
     "end_time": "2019-10-15T08:45:49.701272Z",
     "start_time": "2019-10-15T08:42:28.563613Z"
    }
   },
   "outputs": [
    {
     "name": "stdout",
     "output_type": "stream",
     "text": [
      "Fitting 5 folds for each of 5 candidates, totalling 25 fits\n"
     ]
    },
    {
     "name": "stderr",
     "output_type": "stream",
     "text": [
      "[Parallel(n_jobs=-1)]: Using backend LokyBackend with 4 concurrent workers.\n",
      "[Parallel(n_jobs=-1)]: Done   5 tasks      | elapsed:   13.8s\n",
      "[Parallel(n_jobs=-1)]: Done  10 tasks      | elapsed:   16.1s\n",
      "[Parallel(n_jobs=-1)]: Done  17 tasks      | elapsed:   33.2s\n",
      "[Parallel(n_jobs=-1)]: Done  21 out of  25 | elapsed:  1.8min remaining:   20.0s\n",
      "[Parallel(n_jobs=-1)]: Done  25 out of  25 | elapsed:  2.4min finished\n"
     ]
    },
    {
     "name": "stdout",
     "output_type": "stream",
     "text": [
      "\n"
     ]
    }
   ],
   "source": [
    "mnb_pipeline = Pipeline([('vect', count_vec), ('tfidf', tfidf), \n",
    "                         ('clf', MultinomialNB())])\n",
    "\n",
    "param_grid_mnb = {\n",
    "                  'vect__ngram_range': [(1,1), (1,2), (1,3)],\n",
    "                  'vect__tokenizer': [tokenizer, tokenizer_porter],\n",
    "    \n",
    "                  'tfidf__use_idf': [True, False],\n",
    "                  'tfidf__norm': ['l1', 'l2'],\n",
    "    \n",
    "                  'clf__alpha': [0.0001, 0.001, 0.01, 0.1, 1.0, 10.0, 100.0],\n",
    "                  'clf__fit_prior': [True, False]\n",
    "                 }\n",
    "grid_mnb = RandomizedSearchCV(mnb_pipeline, param_grid_mnb, n_iter=50,\n",
    "                              cv=5, verbose=10, n_jobs=-1, scoring='accuracy')\n",
    "grid_mnb.fit(X_train, y_train)\n",
    "print()"
   ]
  },
  {
   "cell_type": "code",
   "execution_count": 35,
   "metadata": {
    "ExecuteTime": {
     "end_time": "2019-10-15T08:48:05.421020Z",
     "start_time": "2019-10-15T08:48:05.416062Z"
    }
   },
   "outputs": [
    {
     "name": "stdout",
     "output_type": "stream",
     "text": [
      "Best parameters:  {'vect__tokenizer': <function tokenizer at 0x0000022F82B276A8>, 'vect__ngram_range': (1, 1), 'tfidf__use_idf': True, 'tfidf__norm': 'l2', 'clf__fit_prior': False, 'clf__alpha': 0.01}\n",
      "\n",
      "The Multinomial Naive Bayes classifier has reached an accuracy of: 74.66% \n",
      "\n"
     ]
    }
   ],
   "source": [
    "print('Best parameters: ',grid_mnb.best_params_)\n",
    "\n",
    "#Create classifier based on best parameters\n",
    "mnb = grid_mnb.best_estimator_\n",
    "\n",
    "#Fit the data and predict the classes\n",
    "mnb.fit(X_train, y_train)\n",
    "predictions_mnb = mnb.predict(X_test)\n",
    "\n",
    "print('\\nThe Multinomial Naive Bayes classifier has reached an accuracy of: {:.2f}% \\n'\n",
    "      .format(mnb.score(X_test, y_test)*100))"
   ]
  },
  {
   "cell_type": "markdown",
   "metadata": {},
   "source": [
    "### Implementing Support Vector Machine"
   ]
  },
  {
   "cell_type": "code",
   "execution_count": 26,
   "metadata": {
    "ExecuteTime": {
     "end_time": "2019-10-15T08:40:35.452418Z",
     "start_time": "2019-10-15T08:40:35.447953Z"
    }
   },
   "outputs": [],
   "source": [
    "from sklearn.svm import SVC"
   ]
  },
  {
   "cell_type": "code",
   "execution_count": null,
   "metadata": {
    "ExecuteTime": {
     "end_time": "2019-10-15T08:40:36.328709Z",
     "start_time": "2019-10-15T08:40:36.308868Z"
    }
   },
   "outputs": [
    {
     "name": "stdout",
     "output_type": "stream",
     "text": [
      "Fitting 5 folds for each of 60 candidates, totalling 300 fits\n"
     ]
    },
    {
     "name": "stderr",
     "output_type": "stream",
     "text": [
      "[Parallel(n_jobs=2)]: Using backend LokyBackend with 2 concurrent workers.\n",
      "[Parallel(n_jobs=2)]: Done  46 tasks      | elapsed: 256.2min\n"
     ]
    }
   ],
   "source": [
    "svc_pipeline = Pipeline([('vect', count_vec), ('tfidf', tfidf),\n",
    "                         ('clf', SVC(random_state=1))])\n",
    "\n",
    "param_grid_svm = {\n",
    "                  'vect__ngram_range': [(1,1),(1,2)],\n",
    "                  'vect__tokenizer': [tokenizer, tokenizer_porter],\n",
    "    \n",
    "                  'tfidf__use_idf': [True, False],\n",
    "                  'tfidf__norm': ['l1', 'l2'],                  \n",
    "    \n",
    "                  'clf__C': [0.1, 1, 10, 100],\n",
    "                  'clf__kernel': ['linear', 'rbf', 'poly'],\n",
    "                  'clf__gamma': [0.1, 1, 10, 100],\n",
    "                  'clf__degree': [0, 1, 2, 3, 4, 5, 6]\n",
    "                 }\n",
    "\n",
    "grid_svc = RandomizedSearchCV(svc_pipeline, param_grid_svm, n_iter=50, \n",
    "                              cv=5, verbose=10, n_jobs=-1, scoring='accuracy')\n",
    "grid_svc.fit(X_train, y_train)\n",
    "print()"
   ]
  },
  {
   "cell_type": "code",
   "execution_count": null,
   "metadata": {
    "ExecuteTime": {
     "end_time": "2019-10-14T14:26:37.291804Z",
     "start_time": "2019-10-14T14:26:37.287340Z"
    }
   },
   "outputs": [],
   "source": [
    "print('Best parameters: ', grid_svc.best_params_)\n",
    "#Create classifier based on best parameters\n",
    "svm = grid_svc.best_estimator_\n",
    "\n",
    "#Fit the data and predict the classes\n",
    "svm_fit = svm.fit(X_train, y_train)\n",
    "predictions_svm = svm.predict(X_test)\n",
    "\n",
    "print('\\nThe Support Vector classifier has reached an accuracy of: {:.2f}% \\n'\n",
    "      .format(svm.score(X_test, y_test)*100))"
   ]
  },
  {
   "cell_type": "markdown",
   "metadata": {},
   "source": [
    "### Implementing decision tree\n",
    "Tries to determin the class/label of a datapoint based on sequential conditions"
   ]
  },
  {
   "cell_type": "code",
   "execution_count": 21,
   "metadata": {},
   "outputs": [],
   "source": [
    "from sklearn import tree"
   ]
  },
  {
   "cell_type": "code",
   "execution_count": 22,
   "metadata": {},
   "outputs": [
    {
     "name": "stdout",
     "output_type": "stream",
     "text": [
      "Fitting 5 folds for each of 50 candidates, totalling 250 fits\n"
     ]
    },
    {
     "name": "stderr",
     "output_type": "stream",
     "text": [
      "[Parallel(n_jobs=-1)]: Using backend LokyBackend with 4 concurrent workers.\n",
      "[Parallel(n_jobs=-1)]: Done  42 tasks      | elapsed:  7.0min\n",
      "[Parallel(n_jobs=-1)]: Done 192 tasks      | elapsed: 23.8min\n",
      "[Parallel(n_jobs=-1)]: Done 250 out of 250 | elapsed: 27.5min finished\n"
     ]
    },
    {
     "name": "stdout",
     "output_type": "stream",
     "text": [
      "\n"
     ]
    }
   ],
   "source": [
    "dt_pipeline = Pipeline([('vect', count_vec), ('tfidf', tfidf),\n",
    "                         ('clf', tree.DecisionTreeClassifier(random_state=1))])\n",
    "\n",
    "param_grid_dt = {\n",
    "                  'vect__ngram_range': [(1,1),(1,2)],\n",
    "                  'vect__tokenizer': [tokenizer, tokenizer_porter],\n",
    "    \n",
    "                  'tfidf__use_idf': [True, False],\n",
    "                  'tfidf__norm': ['l1', 'l2'],                  \n",
    "    \n",
    "                  'clf__max_depth': np.arange(1, 100),\n",
    "                  'clf__max_features': np.arange(1, 50),\n",
    "                  'clf__min_samples_leaf': np.arange(1, 50),\n",
    "                  'clf__criterion':['gini','entropy']\n",
    "                 }\n",
    "\n",
    "grid_dt = RandomizedSearchCV(dt_pipeline, param_grid_dt, n_iter=50, \n",
    "                              cv=5, verbose=1, n_jobs=-1, scoring='accuracy')\n",
    "grid_dt.fit(X_train, y_train)\n",
    "print()"
   ]
  },
  {
   "cell_type": "code",
   "execution_count": 32,
   "metadata": {},
   "outputs": [
    {
     "name": "stdout",
     "output_type": "stream",
     "text": [
      "{'vect__tokenizer': <function tokenizer_porter at 0x0000022F82B27840>, 'vect__ngram_range': (1, 1), 'tfidf__use_idf': False, 'tfidf__norm': 'l2', 'clf__min_samples_leaf': 2, 'clf__max_features': 28, 'clf__max_depth': 62, 'clf__criterion': 'entropy'}\n",
      "\n",
      "The decision tree classifier has reached an accuracy of: 46.29% \n",
      "\n"
     ]
    }
   ],
   "source": [
    "print(grid_dt.best_params_)\n",
    "#Create classifier based on best parameters\n",
    "dt = grid_dt.best_estimator_\n",
    "\n",
    "#Fit the data and predict the classes\n",
    "dt.fit(X_train, y_train)\n",
    "predictions_dt = dt.predict(X_test)\n",
    "print('\\nThe decision tree classifier has reached an accuracy of: {:.2f}% \\n'\n",
    "      .format(dt.score(X_test, y_test)*100))"
   ]
  },
  {
   "cell_type": "markdown",
   "metadata": {},
   "source": [
    "### Implementing Random Forest\n",
    "Combination of many random decision trees"
   ]
  },
  {
   "cell_type": "code",
   "execution_count": 36,
   "metadata": {
    "ExecuteTime": {
     "end_time": "2019-10-14T13:41:37.673843Z",
     "start_time": "2019-10-14T13:41:37.393165Z"
    }
   },
   "outputs": [],
   "source": [
    "from sklearn.ensemble import RandomForestClassifier"
   ]
  },
  {
   "cell_type": "code",
   "execution_count": 37,
   "metadata": {
    "ExecuteTime": {
     "end_time": "2019-10-14T14:19:49.583603Z",
     "start_time": "2019-10-14T14:08:04.705991Z"
    }
   },
   "outputs": [
    {
     "name": "stdout",
     "output_type": "stream",
     "text": [
      "Fitting 5 folds for each of 50 candidates, totalling 250 fits\n"
     ]
    },
    {
     "name": "stderr",
     "output_type": "stream",
     "text": [
      "[Parallel(n_jobs=-1)]: Using backend LokyBackend with 4 concurrent workers.\n",
      "[Parallel(n_jobs=-1)]: Done   5 tasks      | elapsed:  5.2min\n",
      "[Parallel(n_jobs=-1)]: Done  10 tasks      | elapsed:  7.7min\n",
      "[Parallel(n_jobs=-1)]: Done  17 tasks      | elapsed: 12.0min\n",
      "[Parallel(n_jobs=-1)]: Done  24 tasks      | elapsed: 15.4min\n",
      "[Parallel(n_jobs=-1)]: Done  25 tasks      | elapsed: 15.4min\n",
      "[Parallel(n_jobs=-1)]: Done  26 tasks      | elapsed: 15.4min\n",
      "[Parallel(n_jobs=-1)]: Done  27 tasks      | elapsed: 15.4min\n",
      "[Parallel(n_jobs=-1)]: Done  28 tasks      | elapsed: 15.4min\n",
      "[Parallel(n_jobs=-1)]: Done  29 tasks      | elapsed: 15.4min\n",
      "[Parallel(n_jobs=-1)]: Done  30 tasks      | elapsed: 15.4min\n",
      "[Parallel(n_jobs=-1)]: Done  31 tasks      | elapsed: 15.4min\n"
     ]
    },
    {
     "ename": "KeyboardInterrupt",
     "evalue": "",
     "output_type": "error",
     "traceback": [
      "\u001b[1;31m---------------------------------------------------------------------------\u001b[0m",
      "\u001b[1;31mKeyboardInterrupt\u001b[0m                         Traceback (most recent call last)",
      "\u001b[1;32m<ipython-input-37-70960e867703>\u001b[0m in \u001b[0;36m<module>\u001b[1;34m\u001b[0m\n\u001b[0;32m     21\u001b[0m                              scoring='accuracy')\n\u001b[0;32m     22\u001b[0m \u001b[1;33m\u001b[0m\u001b[0m\n\u001b[1;32m---> 23\u001b[1;33m \u001b[0mgrid_rf\u001b[0m\u001b[1;33m.\u001b[0m\u001b[0mfit\u001b[0m\u001b[1;33m(\u001b[0m\u001b[0mX_train\u001b[0m\u001b[1;33m,\u001b[0m \u001b[0my_train\u001b[0m\u001b[1;33m)\u001b[0m\u001b[1;33m\u001b[0m\u001b[1;33m\u001b[0m\u001b[0m\n\u001b[0m\u001b[0;32m     24\u001b[0m \u001b[0mprint\u001b[0m\u001b[1;33m(\u001b[0m\u001b[1;33m)\u001b[0m\u001b[1;33m\u001b[0m\u001b[1;33m\u001b[0m\u001b[0m\n",
      "\u001b[1;32m~\\AppData\\Local\\Continuum\\anaconda3\\lib\\site-packages\\sklearn\\model_selection\\_search.py\u001b[0m in \u001b[0;36mfit\u001b[1;34m(self, X, y, groups, **fit_params)\u001b[0m\n\u001b[0;32m    685\u001b[0m                 \u001b[1;32mreturn\u001b[0m \u001b[0mresults\u001b[0m\u001b[1;33m\u001b[0m\u001b[1;33m\u001b[0m\u001b[0m\n\u001b[0;32m    686\u001b[0m \u001b[1;33m\u001b[0m\u001b[0m\n\u001b[1;32m--> 687\u001b[1;33m             \u001b[0mself\u001b[0m\u001b[1;33m.\u001b[0m\u001b[0m_run_search\u001b[0m\u001b[1;33m(\u001b[0m\u001b[0mevaluate_candidates\u001b[0m\u001b[1;33m)\u001b[0m\u001b[1;33m\u001b[0m\u001b[1;33m\u001b[0m\u001b[0m\n\u001b[0m\u001b[0;32m    688\u001b[0m \u001b[1;33m\u001b[0m\u001b[0m\n\u001b[0;32m    689\u001b[0m         \u001b[1;31m# For multi-metric evaluation, store the best_index_, best_params_ and\u001b[0m\u001b[1;33m\u001b[0m\u001b[1;33m\u001b[0m\u001b[1;33m\u001b[0m\u001b[0m\n",
      "\u001b[1;32m~\\AppData\\Local\\Continuum\\anaconda3\\lib\\site-packages\\sklearn\\model_selection\\_search.py\u001b[0m in \u001b[0;36m_run_search\u001b[1;34m(self, evaluate_candidates)\u001b[0m\n\u001b[0;32m   1466\u001b[0m         evaluate_candidates(ParameterSampler(\n\u001b[0;32m   1467\u001b[0m             \u001b[0mself\u001b[0m\u001b[1;33m.\u001b[0m\u001b[0mparam_distributions\u001b[0m\u001b[1;33m,\u001b[0m \u001b[0mself\u001b[0m\u001b[1;33m.\u001b[0m\u001b[0mn_iter\u001b[0m\u001b[1;33m,\u001b[0m\u001b[1;33m\u001b[0m\u001b[1;33m\u001b[0m\u001b[0m\n\u001b[1;32m-> 1468\u001b[1;33m             random_state=self.random_state))\n\u001b[0m",
      "\u001b[1;32m~\\AppData\\Local\\Continuum\\anaconda3\\lib\\site-packages\\sklearn\\model_selection\\_search.py\u001b[0m in \u001b[0;36mevaluate_candidates\u001b[1;34m(candidate_params)\u001b[0m\n\u001b[0;32m    664\u001b[0m                                \u001b[1;32mfor\u001b[0m \u001b[0mparameters\u001b[0m\u001b[1;33m,\u001b[0m \u001b[1;33m(\u001b[0m\u001b[0mtrain\u001b[0m\u001b[1;33m,\u001b[0m \u001b[0mtest\u001b[0m\u001b[1;33m)\u001b[0m\u001b[1;33m\u001b[0m\u001b[1;33m\u001b[0m\u001b[0m\n\u001b[0;32m    665\u001b[0m                                in product(candidate_params,\n\u001b[1;32m--> 666\u001b[1;33m                                           cv.split(X, y, groups)))\n\u001b[0m\u001b[0;32m    667\u001b[0m \u001b[1;33m\u001b[0m\u001b[0m\n\u001b[0;32m    668\u001b[0m                 \u001b[1;32mif\u001b[0m \u001b[0mlen\u001b[0m\u001b[1;33m(\u001b[0m\u001b[0mout\u001b[0m\u001b[1;33m)\u001b[0m \u001b[1;33m<\u001b[0m \u001b[1;36m1\u001b[0m\u001b[1;33m:\u001b[0m\u001b[1;33m\u001b[0m\u001b[1;33m\u001b[0m\u001b[0m\n",
      "\u001b[1;32m~\\AppData\\Local\\Continuum\\anaconda3\\lib\\site-packages\\joblib\\parallel.py\u001b[0m in \u001b[0;36m__call__\u001b[1;34m(self, iterable)\u001b[0m\n\u001b[0;32m    932\u001b[0m \u001b[1;33m\u001b[0m\u001b[0m\n\u001b[0;32m    933\u001b[0m             \u001b[1;32mwith\u001b[0m \u001b[0mself\u001b[0m\u001b[1;33m.\u001b[0m\u001b[0m_backend\u001b[0m\u001b[1;33m.\u001b[0m\u001b[0mretrieval_context\u001b[0m\u001b[1;33m(\u001b[0m\u001b[1;33m)\u001b[0m\u001b[1;33m:\u001b[0m\u001b[1;33m\u001b[0m\u001b[1;33m\u001b[0m\u001b[0m\n\u001b[1;32m--> 934\u001b[1;33m                 \u001b[0mself\u001b[0m\u001b[1;33m.\u001b[0m\u001b[0mretrieve\u001b[0m\u001b[1;33m(\u001b[0m\u001b[1;33m)\u001b[0m\u001b[1;33m\u001b[0m\u001b[1;33m\u001b[0m\u001b[0m\n\u001b[0m\u001b[0;32m    935\u001b[0m             \u001b[1;31m# Make sure that we get a last message telling us we are done\u001b[0m\u001b[1;33m\u001b[0m\u001b[1;33m\u001b[0m\u001b[1;33m\u001b[0m\u001b[0m\n\u001b[0;32m    936\u001b[0m             \u001b[0melapsed_time\u001b[0m \u001b[1;33m=\u001b[0m \u001b[0mtime\u001b[0m\u001b[1;33m.\u001b[0m\u001b[0mtime\u001b[0m\u001b[1;33m(\u001b[0m\u001b[1;33m)\u001b[0m \u001b[1;33m-\u001b[0m \u001b[0mself\u001b[0m\u001b[1;33m.\u001b[0m\u001b[0m_start_time\u001b[0m\u001b[1;33m\u001b[0m\u001b[1;33m\u001b[0m\u001b[0m\n",
      "\u001b[1;32m~\\AppData\\Local\\Continuum\\anaconda3\\lib\\site-packages\\joblib\\parallel.py\u001b[0m in \u001b[0;36mretrieve\u001b[1;34m(self)\u001b[0m\n\u001b[0;32m    831\u001b[0m             \u001b[1;32mtry\u001b[0m\u001b[1;33m:\u001b[0m\u001b[1;33m\u001b[0m\u001b[1;33m\u001b[0m\u001b[0m\n\u001b[0;32m    832\u001b[0m                 \u001b[1;32mif\u001b[0m \u001b[0mgetattr\u001b[0m\u001b[1;33m(\u001b[0m\u001b[0mself\u001b[0m\u001b[1;33m.\u001b[0m\u001b[0m_backend\u001b[0m\u001b[1;33m,\u001b[0m \u001b[1;34m'supports_timeout'\u001b[0m\u001b[1;33m,\u001b[0m \u001b[1;32mFalse\u001b[0m\u001b[1;33m)\u001b[0m\u001b[1;33m:\u001b[0m\u001b[1;33m\u001b[0m\u001b[1;33m\u001b[0m\u001b[0m\n\u001b[1;32m--> 833\u001b[1;33m                     \u001b[0mself\u001b[0m\u001b[1;33m.\u001b[0m\u001b[0m_output\u001b[0m\u001b[1;33m.\u001b[0m\u001b[0mextend\u001b[0m\u001b[1;33m(\u001b[0m\u001b[0mjob\u001b[0m\u001b[1;33m.\u001b[0m\u001b[0mget\u001b[0m\u001b[1;33m(\u001b[0m\u001b[0mtimeout\u001b[0m\u001b[1;33m=\u001b[0m\u001b[0mself\u001b[0m\u001b[1;33m.\u001b[0m\u001b[0mtimeout\u001b[0m\u001b[1;33m)\u001b[0m\u001b[1;33m)\u001b[0m\u001b[1;33m\u001b[0m\u001b[1;33m\u001b[0m\u001b[0m\n\u001b[0m\u001b[0;32m    834\u001b[0m                 \u001b[1;32melse\u001b[0m\u001b[1;33m:\u001b[0m\u001b[1;33m\u001b[0m\u001b[1;33m\u001b[0m\u001b[0m\n\u001b[0;32m    835\u001b[0m                     \u001b[0mself\u001b[0m\u001b[1;33m.\u001b[0m\u001b[0m_output\u001b[0m\u001b[1;33m.\u001b[0m\u001b[0mextend\u001b[0m\u001b[1;33m(\u001b[0m\u001b[0mjob\u001b[0m\u001b[1;33m.\u001b[0m\u001b[0mget\u001b[0m\u001b[1;33m(\u001b[0m\u001b[1;33m)\u001b[0m\u001b[1;33m)\u001b[0m\u001b[1;33m\u001b[0m\u001b[1;33m\u001b[0m\u001b[0m\n",
      "\u001b[1;32m~\\AppData\\Local\\Continuum\\anaconda3\\lib\\site-packages\\joblib\\_parallel_backends.py\u001b[0m in \u001b[0;36mwrap_future_result\u001b[1;34m(future, timeout)\u001b[0m\n\u001b[0;32m    519\u001b[0m         AsyncResults.get from multiprocessing.\"\"\"\n\u001b[0;32m    520\u001b[0m         \u001b[1;32mtry\u001b[0m\u001b[1;33m:\u001b[0m\u001b[1;33m\u001b[0m\u001b[1;33m\u001b[0m\u001b[0m\n\u001b[1;32m--> 521\u001b[1;33m             \u001b[1;32mreturn\u001b[0m \u001b[0mfuture\u001b[0m\u001b[1;33m.\u001b[0m\u001b[0mresult\u001b[0m\u001b[1;33m(\u001b[0m\u001b[0mtimeout\u001b[0m\u001b[1;33m=\u001b[0m\u001b[0mtimeout\u001b[0m\u001b[1;33m)\u001b[0m\u001b[1;33m\u001b[0m\u001b[1;33m\u001b[0m\u001b[0m\n\u001b[0m\u001b[0;32m    522\u001b[0m         \u001b[1;32mexcept\u001b[0m \u001b[0mLokyTimeoutError\u001b[0m\u001b[1;33m:\u001b[0m\u001b[1;33m\u001b[0m\u001b[1;33m\u001b[0m\u001b[0m\n\u001b[0;32m    523\u001b[0m             \u001b[1;32mraise\u001b[0m \u001b[0mTimeoutError\u001b[0m\u001b[1;33m(\u001b[0m\u001b[1;33m)\u001b[0m\u001b[1;33m\u001b[0m\u001b[1;33m\u001b[0m\u001b[0m\n",
      "\u001b[1;32m~\\AppData\\Local\\Continuum\\anaconda3\\lib\\concurrent\\futures\\_base.py\u001b[0m in \u001b[0;36mresult\u001b[1;34m(self, timeout)\u001b[0m\n\u001b[0;32m    425\u001b[0m                 \u001b[1;32mreturn\u001b[0m \u001b[0mself\u001b[0m\u001b[1;33m.\u001b[0m\u001b[0m__get_result\u001b[0m\u001b[1;33m(\u001b[0m\u001b[1;33m)\u001b[0m\u001b[1;33m\u001b[0m\u001b[1;33m\u001b[0m\u001b[0m\n\u001b[0;32m    426\u001b[0m \u001b[1;33m\u001b[0m\u001b[0m\n\u001b[1;32m--> 427\u001b[1;33m             \u001b[0mself\u001b[0m\u001b[1;33m.\u001b[0m\u001b[0m_condition\u001b[0m\u001b[1;33m.\u001b[0m\u001b[0mwait\u001b[0m\u001b[1;33m(\u001b[0m\u001b[0mtimeout\u001b[0m\u001b[1;33m)\u001b[0m\u001b[1;33m\u001b[0m\u001b[1;33m\u001b[0m\u001b[0m\n\u001b[0m\u001b[0;32m    428\u001b[0m \u001b[1;33m\u001b[0m\u001b[0m\n\u001b[0;32m    429\u001b[0m             \u001b[1;32mif\u001b[0m \u001b[0mself\u001b[0m\u001b[1;33m.\u001b[0m\u001b[0m_state\u001b[0m \u001b[1;32min\u001b[0m \u001b[1;33m[\u001b[0m\u001b[0mCANCELLED\u001b[0m\u001b[1;33m,\u001b[0m \u001b[0mCANCELLED_AND_NOTIFIED\u001b[0m\u001b[1;33m]\u001b[0m\u001b[1;33m:\u001b[0m\u001b[1;33m\u001b[0m\u001b[1;33m\u001b[0m\u001b[0m\n",
      "\u001b[1;32m~\\AppData\\Local\\Continuum\\anaconda3\\lib\\threading.py\u001b[0m in \u001b[0;36mwait\u001b[1;34m(self, timeout)\u001b[0m\n\u001b[0;32m    294\u001b[0m         \u001b[1;32mtry\u001b[0m\u001b[1;33m:\u001b[0m    \u001b[1;31m# restore state no matter what (e.g., KeyboardInterrupt)\u001b[0m\u001b[1;33m\u001b[0m\u001b[1;33m\u001b[0m\u001b[0m\n\u001b[0;32m    295\u001b[0m             \u001b[1;32mif\u001b[0m \u001b[0mtimeout\u001b[0m \u001b[1;32mis\u001b[0m \u001b[1;32mNone\u001b[0m\u001b[1;33m:\u001b[0m\u001b[1;33m\u001b[0m\u001b[1;33m\u001b[0m\u001b[0m\n\u001b[1;32m--> 296\u001b[1;33m                 \u001b[0mwaiter\u001b[0m\u001b[1;33m.\u001b[0m\u001b[0macquire\u001b[0m\u001b[1;33m(\u001b[0m\u001b[1;33m)\u001b[0m\u001b[1;33m\u001b[0m\u001b[1;33m\u001b[0m\u001b[0m\n\u001b[0m\u001b[0;32m    297\u001b[0m                 \u001b[0mgotit\u001b[0m \u001b[1;33m=\u001b[0m \u001b[1;32mTrue\u001b[0m\u001b[1;33m\u001b[0m\u001b[1;33m\u001b[0m\u001b[0m\n\u001b[0;32m    298\u001b[0m             \u001b[1;32melse\u001b[0m\u001b[1;33m:\u001b[0m\u001b[1;33m\u001b[0m\u001b[1;33m\u001b[0m\u001b[0m\n",
      "\u001b[1;31mKeyboardInterrupt\u001b[0m: "
     ]
    }
   ],
   "source": [
    "rf_pipeline = Pipeline([('vect', count_vec), ('tfidf', tfidf), \n",
    "                        ('clf', RandomForestClassifier(random_state=1))])\n",
    "\n",
    "param_grid_rf = {\n",
    "                 'vect__ngram_range': [(1,1),(1,2), (1,3)],\n",
    "                 'vect__tokenizer': [tokenizer, tokenizer_porter],\n",
    "    \n",
    "                 'tfidf__use_idf': [True, False],\n",
    "                 'tfidf__norm': ['l1', 'l2'],                  \n",
    "    \n",
    "                 'clf__n_estimators': [500, 750, 1000, 1500],\n",
    "                 'clf__max_features': ['auto', 'sqrt'],\n",
    "                 'clf__max_depth': np.linspace(1, 64, 32, endpoint=True),\n",
    "                 'clf__min_samples_split': [2, 5, 10],\n",
    "                 'clf__min_samples_leaf': [1, 2, 4],\n",
    "                 'clf__bootstrap': [True, False]\n",
    "                }\n",
    "\n",
    "grid_rf = RandomizedSearchCV(rf_pipeline, param_grid_rf,\n",
    "                             cv=5, n_iter=50 , verbose=10, n_jobs=-1, \n",
    "                             scoring='accuracy')\n",
    "\n",
    "grid_rf.fit(X_train, y_train)\n",
    "print()"
   ]
  },
  {
   "cell_type": "code",
   "execution_count": null,
   "metadata": {
    "ExecuteTime": {
     "end_time": "2019-10-14T14:19:49.797381Z",
     "start_time": "2019-10-14T14:19:49.792420Z"
    }
   },
   "outputs": [],
   "source": [
    "print(grid_rf.best_params_)\n",
    "#Create classifier based on best parameters\n",
    "rf = grid_rf.best_estimator_\n",
    "\n",
    "#Fit the data and predict the classes\n",
    "rf.fit(X_train, y_train)\n",
    "predictions_rf = rf.predict(X_test)\n",
    "print('\\nThe Random Forest classifier has reached an accuracy of: {:.2f}% \\n'\n",
    "      .format(rf.score(X_test, y_test)*100))"
   ]
  },
  {
   "cell_type": "markdown",
   "metadata": {},
   "source": [
    "### Testing XGBoost (extreme gradient boosting)"
   ]
  },
  {
   "cell_type": "code",
   "execution_count": 38,
   "metadata": {},
   "outputs": [],
   "source": [
    "import xgboost"
   ]
  },
  {
   "cell_type": "code",
   "execution_count": null,
   "metadata": {},
   "outputs": [
    {
     "name": "stdout",
     "output_type": "stream",
     "text": [
      "Fitting 5 folds for each of 50 candidates, totalling 250 fits\n"
     ]
    },
    {
     "name": "stderr",
     "output_type": "stream",
     "text": [
      "[Parallel(n_jobs=3)]: Using backend LokyBackend with 3 concurrent workers.\n",
      "[Parallel(n_jobs=3)]: Done  44 tasks      | elapsed:  5.4min\n",
      "[Parallel(n_jobs=3)]: Done 194 tasks      | elapsed: 30.0min\n"
     ]
    }
   ],
   "source": [
    "xgb_pipeline = Pipeline([('vect', count_vec), ('tfidf', tfidf),\n",
    "                         ('clf', xgboost.XGBClassifier())])\n",
    "\n",
    "param_grid_xgb = {\n",
    "                  'vect__ngram_range': [(1,1),(1,2)],\n",
    "                  'vect__tokenizer': [tokenizer, tokenizer_porter],\n",
    "    \n",
    "                  'tfidf__use_idf': [True, False],\n",
    "                  'tfidf__norm': ['l1', 'l2'],                  \n",
    "    \n",
    "                  'clf__eta'    : [0.05, 0.10, 0.15, 0.20, 0.25, 0.30 ] ,\n",
    "                  'clf__max_depth' : [ 3, 4, 5, 6, 8, 10, 12, 15],\n",
    "                  'clf__min_child_weight' : [ 1, 3, 5, 7 ],\n",
    "                  'clf__gamma'            : [ 0, 1, 5 ],\n",
    "                  'clf__colsample_bytree' : [ 0.3, 0.4, 0.5 , 0.7 ]\n",
    "                  'clf__n_estimators'     : [ 10, 100, 1000]\n",
    "                 }\n",
    "\n",
    "grid_xgb = RandomizedSearchCV(dt_pipeline, param_grid_dt, n_iter=50, \n",
    "                              cv=5, verbose=1, n_jobs=3, scoring='neg_log_loss')\n",
    "grid_xgb.fit(X_train, y_train)\n",
    "print()"
   ]
  },
  {
   "cell_type": "code",
   "execution_count": null,
   "metadata": {},
   "outputs": [],
   "source": [
    "print(grid_xgb.best_params_)\n",
    "#Create classifier based on best parameters\n",
    "xgb = grid_xgb.best_estimator_\n",
    "\n",
    "#Fit the data and predict the classes\n",
    "xgb.fit(X_train, y_train)\n",
    "predictions_xgb = dt.predict(X_test)\n",
    "print('\\nThe XGBoost  classifier has reached an accuracy of: {:.2f}% \\n'\n",
    "      .format(xgb.score(X_test, y_test)*100))"
   ]
  },
  {
   "cell_type": "markdown",
   "metadata": {},
   "source": [
    "## Comparing clasiffier results"
   ]
  },
  {
   "cell_type": "markdown",
   "metadata": {},
   "source": [
    "### Confusion matrices\n",
    "Matrix that shows the true and false predictions per class"
   ]
  },
  {
   "cell_type": "code",
   "execution_count": null,
   "metadata": {},
   "outputs": [],
   "source": [
    "fig, ax = plt.subplots(2,2, figsize=(15,8), tight_layout=True)\n",
    "\n",
    "visualgrid = [\n",
    "    ConfusionMatrix(model=mnb, classes=classes, ax=ax[0,0]),\n",
    "    ConfusionMatrix(model=lr, classes=classes, ax=ax[0,1]),\n",
    "    ConfusionMatrix(model=svm, classes=classes, ax=ax[1,0]),\n",
    "    ConfusionMatrix(model=rf, classes=classes, ax=ax[1,1])\n",
    "]\n",
    "\n",
    "for viz in visualgrid:\n",
    "    viz.fit(X_train, y_train)\n",
    "    viz.score(X_test, y_test)\n",
    "    viz.finalize()\n"
   ]
  },
  {
   "cell_type": "markdown",
   "metadata": {},
   "source": [
    "### ROCAUC curve\n",
    "tradeoff between the model’s sensitivity and specificity"
   ]
  },
  {
   "cell_type": "code",
   "execution_count": null,
   "metadata": {},
   "outputs": [],
   "source": [
    "fig, ax = plt.subplots(2,2, figsize=(15,15), tight_layout=True)\n",
    "\n",
    "visualgrid = [\n",
    "    ROCAUC(model=mnb, classes=classes, ax=ax[0,0], micro=False, macro=False),\n",
    "    ROCAUC(model=lr, classes=classes, ax=ax[0,1], micro=False, macro=False),\n",
    "    ROCAUC(model=svm, classes=classes, ax=ax[1,0], micro=False, macro=False),\n",
    "    ROCAUC(model=rf, classes=classes, ax=ax[1,1], micro=False, macro=False)\n",
    "]\n",
    "\n",
    "for viz in visualgrid:\n",
    "    viz.fit(X_train, y_train)\n",
    "    viz.score(X_test, y_test)\n",
    "    for label in viz.ax.texts:\n",
    "        label.set_size(15)\n",
    "    viz.finalize()\n"
   ]
  },
  {
   "cell_type": "markdown",
   "metadata": {},
   "source": [
    "### Classification reports\n",
    "Report on the accuracy of the classifier"
   ]
  },
  {
   "cell_type": "code",
   "execution_count": null,
   "metadata": {},
   "outputs": [],
   "source": [
    "fig, ax = plt.subplots(2,2, figsize=(15,8), tight_layout=True)\n",
    "\n",
    "visualgrid = [\n",
    "    ClassificationReport(model=mnb, classes=classes, ax=ax[0,0]),\n",
    "    ClassificationReport(model=lr, classes=classes, ax=ax[0,1]),\n",
    "    ClassificationReport(model=svm, classes=classes, ax=ax[1,0]),\n",
    "    ClassificationReport(model=rf, classes=classes, ax=ax[1,1])\n",
    "]\n",
    "\n",
    "for viz in visualgrid:\n",
    "    viz.fit(X_train, y_train)\n",
    "    viz.score(X_test, y_test)\n",
    "    for label in viz.ax.texts:\n",
    "        label.set_size(15)\n",
    "    viz.finalize()\n"
   ]
  }
 ],
 "metadata": {
  "kernelspec": {
   "display_name": "Python 3",
   "language": "python",
   "name": "python3"
  },
  "language_info": {
   "codemirror_mode": {
    "name": "ipython",
    "version": 3
   },
   "file_extension": ".py",
   "mimetype": "text/x-python",
   "name": "python",
   "nbconvert_exporter": "python",
   "pygments_lexer": "ipython3",
   "version": "3.7.3"
  },
  "toc": {
   "base_numbering": 1,
   "nav_menu": {},
   "number_sections": true,
   "sideBar": true,
   "skip_h1_title": false,
   "title_cell": "Table of Contents",
   "title_sidebar": "Contents",
   "toc_cell": false,
   "toc_position": {
    "height": "calc(100% - 180px)",
    "left": "10px",
    "top": "150px",
    "width": "290.6px"
   },
   "toc_section_display": true,
   "toc_window_display": false
  },
  "toc-autonumbering": true,
  "toc-showtags": false,
  "varInspector": {
   "cols": {
    "lenName": 16,
    "lenType": 16,
    "lenVar": 40
   },
   "kernels_config": {
    "python": {
     "delete_cmd_postfix": "",
     "delete_cmd_prefix": "del ",
     "library": "var_list.py",
     "varRefreshCmd": "print(var_dic_list())"
    },
    "r": {
     "delete_cmd_postfix": ") ",
     "delete_cmd_prefix": "rm(",
     "library": "var_list.r",
     "varRefreshCmd": "cat(var_dic_list()) "
    }
   },
   "position": {
    "height": "478.8px",
    "left": "1175.6px",
    "right": "20px",
    "top": "124px",
    "width": "341.4px"
   },
   "types_to_exclude": [
    "module",
    "function",
    "builtin_function_or_method",
    "instance",
    "_Feature"
   ],
   "window_display": false
  }
 },
 "nbformat": 4,
 "nbformat_minor": 4
}
