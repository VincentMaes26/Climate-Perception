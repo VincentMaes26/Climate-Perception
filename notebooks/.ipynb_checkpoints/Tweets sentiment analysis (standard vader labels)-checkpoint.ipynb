{
 "cells": [
  {
   "cell_type": "markdown",
   "metadata": {},
   "source": [
    "# Tweet sentiment analysis"
   ]
  },
  {
   "cell_type": "code",
   "execution_count": 17,
   "metadata": {
    "ExecuteTime": {
     "end_time": "2019-10-14T11:10:56.389434Z",
     "start_time": "2019-10-14T11:10:56.360137Z"
    }
   },
   "outputs": [],
   "source": [
    "import re\n",
    "import numpy as np\n",
    "import pandas as pd\n",
    "import matplotlib.pyplot as plt\n",
    "import matplotlib.ticker as ticker\n",
    "import seaborn as sns\n",
    "import datetime\n",
    "import boto3\n",
    "import s3fs"
   ]
  },
  {
   "cell_type": "markdown",
   "metadata": {},
   "source": [
    "## Get dataframe from S3 bucket"
   ]
  },
  {
   "cell_type": "code",
   "execution_count": 59,
   "metadata": {
    "ExecuteTime": {
     "end_time": "2019-10-14T12:15:04.581751Z",
     "start_time": "2019-10-14T12:15:03.184922Z"
    }
   },
   "outputs": [],
   "source": [
    "# # Read CSV file\n",
    "# #tweets_today = pd.read_csv(r\"..\\datasets\\raw_data\\tweets{}.csv\".format(datetime.date.today()))\n",
    "# tweets_today = pd.read_csv(r\"..\\datasets\\raw_data\\tweets2019-10-08.csv\")\n",
    "# tweets_today = tweets_today.head(5000)\n",
    "# # Gets tweet texts\n",
    "# tweets_today_text = tweets_today[\"tweet\"]\n",
    "bucketname = 'ops-vw-interns-climate-perception-tweets'\n",
    "dataframe = pd.DataFrame(columns=(\"creation date\",\"keyword\", \"tweet\", \"username\"))\n",
    "s3 = boto3.resource(\"s3\")\n",
    "\n",
    "s3_tweets = s3.Bucket(bucketname).objects.all()\n",
    "for file in s3_tweets:\n",
    "    temp_df = pd.DataFrame(pd.read_json('s3://{}/{}'.format(bucketname, file.key)))\n",
    "    dataframe = dataframe.append(temp_df, sort=False, ignore_index=True) \n",
    "\n",
    "dataframe_tweets = dataframe[\"tweet\"]"
   ]
  },
  {
   "cell_type": "markdown",
   "metadata": {},
   "source": [
    "## Data cleaning"
   ]
  },
  {
   "cell_type": "code",
   "execution_count": 61,
   "metadata": {
    "ExecuteTime": {
     "end_time": "2019-10-14T12:15:23.304562Z",
     "start_time": "2019-10-14T12:15:22.915202Z"
    }
   },
   "outputs": [
    {
     "name": "stdout",
     "output_type": "stream",
     "text": [
      " im all for democracy and freedom of speech unless of course were talking about climate change protesters  those guys should be beaten up pepper sprayed locked up andor ran down by the cops because they inconvenience me \n",
      "\n",
      " trees bans and new technology what arsenal chelsea and spurs are doing about climate change coyg afc \n",
      "\n",
      " doug fords conservative government has made next to no progress on plan to cut carbon emissions but has spent millions on fighting a real plan to cut emissions onpoli cdnpoli climatechange elxn43 \n",
      "\n",
      " the saudi kings oil company chevron and russias mob run gazprom are the top three producers of greenhouse gases driving the entire worlds climate change trump republicans best people trumpgenocide climatestrike republicangenocide \n",
      "\n",
      " global warming is a joke its just bad science its high jacking public policy its the greatest scam in history\n",
      "\n",
      " scifi ways scientists could mimic volcanic eruptions to help avert climate disaster \n",
      "\n",
      " terrorism killer heatwaves deadly drought predicted for spain as climate change study reveals mediterranean is warming 20 faster than global average \n",
      "\n",
      " salem thanks for listening to my rant about the socioeconomic implications of climate change red wine does something weird to me hereforyou lyftreviews winewednesday\n",
      "\n",
      " we must no longer view the natural world as a mere warehouse of commodities for humans to exploit but rather a remarkable community to which we belong and to whom we owe responsibilities \n",
      "\n",
      " is climate change doomsday coming \n",
      "\n",
      " dubai world expo next year will be so inspiring for innovation climate subjects arts architecture it will change your perspectives especially if you combine it with real nature in the desert with orienttoursuae \n",
      "\n",
      " someone should do a research paper on how much carbon footprint and wastage metal straws has created everyone buys it but dont use it and still use plastic straws talk about saving the world you are just making it worst climate change is inevitable\n",
      "\n",
      " these state birds may be forced out of their states as the world warms \n",
      "\n",
      " yeah these are the fing fools who want to school you about climate change depopulation estimate of 227 million by 2025  lets hope theyre included in that \n",
      "\n",
      " people who think people who the worlds gonna deny climate end in 12 years change  fuck science\n",
      "\n",
      " aoc my dreams of motherhood now bittersweet because of global warming  \n",
      "\n",
      " is climate change doomsday coming \n",
      "\n",
      " omg tfwrail its like a sauna on this valleys line train surely this cant be helping with global warming\n",
      "\n",
      " doctors join climate change protest to warn of health dangers climateemergency \n",
      "\n",
      " instead of making memes about narendramodi photo spread awareness about the climate change actonclimate incredibleindia saveearth\n",
      "\n"
     ]
    }
   ],
   "source": [
    "# Preprocessing of tweet texts\n",
    "def format_tweet(tweet):\n",
    "    processed_tweet=\"\"\n",
    "    for word in tweet.split():\n",
    "        # Removing URL from tweet\n",
    "        processed_word = re.sub('([^0-9A-Za-z \\t])|(\\w+:\\/\\/\\S+)', ' ', word)\n",
    "        # remove all single characters\n",
    "        processed_word = re.sub('\\s+[a-zA-Z]\\s+', ' ', processed_word)\n",
    "        # Remove single characters from the start\n",
    "        processed_word = re.sub('\\^[a-zA-Z]\\s+', ' ', processed_word) \n",
    "        # Substituting multiple spaces with single space\n",
    "        processed_word = re.sub('\\s+', '', processed_word, flags=re.I)\n",
    "        # Removing prefixed 'b'\n",
    "        processed_word = re.sub('^b\\s+', ' ', processed_word)\n",
    "        # Removing &amp\n",
    "        processed_word = re.sub('&amp', '&', processed_word)\n",
    "        # Removing breaks\n",
    "        processed_word = re.sub('<br/>', '', processed_word)\n",
    "        # converts to lower\n",
    "        processed_word = processed_word.lower()\n",
    "        processed_tweet= processed_tweet+\" \"+processed_word\n",
    "    return processed_tweet        \n",
    "    \n",
    "tweets_text = [format_tweet(tweet) for tweet in dataframe_tweets]\n",
    "tweets_text = list(filter(None, tweets_text))\n",
    "\n",
    "for tweet in tweets_text[:20]:\n",
    "    print(tweet + \"\\n\")\n"
   ]
  },
  {
   "cell_type": "markdown",
   "metadata": {},
   "source": [
    "## Labeling tweets with NLTK vader"
   ]
  },
  {
   "cell_type": "code",
   "execution_count": 62,
   "metadata": {
    "ExecuteTime": {
     "end_time": "2019-10-14T12:15:47.673513Z",
     "start_time": "2019-10-14T12:15:44.970503Z"
    }
   },
   "outputs": [
    {
     "name": "stderr",
     "output_type": "stream",
     "text": [
      "[nltk_data] Downloading package vader_lexicon to\n",
      "[nltk_data]     C:\\Users\\ViMs\\AppData\\Roaming\\nltk_data...\n",
      "[nltk_data]   Package vader_lexicon is already up-to-date!\n"
     ]
    },
    {
     "data": {
      "text/plain": [
       "True"
      ]
     },
     "execution_count": 62,
     "metadata": {},
     "output_type": "execute_result"
    }
   ],
   "source": [
    "import nltk\n",
    "from nltk.sentiment.vader import SentimentIntensityAnalyzer\n",
    "nltk.download('vader_lexicon')"
   ]
  },
  {
   "cell_type": "code",
   "execution_count": 63,
   "metadata": {
    "ExecuteTime": {
     "end_time": "2019-10-14T12:15:55.202197Z",
     "start_time": "2019-10-14T12:15:55.174943Z"
    }
   },
   "outputs": [
    {
     "name": "stdout",
     "output_type": "stream",
     "text": [
      " scifi ways scientists could mimic volcanic eruptions to help avert climate disaster : \n",
      "{'neg': 0.331, 'neu': 0.514, 'pos': 0.154, 'compound': -0.4767}\n",
      "\n",
      "\n",
      " terrorism killer heatwaves deadly drought predicted for spain as climate change study reveals mediterranean is warming 20 faster than global average : \n",
      "{'neg': 0.312, 'neu': 0.632, 'pos': 0.056, 'compound': -0.8519}\n",
      "\n",
      "\n",
      " salem thanks for listening to my rant about the socioeconomic implications of climate change red wine does something weird to me hereforyou lyftreviews winewednesday: \n",
      "{'neg': 0.146, 'neu': 0.75, 'pos': 0.104, 'compound': -0.0516}\n",
      "\n",
      "\n",
      " we must no longer view the natural world as a mere warehouse of commodities for humans to exploit but rather a remarkable community to which we belong and to whom we owe responsibilities : \n",
      "{'neg': 0.077, 'neu': 0.741, 'pos': 0.182, 'compound': 0.705}\n",
      "\n",
      "\n",
      " is climate change doomsday coming : \n",
      "{'neg': 0.487, 'neu': 0.513, 'pos': 0.0, 'compound': -0.5859}\n",
      "\n",
      "\n"
     ]
    }
   ],
   "source": [
    "sid = SentimentIntensityAnalyzer()\n",
    "\n",
    "for tweet in tweets_text[5:10]:\n",
    "    print(\"{0}: \\n{1}\\n\\n\".format(tweet, sid.polarity_scores(tweet)))"
   ]
  },
  {
   "cell_type": "code",
   "execution_count": 66,
   "metadata": {
    "ExecuteTime": {
     "end_time": "2019-10-14T12:17:28.310173Z",
     "start_time": "2019-10-14T12:17:27.818322Z"
    }
   },
   "outputs": [
    {
     "data": {
      "text/html": [
       "<div>\n",
       "<style scoped>\n",
       "    .dataframe tbody tr th:only-of-type {\n",
       "        vertical-align: middle;\n",
       "    }\n",
       "\n",
       "    .dataframe tbody tr th {\n",
       "        vertical-align: top;\n",
       "    }\n",
       "\n",
       "    .dataframe thead th {\n",
       "        text-align: right;\n",
       "    }\n",
       "</style>\n",
       "<table border=\"1\" class=\"dataframe\">\n",
       "  <thead>\n",
       "    <tr style=\"text-align: right;\">\n",
       "      <th></th>\n",
       "      <th>Sentiment</th>\n",
       "      <th>Polarity</th>\n",
       "      <th>Tweet</th>\n",
       "      <th>Keyword</th>\n",
       "      <th>Username</th>\n",
       "      <th>Creation Date</th>\n",
       "    </tr>\n",
       "  </thead>\n",
       "  <tbody>\n",
       "    <tr>\n",
       "      <th>1597</th>\n",
       "      <td>negative</td>\n",
       "      <td>-0.38</td>\n",
       "      <td>Fight against Google https://t.co/GYqbtlwQxa</td>\n",
       "      <td>Climate change</td>\n",
       "      <td>💧National Times II</td>\n",
       "      <td>2019-10-13 19:38:16</td>\n",
       "    </tr>\n",
       "    <tr>\n",
       "      <th>1598</th>\n",
       "      <td>negative</td>\n",
       "      <td>-0.67</td>\n",
       "      <td>The lack of consensus on Global warming. Wake ...</td>\n",
       "      <td>Global warming</td>\n",
       "      <td>Edwin Thwaites</td>\n",
       "      <td>2019-10-13 19:38:13</td>\n",
       "    </tr>\n",
       "    <tr>\n",
       "      <th>1599</th>\n",
       "      <td>positive</td>\n",
       "      <td>0.30</td>\n",
       "      <td>Google has made some generous contributions to...</td>\n",
       "      <td>Climate change</td>\n",
       "      <td>Candace</td>\n",
       "      <td>2019-10-13 19:38:05</td>\n",
       "    </tr>\n",
       "    <tr>\n",
       "      <th>1600</th>\n",
       "      <td>negative</td>\n",
       "      <td>-0.57</td>\n",
       "      <td>I Ignored The Urgency Of Addressing Climate Ch...</td>\n",
       "      <td>Climate change</td>\n",
       "      <td>John Kenten</td>\n",
       "      <td>2019-10-13 19:38:00</td>\n",
       "    </tr>\n",
       "    <tr>\n",
       "      <th>1601</th>\n",
       "      <td>negative</td>\n",
       "      <td>-0.90</td>\n",
       "      <td>Stealing from taxpayers to give to a liar abou...</td>\n",
       "      <td>Global warming &amp; Climate change</td>\n",
       "      <td>zahar</td>\n",
       "      <td>2019-10-13 19:37:59</td>\n",
       "    </tr>\n",
       "    <tr>\n",
       "      <th>1602</th>\n",
       "      <td>negative</td>\n",
       "      <td>-0.42</td>\n",
       "      <td>Adam Bandt , If you reside in Canberra and you...</td>\n",
       "      <td>Climate change</td>\n",
       "      <td>tony sinclaire</td>\n",
       "      <td>2019-10-13 19:37:51</td>\n",
       "    </tr>\n",
       "    <tr>\n",
       "      <th>1603</th>\n",
       "      <td>neutral</td>\n",
       "      <td>0.00</td>\n",
       "      <td>Climate change is shaping Iowa's physical and ...</td>\n",
       "      <td>Climate change</td>\n",
       "      <td>John Kenten</td>\n",
       "      <td>2019-10-13 19:37:46</td>\n",
       "    </tr>\n",
       "    <tr>\n",
       "      <th>1604</th>\n",
       "      <td>negative</td>\n",
       "      <td>-0.66</td>\n",
       "      <td>California governor blames greed, not climate ...</td>\n",
       "      <td>Climate change</td>\n",
       "      <td>Candace</td>\n",
       "      <td>2019-10-13 19:37:37</td>\n",
       "    </tr>\n",
       "    <tr>\n",
       "      <th>1605</th>\n",
       "      <td>negative</td>\n",
       "      <td>-0.27</td>\n",
       "      <td>Those scientists are liars !\\nScientists endor...</td>\n",
       "      <td>Climate change</td>\n",
       "      <td>Aurelio Rocha</td>\n",
       "      <td>2019-10-13 19:37:36</td>\n",
       "    </tr>\n",
       "    <tr>\n",
       "      <th>1606</th>\n",
       "      <td>negative</td>\n",
       "      <td>-0.80</td>\n",
       "      <td>'They should be allowed to cry': Ecological di...</td>\n",
       "      <td>Climate change</td>\n",
       "      <td>Dr. Faisal Moola</td>\n",
       "      <td>2019-10-13 19:37:31</td>\n",
       "    </tr>\n",
       "    <tr>\n",
       "      <th>1607</th>\n",
       "      <td>positive</td>\n",
       "      <td>0.48</td>\n",
       "      <td>Your Undivided Attention to GLOBAL WARMING is ...</td>\n",
       "      <td>Climate change</td>\n",
       "      <td>Conscious Evolution #SOS</td>\n",
       "      <td>2019-10-13 19:37:28</td>\n",
       "    </tr>\n",
       "    <tr>\n",
       "      <th>1608</th>\n",
       "      <td>positive</td>\n",
       "      <td>0.76</td>\n",
       "      <td>HAPPY THAT -  What's the coming change? US Tha...</td>\n",
       "      <td>Climate change</td>\n",
       "      <td>William Foster</td>\n",
       "      <td>2019-10-13 19:37:12</td>\n",
       "    </tr>\n",
       "    <tr>\n",
       "      <th>1609</th>\n",
       "      <td>negative</td>\n",
       "      <td>-0.66</td>\n",
       "      <td>Climate change is killing your low-carb diet h...</td>\n",
       "      <td>Global warming</td>\n",
       "      <td>Candace</td>\n",
       "      <td>2019-10-13 19:36:58</td>\n",
       "    </tr>\n",
       "    <tr>\n",
       "      <th>1610</th>\n",
       "      <td>negative</td>\n",
       "      <td>-0.53</td>\n",
       "      <td>Climate change is threatening There are more s...</td>\n",
       "      <td>Climate change</td>\n",
       "      <td>JustinBonanza</td>\n",
       "      <td>2019-10-13 19:36:54</td>\n",
       "    </tr>\n",
       "    <tr>\n",
       "      <th>1611</th>\n",
       "      <td>negative</td>\n",
       "      <td>-0.15</td>\n",
       "      <td>Too many smart scientist already said there is...</td>\n",
       "      <td>Global warming</td>\n",
       "      <td>mpace</td>\n",
       "      <td>2019-10-13 19:36:39</td>\n",
       "    </tr>\n",
       "    <tr>\n",
       "      <th>1612</th>\n",
       "      <td>negative</td>\n",
       "      <td>-0.38</td>\n",
       "      <td>Another Shameful, Disgraceful, White Police Sh...</td>\n",
       "      <td>Global warming</td>\n",
       "      <td>NXT Accounting &amp; Tax</td>\n",
       "      <td>2019-10-13 19:36:37</td>\n",
       "    </tr>\n",
       "    <tr>\n",
       "      <th>1613</th>\n",
       "      <td>negative</td>\n",
       "      <td>-0.36</td>\n",
       "      <td>CarolCooks2…Weekly roundup…Climate Change, Hea...</td>\n",
       "      <td>Climate change</td>\n",
       "      <td>D.G.Kaye</td>\n",
       "      <td>2019-10-13 19:36:32</td>\n",
       "    </tr>\n",
       "    <tr>\n",
       "      <th>1614</th>\n",
       "      <td>positive</td>\n",
       "      <td>0.43</td>\n",
       "      <td>https://t.co/dGBS7OBr2j 'We are not alone' in ...</td>\n",
       "      <td>Climate change</td>\n",
       "      <td>Sustainability Times</td>\n",
       "      <td>2019-10-13 19:36:29</td>\n",
       "    </tr>\n",
       "    <tr>\n",
       "      <th>1615</th>\n",
       "      <td>positive</td>\n",
       "      <td>0.81</td>\n",
       "      <td>All hope is not lost. All sanity is not dead. ...</td>\n",
       "      <td>Global warming</td>\n",
       "      <td>Gary Brandon</td>\n",
       "      <td>2019-10-13 19:36:26</td>\n",
       "    </tr>\n",
       "    <tr>\n",
       "      <th>1616</th>\n",
       "      <td>positive</td>\n",
       "      <td>0.27</td>\n",
       "      <td>Read this thread. Similar issues are happening...</td>\n",
       "      <td>Climate change</td>\n",
       "      <td>BenignVanilla</td>\n",
       "      <td>2019-10-13 19:36:12</td>\n",
       "    </tr>\n",
       "  </tbody>\n",
       "</table>\n",
       "</div>"
      ],
      "text/plain": [
       "     Sentiment  Polarity                                              Tweet  \\\n",
       "1597  negative     -0.38       Fight against Google https://t.co/GYqbtlwQxa   \n",
       "1598  negative     -0.67  The lack of consensus on Global warming. Wake ...   \n",
       "1599  positive      0.30  Google has made some generous contributions to...   \n",
       "1600  negative     -0.57  I Ignored The Urgency Of Addressing Climate Ch...   \n",
       "1601  negative     -0.90  Stealing from taxpayers to give to a liar abou...   \n",
       "1602  negative     -0.42  Adam Bandt , If you reside in Canberra and you...   \n",
       "1603   neutral      0.00  Climate change is shaping Iowa's physical and ...   \n",
       "1604  negative     -0.66  California governor blames greed, not climate ...   \n",
       "1605  negative     -0.27  Those scientists are liars !\\nScientists endor...   \n",
       "1606  negative     -0.80  'They should be allowed to cry': Ecological di...   \n",
       "1607  positive      0.48  Your Undivided Attention to GLOBAL WARMING is ...   \n",
       "1608  positive      0.76  HAPPY THAT -  What's the coming change? US Tha...   \n",
       "1609  negative     -0.66  Climate change is killing your low-carb diet h...   \n",
       "1610  negative     -0.53  Climate change is threatening There are more s...   \n",
       "1611  negative     -0.15  Too many smart scientist already said there is...   \n",
       "1612  negative     -0.38  Another Shameful, Disgraceful, White Police Sh...   \n",
       "1613  negative     -0.36  CarolCooks2…Weekly roundup…Climate Change, Hea...   \n",
       "1614  positive      0.43  https://t.co/dGBS7OBr2j 'We are not alone' in ...   \n",
       "1615  positive      0.81  All hope is not lost. All sanity is not dead. ...   \n",
       "1616  positive      0.27  Read this thread. Similar issues are happening...   \n",
       "\n",
       "                              Keyword                  Username  \\\n",
       "1597                   Climate change        💧National Times II   \n",
       "1598                   Global warming            Edwin Thwaites   \n",
       "1599                   Climate change                   Candace   \n",
       "1600                   Climate change               John Kenten   \n",
       "1601  Global warming & Climate change                     zahar   \n",
       "1602                   Climate change            tony sinclaire   \n",
       "1603                   Climate change               John Kenten   \n",
       "1604                   Climate change                   Candace   \n",
       "1605                   Climate change             Aurelio Rocha   \n",
       "1606                   Climate change          Dr. Faisal Moola   \n",
       "1607                   Climate change  Conscious Evolution #SOS   \n",
       "1608                   Climate change            William Foster   \n",
       "1609                   Global warming                   Candace   \n",
       "1610                   Climate change             JustinBonanza   \n",
       "1611                   Global warming                     mpace   \n",
       "1612                   Global warming      NXT Accounting & Tax   \n",
       "1613                   Climate change                  D.G.Kaye   \n",
       "1614                   Climate change      Sustainability Times   \n",
       "1615                   Global warming              Gary Brandon   \n",
       "1616                   Climate change             BenignVanilla   \n",
       "\n",
       "            Creation Date  \n",
       "1597  2019-10-13 19:38:16  \n",
       "1598  2019-10-13 19:38:13  \n",
       "1599  2019-10-13 19:38:05  \n",
       "1600  2019-10-13 19:38:00  \n",
       "1601  2019-10-13 19:37:59  \n",
       "1602  2019-10-13 19:37:51  \n",
       "1603  2019-10-13 19:37:46  \n",
       "1604  2019-10-13 19:37:37  \n",
       "1605  2019-10-13 19:37:36  \n",
       "1606  2019-10-13 19:37:31  \n",
       "1607  2019-10-13 19:37:28  \n",
       "1608  2019-10-13 19:37:12  \n",
       "1609  2019-10-13 19:36:58  \n",
       "1610  2019-10-13 19:36:54  \n",
       "1611  2019-10-13 19:36:39  \n",
       "1612  2019-10-13 19:36:37  \n",
       "1613  2019-10-13 19:36:32  \n",
       "1614  2019-10-13 19:36:29  \n",
       "1615  2019-10-13 19:36:26  \n",
       "1616  2019-10-13 19:36:12  "
      ]
     },
     "execution_count": 66,
     "metadata": {},
     "output_type": "execute_result"
    }
   ],
   "source": [
    "def get_sentiment(polarity):\n",
    "    if polarity > 0:\n",
    "        return 'positive'\n",
    "    if polarity == 0:\n",
    "        return 'neutral'\n",
    "    else:\n",
    "        return 'negative'\n",
    "\n",
    "polarity_tweets = [round(sid.polarity_scores(tweet)[\"compound\"], 2)\n",
    "                   for tweet in tweets_text]\n",
    "sentiment_tweets = [get_sentiment(polarity) for polarity in polarity_tweets]\n",
    "zipped_list = list(zip(sentiment_tweets, polarity_tweets,\n",
    "                       dataframe['tweet'], dataframe['keyword'], dataframe['username'], dataframe['creation date']))\n",
    "\n",
    "# Store to new dataframe\n",
    "sentiment_df = pd.DataFrame(zipped_list, columns=[\n",
    "    \"Sentiment\", \"Polarity\", \"Tweet\", \"Keyword\", \"Username\", \"Creation Date\"])\n",
    "sentiment_df.tail(20)"
   ]
  },
  {
   "cell_type": "code",
   "execution_count": 67,
   "metadata": {
    "ExecuteTime": {
     "end_time": "2019-10-14T12:17:28.791950Z",
     "start_time": "2019-10-14T12:17:28.542092Z"
    }
   },
   "outputs": [
    {
     "data": {
      "image/png": "[encoded data removed]",
      "text/plain": [
       "<Figure size 432x288 with 1 Axes>"
      ]
     },
     "metadata": {},
     "output_type": "display_data"
    },
    {
     "name": "stdout",
     "output_type": "stream",
     "text": [
      "total positive: 600\n",
      "total neutral: 270\n",
      "total negative: 747\n"
     ]
    }
   ],
   "source": [
    "sentiment_count = round(sentiment_df[\"Polarity\"].value_counts(), 2)\n",
    "\n",
    "sentiments = [get_sentiment(polarity)\n",
    "              for polarity in sentiment_df[\"Polarity\"]]\n",
    "\n",
    "sentiment_count_list = np.array([sentiments.count(\n",
    "    \"positive\"), sentiments.count(\"neutral\"), sentiments.count(\"negative\")])\n",
    "\n",
    "labels = [\"positive\", \"neutral\", \"negative\"]\n",
    "colors = [\"green\", \"yellow\", \"red\"]\n",
    "fig1, ax1 = plt.subplots()\n",
    "ax1.pie(sentiment_count_list, labels=labels, shadow=True,\n",
    "        autopct='%1.1f%%', startangle=90, colors=colors)\n",
    "ax1.axis('equal')\n",
    "plt.title(\"Distribution of sentiment values\")\n",
    "plt.show()\n",
    "print(\"total positive: {}\".format(sentiments.count('positive')))\n",
    "print(\"total neutral: {}\".format(sentiments.count('neutral')))\n",
    "print(\"total negative: {}\".format(sentiments.count('negative')))"
   ]
  },
  {
   "cell_type": "markdown",
   "metadata": {},
   "source": [
    "Using this nltk vader implementation for sentiment analysis, we get entirely diferent results. There are way less neutral tweets and more than half of the tweets now have a negative sentiment assigned to them"
   ]
  },
  {
   "cell_type": "code",
   "execution_count": 68,
   "metadata": {
    "ExecuteTime": {
     "end_time": "2019-10-14T12:17:35.873879Z",
     "start_time": "2019-10-14T12:17:35.693733Z"
    }
   },
   "outputs": [
    {
     "data": {
      "image/png": "[encoded data removed]",
      "text/plain": [
       "<Figure size 432x288 with 1 Axes>"
      ]
     },
     "metadata": {
      "needs_background": "light"
     },
     "output_type": "display_data"
    }
   ],
   "source": [
    "sentiment_df[\"Polarity\"].hist(bins=5)\n",
    "plt.title(\"Distribution of sentiment polarities\")\n",
    "plt.xlabel(\"Sentiment polarities\")\n",
    "plt.ylabel(\"Amount of tweets\")\n",
    "plt.show()"
   ]
  },
  {
   "cell_type": "markdown",
   "metadata": {},
   "source": [
    "## Implementing machine learning algorithms"
   ]
  },
  {
   "cell_type": "code",
   "execution_count": 105,
   "metadata": {
    "ExecuteTime": {
     "end_time": "2019-10-14T13:05:59.294860Z",
     "start_time": "2019-10-14T13:05:59.288908Z"
    }
   },
   "outputs": [],
   "source": [
    "from sklearn.feature_extraction.text import TfidfTransformer\n",
    "from sklearn.feature_extraction.text import CountVectorizer\n",
    "from sklearn.decomposition import PCA\n",
    "from sklearn.pipeline import Pipeline\n",
    "from sklearn.model_selection import GridSearchCV\n",
    "from sklearn.model_selection import RandomizedSearchCV\n",
    "from sklearn.metrics import classification_report, confusion_matrix, accuracy_score\n",
    "import nltk\n",
    "from nltk.stem import PorterStemmer"
   ]
  },
  {
   "cell_type": "markdown",
   "metadata": {},
   "source": [
    "### Divide into training and test sets"
   ]
  },
  {
   "cell_type": "code",
   "execution_count": 106,
   "metadata": {
    "ExecuteTime": {
     "end_time": "2019-10-14T13:05:59.883297Z",
     "start_time": "2019-10-14T13:05:59.874866Z"
    }
   },
   "outputs": [
    {
     "name": "stdout",
     "output_type": "stream",
     "text": [
      "1293\n",
      "324\n"
     ]
    }
   ],
   "source": [
    "from sklearn.model_selection import train_test_split\n",
    "\n",
    "# Extract features from df\n",
    "features = sentiment_df[\"Tweet\"]\n",
    "\n",
    "# Extract labels from df\n",
    "labels = sentiment_df[\"Sentiment\"]\n",
    "\n",
    "\n",
    "X_train, X_test, y_train, y_test = train_test_split(features,\n",
    "                                                    labels, test_size=0.2,\n",
    "                                                    random_state=1)\n",
    "\n",
    "print(len(X_train))\n",
    "print(len(X_test))"
   ]
  },
  {
   "cell_type": "markdown",
   "metadata": {},
   "source": [
    "### Preparing pipeline variables"
   ]
  },
  {
   "cell_type": "code",
   "execution_count": 150,
   "metadata": {
    "ExecuteTime": {
     "end_time": "2019-10-14T13:57:05.432322Z",
     "start_time": "2019-10-14T13:57:05.422898Z"
    }
   },
   "outputs": [
    {
     "name": "stderr",
     "output_type": "stream",
     "text": [
      "[nltk_data] Downloading package stopwords to\n",
      "[nltk_data]     C:\\Users\\ViMs\\AppData\\Roaming\\nltk_data...\n",
      "[nltk_data]   Package stopwords is already up-to-date!\n"
     ]
    }
   ],
   "source": [
    "nltk.download('stopwords')\n",
    "from nltk.corpus import stopwords\n",
    "\n",
    "count_vec = CountVectorizer(strip_accents=None, lowercase=False, preprocessor = None)\n",
    "tfidf = TfidfTransformer()\n",
    "stopwords = stopwords.words(\"english\")\n",
    "\n",
    "\n",
    "def tokenizer(text):\n",
    "    return text.split()\n",
    "\n",
    "porter = PorterStemmer()\n",
    "def tokenizer_porter(text):\n",
    "    return [porter.stem(word) for word in text.split()]"
   ]
  },
  {
   "cell_type": "markdown",
   "metadata": {},
   "source": [
    "### Implementing Multinomial Naive Bayes"
   ]
  },
  {
   "cell_type": "code",
   "execution_count": 143,
   "metadata": {
    "ExecuteTime": {
     "end_time": "2019-10-14T13:48:43.447536Z",
     "start_time": "2019-10-14T13:48:43.443567Z"
    }
   },
   "outputs": [],
   "source": [
    "from sklearn.naive_bayes import MultinomialNB"
   ]
  },
  {
   "cell_type": "code",
   "execution_count": 144,
   "metadata": {
    "ExecuteTime": {
     "end_time": "2019-10-14T13:50:25.690731Z",
     "start_time": "2019-10-14T13:48:48.896135Z"
    }
   },
   "outputs": [
    {
     "name": "stdout",
     "output_type": "stream",
     "text": [
      "Fitting 9 folds for each of 50 candidates, totalling 450 fits\n"
     ]
    },
    {
     "name": "stderr",
     "output_type": "stream",
     "text": [
      "[Parallel(n_jobs=-1)]: Using backend LokyBackend with 4 concurrent workers.\n",
      "[Parallel(n_jobs=-1)]: Done  42 tasks      | elapsed:    5.3s\n",
      "[Parallel(n_jobs=-1)]: Done 192 tasks      | elapsed:   37.4s\n",
      "[Parallel(n_jobs=-1)]: Done 442 tasks      | elapsed:  1.5min\n",
      "[Parallel(n_jobs=-1)]: Done 450 out of 450 | elapsed:  1.6min finished\n"
     ]
    },
    {
     "data": {
      "text/plain": [
       "RandomizedSearchCV(cv=9, error_score='raise-deprecating',\n",
       "                   estimator=Pipeline(memory=None,\n",
       "                                      steps=[('vect',\n",
       "                                              CountVectorizer(analyzer='word',\n",
       "                                                              binary=False,\n",
       "                                                              decode_error='strict',\n",
       "                                                              dtype=<class 'numpy.int64'>,\n",
       "                                                              encoding='utf-8',\n",
       "                                                              input='content',\n",
       "                                                              lowercase=True,\n",
       "                                                              max_df=1.0,\n",
       "                                                              max_features=None,\n",
       "                                                              min_df=1,\n",
       "                                                              ngram_range=(1,\n",
       "                                                                           1),\n",
       "                                                              preprocessor=None,\n",
       "                                                              stop_words=None,\n",
       "                                                              strip_accents=No...\n",
       "                   param_distributions={'clf__alpha': [0.001, 0.01, 0.1, 1.0,\n",
       "                                                       10.0, 100.0],\n",
       "                                        'clf__fit_prior': [True, False],\n",
       "                                        'tfidf__norm': ['l1', 'l2'],\n",
       "                                        'tfidf__use_idf': [True, False],\n",
       "                                        'vect__ngram_range': [(1, 1), (1, 2)],\n",
       "                                        'vect__tokenizer': [<function tokenizer at 0x000002319BB79400>,\n",
       "                                                            <function tokenizer_porter at 0x000002319BB79598>]},\n",
       "                   pre_dispatch='2*n_jobs', random_state=None, refit=True,\n",
       "                   return_train_score=False, scoring='accuracy', verbose=1)"
      ]
     },
     "execution_count": 144,
     "metadata": {},
     "output_type": "execute_result"
    }
   ],
   "source": [
    "mnb_pipeline = Pipeline([('vect', count_vec), ('tfidf', tfidf), ('clf', MultinomialNB())])\n",
    "\n",
    "param_grid_mnb = {\n",
    "                  'vect__ngram_range': [(1,1),(1,2)],\n",
    "                  'vect__tokenizer': [tokenizer, tokenizer_porter],\n",
    "                  #'vect__stop_words': [stopwords, None],\n",
    "    \n",
    "                  'tfidf__use_idf': [True, False],\n",
    "                  'tfidf__norm': ['l1', 'l2'],\n",
    "    \n",
    "                  'clf__alpha': [0.001, 0.01, 0.1, 1.0, 10.0, 100.0],\n",
    "                  'clf__fit_prior': [True, False]\n",
    "                 }\n",
    "grid_mnb = RandomizedSearchCV(mnb_pipeline, param_grid_mnb, n_iter=50, cv=9, verbose=1, n_jobs=-1, scoring='accuracy')\n",
    "grid_mnb.fit(X_train, y_train)"
   ]
  },
  {
   "cell_type": "code",
   "execution_count": 145,
   "metadata": {
    "ExecuteTime": {
     "end_time": "2019-10-14T13:50:25.943693Z",
     "start_time": "2019-10-14T13:50:25.929310Z"
    }
   },
   "outputs": [
    {
     "name": "stdout",
     "output_type": "stream",
     "text": [
      "Best parameters:  {'vect__tokenizer': <function tokenizer_porter at 0x000002319BB79598>, 'vect__ngram_range': (1, 1), 'tfidf__use_idf': False, 'tfidf__norm': 'l2', 'clf__fit_prior': False, 'clf__alpha': 0.1}\n",
      "Best cross-validation score: 64.66%\n"
     ]
    }
   ],
   "source": [
    "print(\"Best parameters: \", grid_mnb.best_params_)"
   ]
  },
  {
   "cell_type": "code",
   "execution_count": 169,
   "metadata": {
    "ExecuteTime": {
     "end_time": "2019-10-14T14:19:52.548857Z",
     "start_time": "2019-10-14T14:19:51.755094Z"
    }
   },
   "outputs": [
    {
     "name": "stdout",
     "output_type": "stream",
     "text": [
      "[[105   6  37]\n",
      " [ 19  29  13]\n",
      " [ 24   3  88]]\n",
      "              precision    recall  f1-score   support\n",
      "\n",
      "    negative       0.71      0.71      0.71       148\n",
      "     neutral       0.76      0.48      0.59        61\n",
      "    positive       0.64      0.77      0.70       115\n",
      "\n",
      "    accuracy                           0.69       324\n",
      "   macro avg       0.70      0.65      0.66       324\n",
      "weighted avg       0.69      0.69      0.68       324\n",
      "\n",
      "Best score: 68.52%\n"
     ]
    }
   ],
   "source": [
    "mnb = grid_mnb.best_estimator_\n",
    "mnb.fit(X_train, y_train)\n",
    "predictions_mnb = mnb.predict(X_test)\n",
    "print(confusion_matrix(y_test, predictions_mnb))\n",
    "print(classification_report(y_test, predictions_mnb))\n",
    "print(\"The algorithm has reached an accuracy of: {:.2f}%\".format(mnb.score(X_test, y_test)*100))"
   ]
  },
  {
   "cell_type": "markdown",
   "metadata": {},
   "source": [
    "### Implementing Logistic regression"
   ]
  },
  {
   "cell_type": "code",
   "execution_count": 127,
   "metadata": {
    "ExecuteTime": {
     "end_time": "2019-10-14T13:29:37.222315Z",
     "start_time": "2019-10-14T13:29:37.217850Z"
    }
   },
   "outputs": [],
   "source": [
    "from sklearn.linear_model import LogisticRegression"
   ]
  },
  {
   "cell_type": "code",
   "execution_count": 130,
   "metadata": {
    "ExecuteTime": {
     "end_time": "2019-10-14T13:40:16.169261Z",
     "start_time": "2019-10-14T13:30:13.945787Z"
    }
   },
   "outputs": [
    {
     "name": "stdout",
     "output_type": "stream",
     "text": [
      "Fitting 5 folds for each of 500 candidates, totalling 2500 fits\n"
     ]
    },
    {
     "name": "stderr",
     "output_type": "stream",
     "text": [
      "[Parallel(n_jobs=-1)]: Using backend LokyBackend with 4 concurrent workers.\n",
      "[Parallel(n_jobs=-1)]: Done  42 tasks      | elapsed:    7.2s\n",
      "[Parallel(n_jobs=-1)]: Done 192 tasks      | elapsed:   36.4s\n",
      "[Parallel(n_jobs=-1)]: Done 442 tasks      | elapsed:  1.7min\n",
      "[Parallel(n_jobs=-1)]: Done 792 tasks      | elapsed:  3.0min\n",
      "[Parallel(n_jobs=-1)]: Done 1242 tasks      | elapsed:  4.8min\n",
      "[Parallel(n_jobs=-1)]: Done 1792 tasks      | elapsed:  6.9min\n",
      "[Parallel(n_jobs=-1)]: Done 2442 tasks      | elapsed:  9.8min\n",
      "[Parallel(n_jobs=-1)]: Done 2500 out of 2500 | elapsed: 10.0min finished\n"
     ]
    },
    {
     "data": {
      "text/plain": [
       "RandomizedSearchCV(cv=5, error_score='raise-deprecating',\n",
       "                   estimator=Pipeline(memory=None,\n",
       "                                      steps=[('vect',\n",
       "                                              CountVectorizer(analyzer='word',\n",
       "                                                              binary=False,\n",
       "                                                              decode_error='strict',\n",
       "                                                              dtype=<class 'numpy.int64'>,\n",
       "                                                              encoding='utf-8',\n",
       "                                                              input='content',\n",
       "                                                              lowercase=False,\n",
       "                                                              max_df=1.0,\n",
       "                                                              max_features=None,\n",
       "                                                              min_df=1,\n",
       "                                                              ngram_range=(1,\n",
       "                                                                           1),\n",
       "                                                              preprocessor=None,\n",
       "                                                              stop_words=None,\n",
       "                                                              strip_accents=N...\n",
       "                                        'clf__tol': [1e-06, 1e-05, 0.0001,\n",
       "                                                     0.001, 0.01],\n",
       "                                        'clf__warm_start': [True, False],\n",
       "                                        'tfidf__norm': ['l1', 'l2'],\n",
       "                                        'tfidf__use_idf': [True, False],\n",
       "                                        'vect__ngram_range': [(1, 1), (1, 2)],\n",
       "                                        'vect__tokenizer': [<function tokenizer at 0x00000231A4110AE8>,\n",
       "                                                            <function tokenizer_porter at 0x00000231A772E9D8>]},\n",
       "                   pre_dispatch='2*n_jobs', random_state=None, refit=True,\n",
       "                   return_train_score=False, scoring='accuracy', verbose=1)"
      ]
     },
     "execution_count": 130,
     "metadata": {},
     "output_type": "execute_result"
    }
   ],
   "source": [
    "import warnings\n",
    "warnings.filterwarnings('ignore')\n",
    "\n",
    "lr_pipeline = Pipeline([('vect', count_vec), ('tfidf', tfidf), ('clf', LogisticRegression(random_state=1))])\n",
    "\n",
    "param_grid_lr ={\n",
    "                'vect__ngram_range': [(1,1),(1,2)],\n",
    "                #'vect__stop_words': [stopwords, None],\n",
    "                'vect__tokenizer': [tokenizer, tokenizer_porter],\n",
    "    \n",
    "                 'tfidf__use_idf': [True, False],\n",
    "                 'tfidf__norm': ['l1', 'l2'],\n",
    "    \n",
    "                'clf__dual': [True, False],\n",
    "                'clf__tol': [1e-6, 1e-5, 1e-4, 1e-3, 1e-2 ],\n",
    "                'clf__C': [0.001, 0.01, 0.1, 1, 10, 100, 1000],\n",
    "                'clf__fit_intercept': [True, False],\n",
    "                'clf__max_iter' : [100, 110, 120, 130, 140],\n",
    "                'clf__warm_start': [True, False]\n",
    "              }\n",
    "grid_lr = RandomizedSearchCV(lr_pipeline, param_grid_lr, n_iter=500,  verbose=1, cv=5, n_jobs=-1, scoring='accuracy')\n",
    "grid_lr.fit(X_train, y_train)"
   ]
  },
  {
   "cell_type": "code",
   "execution_count": 131,
   "metadata": {
    "ExecuteTime": {
     "end_time": "2019-10-14T13:40:29.961909Z",
     "start_time": "2019-10-14T13:40:29.955956Z"
    }
   },
   "outputs": [
    {
     "name": "stdout",
     "output_type": "stream",
     "text": [
      "Best parameters:  {'vect__tokenizer': <function tokenizer_porter at 0x00000231A772E9D8>, 'vect__ngram_range': (1, 1), 'tfidf__use_idf': False, 'tfidf__norm': 'l1', 'clf__warm_start': True, 'clf__tol': 1e-06, 'clf__max_iter': 110, 'clf__fit_intercept': True, 'clf__dual': False, 'clf__C': 1000}\n",
      "Best cross-validation score: 65.82%\n"
     ]
    }
   ],
   "source": [
    "print(\"Best parameters: \", grid_lr.best_params_)"
   ]
  },
  {
   "cell_type": "code",
   "execution_count": 159,
   "metadata": {
    "ExecuteTime": {
     "end_time": "2019-10-14T14:05:39.919957Z",
     "start_time": "2019-10-14T14:05:38.973584Z"
    }
   },
   "outputs": [
    {
     "name": "stdout",
     "output_type": "stream",
     "text": [
      "Best score: 65.12%\n",
      "[[100   9  39]\n",
      " [ 15  36  10]\n",
      " [ 32   8  75]]\n",
      "              precision    recall  f1-score   support\n",
      "\n",
      "    negative       0.68      0.68      0.68       148\n",
      "     neutral       0.68      0.59      0.63        61\n",
      "    positive       0.60      0.65      0.63       115\n",
      "\n",
      "    accuracy                           0.65       324\n",
      "   macro avg       0.65      0.64      0.65       324\n",
      "weighted avg       0.65      0.65      0.65       324\n",
      "\n"
     ]
    }
   ],
   "source": [
    "lr = grid_lr.best_estimator_\n",
    "\n",
    "lr.fit(X_train, y_train)\n",
    "predictions_lr = lr.predict(X_test)\n",
    "\n",
    "print(confusion_matrix(y_test, predictions_lr))\n",
    "print(classification_report(y_test, predictions_lr))\n",
    "print(\"The algorithm has reached an accuracy of: {:.2f}%\".format(lr.score(X_test, y_test) *100))"
   ]
  },
  {
   "cell_type": "markdown",
   "metadata": {},
   "source": [
    "### Implementing Support Vector Machine"
   ]
  },
  {
   "cell_type": "code",
   "execution_count": 152,
   "metadata": {
    "ExecuteTime": {
     "end_time": "2019-10-14T13:57:55.261059Z",
     "start_time": "2019-10-14T13:57:55.256595Z"
    }
   },
   "outputs": [],
   "source": [
    "from sklearn.svm import SVC"
   ]
  },
  {
   "cell_type": "code",
   "execution_count": 173,
   "metadata": {
    "ExecuteTime": {
     "end_time": "2019-10-14T14:26:37.085963Z",
     "start_time": "2019-10-14T14:23:41.398077Z"
    }
   },
   "outputs": [
    {
     "name": "stdout",
     "output_type": "stream",
     "text": [
      "Fitting 5 folds for each of 80 candidates, totalling 400 fits\n"
     ]
    },
    {
     "name": "stderr",
     "output_type": "stream",
     "text": [
      "[Parallel(n_jobs=-1)]: Using backend LokyBackend with 4 concurrent workers.\n",
      "[Parallel(n_jobs=-1)]: Done  42 tasks      | elapsed:   15.8s\n",
      "[Parallel(n_jobs=-1)]: Done 192 tasks      | elapsed:  1.3min\n",
      "[Parallel(n_jobs=-1)]: Done 400 out of 400 | elapsed:  2.9min finished\n"
     ]
    },
    {
     "data": {
      "text/plain": [
       "RandomizedSearchCV(cv=5, error_score='raise-deprecating',\n",
       "                   estimator=Pipeline(memory=None,\n",
       "                                      steps=[('vect',\n",
       "                                              CountVectorizer(analyzer='word',\n",
       "                                                              binary=False,\n",
       "                                                              decode_error='strict',\n",
       "                                                              dtype=<class 'numpy.int64'>,\n",
       "                                                              encoding='utf-8',\n",
       "                                                              input='content',\n",
       "                                                              lowercase=False,\n",
       "                                                              max_df=1.0,\n",
       "                                                              max_features=None,\n",
       "                                                              min_df=1,\n",
       "                                                              ngram_range=(1,\n",
       "                                                                           1),\n",
       "                                                              preprocessor=None,\n",
       "                                                              stop_words=None,\n",
       "                                                              strip_accents=N...\n",
       "                                                              'your', 'yours',\n",
       "                                                              'yourself',\n",
       "                                                              'yourselves',\n",
       "                                                              'he', 'him',\n",
       "                                                              'his', 'himself',\n",
       "                                                              'she', \"she's\",\n",
       "                                                              'her', 'hers',\n",
       "                                                              'herself', 'it',\n",
       "                                                              \"it's\", 'its',\n",
       "                                                              'itself', ...],\n",
       "                                                             None],\n",
       "                                        'vect__tokenizer': [<function tokenizer at 0x00000231A152FD08>,\n",
       "                                                            <function tokenizer_porter at 0x00000231A152F840>]},\n",
       "                   pre_dispatch='2*n_jobs', random_state=None, refit=True,\n",
       "                   return_train_score=False, scoring='accuracy', verbose=1)"
      ]
     },
     "execution_count": 173,
     "metadata": {},
     "output_type": "execute_result"
    }
   ],
   "source": [
    "svc_pipeline = Pipeline([('vect', count_vec), ('tfidf', tfidf), ('clf', SVC(random_state=1))])\n",
    "\n",
    "param_grid_svm = {\n",
    "                  'vect__ngram_range': [(1,2)],\n",
    "                  'vect__tokenizer': [tokenizer, tokenizer_porter],\n",
    "                  'vect__stop_words': [stopwords, None],\n",
    "    \n",
    "                  'tfidf__use_idf': [True, False],\n",
    "                  'tfidf__norm': ['l1', 'l2'],                  \n",
    "    \n",
    "                  'clf__C': [0.1, 1, 10, 100],\n",
    "                  'clf__kernel': ['linear', 'rbf', 'poly'],\n",
    "                  'clf__gamma': [0.1, 1, 10, 100],\n",
    "                  'clf__degree': [0, 1, 2, 3, 4, 5, 6]\n",
    "                 }\n",
    "\n",
    "grid_svc = RandomizedSearchCV(svc_pipeline, param_grid_svm, n_iter=80, cv=5, verbose=1, n_jobs=-1, scoring='accuracy')\n",
    "grid_svc.fit(X_train, y_train)"
   ]
  },
  {
   "cell_type": "code",
   "execution_count": 174,
   "metadata": {
    "ExecuteTime": {
     "end_time": "2019-10-14T14:26:37.291804Z",
     "start_time": "2019-10-14T14:26:37.287340Z"
    }
   },
   "outputs": [
    {
     "name": "stdout",
     "output_type": "stream",
     "text": [
      "Best parameters:  {'vect__tokenizer': <function tokenizer_porter at 0x00000231A152F840>, 'vect__stop_words': None, 'vect__ngram_range': (1, 2), 'tfidf__use_idf': False, 'tfidf__norm': 'l1', 'clf__kernel': 'linear', 'clf__gamma': 10, 'clf__degree': 0, 'clf__C': 100}\n"
     ]
    }
   ],
   "source": [
    "print(\"Best parameters: \", grid_svc.best_params_)"
   ]
  },
  {
   "cell_type": "code",
   "execution_count": 175,
   "metadata": {
    "ExecuteTime": {
     "end_time": "2019-10-14T14:26:39.432541Z",
     "start_time": "2019-10-14T14:26:37.556668Z"
    }
   },
   "outputs": [
    {
     "name": "stdout",
     "output_type": "stream",
     "text": [
      "[[93 14 41]\n",
      " [12 45  4]\n",
      " [33 10 72]]\n",
      "              precision    recall  f1-score   support\n",
      "\n",
      "    negative       0.67      0.63      0.65       148\n",
      "     neutral       0.65      0.74      0.69        61\n",
      "    positive       0.62      0.63      0.62       115\n",
      "\n",
      "    accuracy                           0.65       324\n",
      "   macro avg       0.65      0.66      0.65       324\n",
      "weighted avg       0.65      0.65      0.65       324\n",
      "\n",
      "The algorithm has reached an accuracy of: 64.81%\n"
     ]
    }
   ],
   "source": [
    "svm = grid_svc.best_estimator_\n",
    "svm_fit = svm.fit(X_train, y_train)\n",
    "score_svm = svm.score(X_test, y_test)\n",
    "predictions_svm = svm.predict(X_test)\n",
    "print(confusion_matrix(y_test, predictions_svm))\n",
    "print(classification_report(y_test, predictions_svm))\n",
    "print(\"The algorithm has reached an accuracy of: {:.2f}%\".format(score_svm*100))"
   ]
  },
  {
   "cell_type": "markdown",
   "metadata": {},
   "source": [
    "### Implementing Random Forest"
   ]
  },
  {
   "cell_type": "code",
   "execution_count": 134,
   "metadata": {
    "ExecuteTime": {
     "end_time": "2019-10-14T13:41:37.673843Z",
     "start_time": "2019-10-14T13:41:37.393165Z"
    }
   },
   "outputs": [],
   "source": [
    "from sklearn.ensemble import RandomForestClassifier"
   ]
  },
  {
   "cell_type": "code",
   "execution_count": 166,
   "metadata": {
    "ExecuteTime": {
     "end_time": "2019-10-14T14:19:49.583603Z",
     "start_time": "2019-10-14T14:08:04.705991Z"
    }
   },
   "outputs": [
    {
     "name": "stdout",
     "output_type": "stream",
     "text": [
      "Fitting 5 folds for each of 500 candidates, totalling 2500 fits\n"
     ]
    },
    {
     "name": "stderr",
     "output_type": "stream",
     "text": [
      "[Parallel(n_jobs=-1)]: Using backend LokyBackend with 4 concurrent workers.\n",
      "[Parallel(n_jobs=-1)]: Done  42 tasks      | elapsed:   20.0s\n",
      "[Parallel(n_jobs=-1)]: Done 192 tasks      | elapsed:  1.1min\n",
      "[Parallel(n_jobs=-1)]: Done 442 tasks      | elapsed:  2.3min\n",
      "[Parallel(n_jobs=-1)]: Done 792 tasks      | elapsed:  3.9min\n",
      "[Parallel(n_jobs=-1)]: Done 1242 tasks      | elapsed:  6.0min\n",
      "[Parallel(n_jobs=-1)]: Done 1792 tasks      | elapsed:  8.1min\n",
      "[Parallel(n_jobs=-1)]: Done 2442 tasks      | elapsed: 11.4min\n",
      "[Parallel(n_jobs=-1)]: Done 2500 out of 2500 | elapsed: 11.7min finished\n"
     ]
    },
    {
     "data": {
      "text/plain": [
       "RandomizedSearchCV(cv=5, error_score='raise-deprecating',\n",
       "                   estimator=Pipeline(memory=None,\n",
       "                                      steps=[('vect',\n",
       "                                              CountVectorizer(analyzer='word',\n",
       "                                                              binary=False,\n",
       "                                                              decode_error='strict',\n",
       "                                                              dtype=<class 'numpy.int64'>,\n",
       "                                                              encoding='utf-8',\n",
       "                                                              input='content',\n",
       "                                                              lowercase=False,\n",
       "                                                              max_df=1.0,\n",
       "                                                              max_features=None,\n",
       "                                                              min_df=1,\n",
       "                                                              ngram_range=(1,\n",
       "                                                                           1),\n",
       "                                                              preprocessor=None,\n",
       "                                                              stop_words=None,\n",
       "                                                              strip_accents=N...\n",
       "                                                              'your', 'yours',\n",
       "                                                              'yourself',\n",
       "                                                              'yourselves',\n",
       "                                                              'he', 'him',\n",
       "                                                              'his', 'himself',\n",
       "                                                              'she', \"she's\",\n",
       "                                                              'her', 'hers',\n",
       "                                                              'herself', 'it',\n",
       "                                                              \"it's\", 'its',\n",
       "                                                              'itself', ...],\n",
       "                                                             None],\n",
       "                                        'vect__tokenizer': [<function tokenizer at 0x00000231A152FD08>,\n",
       "                                                            <function tokenizer_porter at 0x00000231A152F840>]},\n",
       "                   pre_dispatch='2*n_jobs', random_state=None, refit=True,\n",
       "                   return_train_score=False, scoring='accuracy', verbose=1)"
      ]
     },
     "execution_count": 166,
     "metadata": {},
     "output_type": "execute_result"
    }
   ],
   "source": [
    "rf_pipeline = Pipeline([('vect', count_vec), ('tfidf', tfidf), ('clf', RandomForestClassifier(random_state=1))])\n",
    "\n",
    "param_grid_rf = {\n",
    "                 'vect__ngram_range': [(1,2)],\n",
    "                 'vect__tokenizer': [tokenizer, tokenizer_porter],\n",
    "                 'vect__stop_words': [stopwords, None],\n",
    "    \n",
    "                 'tfidf__use_idf': [True, False],\n",
    "                 'tfidf__norm': ['l1', 'l2'],                  \n",
    "    \n",
    "                 'clf__n_estimators': [1, 2, 4, 8, 16, 32, 64, 100, 200],\n",
    "                 'clf__max_features': ['auto', 'sqrt'],\n",
    "                 'clf__max_depth': np.linspace(1, 32, 32, endpoint=True),\n",
    "                 'clf__min_samples_split': [2, 5, 10],\n",
    "                 'clf__min_samples_leaf': [1, 2, 4],\n",
    "                 'clf__bootstrap': [True, False]\n",
    "                }\n",
    "\n",
    "grid_rf = RandomizedSearchCV(rf_pipeline, param_grid_rf, cv=5, n_iter=500 , verbose=1, n_jobs=-1, scoring='accuracy')\n",
    "\n",
    "grid_rf.fit(X_train, y_train)"
   ]
  },
  {
   "cell_type": "code",
   "execution_count": 167,
   "metadata": {
    "ExecuteTime": {
     "end_time": "2019-10-14T14:19:49.797381Z",
     "start_time": "2019-10-14T14:19:49.792420Z"
    }
   },
   "outputs": [
    {
     "name": "stdout",
     "output_type": "stream",
     "text": [
      "Best parameters:  {'vect__tokenizer': <function tokenizer_porter at 0x00000231A152F840>, 'vect__stop_words': None, 'vect__ngram_range': (1, 2), 'tfidf__use_idf': True, 'tfidf__norm': 'l1', 'clf__n_estimators': 200, 'clf__min_samples_split': 5, 'clf__min_samples_leaf': 1, 'clf__max_features': 'auto', 'clf__max_depth': 32.0, 'clf__bootstrap': False}\n"
     ]
    }
   ],
   "source": [
    "print(\"Best parameters: \", grid_rf.best_params_)"
   ]
  },
  {
   "cell_type": "code",
   "execution_count": 168,
   "metadata": {
    "ExecuteTime": {
     "end_time": "2019-10-14T14:19:51.625638Z",
     "start_time": "2019-10-14T14:19:50.034469Z"
    }
   },
   "outputs": [
    {
     "name": "stdout",
     "output_type": "stream",
     "text": [
      "Best score: 60.49%\n",
      "[[125   7  16]\n",
      " [ 39  20   2]\n",
      " [ 58   6  51]]\n",
      "              precision    recall  f1-score   support\n",
      "\n",
      "    negative       0.56      0.84      0.68       148\n",
      "     neutral       0.61      0.33      0.43        61\n",
      "    positive       0.74      0.44      0.55       115\n",
      "\n",
      "    accuracy                           0.60       324\n",
      "   macro avg       0.64      0.54      0.55       324\n",
      "weighted avg       0.63      0.60      0.59       324\n",
      "\n"
     ]
    }
   ],
   "source": [
    "rf = grid_rf.best_estimator_\n",
    "\n",
    "rf.fit(X_train, y_train)\n",
    "predictions_rf = rf.predict(X_test)\n",
    "\n",
    "print(confusion_matrix(y_test, predictions_rf))\n",
    "print(classification_report(y_test, predictions_rf))\n",
    "print(\"The algorithm has reached an accuracy of: {:.2f}%\".format(rf.score(X_test, y_test) *100))"
   ]
  },
  {
   "cell_type": "code",
   "execution_count": null,
   "metadata": {
    "ExecuteTime": {
     "start_time": "2019-10-10T13:01:32.099Z"
    }
   },
   "outputs": [],
   "source": []
  },
  {
   "cell_type": "code",
   "execution_count": null,
   "metadata": {},
   "outputs": [],
   "source": []
  }
 ],
 "metadata": {
  "kernelspec": {
   "display_name": "Python 3",
   "language": "python",
   "name": "python3"
  },
  "language_info": {
   "codemirror_mode": {
    "name": "ipython",
    "version": 3
   },
   "file_extension": ".py",
   "mimetype": "text/x-python",
   "name": "python",
   "nbconvert_exporter": "python",
   "pygments_lexer": "ipython3",
   "version": "3.7.3"
  },
  "toc": {
   "base_numbering": 1,
   "nav_menu": {},
   "number_sections": true,
   "sideBar": true,
   "skip_h1_title": false,
   "title_cell": "Table of Contents",
   "title_sidebar": "Contents",
   "toc_cell": false,
   "toc_position": {},
   "toc_section_display": true,
   "toc_window_display": true
  },
  "varInspector": {
   "cols": {
    "lenName": 16,
    "lenType": 16,
    "lenVar": 40
   },
   "kernels_config": {
    "python": {
     "delete_cmd_postfix": "",
     "delete_cmd_prefix": "del ",
     "library": "var_list.py",
     "varRefreshCmd": "print(var_dic_list())"
    },
    "r": {
     "delete_cmd_postfix": ") ",
     "delete_cmd_prefix": "rm(",
     "library": "var_list.r",
     "varRefreshCmd": "cat(var_dic_list()) "
    }
   },
   "position": {
    "height": "478.8px",
    "left": "1175.6px",
    "right": "20px",
    "top": "124px",
    "width": "341.4px"
   },
   "types_to_exclude": [
    "module",
    "function",
    "builtin_function_or_method",
    "instance",
    "_Feature"
   ],
   "window_display": false
  }
 },
 "nbformat": 4,
 "nbformat_minor": 2
}
