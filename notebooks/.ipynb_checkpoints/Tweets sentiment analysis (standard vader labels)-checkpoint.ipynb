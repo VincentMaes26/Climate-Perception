{
 "cells": [
  {
   "cell_type": "markdown",
   "metadata": {},
   "source": [
    "# Tweet sentiment analysis"
   ]
  },
  {
   "cell_type": "code",
   "execution_count": 4,
   "metadata": {
    "ExecuteTime": {
     "end_time": "2019-10-03T09:55:02.734882Z",
     "start_time": "2019-10-03T09:54:57.896069Z"
    }
   },
   "outputs": [],
   "source": [
    "from textblob import TextBlob\n",
    "import numpy as np\n",
    "import pandas as pd\n",
    "import matplotlib.pyplot as plt\n",
    "import matplotlib.ticker as ticker\n",
    "import seaborn as sns\n",
    "import datetime"
   ]
  },
  {
   "cell_type": "markdown",
   "metadata": {},
   "source": [
    "## Get dataframe from csv file"
   ]
  },
  {
   "cell_type": "code",
   "execution_count": 5,
   "metadata": {
    "ExecuteTime": {
     "end_time": "2019-10-03T09:55:02.793994Z",
     "start_time": "2019-10-03T09:55:02.736900Z"
    }
   },
   "outputs": [],
   "source": [
    "# Read CSV file\n",
    "#tweets_today = pd.read_csv(r\"C:\\stage\\project\\datasets\\tweets{}.csv\".format(datetime.date.today()))\n",
    "tweets_today = pd.read_csv(r\"..\\datasets\\tweets2019-09-24.csv\")\n",
    "tweets_today = tweets_today.head(5000)\n",
    "# Gets tweet texts\n",
    "tweets_today_text = tweets_today[\"tweet\"]"
   ]
  },
  {
   "cell_type": "markdown",
   "metadata": {},
   "source": [
    "## Data cleaning"
   ]
  },
  {
   "cell_type": "code",
   "execution_count": 6,
   "metadata": {
    "ExecuteTime": {
     "end_time": "2019-10-03T09:55:02.803427Z",
     "start_time": "2019-10-03T09:55:02.795986Z"
    }
   },
   "outputs": [],
   "source": [
    "# Preprocessing of tweet texts\n",
    "def format_tweet(tweet):\n",
    "    processed_tweet=\"\"\n",
    "    for word in tweet.full_text.split():\n",
    "        # Removing URL from tweet\n",
    "        processed_word = re.sub(r'([^0-9A-Za-z \\t])|(\\w+:\\/\\/\\S+)', ' ', word)\n",
    "        \n",
    "        # Remove all the special characters\n",
    "        #processed_word = re.sub(r'\\W', '', processed_word)\n",
    "        # remove all single characters\n",
    "        processed_word = re.sub(r'\\s+[a-zA-Z]\\s+', ' ', processed_word)\n",
    "        # Remove single characters from the start\n",
    "        processed_word = re.sub(r'\\^[a-zA-Z]\\s+', ' ', processed_word) \n",
    "        # Substituting multiple spaces with single space\n",
    "        processed_word = re.sub(r'\\s+', '', processed_word, flags=re.I)\n",
    "        # Removing prefixed 'b'\n",
    "        processed_word = re.sub(r'^b\\s+', ' ', processed_word)\n",
    "        # Converting to Lowercase\n",
    "        processed_word = processed_word.lower()\n",
    "        processed_tweet= processed_tweet+\" \"+processed_word\n",
    "        return processed_tweet\n",
    "            \n",
    "    else:\n",
    "        return\n",
    "    \n"
   ]
  },
  {
   "cell_type": "markdown",
   "metadata": {},
   "source": [
    "## Labeling tweets with NLTK vader"
   ]
  },
  {
   "cell_type": "code",
   "execution_count": 7,
   "metadata": {
    "ExecuteTime": {
     "end_time": "2019-10-03T09:55:02.863940Z",
     "start_time": "2019-10-03T09:55:02.806898Z"
    }
   },
   "outputs": [
    {
     "name": "stderr",
     "output_type": "stream",
     "text": [
      "[nltk_data] Downloading package vader_lexicon to\n",
      "[nltk_data]     C:\\Users\\ViMs\\AppData\\Roaming\\nltk_data...\n",
      "[nltk_data]   Package vader_lexicon is already up-to-date!\n"
     ]
    },
    {
     "data": {
      "text/plain": [
       "True"
      ]
     },
     "execution_count": 7,
     "metadata": {},
     "output_type": "execute_result"
    }
   ],
   "source": [
    "import nltk\n",
    "from nltk.sentiment.vader import SentimentIntensityAnalyzer\n",
    "nltk.download('vader_lexicon')"
   ]
  },
  {
   "cell_type": "code",
   "execution_count": 8,
   "metadata": {
    "ExecuteTime": {
     "end_time": "2019-10-03T09:55:02.904115Z",
     "start_time": "2019-10-03T09:55:02.867411Z"
    }
   },
   "outputs": [
    {
     "name": "stdout",
     "output_type": "stream",
     "text": [
      " dozens arrested in dc climate change protests  and activists put on quite a spectacle  : \n",
      "{'neg': 0.312, 'neu': 0.688, 'pos': 0.0, 'compound': -0.6124}\n",
      "\n",
      "\n",
      " all the dudebros and ignorant women commenting negative stuff on greta thunbergs speech is exactly why climate change is a real problem: \n",
      "{'neg': 0.321, 'neu': 0.679, 'pos': 0.0, 'compound': -0.8176}\n",
      "\n",
      "\n",
      " everyone is talking about the 16 year old who spoke on climate changeif you dont know who her parents and grand parents are then you probably believe her lol the world is a stage enjoy the show: \n",
      "{'neg': 0.0, 'neu': 0.786, 'pos': 0.214, 'compound': 0.8402}\n",
      "\n",
      "\n",
      " there is no climate change to make such claim accurate you would have to include all other planets pluto mars all planets besides earth i mean is earth the only planet in our atmosphere pluto just had a volcano eruptwhat insanity by the left for the one world order: \n",
      "{'neg': 0.116, 'neu': 0.884, 'pos': 0.0, 'compound': -0.7096}\n",
      "\n",
      "\n",
      " greta the climate puppet is a 100 fool this was on display yesterday especially when she slammed money and called economic growth a fairy tale more people die from poverty than will die in any hurricane or heat wave regardless of the cause : \n",
      "{'neg': 0.274, 'neu': 0.677, 'pos': 0.049, 'compound': -0.9179}\n",
      "\n",
      "\n"
     ]
    }
   ],
   "source": [
    "sid = SentimentIntensityAnalyzer()\n",
    "\n",
    "for tweet in tweets_today_text[:5]:\n",
    "    print(\"{0}: \\n{1}\\n\\n\".format(tweet, sid.polarity_scores(tweet)))"
   ]
  },
  {
   "cell_type": "code",
   "execution_count": 9,
   "metadata": {
    "ExecuteTime": {
     "end_time": "2019-10-03T09:55:04.835355Z",
     "start_time": "2019-10-03T09:55:02.906595Z"
    }
   },
   "outputs": [
    {
     "data": {
      "text/html": [
       "<div>\n",
       "<style scoped>\n",
       "    .dataframe tbody tr th:only-of-type {\n",
       "        vertical-align: middle;\n",
       "    }\n",
       "\n",
       "    .dataframe tbody tr th {\n",
       "        vertical-align: top;\n",
       "    }\n",
       "\n",
       "    .dataframe thead th {\n",
       "        text-align: right;\n",
       "    }\n",
       "</style>\n",
       "<table border=\"1\" class=\"dataframe\">\n",
       "  <thead>\n",
       "    <tr style=\"text-align: right;\">\n",
       "      <th></th>\n",
       "      <th>Sentiment</th>\n",
       "      <th>Polarity</th>\n",
       "      <th>Tweet</th>\n",
       "      <th>Username</th>\n",
       "      <th>Creation Date</th>\n",
       "    </tr>\n",
       "  </thead>\n",
       "  <tbody>\n",
       "    <tr>\n",
       "      <th>4980</th>\n",
       "      <td>negative</td>\n",
       "      <td>-0.60</td>\n",
       "      <td>ericislander youre not going to change minds ...</td>\n",
       "      <td>robert weiss</td>\n",
       "      <td>2019-09-24 11:43:38</td>\n",
       "    </tr>\n",
       "    <tr>\n",
       "      <th>4981</th>\n",
       "      <td>positive</td>\n",
       "      <td>0.78</td>\n",
       "      <td>read riskparty63s eyeopening analysis when 13...</td>\n",
       "      <td>Daniel Pipes  دانيال بايبس</td>\n",
       "      <td>2019-09-24 11:43:37</td>\n",
       "    </tr>\n",
       "    <tr>\n",
       "      <th>4982</th>\n",
       "      <td>negative</td>\n",
       "      <td>-0.54</td>\n",
       "      <td>cathmckenna this child is a royal ottawa hosp...</td>\n",
       "      <td>Boba</td>\n",
       "      <td>2019-09-24 11:43:37</td>\n",
       "    </tr>\n",
       "    <tr>\n",
       "      <th>4983</th>\n",
       "      <td>positive</td>\n",
       "      <td>0.60</td>\n",
       "      <td>the us didnt believe in al gore a white male ...</td>\n",
       "      <td>×</td>\n",
       "      <td>2019-09-24 11:43:35</td>\n",
       "    </tr>\n",
       "    <tr>\n",
       "      <th>4984</th>\n",
       "      <td>positive</td>\n",
       "      <td>0.14</td>\n",
       "      <td>eupakistan climate change is a most important...</td>\n",
       "      <td>Aminn Riaz</td>\n",
       "      <td>2019-09-24 11:43:35</td>\n",
       "    </tr>\n",
       "    <tr>\n",
       "      <th>4985</th>\n",
       "      <td>negative</td>\n",
       "      <td>-0.69</td>\n",
       "      <td>gandalfthewhi19 its not climate change that w...</td>\n",
       "      <td>Brenton</td>\n",
       "      <td>2019-09-24 11:43:35</td>\n",
       "    </tr>\n",
       "    <tr>\n",
       "      <th>4986</th>\n",
       "      <td>neutral</td>\n",
       "      <td>0.00</td>\n",
       "      <td>myunpopularopinionis im against climate change</td>\n",
       "      <td>Expose</td>\n",
       "      <td>2019-09-24 11:43:34</td>\n",
       "    </tr>\n",
       "    <tr>\n",
       "      <th>4987</th>\n",
       "      <td>positive</td>\n",
       "      <td>0.42</td>\n",
       "      <td>drnormanbergrun rjrw10 huntstunning paddyfern...</td>\n",
       "      <td>🌈 Steve 🚀</td>\n",
       "      <td>2019-09-24 11:43:34</td>\n",
       "    </tr>\n",
       "    <tr>\n",
       "      <th>4988</th>\n",
       "      <td>negative</td>\n",
       "      <td>-0.69</td>\n",
       "      <td>yuchanslay my town has a facebook group and i...</td>\n",
       "      <td>☆ liv#^__^</td>\n",
       "      <td>2019-09-24 11:43:30</td>\n",
       "    </tr>\n",
       "    <tr>\n",
       "      <th>4989</th>\n",
       "      <td>negative</td>\n",
       "      <td>-0.59</td>\n",
       "      <td>robborobson21 mattbors pixelatedboat does tha...</td>\n",
       "      <td>George Paschall</td>\n",
       "      <td>2019-09-24 11:43:30</td>\n",
       "    </tr>\n",
       "    <tr>\n",
       "      <th>4990</th>\n",
       "      <td>neutral</td>\n",
       "      <td>0.00</td>\n",
       "      <td>kkretz4art whitehouse realdonaldtrump her spe...</td>\n",
       "      <td>Michael Niel</td>\n",
       "      <td>2019-09-24 11:43:28</td>\n",
       "    </tr>\n",
       "    <tr>\n",
       "      <th>4991</th>\n",
       "      <td>negative</td>\n",
       "      <td>-0.93</td>\n",
       "      <td>this man is a piece of shit who uses a 16 yos...</td>\n",
       "      <td>James Carr</td>\n",
       "      <td>2019-09-24 11:43:26</td>\n",
       "    </tr>\n",
       "    <tr>\n",
       "      <th>4992</th>\n",
       "      <td>negative</td>\n",
       "      <td>-0.83</td>\n",
       "      <td>nyinla2121 so robertjeffress built a business...</td>\n",
       "      <td>Facey McHeelson</td>\n",
       "      <td>2019-09-24 11:43:25</td>\n",
       "    </tr>\n",
       "    <tr>\n",
       "      <th>4993</th>\n",
       "      <td>positive</td>\n",
       "      <td>0.60</td>\n",
       "      <td>vardmos mxalher dofaquarius tesla elonmusk ye...</td>\n",
       "      <td>Bob Hector</td>\n",
       "      <td>2019-09-24 11:43:24</td>\n",
       "    </tr>\n",
       "    <tr>\n",
       "      <th>4994</th>\n",
       "      <td>positive</td>\n",
       "      <td>0.40</td>\n",
       "      <td>russmilam1 laylaondabeat heyfrase have you do...</td>\n",
       "      <td>Kj Smilez</td>\n",
       "      <td>2019-09-24 11:43:24</td>\n",
       "    </tr>\n",
       "    <tr>\n",
       "      <th>4995</th>\n",
       "      <td>negative</td>\n",
       "      <td>-0.51</td>\n",
       "      <td>shes so right bbc news  greta thunberg leader...</td>\n",
       "      <td>Joanna</td>\n",
       "      <td>2019-09-24 11:43:24</td>\n",
       "    </tr>\n",
       "    <tr>\n",
       "      <th>4996</th>\n",
       "      <td>positive</td>\n",
       "      <td>0.24</td>\n",
       "      <td>redpbluep cmagracias alvadistveburg every sin...</td>\n",
       "      <td>telekinetica</td>\n",
       "      <td>2019-09-24 11:43:24</td>\n",
       "    </tr>\n",
       "    <tr>\n",
       "      <th>4997</th>\n",
       "      <td>neutral</td>\n",
       "      <td>0.00</td>\n",
       "      <td>iam platform curated tweet we are on the fron...</td>\n",
       "      <td>IAM Platform</td>\n",
       "      <td>2019-09-24 11:43:23</td>\n",
       "    </tr>\n",
       "    <tr>\n",
       "      <th>4998</th>\n",
       "      <td>neutral</td>\n",
       "      <td>0.00</td>\n",
       "      <td>gotta be startin somethin  mj</td>\n",
       "      <td>Cassie Woolworth 🗽 🇺🇸</td>\n",
       "      <td>2019-09-24 11:43:23</td>\n",
       "    </tr>\n",
       "    <tr>\n",
       "      <th>4999</th>\n",
       "      <td>positive</td>\n",
       "      <td>0.64</td>\n",
       "      <td>literally the best thread about climate change</td>\n",
       "      <td>Feit 🇬🇧🇸🇪🌲</td>\n",
       "      <td>2019-09-24 11:43:19</td>\n",
       "    </tr>\n",
       "  </tbody>\n",
       "</table>\n",
       "</div>"
      ],
      "text/plain": [
       "     Sentiment  Polarity                                              Tweet  \\\n",
       "4980  negative     -0.60   ericislander youre not going to change minds ...   \n",
       "4981  positive      0.78   read riskparty63s eyeopening analysis when 13...   \n",
       "4982  negative     -0.54   cathmckenna this child is a royal ottawa hosp...   \n",
       "4983  positive      0.60   the us didnt believe in al gore a white male ...   \n",
       "4984  positive      0.14   eupakistan climate change is a most important...   \n",
       "4985  negative     -0.69   gandalfthewhi19 its not climate change that w...   \n",
       "4986   neutral      0.00     myunpopularopinionis im against climate change   \n",
       "4987  positive      0.42   drnormanbergrun rjrw10 huntstunning paddyfern...   \n",
       "4988  negative     -0.69   yuchanslay my town has a facebook group and i...   \n",
       "4989  negative     -0.59   robborobson21 mattbors pixelatedboat does tha...   \n",
       "4990   neutral      0.00   kkretz4art whitehouse realdonaldtrump her spe...   \n",
       "4991  negative     -0.93   this man is a piece of shit who uses a 16 yos...   \n",
       "4992  negative     -0.83   nyinla2121 so robertjeffress built a business...   \n",
       "4993  positive      0.60   vardmos mxalher dofaquarius tesla elonmusk ye...   \n",
       "4994  positive      0.40   russmilam1 laylaondabeat heyfrase have you do...   \n",
       "4995  negative     -0.51   shes so right bbc news  greta thunberg leader...   \n",
       "4996  positive      0.24   redpbluep cmagracias alvadistveburg every sin...   \n",
       "4997   neutral      0.00   iam platform curated tweet we are on the fron...   \n",
       "4998   neutral      0.00                     gotta be startin somethin  mj    \n",
       "4999  positive      0.64    literally the best thread about climate change    \n",
       "\n",
       "                        Username        Creation Date  \n",
       "4980                robert weiss  2019-09-24 11:43:38  \n",
       "4981  Daniel Pipes  دانيال بايبس  2019-09-24 11:43:37  \n",
       "4982                        Boba  2019-09-24 11:43:37  \n",
       "4983                           ×  2019-09-24 11:43:35  \n",
       "4984                  Aminn Riaz  2019-09-24 11:43:35  \n",
       "4985                     Brenton  2019-09-24 11:43:35  \n",
       "4986                      Expose  2019-09-24 11:43:34  \n",
       "4987                   🌈 Steve 🚀  2019-09-24 11:43:34  \n",
       "4988                  ☆ liv#^__^  2019-09-24 11:43:30  \n",
       "4989             George Paschall  2019-09-24 11:43:30  \n",
       "4990                Michael Niel  2019-09-24 11:43:28  \n",
       "4991                  James Carr  2019-09-24 11:43:26  \n",
       "4992             Facey McHeelson  2019-09-24 11:43:25  \n",
       "4993                  Bob Hector  2019-09-24 11:43:24  \n",
       "4994                   Kj Smilez  2019-09-24 11:43:24  \n",
       "4995                      Joanna  2019-09-24 11:43:24  \n",
       "4996                telekinetica  2019-09-24 11:43:24  \n",
       "4997                IAM Platform  2019-09-24 11:43:23  \n",
       "4998       Cassie Woolworth 🗽 🇺🇸  2019-09-24 11:43:23  \n",
       "4999                  Feit 🇬🇧🇸🇪🌲  2019-09-24 11:43:19  "
      ]
     },
     "execution_count": 9,
     "metadata": {},
     "output_type": "execute_result"
    }
   ],
   "source": [
    "def get_sentiment(polarity):\n",
    "    if polarity > 0:\n",
    "        return 'positive'\n",
    "    if polarity == 0:\n",
    "        return 'neutral'\n",
    "    else:\n",
    "        return 'negative'\n",
    "\n",
    "polarity_tweets = [round(sid.polarity_scores(tweet)[\"compound\"], 2)\n",
    "                   for tweet in tweets_today_text]\n",
    "sentiment_tweets = [get_sentiment(polarity) for polarity in polarity_tweets]\n",
    "zipped_list = list(zip(sentiment_tweets, polarity_tweets,\n",
    "                       tweets_today['tweet'], tweets_today['username'], tweets_today['creation date']))\n",
    "\n",
    "# Store to new dataframe\n",
    "sentiment_df = pd.DataFrame(zipped_list, columns=[\n",
    "    \"Sentiment\", \"Polarity\", \"Tweet\", \"Username\", \"Creation Date\"])\n",
    "sentiment_df.tail(20)"
   ]
  },
  {
   "cell_type": "code",
   "execution_count": 10,
   "metadata": {
    "ExecuteTime": {
     "end_time": "2019-10-03T09:55:05.033433Z",
     "start_time": "2019-10-03T09:55:04.838329Z"
    }
   },
   "outputs": [
    {
     "data": {
      "image/png": "[encoded data removed]",
      "text/plain": [
       "<Figure size 432x288 with 1 Axes>"
      ]
     },
     "metadata": {},
     "output_type": "display_data"
    },
    {
     "name": "stdout",
     "output_type": "stream",
     "text": [
      "total positive: 1804\n",
      "total neutral: 685\n",
      "total negative: 2511\n"
     ]
    }
   ],
   "source": [
    "sentiment_count = round(sentiment_df[\"Polarity\"].value_counts(), 2)\n",
    "\n",
    "sentiments = [get_sentiment(polarity)\n",
    "              for polarity in sentiment_df[\"Polarity\"]]\n",
    "\n",
    "sentiment_count_list = np.array([sentiments.count(\n",
    "    \"positive\"), sentiments.count(\"neutral\"), sentiments.count(\"negative\")])\n",
    "\n",
    "labels = [\"positive\", \"neutral\", \"negative\"]\n",
    "colors = [\"green\", \"yellow\", \"red\"]\n",
    "fig1, ax1 = plt.subplots()\n",
    "ax1.pie(sentiment_count_list, labels=labels, shadow=True,\n",
    "        autopct='%1.1f%%', startangle=90, colors=colors)\n",
    "ax1.axis('equal')\n",
    "plt.title(\"Distribution of sentiment values\")\n",
    "plt.show()\n",
    "print(\"total positive: {}\".format(sentiments.count('positive')))\n",
    "print(\"total neutral: {}\".format(sentiments.count('neutral')))\n",
    "print(\"total negative: {}\".format(sentiments.count('negative')))"
   ]
  },
  {
   "cell_type": "markdown",
   "metadata": {},
   "source": [
    "Using this nltk vader implementation for sentiment analysis, we get entirely diferent results. There are way less neutral tweets and more than half of the tweets now have a negative sentiment assigned to them"
   ]
  },
  {
   "cell_type": "code",
   "execution_count": 11,
   "metadata": {
    "ExecuteTime": {
     "end_time": "2019-10-03T09:55:05.226915Z",
     "start_time": "2019-10-03T09:55:05.037402Z"
    }
   },
   "outputs": [
    {
     "data": {
      "image/png": "[encoded data removed]",
      "text/plain": [
       "<Figure size 432x288 with 1 Axes>"
      ]
     },
     "metadata": {
      "needs_background": "light"
     },
     "output_type": "display_data"
    }
   ],
   "source": [
    "sentiment_df[\"Polarity\"].hist(bins=5)\n",
    "plt.title(\"Distribution of sentiment polarities\")\n",
    "plt.xlabel(\"Sentiment polarities\")\n",
    "plt.ylabel(\"Amount of tweets\")\n",
    "plt.show()"
   ]
  },
  {
   "cell_type": "markdown",
   "metadata": {},
   "source": [
    "## Implementing machine learning algorithms"
   ]
  },
  {
   "cell_type": "code",
   "execution_count": 12,
   "metadata": {
    "ExecuteTime": {
     "end_time": "2019-10-03T09:55:05.240763Z",
     "start_time": "2019-10-03T09:55:05.229357Z"
    }
   },
   "outputs": [
    {
     "name": "stderr",
     "output_type": "stream",
     "text": [
      "[nltk_data] Downloading package stopwords to\n",
      "[nltk_data]     C:\\Users\\ViMs\\AppData\\Roaming\\nltk_data...\n",
      "[nltk_data]   Package stopwords is already up-to-date!\n",
      "[nltk_data] Downloading package wordnet to\n",
      "[nltk_data]     C:\\Users\\ViMs\\AppData\\Roaming\\nltk_data...\n",
      "[nltk_data]   Package wordnet is already up-to-date!\n"
     ]
    },
    {
     "data": {
      "text/plain": [
       "True"
      ]
     },
     "execution_count": 12,
     "metadata": {},
     "output_type": "execute_result"
    }
   ],
   "source": [
    "from sklearn.preprocessing import MinMaxScaler\n",
    "from sklearn.feature_extraction.text import TfidfVectorizer\n",
    "from sklearn.pipeline import Pipeline\n",
    "from sklearn.model_selection import GridSearchCV\n",
    "from sklearn.model_selection import RandomizedSearchCV\n",
    "from sklearn.metrics import classification_report, confusion_matrix, accuracy_score\n",
    "from nltk.stem import WordNetLemmatizer\n",
    "from nltk.corpus import stopwords\n",
    "import nltk\n",
    "nltk.download('stopwords')\n",
    "nltk.download('wordnet')"
   ]
  },
  {
   "cell_type": "markdown",
   "metadata": {},
   "source": [
    "### Preprocessing data"
   ]
  },
  {
   "cell_type": "code",
   "execution_count": 13,
   "metadata": {
    "ExecuteTime": {
     "end_time": "2019-10-03T09:56:10.907049Z",
     "start_time": "2019-10-03T09:55:05.243242Z"
    }
   },
   "outputs": [
    {
     "name": "stdout",
     "output_type": "stream",
     "text": [
      "5000\n"
     ]
    }
   ],
   "source": [
    "labels = sentiment_df[\"Sentiment\"].values\n",
    "documents = []\n",
    "stemmer = WordNetLemmatizer()\n",
    "\n",
    "def filter_stopwords(word):\n",
    "    if word in stopwords.words('english'):\n",
    "        return False\n",
    "    else:\n",
    "        return True\n",
    "\n",
    "\n",
    "# Extract tweet column from df\n",
    "sentiment_df_text = sentiment_df[\"Tweet\"]\n",
    "\n",
    "for tweet in sentiment_df_text:\n",
    "    document = tweet.split()\n",
    "    document = [stemmer.lemmatize(word) for word in document]\n",
    "    document = filter(filter_stopwords, document)\n",
    "    document = ' '.join(document)\n",
    "    documents.append(document)\n",
    "print(len(documents))"
   ]
  },
  {
   "cell_type": "markdown",
   "metadata": {},
   "source": [
    "### Vectorize words with TF-IDF + normalize features"
   ]
  },
  {
   "cell_type": "code",
   "execution_count": 14,
   "metadata": {
    "ExecuteTime": {
     "end_time": "2019-10-03T09:56:11.051640Z",
     "start_time": "2019-10-03T09:56:10.909032Z"
    }
   },
   "outputs": [
    {
     "data": {
      "text/plain": [
       "array([[0., 0., 0., ..., 0., 0., 0.],\n",
       "       [0., 0., 0., ..., 0., 0., 0.],\n",
       "       [0., 0., 0., ..., 0., 0., 0.],\n",
       "       ...,\n",
       "       [0., 0., 0., ..., 0., 0., 0.],\n",
       "       [0., 0., 0., ..., 0., 0., 0.],\n",
       "       [0., 0., 0., ..., 0., 0., 0.]])"
      ]
     },
     "execution_count": 14,
     "metadata": {},
     "output_type": "execute_result"
    }
   ],
   "source": [
    "# tfidf = term frequency, inverse document frequency ()\n",
    "vectorizer = TfidfVectorizer(max_features=3000, min_df=5, max_df=0.80)\n",
    "processed_features = vectorizer.fit_transform(documents)\n",
    "#processed_features = normalize(processed_features)\n",
    "processed_features = processed_features.toarray()\n",
    "\n",
    "feature_names = vectorizer.get_feature_names()\n",
    "\n",
    "processed_features"
   ]
  },
  {
   "cell_type": "markdown",
   "metadata": {},
   "source": [
    "### Divide into training and test sets"
   ]
  },
  {
   "cell_type": "code",
   "execution_count": 15,
   "metadata": {
    "ExecuteTime": {
     "end_time": "2019-10-03T09:56:11.122075Z",
     "start_time": "2019-10-03T09:56:11.053624Z"
    }
   },
   "outputs": [
    {
     "name": "stdout",
     "output_type": "stream",
     "text": [
      "4000\n",
      "1000\n"
     ]
    }
   ],
   "source": [
    "from sklearn.model_selection import train_test_split\n",
    "from sklearn.preprocessing import LabelEncoder\n",
    "\n",
    "label_encoder = LabelEncoder()\n",
    "labels = label_encoder.fit_transform(labels)\n",
    "\n",
    "X_train, X_test, y_train, y_test = train_test_split(processed_features,\n",
    "                                                    labels, test_size=0.2,\n",
    "                                                    random_state=1)\n",
    "\n",
    "print(len(X_train))\n",
    "print(len(X_test))"
   ]
  },
  {
   "cell_type": "markdown",
   "metadata": {},
   "source": [
    "### Implementing Multinomial Naive Bayes"
   ]
  },
  {
   "cell_type": "code",
   "execution_count": 16,
   "metadata": {
    "ExecuteTime": {
     "end_time": "2019-10-03T09:56:11.131498Z",
     "start_time": "2019-10-03T09:56:11.124553Z"
    }
   },
   "outputs": [],
   "source": [
    "from sklearn.naive_bayes import MultinomialNB"
   ]
  },
  {
   "cell_type": "code",
   "execution_count": 17,
   "metadata": {
    "ExecuteTime": {
     "end_time": "2019-10-03T09:56:23.102772Z",
     "start_time": "2019-10-03T09:56:11.133481Z"
    }
   },
   "outputs": [
    {
     "name": "stdout",
     "output_type": "stream",
     "text": [
      "Fitting 5 folds for each of 12 candidates, totalling 60 fits\n"
     ]
    },
    {
     "name": "stderr",
     "output_type": "stream",
     "text": [
      "[Parallel(n_jobs=-1)]: Using backend LokyBackend with 4 concurrent workers.\n",
      "[Parallel(n_jobs=-1)]: Done  33 tasks      | elapsed:    7.6s\n"
     ]
    },
    {
     "name": "stdout",
     "output_type": "stream",
     "text": [
      "Best cross-validation score: 0.64\n",
      "Best parameters:  {'alpha': 10.0, 'fit_prior': False}\n",
      "Best estimator:  MultinomialNB(alpha=10.0, class_prior=None, fit_prior=False)\n"
     ]
    },
    {
     "name": "stderr",
     "output_type": "stream",
     "text": [
      "[Parallel(n_jobs=-1)]: Done  60 out of  60 | elapsed:   11.8s finished\n"
     ]
    }
   ],
   "source": [
    "param_grid_mnb = {'alpha': [0.001, 0.01, 0.1, 1.0, 10.0, 100.0],\n",
    "                  'fit_prior': [True, False]\n",
    "                 }\n",
    "grid_mnb = GridSearchCV(MultinomialNB(), param_grid_mnb, cv=5, verbose=2, n_jobs=-1)\n",
    "grid_mnb.fit(X_train, y_train)\n",
    "\n",
    "print(\"Best cross-validation score: {:.2f}\".format(grid_mnb.best_score_))\n",
    "print(\"Best parameters: \", grid_mnb.best_params_)\n",
    "print(\"Best estimator: \", grid_mnb.best_estimator_)"
   ]
  },
  {
   "cell_type": "markdown",
   "metadata": {},
   "source": [
    "* Best cross-validation score: 0.64\n",
    "* Best parameters:  {'alpha': 10.0, 'fit_prior': False}\n",
    "* Best estimator:  MultinomialNB(alpha=10.0, class_prior=None, fit_prior=False)"
   ]
  },
  {
   "cell_type": "code",
   "execution_count": 18,
   "metadata": {
    "ExecuteTime": {
     "end_time": "2019-10-03T09:56:23.205942Z",
     "start_time": "2019-10-03T09:56:23.106740Z"
    }
   },
   "outputs": [
    {
     "name": "stdout",
     "output_type": "stream",
     "text": [
      "[[409  16  70]\n",
      " [ 88  27  36]\n",
      " [152  11 191]]\n",
      "              precision    recall  f1-score   support\n",
      "\n",
      "           0       0.63      0.83      0.72       495\n",
      "           1       0.50      0.18      0.26       151\n",
      "           2       0.64      0.54      0.59       354\n",
      "\n",
      "    accuracy                           0.63      1000\n",
      "   macro avg       0.59      0.51      0.52      1000\n",
      "weighted avg       0.62      0.63      0.60      1000\n",
      "\n",
      "The algorithm has reached an accuracy of: 0.627\n"
     ]
    }
   ],
   "source": [
    "mnb = MultinomialNB(alpha=10.0, class_prior=None, fit_prior=False)\n",
    "mnb.fit(X_train, y_train)\n",
    "predictions_mnb = mnb.predict(X_test)\n",
    "print(confusion_matrix(y_test, predictions_mnb))\n",
    "print(classification_report(y_test, predictions_mnb))\n",
    "print(\"The algorithm has reached an accuracy of: {:.2f}\".format(mnb.score(X_test, y_test)*100))"
   ]
  },
  {
   "cell_type": "markdown",
   "metadata": {},
   "source": [
    "### Implementing Logistic regression & tuning hyperparameters"
   ]
  },
  {
   "cell_type": "code",
   "execution_count": 19,
   "metadata": {
    "ExecuteTime": {
     "end_time": "2019-10-03T10:08:56.279471Z",
     "start_time": "2019-10-03T09:56:23.208917Z"
    }
   },
   "outputs": [
    {
     "name": "stdout",
     "output_type": "stream",
     "text": [
      "Fitting 5 folds for each of 1000 candidates, totalling 5000 fits\n"
     ]
    },
    {
     "name": "stderr",
     "output_type": "stream",
     "text": [
      "[Parallel(n_jobs=-1)]: Using backend LokyBackend with 4 concurrent workers.\n",
      "[Parallel(n_jobs=-1)]: Done  33 tasks      | elapsed:    6.3s\n",
      "[Parallel(n_jobs=-1)]: Done 154 tasks      | elapsed:   24.9s\n",
      "[Parallel(n_jobs=-1)]: Done 357 tasks      | elapsed:   58.1s\n",
      "[Parallel(n_jobs=-1)]: Done 640 tasks      | elapsed:  1.7min\n",
      "[Parallel(n_jobs=-1)]: Done 1005 tasks      | elapsed:  2.5min\n",
      "[Parallel(n_jobs=-1)]: Done 1450 tasks      | elapsed:  3.6min\n",
      "[Parallel(n_jobs=-1)]: Done 1977 tasks      | elapsed:  4.9min\n",
      "[Parallel(n_jobs=-1)]: Done 2584 tasks      | elapsed:  6.6min\n",
      "[Parallel(n_jobs=-1)]: Done 3273 tasks      | elapsed:  8.2min\n",
      "[Parallel(n_jobs=-1)]: Done 4042 tasks      | elapsed: 10.1min\n",
      "[Parallel(n_jobs=-1)]: Done 4893 tasks      | elapsed: 12.3min\n",
      "[Parallel(n_jobs=-1)]: Done 5000 out of 5000 | elapsed: 12.5min finished\n"
     ]
    },
    {
     "name": "stdout",
     "output_type": "stream",
     "text": [
      "Best cross-validation score: 0.69\n",
      "Best parameters:  {'warm_start': True, 'tol': 1e-05, 'max_iter': 100, 'fit_intercept': True, 'dual': True, 'C': 10}\n",
      "Best estimator:  LogisticRegression(C=10, class_weight=None, dual=True, fit_intercept=True,\n",
      "                   intercept_scaling=1, l1_ratio=None, max_iter=100,\n",
      "                   multi_class='warn', n_jobs=None, penalty='l2',\n",
      "                   random_state=None, solver='warn', tol=1e-05, verbose=0,\n",
      "                   warm_start=True)\n"
     ]
    }
   ],
   "source": [
    "from sklearn.linear_model import LogisticRegression\n",
    "import warnings\n",
    "warnings.filterwarnings('ignore')\n",
    "\n",
    "param_grid_lr ={'dual': [True, False],\n",
    "                'tol': [1e-6, 1e-5, 1e-4, 1e-3, 1e-2 ],\n",
    "                'C': [0.001, 0.01, 0.1, 1, 10, 100, 1000],\n",
    "                'fit_intercept': [True, False],\n",
    "                'max_iter' : [100, 110, 120, 130, 140],\n",
    "                'warm_start': [True, False]\n",
    "              }\n",
    "grid_lr = RandomizedSearchCV(LogisticRegression(), param_grid_lr,n_iter=1000,  verbose=2, cv=5, n_jobs=-1)\n",
    "grid_lr.fit(X_train, y_train)\n",
    "print(\"Best cross-validation score: {:.2f}\".format(grid_lr.best_score_))\n",
    "print(\"Best parameters: \", grid_lr.best_params_)\n",
    "print(\"Best estimator: \", grid_lr.best_estimator_)"
   ]
  },
  {
   "cell_type": "markdown",
   "metadata": {},
   "source": [
    "* Best cross-validation score: 0.69\n",
    "* Best parameters:  {'C': 10, 'dual': True, 'fit_intercept': True, 'max_iter': 110, 'tol': 0.01, 'warm_start': True}\n",
    "* Best estimator:  LogisticRegression(C=10, class_weight=None, dual=True, fit_intercept=True, intercept_scaling=1, l1_ratio=None, max_iter=110, multi_class='warn', n_jobs=None, penalty='l2', random_state=None, solver='warn', tol=0.01, verbose=0, warm_start=True)"
   ]
  },
  {
   "cell_type": "code",
   "execution_count": 20,
   "metadata": {
    "ExecuteTime": {
     "end_time": "2019-10-03T10:09:53.047124Z",
     "start_time": "2019-10-03T10:09:52.907747Z"
    }
   },
   "outputs": [
    {
     "name": "stdout",
     "output_type": "stream",
     "text": [
      "[[392  17  86]\n",
      " [ 48  65  38]\n",
      " [ 86  16 252]]\n",
      "              precision    recall  f1-score   support\n",
      "\n",
      "           0       0.75      0.79      0.77       495\n",
      "           1       0.66      0.43      0.52       151\n",
      "           2       0.67      0.71      0.69       354\n",
      "\n",
      "    accuracy                           0.71      1000\n",
      "   macro avg       0.69      0.64      0.66      1000\n",
      "weighted avg       0.71      0.71      0.70      1000\n",
      "\n",
      "The algorithm has reached an accuracy of: 70.90%\n"
     ]
    }
   ],
   "source": [
    "lr = LogisticRegression(C=10, class_weight=None, dual=True, fit_intercept=True,\n",
    "                   intercept_scaling=1, l1_ratio=None, max_iter=110,\n",
    "                   multi_class='warn', n_jobs=None, penalty='l2',\n",
    "                   random_state=None, solver='warn', tol=0.01, verbose=0,\n",
    "                   warm_start=True)\n",
    "\n",
    "lr.fit(X_train, y_train)\n",
    "predictions_lr = lr.predict(X_test)\n",
    "\n",
    "print(confusion_matrix(y_test, predictions_lr))\n",
    "print(classification_report(y_test, predictions_lr))\n",
    "print(\"The algorithm has reached an accuracy of: {:.2f}%\".format(\n",
    "    lr.score(X_test, y_test)*100))"
   ]
  },
  {
   "cell_type": "markdown",
   "metadata": {},
   "source": [
    "### Implementing Support Vector Machine"
   ]
  },
  {
   "cell_type": "code",
   "execution_count": null,
   "metadata": {
    "ExecuteTime": {
     "start_time": "2019-10-03T10:10:08.782Z"
    }
   },
   "outputs": [
    {
     "name": "stdout",
     "output_type": "stream",
     "text": [
      "Fitting 3 folds for each of 150 candidates, totalling 450 fits\n"
     ]
    },
    {
     "name": "stderr",
     "output_type": "stream",
     "text": [
      "[Parallel(n_jobs=-1)]: Using backend LokyBackend with 4 concurrent workers.\n",
      "[Parallel(n_jobs=-1)]: Done  33 tasks      | elapsed: 11.1min\n"
     ]
    }
   ],
   "source": [
    "from sklearn.svm import SVC\n",
    "param_grid_svm = {'C': [0.1, 1, 10, 100],\n",
    "                  'kernel': ['linear', 'rbf', 'poly'],\n",
    "                  'gamma': [0.1, 1, 10, 100],\n",
    "                  'degree': [0, 1, 2, 3, 4, 5, 6]\n",
    "                 }\n",
    "\n",
    "grid_svc = RandomizedSearchCV(SVC(), param_grid_svm, n_iter=150, cv=3, verbose=2, n_jobs=-1)\n",
    "grid_svc.fit(X_train, y_train)\n",
    "print(\"Best cross-validation score: {:.2f}\".format(grid_svc.best_score_))\n",
    "print(\"Best parameters: \", grid_svc.best_params_)\n",
    "print(\"Best estimator: \", grid_svc.best_estimator_)"
   ]
  },
  {
   "cell_type": "code",
   "execution_count": null,
   "metadata": {
    "ExecuteTime": {
     "end_time": "2019-09-30T13:00:31.296074Z",
     "start_time": "2019-09-30T13:00:31.031784Z"
    }
   },
   "outputs": [],
   "source": [
    "\n",
    "svm = grid_svm.best_estimator_\n",
    "svm_fit = svm.fit(X_train, y_train)\n",
    "score_svm = svm.score(X_test, y_test)\n",
    "predictions_svm = svm.predict(X_test)\n",
    "print(confusion_matrix(y_test, predictions_svm))\n",
    "print(classification_report(y_test, predictions_svm))\n",
    "print(\"The algorithm has reached an accuracy of: {:.2f}%\".format(score_svm*100))"
   ]
  },
  {
   "cell_type": "markdown",
   "metadata": {},
   "source": [
    "### Implementing Random Forest & tuning hyperparameters"
   ]
  },
  {
   "cell_type": "code",
   "execution_count": null,
   "metadata": {
    "ExecuteTime": {
     "end_time": "2019-09-30T13:00:24.631289Z",
     "start_time": "2019-09-30T12:59:02.354590Z"
    }
   },
   "outputs": [],
   "source": [
    "from sklearn.ensemble import RandomForestClassifier\n",
    "from sklearn.metrics import classification_report, confusion_matrix, accuracy_score\n",
    "\n",
    "param_grid_rf = {'n_estimators': [1, 2, 4, 8, 16, 32, 64, 100, 200],\n",
    "               'max_features': ['auto', 'sqrt'],\n",
    "               'max_depth': np.linspace(1, 32, 32, endpoint=True),\n",
    "               'min_samples_split': [2, 5, 10],\n",
    "               'min_samples_leaf': [1, 2, 4],\n",
    "               'bootstrap': [True, False]}\n",
    "\n",
    "grid_rf = RandomizedSearchCV(RandomForestClassifier(), param_grid_rf, cv=3, n_iter=1000 , verbose=2, n_jobs=-1)\n",
    "\n",
    "grid_rf.fit(X_train, y_train)\n",
    "\n",
    "print(\"Best cross-validation score: {:.2f}\".format(grid_rf.best_score_))\n",
    "print(\"Best parameters: \", grid_rf.best_params_)\n",
    "print(\"Best estimator: \", grid_rf.best_estimator_)"
   ]
  },
  {
   "cell_type": "code",
   "execution_count": null,
   "metadata": {},
   "outputs": [],
   "source": [
    "rf = grid_rf.best_estimator_\n",
    "\n",
    "rf.fit(X_train, y_train)\n",
    "predictions_rf = rf.predict(X_test)\n",
    "print(confusion_matrix(y_test, predictions_rf))\n",
    "print(classification_report(y_test, predictions_rf))\n",
    "print(\"The algorithm has reached an accuracy of: {:.2f}%\".format(\n",
    "    accuracy_score(y_test, predictions_rf)*100))\n",
    "print(rf.score(X_test, y_test))"
   ]
  },
  {
   "cell_type": "code",
   "execution_count": null,
   "metadata": {},
   "outputs": [],
   "source": []
  }
 ],
 "metadata": {
  "kernelspec": {
   "display_name": "Python 3",
   "language": "python",
   "name": "python3"
  },
  "language_info": {
   "codemirror_mode": {
    "name": "ipython",
    "version": 3
   },
   "file_extension": ".py",
   "mimetype": "text/x-python",
   "name": "python",
   "nbconvert_exporter": "python",
   "pygments_lexer": "ipython3",
   "version": "3.7.3"
  },
  "toc": {
   "base_numbering": 1,
   "nav_menu": {},
   "number_sections": true,
   "sideBar": true,
   "skip_h1_title": false,
   "title_cell": "Table of Contents",
   "title_sidebar": "Contents",
   "toc_cell": false,
   "toc_position": {},
   "toc_section_display": true,
   "toc_window_display": false
  },
  "varInspector": {
   "cols": {
    "lenName": 16,
    "lenType": 16,
    "lenVar": 40
   },
   "kernels_config": {
    "python": {
     "delete_cmd_postfix": "",
     "delete_cmd_prefix": "del ",
     "library": "var_list.py",
     "varRefreshCmd": "print(var_dic_list())"
    },
    "r": {
     "delete_cmd_postfix": ") ",
     "delete_cmd_prefix": "rm(",
     "library": "var_list.r",
     "varRefreshCmd": "cat(var_dic_list()) "
    }
   },
   "position": {
    "height": "478.8px",
    "left": "1175.6px",
    "right": "20px",
    "top": "124px",
    "width": "341.4px"
   },
   "types_to_exclude": [
    "module",
    "function",
    "builtin_function_or_method",
    "instance",
    "_Feature"
   ],
   "window_display": false
  }
 },
 "nbformat": 4,
 "nbformat_minor": 2
}
