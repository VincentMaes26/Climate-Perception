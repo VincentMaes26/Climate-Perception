{
 "cells": [
  {
   "cell_type": "markdown",
   "metadata": {},
   "source": [
    "# Tweet sentiment analysis"
   ]
  },
  {
   "cell_type": "code",
   "execution_count": 1,
   "metadata": {
    "ExecuteTime": {
     "end_time": "2019-10-15T08:29:38.960952Z",
     "start_time": "2019-10-15T08:29:32.002360Z"
    }
   },
   "outputs": [],
   "source": [
    "import re\n",
    "import numpy as np\n",
    "import pandas as pd\n",
    "import matplotlib.pyplot as plt\n",
    "import matplotlib.ticker as ticker\n",
    "import seaborn as sns\n",
    "import datetime\n",
    "import boto3\n",
    "import s3fs\n",
    "%matplotlib inline\n",
    "plt.style.use('seaborn-dark')\n",
    "pd.set_option('display.max_colwidth', -1)"
   ]
  },
  {
   "cell_type": "markdown",
   "metadata": {},
   "source": [
    "## Get dataframe from S3 bucket\n",
    "Iterates over all objects in the tweet-object folder in the aws s3 bucket.\n",
    "The objects are retrieved in JSON format and converted to a Pandas dataframe."
   ]
  },
  {
   "cell_type": "code",
   "execution_count": 2,
   "metadata": {
    "ExecuteTime": {
     "end_time": "2019-10-15T08:31:55.249705Z",
     "start_time": "2019-10-15T08:31:53.151786Z"
    }
   },
   "outputs": [
    {
     "name": "stdout",
     "output_type": "stream",
     "text": [
      "<class 'pandas.core.frame.DataFrame'>\n",
      "RangeIndex: 22797 entries, 0 to 22796\n",
      "Data columns (total 4 columns):\n",
      "creation date    22797 non-null object\n",
      "keyword          22797 non-null object\n",
      "tweet            22797 non-null object\n",
      "username         22797 non-null object\n",
      "dtypes: object(4)\n",
      "memory usage: 712.5+ KB\n"
     ]
    }
   ],
   "source": [
    "# # Read CSV file\n",
    "# #tweets_today = pd.read_csv(r'..\\datasets\\raw_data\\tweets{}.csv'.format(datetime.date.today()))\n",
    "# tweets_today = pd.read_csv(r'..\\datasets\\raw_data\\tweets2019-10-08.csv')\n",
    "# tweets_today = tweets_today.head(5000)\n",
    "# # Gets tweet texts\n",
    "# tweets_today_text = tweets_today['tweet']\n",
    "bucketname = 'ops-vw-interns-climate-perception-tweets'\n",
    "dataframe = pd.DataFrame(columns=('creation date','keyword', 'tweet', \n",
    "                                  'username'))\n",
    "s3 = boto3.resource('s3')\n",
    "\n",
    "s3_tweets = s3.Bucket(bucketname).objects.filter(Prefix='tweet-objects/', Delimiter='/').all()\n",
    "for file in s3_tweets:\n",
    "    temp_df = pd.read_json('s3://{}/{}'.format(bucketname, file.key))\n",
    "    dataframe = dataframe.append(temp_df, sort=False, ignore_index=True)\n",
    "dataframe_tweets = dataframe['tweet']\n",
    "dataframe.info()"
   ]
  },
  {
   "cell_type": "markdown",
   "metadata": {},
   "source": [
    "## Data cleaning\n",
    "Removing unneeded characters from the tweet texts like hashtags and urls"
   ]
  },
  {
   "cell_type": "code",
   "execution_count": 3,
   "metadata": {
    "ExecuteTime": {
     "end_time": "2019-10-15T08:30:39.182116Z",
     "start_time": "2019-10-15T08:30:38.686605Z"
    }
   },
   "outputs": [
    {
     "name": "stdout",
     "output_type": "stream",
     "text": [
      "unprocessed tweet: \n",
      "AOC: My ‘Dreams of Motherhood Now Bittersweet’ Because of Global Warming https://t.co/uUIM3uSbTi https://t.co/WFLq78IywX\n",
      "\n",
      "processed tweet: \n",
      " aoc my dreams of motherhood now bittersweet because of global warming  \n"
     ]
    }
   ],
   "source": [
    "# Preprocessing of tweet texts\n",
    "def format_tweet(tweet):\n",
    "    processed_tweet=''\n",
    "    for word in tweet.split():\n",
    "        # Removing URL from tweet\n",
    "        processed_word = re.sub('([^0-9A-Za-z \\t])|(\\w+:\\/\\/\\S+)', ' ', word)\n",
    "        \n",
    "        # remove all single characters\n",
    "        processed_word = re.sub('\\s+[a-zA-Z]\\s+', ' ', processed_word)\n",
    "        \n",
    "        # Remove single characters from the start\n",
    "        processed_word = re.sub('\\^[a-zA-Z]\\s+', ' ', processed_word) \n",
    "        \n",
    "        # Substituting multiple spaces with single space\n",
    "        processed_word = re.sub('\\s+', '', processed_word, flags=re.I)\n",
    "        \n",
    "        # Removing prefixed 'b'\n",
    "        processed_word = re.sub('^b\\s+', ' ', processed_word)\n",
    "        \n",
    "        # Removing &amp\n",
    "        processed_word = re.sub('&amp', '&', processed_word)\n",
    "        \n",
    "        # Removing breaks\n",
    "        processed_word = re.sub('<br/>', '', processed_word)\n",
    "        \n",
    "        # converts to lower\n",
    "        processed_word = processed_word.lower()\n",
    "        processed_tweet= processed_tweet+' '+processed_word\n",
    "    return processed_tweet        \n",
    "    \n",
    "tweets_text = [format_tweet(tweet) for tweet in dataframe_tweets]\n",
    "print('unprocessed tweet: \\n'+ dataframe['tweet'][15])\n",
    "print('\\nprocessed tweet: \\n' + tweets_text[15])"
   ]
  },
  {
   "cell_type": "markdown",
   "metadata": {},
   "source": [
    "## Labeling tweets with NLTK vader\n",
    "Provides te dataframe of the needed \"label\" / \"target\" column. In our case this column contains the sentiment values (Positive, Neutral, Negative)"
   ]
  },
  {
   "cell_type": "code",
   "execution_count": 4,
   "metadata": {
    "ExecuteTime": {
     "end_time": "2019-10-15T08:30:51.110714Z",
     "start_time": "2019-10-15T08:30:48.976936Z"
    }
   },
   "outputs": [
    {
     "name": "stderr",
     "output_type": "stream",
     "text": [
      "[nltk_data] Downloading package vader_lexicon to\n",
      "[nltk_data]     C:\\Users\\ViMs\\AppData\\Roaming\\nltk_data...\n",
      "[nltk_data]   Package vader_lexicon is already up-to-date!\n"
     ]
    },
    {
     "data": {
      "text/plain": [
       "True"
      ]
     },
     "execution_count": 4,
     "metadata": {},
     "output_type": "execute_result"
    }
   ],
   "source": [
    "import nltk\n",
    "from nltk.sentiment.vader import SentimentIntensityAnalyzer\n",
    "nltk.download('vader_lexicon')"
   ]
  },
  {
   "cell_type": "markdown",
   "metadata": {},
   "source": [
    "The NLTK.vader library helps us label the tweets by giving the tweet text a positive, neutral and negative score. Based on those scores it calculates the \"compound\" / \"total\" score. This is the value that gets stored in the dataframe "
   ]
  },
  {
   "cell_type": "code",
   "execution_count": 5,
   "metadata": {
    "ExecuteTime": {
     "end_time": "2019-10-15T08:30:51.190570Z",
     "start_time": "2019-10-15T08:30:51.145401Z"
    }
   },
   "outputs": [
    {
     "name": "stdout",
     "output_type": "stream",
     "text": [
      "0: climate change evidence how do we know gt vital signs of the planet global climate change and global warming how do we know its happening heres the evidence  \n",
      "{'neg': 0.0, 'neu': 0.809, 'pos': 0.191, 'compound': 0.5994}\n",
      "\n",
      "\n",
      "1: the election debate is over stay on the track libs mistakes in four years must not be hidden apologized snc lavalin climate change vs pipeline international relations economy down huge deficit list goes on never repeated libs must go say no to libs vote no  \n",
      "{'neg': 0.219, 'neu': 0.738, 'pos': 0.044, 'compound': -0.8054}\n",
      "\n",
      "\n",
      "2: revealed google made large contributions to climate change deniers  \n",
      "{'neg': 0.208, 'neu': 0.792, 'pos': 0.0, 'compound': -0.2732}\n",
      "\n",
      "\n",
      "3: climate change the devastating effect plastics have on our oceans dwindling numbers of rare species nah  \n",
      "{'neg': 0.289, 'neu': 0.711, 'pos': 0.0, 'compound': -0.6908}\n",
      "\n",
      "\n",
      "4: pieces of junk toplevel japanese climate scientist rejects global warming panic  opinion  lifesite  \n",
      "{'neg': 0.359, 'neu': 0.552, 'pos': 0.088, 'compound': -0.7096}\n",
      "\n",
      "\n",
      "5: the simpsons predicted greta thunbergs climate change speech in 2007  nme  \n",
      "{'neg': 0.237, 'neu': 0.763, 'pos': 0.0, 'compound': -0.4767}\n",
      "\n",
      "\n",
      "6: aoc gets choked up at climate forum my dreams of motherhood are now bittersweet  please do not procreate draintheswamp walkawayfromdemocratsocialists \n",
      "{'neg': 0.173, 'neu': 0.63, 'pos': 0.197, 'compound': 0.1531}\n",
      "\n",
      "\n",
      "7: climatechange protesters hold london funeral march  \n",
      "{'neg': 0.524, 'neu': 0.476, 'pos': 0.0, 'compound': -0.5267}\n",
      "\n",
      "\n",
      "8: im not the first to point it out but there is zero reason why if i know your position on gun control i also have a good chance of guessing your position on abortion and climate change these things are not a priori related and should not be bundled  \n",
      "{'neg': 0.06, 'neu': 0.816, 'pos': 0.123, 'compound': 0.5023}\n",
      "\n",
      "\n",
      "9: jane fonda plans climate change civil disobedience on the capitol steps  \n",
      "{'neg': 0.0, 'neu': 1.0, 'pos': 0.0, 'compound': 0.0}\n",
      "\n",
      "\n"
     ]
    }
   ],
   "source": [
    "sid = SentimentIntensityAnalyzer()\n",
    "\n",
    "for i, tweet in enumerate(tweets_text[50:60]):\n",
    "    print('{0}:{1} \\n{2}\\n\\n'.format(i, tweet, sid.polarity_scores(tweet)))"
   ]
  },
  {
   "cell_type": "code",
   "execution_count": 6,
   "metadata": {
    "ExecuteTime": {
     "end_time": "2019-10-15T08:30:51.901996Z",
     "start_time": "2019-10-15T08:30:51.229227Z"
    }
   },
   "outputs": [
    {
     "name": "stdout",
     "output_type": "stream",
     "text": [
      "<class 'pandas.core.frame.DataFrame'>\n",
      "RangeIndex: 22797 entries, 0 to 22796\n",
      "Data columns (total 7 columns):\n",
      "Sentiment        22797 non-null object\n",
      "Polarity         22797 non-null float64\n",
      "Tweet            22797 non-null object\n",
      "Word count       22797 non-null int64\n",
      "Keyword          22797 non-null object\n",
      "Username         22797 non-null object\n",
      "Creation Date    22797 non-null object\n",
      "dtypes: float64(1), int64(1), object(5)\n",
      "memory usage: 1.2+ MB\n"
     ]
    }
   ],
   "source": [
    "# Creates the text labels for the dataframe\n",
    "def get_sentiment(polarity):\n",
    "    if polarity > 0:\n",
    "        return 'positive'\n",
    "    if polarity == 0:\n",
    "        return 'neutral'\n",
    "    else:\n",
    "        return 'negative'\n",
    "\n",
    "word_count = [len(tweet.split()) for tweet in dataframe_tweets]\n",
    "\n",
    "polarity_tweets = [round(sid.polarity_scores(tweet)['compound'], 2)\n",
    "                   for tweet in tweets_text]\n",
    "\n",
    "sentiment_tweets = [get_sentiment(polarity) for polarity in polarity_tweets]\n",
    "\n",
    "zipped_list = list(zip(sentiment_tweets, polarity_tweets,\n",
    "                       tweets_text, word_count, dataframe['keyword'],\n",
    "                       dataframe['username'], dataframe['creation date']))\n",
    "\n",
    "\n",
    "# Store to new dataframe with sentiment values and polarities\n",
    "sentiment_df = pd.DataFrame(zipped_list, \n",
    "                            columns=['Sentiment', 'Polarity', \n",
    "                                     'Tweet', 'Word count', 'Keyword', 'Username', \n",
    "                                     'Creation Date'])\n",
    "sentiment_df.info()"
   ]
  },
  {
   "cell_type": "code",
   "execution_count": 7,
   "metadata": {},
   "outputs": [
    {
     "data": {
      "text/html": [
       "<div>\n",
       "<style scoped>\n",
       "    .dataframe tbody tr th:only-of-type {\n",
       "        vertical-align: middle;\n",
       "    }\n",
       "\n",
       "    .dataframe tbody tr th {\n",
       "        vertical-align: top;\n",
       "    }\n",
       "\n",
       "    .dataframe thead th {\n",
       "        text-align: right;\n",
       "    }\n",
       "</style>\n",
       "<table border=\"1\" class=\"dataframe\">\n",
       "  <thead>\n",
       "    <tr style=\"text-align: right;\">\n",
       "      <th></th>\n",
       "      <th>Sentiment</th>\n",
       "      <th>Polarity</th>\n",
       "      <th>Tweet</th>\n",
       "      <th>Word count</th>\n",
       "      <th>Keyword</th>\n",
       "      <th>Username</th>\n",
       "      <th>Creation Date</th>\n",
       "    </tr>\n",
       "  </thead>\n",
       "  <tbody>\n",
       "    <tr>\n",
       "      <th>13102</th>\n",
       "      <td>negative</td>\n",
       "      <td>-0.20</td>\n",
       "      <td>californias wildfire blackouts are a mess here are 3 key solutions  vox</td>\n",
       "      <td>14</td>\n",
       "      <td>Climate change</td>\n",
       "      <td>a10db04e105a7a31169f41f05dc44f47</td>\n",
       "      <td>2019-10-22 15:53:05</td>\n",
       "    </tr>\n",
       "    <tr>\n",
       "      <th>5171</th>\n",
       "      <td>negative</td>\n",
       "      <td>-0.34</td>\n",
       "      <td>hearing about behaviour change to combat climate breakdown from prof volker patent from ou comactmk extinctionr mkcouncil carolinelucas</td>\n",
       "      <td>19</td>\n",
       "      <td>Global warming</td>\n",
       "      <td>b04bdb3d6c0043044f43fafc16e73436</td>\n",
       "      <td>2019-10-17 20:07:17</td>\n",
       "    </tr>\n",
       "    <tr>\n",
       "      <th>12182</th>\n",
       "      <td>negative</td>\n",
       "      <td>-0.57</td>\n",
       "      <td>google is not not on yr side re climate change and lots of other horrors</td>\n",
       "      <td>16</td>\n",
       "      <td>Climate change</td>\n",
       "      <td>2733e79e7971574ae1de31241e14da24</td>\n",
       "      <td>2019-10-21 19:35:11</td>\n",
       "    </tr>\n",
       "    <tr>\n",
       "      <th>4870</th>\n",
       "      <td>neutral</td>\n",
       "      <td>0.00</td>\n",
       "      <td>the intersection of ai and climatechange from bbc</td>\n",
       "      <td>9</td>\n",
       "      <td>Climate change</td>\n",
       "      <td>2cc040ff1fbd49ae39d76ab5db8528c7</td>\n",
       "      <td>2019-10-17 20:30:33</td>\n",
       "    </tr>\n",
       "    <tr>\n",
       "      <th>18328</th>\n",
       "      <td>positive</td>\n",
       "      <td>0.66</td>\n",
       "      <td>a lawyer for new yorks attorney general told a judge exxonmobil hid the true cost of climate change regulations from investors  claims that the oil major dismissed as false amp politically motivated</td>\n",
       "      <td>34</td>\n",
       "      <td>Climate change</td>\n",
       "      <td>3ea04fcef3f0a1600484188cb8536270</td>\n",
       "      <td>2019-10-23 13:45:00</td>\n",
       "    </tr>\n",
       "    <tr>\n",
       "      <th>8498</th>\n",
       "      <td>positive</td>\n",
       "      <td>0.10</td>\n",
       "      <td>my grandad tried to tell me that climate change wasnt a problem and it took all of my power not to say  ok boomer</td>\n",
       "      <td>25</td>\n",
       "      <td>Climate change</td>\n",
       "      <td>4eda97c30d876280da5286b531ad214d</td>\n",
       "      <td>2019-10-19 19:26:44</td>\n",
       "    </tr>\n",
       "    <tr>\n",
       "      <th>9607</th>\n",
       "      <td>positive</td>\n",
       "      <td>0.13</td>\n",
       "      <td>firms that align their business models to the transition to a low carbon economy will be rewarded handsomely those that fail to adapt will cease to exist  mark carney bankofengland</td>\n",
       "      <td>33</td>\n",
       "      <td>Climate change</td>\n",
       "      <td>6b8e998694d45eaf3d1286f482be8dc4</td>\n",
       "      <td>2019-10-20 20:30:15</td>\n",
       "    </tr>\n",
       "    <tr>\n",
       "      <th>297</th>\n",
       "      <td>negative</td>\n",
       "      <td>-0.51</td>\n",
       "      <td>via former climate change believer exposes the lefts lies  youtube</td>\n",
       "      <td>13</td>\n",
       "      <td>Climate change</td>\n",
       "      <td>818de15bf3965a814cd3fd8e3d563345</td>\n",
       "      <td>2019-10-12 20:30:04</td>\n",
       "    </tr>\n",
       "    <tr>\n",
       "      <th>9611</th>\n",
       "      <td>negative</td>\n",
       "      <td>-0.46</td>\n",
       "      <td>the state birds that could be forced out of their states by climatechange</td>\n",
       "      <td>14</td>\n",
       "      <td>Climate change</td>\n",
       "      <td>df354eaa1eaab8f61b76d3ca9f6f70b9</td>\n",
       "      <td>2019-10-20 20:30:00</td>\n",
       "    </tr>\n",
       "    <tr>\n",
       "      <th>19395</th>\n",
       "      <td>neutral</td>\n",
       "      <td>0.00</td>\n",
       "      <td>climate change will cost us even more than we think  climatechange costs via nytimes</td>\n",
       "      <td>15</td>\n",
       "      <td>Climate change</td>\n",
       "      <td>22a98c7b9e141b765713c3b8a036dba3</td>\n",
       "      <td>2019-10-23 18:50:08</td>\n",
       "    </tr>\n",
       "    <tr>\n",
       "      <th>20545</th>\n",
       "      <td>positive</td>\n",
       "      <td>0.34</td>\n",
       "      <td>mah boi droppin hard truths climate change is real aliens havent contacted us chemtrails are not real</td>\n",
       "      <td>18</td>\n",
       "      <td>Climate change</td>\n",
       "      <td>fced0ac5976a314ee7ec030e823ad83c</td>\n",
       "      <td>2019-10-24 00:58:36</td>\n",
       "    </tr>\n",
       "    <tr>\n",
       "      <th>1384</th>\n",
       "      <td>positive</td>\n",
       "      <td>0.15</td>\n",
       "      <td>global warming costume cult calls for civil disobedience if global socialism is not implemented immediately</td>\n",
       "      <td>16</td>\n",
       "      <td>Climate change</td>\n",
       "      <td>ce678bd86c2b1b833aa77f574711fbb8</td>\n",
       "      <td>2019-10-13 20:02:20</td>\n",
       "    </tr>\n",
       "    <tr>\n",
       "      <th>3879</th>\n",
       "      <td>negative</td>\n",
       "      <td>-0.27</td>\n",
       "      <td>where is clarissa now so she can explain it all to climate change deniers</td>\n",
       "      <td>14</td>\n",
       "      <td>Climate change</td>\n",
       "      <td>a28c329c046445592474c85d3a5982b9</td>\n",
       "      <td>2019-10-16 20:08:59</td>\n",
       "    </tr>\n",
       "    <tr>\n",
       "      <th>4414</th>\n",
       "      <td>positive</td>\n",
       "      <td>0.17</td>\n",
       "      <td>2022 they must bring out the ipcc report this will tell everyone the truth about climate change but it might be to late to adapt 2020 we need to start to rebuild more sustainably to rush into green deals just yet</td>\n",
       "      <td>42</td>\n",
       "      <td>Climate change</td>\n",
       "      <td>a8c3fba26d3586c2414c9a7dd645b6d1</td>\n",
       "      <td>2019-10-16 19:24:56</td>\n",
       "    </tr>\n",
       "    <tr>\n",
       "      <th>518</th>\n",
       "      <td>neutral</td>\n",
       "      <td>0.00</td>\n",
       "      <td>how is this informing us of climate change</td>\n",
       "      <td>9</td>\n",
       "      <td>Climate change</td>\n",
       "      <td>16ec740d6886ab5fd3d02c2db8bac729</td>\n",
       "      <td>2019-10-12 20:08:31</td>\n",
       "    </tr>\n",
       "  </tbody>\n",
       "</table>\n",
       "</div>"
      ],
      "text/plain": [
       "      Sentiment  Polarity  \\\n",
       "13102  negative -0.20       \n",
       "5171   negative -0.34       \n",
       "12182  negative -0.57       \n",
       "4870   neutral   0.00       \n",
       "18328  positive  0.66       \n",
       "8498   positive  0.10       \n",
       "9607   positive  0.13       \n",
       "297    negative -0.51       \n",
       "9611   negative -0.46       \n",
       "19395  neutral   0.00       \n",
       "20545  positive  0.34       \n",
       "1384   positive  0.15       \n",
       "3879   negative -0.27       \n",
       "4414   positive  0.17       \n",
       "518    neutral   0.00       \n",
       "\n",
       "                                                                                                                                                                                                                        Tweet  \\\n",
       "13102   californias wildfire blackouts are a mess here are 3 key solutions  vox                                                                                                                                                 \n",
       "5171    hearing about behaviour change to combat climate breakdown from prof volker patent from ou comactmk extinctionr mkcouncil carolinelucas                                                                                 \n",
       "12182   google is not not on yr side re climate change and lots of other horrors                                                                                                                                                \n",
       "4870    the intersection of ai and climatechange from bbc                                                                                                                                                                       \n",
       "18328   a lawyer for new yorks attorney general told a judge exxonmobil hid the true cost of climate change regulations from investors  claims that the oil major dismissed as false amp politically motivated                  \n",
       "8498    my grandad tried to tell me that climate change wasnt a problem and it took all of my power not to say  ok boomer                                                                                                       \n",
       "9607    firms that align their business models to the transition to a low carbon economy will be rewarded handsomely those that fail to adapt will cease to exist  mark carney bankofengland                                    \n",
       "297      via former climate change believer exposes the lefts lies  youtube                                                                                                                                                     \n",
       "9611    the state birds that could be forced out of their states by climatechange                                                                                                                                               \n",
       "19395   climate change will cost us even more than we think  climatechange costs via nytimes                                                                                                                                    \n",
       "20545   mah boi droppin hard truths climate change is real aliens havent contacted us chemtrails are not real                                                                                                                   \n",
       "1384    global warming costume cult calls for civil disobedience if global socialism is not implemented immediately                                                                                                             \n",
       "3879    where is clarissa now so she can explain it all to climate change deniers                                                                                                                                               \n",
       "4414    2022 they must bring out the ipcc report this will tell everyone the truth about climate change but it might be to late to adapt 2020 we need to start to rebuild more sustainably to rush into green deals just yet    \n",
       "518     how is this informing us of climate change                                                                                                                                                                              \n",
       "\n",
       "       Word count         Keyword                          Username  \\\n",
       "13102  14          Climate change  a10db04e105a7a31169f41f05dc44f47   \n",
       "5171   19          Global warming  b04bdb3d6c0043044f43fafc16e73436   \n",
       "12182  16          Climate change  2733e79e7971574ae1de31241e14da24   \n",
       "4870   9           Climate change  2cc040ff1fbd49ae39d76ab5db8528c7   \n",
       "18328  34          Climate change  3ea04fcef3f0a1600484188cb8536270   \n",
       "8498   25          Climate change  4eda97c30d876280da5286b531ad214d   \n",
       "9607   33          Climate change  6b8e998694d45eaf3d1286f482be8dc4   \n",
       "297    13          Climate change  818de15bf3965a814cd3fd8e3d563345   \n",
       "9611   14          Climate change  df354eaa1eaab8f61b76d3ca9f6f70b9   \n",
       "19395  15          Climate change  22a98c7b9e141b765713c3b8a036dba3   \n",
       "20545  18          Climate change  fced0ac5976a314ee7ec030e823ad83c   \n",
       "1384   16          Climate change  ce678bd86c2b1b833aa77f574711fbb8   \n",
       "3879   14          Climate change  a28c329c046445592474c85d3a5982b9   \n",
       "4414   42          Climate change  a8c3fba26d3586c2414c9a7dd645b6d1   \n",
       "518    9           Climate change  16ec740d6886ab5fd3d02c2db8bac729   \n",
       "\n",
       "             Creation Date  \n",
       "13102  2019-10-22 15:53:05  \n",
       "5171   2019-10-17 20:07:17  \n",
       "12182  2019-10-21 19:35:11  \n",
       "4870   2019-10-17 20:30:33  \n",
       "18328  2019-10-23 13:45:00  \n",
       "8498   2019-10-19 19:26:44  \n",
       "9607   2019-10-20 20:30:15  \n",
       "297    2019-10-12 20:30:04  \n",
       "9611   2019-10-20 20:30:00  \n",
       "19395  2019-10-23 18:50:08  \n",
       "20545  2019-10-24 00:58:36  \n",
       "1384   2019-10-13 20:02:20  \n",
       "3879   2019-10-16 20:08:59  \n",
       "4414   2019-10-16 19:24:56  \n",
       "518    2019-10-12 20:08:31  "
      ]
     },
     "execution_count": 7,
     "metadata": {},
     "output_type": "execute_result"
    }
   ],
   "source": [
    "sentiment_df.sample(15)"
   ]
  },
  {
   "cell_type": "code",
   "execution_count": 8,
   "metadata": {},
   "outputs": [
    {
     "name": "stdout",
     "output_type": "stream",
     "text": [
      "5 most negative tweets: \n",
      "\n"
     ]
    },
    {
     "data": {
      "text/html": [
       "<div>\n",
       "<style scoped>\n",
       "    .dataframe tbody tr th:only-of-type {\n",
       "        vertical-align: middle;\n",
       "    }\n",
       "\n",
       "    .dataframe tbody tr th {\n",
       "        vertical-align: top;\n",
       "    }\n",
       "\n",
       "    .dataframe thead th {\n",
       "        text-align: right;\n",
       "    }\n",
       "</style>\n",
       "<table border=\"1\" class=\"dataframe\">\n",
       "  <thead>\n",
       "    <tr style=\"text-align: right;\">\n",
       "      <th></th>\n",
       "      <th>Tweet</th>\n",
       "      <th>Polarity</th>\n",
       "    </tr>\n",
       "  </thead>\n",
       "  <tbody>\n",
       "    <tr>\n",
       "      <th>3882</th>\n",
       "      <td>this is literally worse than isis terrorism racism homophobia sexism cancer global warming poverty world hunger israel war drug addiction the prison system police animal abuse pollution murder sexual abuse violence zionism depression mass shootings</td>\n",
       "      <td>-0.99</td>\n",
       "    </tr>\n",
       "    <tr>\n",
       "      <th>22660</th>\n",
       "      <td>capitalism is murder cyberbullying is murder minimum wage is murder billionaires existing is murder homicide is murder global warming is murder a group of crows is murder angela lansbury is murder she wrote</td>\n",
       "      <td>-0.99</td>\n",
       "    </tr>\n",
       "    <tr>\n",
       "      <th>17873</th>\n",
       "      <td>whole world is going mental on climate change but they dont bother about innocent kashmirs getting killed and women getting raped why because they cant raise funds on this issue and climate change is the priority un you are just useless you hate muslims around the world</td>\n",
       "      <td>-0.98</td>\n",
       "    </tr>\n",
       "    <tr>\n",
       "      <th>10416</th>\n",
       "      <td>snap the hell out of it people border crisis not working climate change failing gun confiscation failing oh so lets jump on the period crisis really if you fall for this one and participate in any way you really are a lost brain deadwashed person</td>\n",
       "      <td>-0.98</td>\n",
       "    </tr>\n",
       "    <tr>\n",
       "      <th>1459</th>\n",
       "      <td>fuck those extinction rebellion twats fuck climate change which is due to the solar cycle and bugger all to do with humanity this is what we really need to be scared about and taking action to stop5g it will kill people its already killing</td>\n",
       "      <td>-0.97</td>\n",
       "    </tr>\n",
       "  </tbody>\n",
       "</table>\n",
       "</div>"
      ],
      "text/plain": [
       "                                                                                                                                                                                                                                                                                 Tweet  \\\n",
       "3882    this is literally worse than isis terrorism racism homophobia sexism cancer global warming poverty world hunger israel war drug addiction the prison system police animal abuse pollution murder sexual abuse violence zionism depression mass shootings                         \n",
       "22660   capitalism is murder cyberbullying is murder minimum wage is murder billionaires existing is murder homicide is murder global warming is murder a group of crows is murder angela lansbury is murder she wrote                                                                   \n",
       "17873   whole world is going mental on climate change but they dont bother about innocent kashmirs getting killed and women getting raped why because they cant raise funds on this issue and climate change is the priority un you are just useless you hate muslims around the world   \n",
       "10416   snap the hell out of it people border crisis not working climate change failing gun confiscation failing oh so lets jump on the period crisis really if you fall for this one and participate in any way you really are a lost brain deadwashed person                           \n",
       "1459    fuck those extinction rebellion twats fuck climate change which is due to the solar cycle and bugger all to do with humanity this is what we really need to be scared about and taking action to stop5g it will kill people its already killing                                  \n",
       "\n",
       "       Polarity  \n",
       "3882  -0.99      \n",
       "22660 -0.99      \n",
       "17873 -0.98      \n",
       "10416 -0.98      \n",
       "1459  -0.97      "
      ]
     },
     "execution_count": 8,
     "metadata": {},
     "output_type": "execute_result"
    }
   ],
   "source": [
    "print('5 most negative tweets: \\n')\n",
    "top5_negative = pd.DataFrame(sentiment_df.sort_values('Polarity')[['Tweet','Polarity']].head(5))\n",
    "top5_negative"
   ]
  },
  {
   "cell_type": "code",
   "execution_count": 9,
   "metadata": {},
   "outputs": [
    {
     "name": "stdout",
     "output_type": "stream",
     "text": [
      "5 most positive tweets: \n",
      "\n"
     ]
    },
    {
     "data": {
      "text/html": [
       "<div>\n",
       "<style scoped>\n",
       "    .dataframe tbody tr th:only-of-type {\n",
       "        vertical-align: middle;\n",
       "    }\n",
       "\n",
       "    .dataframe tbody tr th {\n",
       "        vertical-align: top;\n",
       "    }\n",
       "\n",
       "    .dataframe thead th {\n",
       "        text-align: right;\n",
       "    }\n",
       "</style>\n",
       "<table border=\"1\" class=\"dataframe\">\n",
       "  <thead>\n",
       "    <tr style=\"text-align: right;\">\n",
       "      <th></th>\n",
       "      <th>Tweet</th>\n",
       "      <th>Polarity</th>\n",
       "    </tr>\n",
       "  </thead>\n",
       "  <tbody>\n",
       "    <tr>\n",
       "      <th>3936</th>\n",
       "      <td>i rarely pay attention to will but he wears a sherwani well kate has also looked quite lovely in her outfits by  designers i am so glad they are trying to highlight the effects of climate change with their visit and hope both brothers continue using their platforms to do so</td>\n",
       "      <td>0.97</td>\n",
       "    </tr>\n",
       "    <tr>\n",
       "      <th>15922</th>\n",
       "      <td>thank you for sharing this i am astounded by the data and applaud catherine mckenna for remaining positive and steadfast in her mission to move climate change forward you are a brave and courageous person hats off to you</td>\n",
       "      <td>0.97</td>\n",
       "    </tr>\n",
       "    <tr>\n",
       "      <th>8334</th>\n",
       "      <td>dear greta i want to thank you and your family for coming to canada to encourage climate activism and radical change you have made a huge difference and given people like me hope thank you amp blessings</td>\n",
       "      <td>0.97</td>\n",
       "    </tr>\n",
       "    <tr>\n",
       "      <th>14754</th>\n",
       "      <td>greswoldschool well done year 5 for the brilliant harvest festival assembly great message about climate change and doing our bit to save the planet super singing too very inspiring</td>\n",
       "      <td>0.97</td>\n",
       "    </tr>\n",
       "    <tr>\n",
       "      <th>21920</th>\n",
       "      <td>i am encouraged trudeau stated trans mountain to proceed again the thing i like about it is he is bsing not only albertans but his base as well will use all profits for climate changeya sure  alberta families sure need help hope</td>\n",
       "      <td>0.97</td>\n",
       "    </tr>\n",
       "  </tbody>\n",
       "</table>\n",
       "</div>"
      ],
      "text/plain": [
       "                                                                                                                                                                                                                                                                                      Tweet  \\\n",
       "3936    i rarely pay attention to will but he wears a sherwani well kate has also looked quite lovely in her outfits by  designers i am so glad they are trying to highlight the effects of climate change with their visit and hope both brothers continue using their platforms to do so    \n",
       "15922   thank you for sharing this i am astounded by the data and applaud catherine mckenna for remaining positive and steadfast in her mission to move climate change forward you are a brave and courageous person hats off to you                                                          \n",
       "8334    dear greta i want to thank you and your family for coming to canada to encourage climate activism and radical change you have made a huge difference and given people like me hope thank you amp blessings                                                                            \n",
       "14754   greswoldschool well done year 5 for the brilliant harvest festival assembly great message about climate change and doing our bit to save the planet super singing too very inspiring                                                                                                  \n",
       "21920   i am encouraged trudeau stated trans mountain to proceed again the thing i like about it is he is bsing not only albertans but his base as well will use all profits for climate changeya sure  alberta families sure need help hope                                                  \n",
       "\n",
       "       Polarity  \n",
       "3936   0.97      \n",
       "15922  0.97      \n",
       "8334   0.97      \n",
       "14754  0.97      \n",
       "21920  0.97      "
      ]
     },
     "execution_count": 9,
     "metadata": {},
     "output_type": "execute_result"
    }
   ],
   "source": [
    "print('5 most positive tweets: \\n')\n",
    "top5_positive = sentiment_df.sort_values('Polarity', ascending=False)[['Tweet', 'Polarity']].head(5)\n",
    "top5_positive"
   ]
  },
  {
   "cell_type": "code",
   "execution_count": 10,
   "metadata": {
    "ExecuteTime": {
     "end_time": "2019-10-15T08:31:14.354651Z",
     "start_time": "2019-10-15T08:31:14.205648Z"
    }
   },
   "outputs": [
    {
     "name": "stdout",
     "output_type": "stream",
     "text": [
      "total positive: 8988\n",
      "total neutral: 4219\n",
      "total negative: 9590\n"
     ]
    },
    {
     "data": {
      "image/png": "[encoded data removed]",
      "text/plain": [
       "<Figure size 504x504 with 1 Axes>"
      ]
     },
     "metadata": {},
     "output_type": "display_data"
    }
   ],
   "source": [
    "sentiments = [get_sentiment(polarity)\n",
    "              for polarity in sentiment_df['Polarity']]\n",
    "\n",
    "sentiment_count_list = np.array([sentiments.count(\n",
    "    'positive'), sentiments.count('neutral'), sentiments.count('negative')])\n",
    "\n",
    "classes = ['positive', 'neutral', 'negative']\n",
    "colors = ['green', 'yellow', 'red']\n",
    "plt.figure(figsize=(7,7))\n",
    "plt.pie(sentiment_count_list, labels=classes, autopct='%1.1f%%',startangle=90, colors=colors)\n",
    "plt.title('Distribution of sentiment values')\n",
    "\n",
    "print('total positive: {}'.format(sentiments.count('positive')))\n",
    "\n",
    "print('total neutral: {}'.format(sentiments.count('neutral')))\n",
    "\n",
    "print('total negative: {}'.format(sentiments.count('negative')))"
   ]
  },
  {
   "cell_type": "code",
   "execution_count": 11,
   "metadata": {
    "ExecuteTime": {
     "end_time": "2019-10-15T08:31:22.912746Z",
     "start_time": "2019-10-15T08:31:22.677160Z"
    }
   },
   "outputs": [
    {
     "data": {
      "image/png": "[encoded data removed]",
      "text/plain": [
       "<Figure size 720x432 with 1 Axes>"
      ]
     },
     "metadata": {
      "needs_background": "light"
     },
     "output_type": "display_data"
    }
   ],
   "source": [
    "sentiment_df['Polarity'].plot.hist(bins=5, figsize=(10, 6), title='Distribution of sentiment polarities')\n",
    "plt.xlabel('Sentiment polarities')\n",
    "plt.ylabel('Amount of tweets')\n",
    "plt.show()"
   ]
  },
  {
   "cell_type": "code",
   "execution_count": 12,
   "metadata": {},
   "outputs": [
    {
     "name": "stdout",
     "output_type": "stream",
     "text": [
      "Total tweets with climate change keyword: 19582\n",
      "Total tweets with global warming keyword: 3065\n",
      "Total tweets with Global warming & Climate change as keyword: 150\n"
     ]
    },
    {
     "data": {
      "image/png": "[encoded data removed]",
      "text/plain": [
       "<Figure size 720x432 with 1 Axes>"
      ]
     },
     "metadata": {
      "needs_background": "light"
     },
     "output_type": "display_data"
    }
   ],
   "source": [
    "plt.figure(figsize=(10, 6))\n",
    "sns.boxplot(x=sentiment_df['Keyword'], y=sentiment_df['Polarity'])\n",
    "plt.title('Boxplot of sentiment polarities per keywords of tweet')\n",
    "total_cc = len(sentiment_df[sentiment_df['Keyword']=='Climate change'])\n",
    "total_gw = len(sentiment_df[sentiment_df['Keyword']=='Global warming'])\n",
    "total_ccgw = len(sentiment_df[sentiment_df['Keyword']=='Global warming & Climate change'])\n",
    "\n",
    "print('Total tweets with climate change keyword: ' + str(total_cc))\n",
    "print('Total tweets with global warming keyword: ' + str(total_gw))\n",
    "print('Total tweets with Global warming & Climate change as keyword: ' + str(total_ccgw))\n"
   ]
  },
  {
   "cell_type": "markdown",
   "metadata": {},
   "source": [
    "## Implementing machine learning classifiers"
   ]
  },
  {
   "cell_type": "code",
   "execution_count": 13,
   "metadata": {
    "ExecuteTime": {
     "end_time": "2019-10-15T08:37:21.161385Z",
     "start_time": "2019-10-15T08:37:21.154939Z"
    }
   },
   "outputs": [],
   "source": [
    "from sklearn.feature_extraction.text import TfidfTransformer\n",
    "from sklearn.feature_extraction.text import CountVectorizer\n",
    "from sklearn.decomposition import PCA\n",
    "from sklearn.pipeline import Pipeline\n",
    "from sklearn.model_selection import GridSearchCV\n",
    "from sklearn.model_selection import RandomizedSearchCV\n",
    "from sklearn.metrics import accuracy_score\n",
    "import nltk\n",
    "from nltk.stem import PorterStemmer\n",
    "from yellowbrick.classifier import ConfusionMatrix\n",
    "from yellowbrick.classifier import ClassificationReport\n",
    "from yellowbrick.classifier import ROCAUC\n",
    "from yellowbrick.target import ClassBalance\n",
    "from yellowbrick.features.pca import PCADecomposition"
   ]
  },
  {
   "cell_type": "markdown",
   "metadata": {},
   "source": [
    "### Divide into training and test sets"
   ]
  },
  {
   "cell_type": "code",
   "execution_count": 14,
   "metadata": {
    "ExecuteTime": {
     "end_time": "2019-10-15T08:37:22.190191Z",
     "start_time": "2019-10-15T08:37:22.181260Z"
    }
   },
   "outputs": [
    {
     "name": "stdout",
     "output_type": "stream",
     "text": [
      "Training set contains: 18237 samples\n",
      "Testing set contains: 4560 samples\n"
     ]
    }
   ],
   "source": [
    "from sklearn.model_selection import train_test_split\n",
    "\n",
    "# Extract features from df\n",
    "features = sentiment_df['Tweet']\n",
    "\n",
    "# Extract labels from df\n",
    "labels = sentiment_df['Sentiment']\n",
    "\n",
    "X_train, X_test, y_train, y_test = train_test_split(features,\n",
    "                                                    labels, test_size=0.2,\n",
    "                                                    random_state=1)\n",
    "\n",
    "print('Training set contains: '+str(len(X_train))+ ' samples')\n",
    "print('Testing set contains: '+str(len(X_test))+ ' samples')"
   ]
  },
  {
   "cell_type": "code",
   "execution_count": 15,
   "metadata": {},
   "outputs": [
    {
     "data": {
      "image/png": "[encoded data removed]",
      "text/plain": [
       "<Figure size 576x396 with 1 Axes>"
      ]
     },
     "metadata": {},
     "output_type": "display_data"
    },
    {
     "data": {
      "text/plain": [
       "<matplotlib.axes._subplots.AxesSubplot at 0x22a17abc0b8>"
      ]
     },
     "execution_count": 15,
     "metadata": {},
     "output_type": "execute_result"
    }
   ],
   "source": [
    "class_balance = ClassBalance(labels=classes)\n",
    "class_balance.fit(y_train) \n",
    "class_balance.show()\n"
   ]
  },
  {
   "cell_type": "markdown",
   "metadata": {
    "toc-hr-collapsed": true
   },
   "source": [
    "### Preparing pipeline variables"
   ]
  },
  {
   "cell_type": "code",
   "execution_count": 16,
   "metadata": {
    "ExecuteTime": {
     "end_time": "2019-10-15T08:37:29.428395Z",
     "start_time": "2019-10-15T08:37:29.421450Z"
    }
   },
   "outputs": [],
   "source": [
    "count_vec = CountVectorizer(strip_accents=None, lowercase=False, \n",
    "                            preprocessor = None)\n",
    "tfidf = TfidfTransformer()\n",
    "\n",
    "def tokenizer(text):\n",
    "    return text.split()\n",
    "\n",
    "porter = PorterStemmer()\n",
    "def tokenizer_porter(text):\n",
    "    return [porter.stem(word) for word in text.split()]"
   ]
  },
  {
   "cell_type": "markdown",
   "metadata": {},
   "source": [
    "#### Testing tokenizers"
   ]
  },
  {
   "cell_type": "code",
   "execution_count": 17,
   "metadata": {},
   "outputs": [],
   "source": [
    "sample_tweet = 'Hi i think global warming is awesome. What about you?'\n",
    "\n",
    "token_list = tokenizer(sample_tweet)\n",
    "\n",
    "porter_list =tokenizer_porter(sample_tweet)"
   ]
  },
  {
   "cell_type": "code",
   "execution_count": 18,
   "metadata": {},
   "outputs": [
    {
     "name": "stdout",
     "output_type": "stream",
     "text": [
      "With normal tokenizer:\n"
     ]
    },
    {
     "data": {
      "text/plain": [
       "{'Hi': 0,\n",
       " 'think': 6,\n",
       " 'global': 4,\n",
       " 'warming': 7,\n",
       " 'is': 5,\n",
       " 'awesome': 3,\n",
       " 'What': 1,\n",
       " 'about': 2,\n",
       " 'you': 8}"
      ]
     },
     "execution_count": 18,
     "metadata": {},
     "output_type": "execute_result"
    }
   ],
   "source": [
    "count_vec.fit(token_list)\n",
    "print('With normal tokenizer:')\n",
    "count_vec.vocabulary_"
   ]
  },
  {
   "cell_type": "code",
   "execution_count": 19,
   "metadata": {},
   "outputs": [
    {
     "name": "stdout",
     "output_type": "stream",
     "text": [
      "With porter tokenizer (stemmer):\n"
     ]
    },
    {
     "data": {
      "text/plain": [
       "{'Hi': 0,\n",
       " 'think': 5,\n",
       " 'global': 3,\n",
       " 'warm': 6,\n",
       " 'is': 4,\n",
       " 'awesome': 2,\n",
       " 'what': 7,\n",
       " 'about': 1,\n",
       " 'you': 8}"
      ]
     },
     "execution_count": 19,
     "metadata": {},
     "output_type": "execute_result"
    }
   ],
   "source": [
    "count_vec.fit(porter_list)\n",
    "print('With porter tokenizer (stemmer):')\n",
    "count_vec.vocabulary_"
   ]
  },
  {
   "cell_type": "markdown",
   "metadata": {},
   "source": [
    "### Implementing Multinomial Naive Bayes"
   ]
  },
  {
   "cell_type": "code",
   "execution_count": 20,
   "metadata": {
    "ExecuteTime": {
     "end_time": "2019-10-15T08:42:27.714496Z",
     "start_time": "2019-10-15T08:42:27.710528Z"
    }
   },
   "outputs": [],
   "source": [
    "from sklearn.naive_bayes import MultinomialNB"
   ]
  },
  {
   "cell_type": "code",
   "execution_count": 21,
   "metadata": {
    "ExecuteTime": {
     "end_time": "2019-10-15T08:45:49.701272Z",
     "start_time": "2019-10-15T08:42:28.563613Z"
    }
   },
   "outputs": [
    {
     "name": "stdout",
     "output_type": "stream",
     "text": [
      "Fitting 9 folds for each of 80 candidates, totalling 720 fits\n"
     ]
    },
    {
     "name": "stderr",
     "output_type": "stream",
     "text": [
      "[Parallel(n_jobs=2)]: Using backend LokyBackend with 2 concurrent workers.\n",
      "[Parallel(n_jobs=2)]: Done  46 tasks      | elapsed:  1.7min\n",
      "[Parallel(n_jobs=2)]: Done 196 tasks      | elapsed:  8.0min\n",
      "[Parallel(n_jobs=2)]: Done 446 tasks      | elapsed: 14.9min\n",
      "[Parallel(n_jobs=2)]: Done 720 out of 720 | elapsed: 26.1min finished\n"
     ]
    },
    {
     "name": "stdout",
     "output_type": "stream",
     "text": [
      "\n"
     ]
    }
   ],
   "source": [
    "mnb_pipeline = Pipeline([('vect', count_vec), ('tfidf', tfidf), \n",
    "                         ('clf', MultinomialNB())])\n",
    "\n",
    "param_grid_mnb = {\n",
    "                  'vect__ngram_range': [(1,1), (1,2), (1,3)],\n",
    "                  'vect__tokenizer': [tokenizer, tokenizer_porter],\n",
    "    \n",
    "                  'tfidf__use_idf': [True, False],\n",
    "                  'tfidf__norm': ['l1', 'l2'],\n",
    "    \n",
    "                  'clf__alpha': [0.0001, 0.001, 0.01, 0.1, 1.0, 10.0, 100.0],\n",
    "                  'clf__fit_prior': [True, False]\n",
    "                 }\n",
    "grid_mnb = RandomizedSearchCV(mnb_pipeline, param_grid_mnb, n_iter=80,\n",
    "                              cv=5, verbose=1, n_jobs=2, scoring='accuracy')\n",
    "grid_mnb.fit(X_train, y_train)\n",
    "print()"
   ]
  },
  {
   "cell_type": "code",
   "execution_count": 22,
   "metadata": {
    "ExecuteTime": {
     "end_time": "2019-10-15T08:48:05.421020Z",
     "start_time": "2019-10-15T08:48:05.416062Z"
    }
   },
   "outputs": [
    {
     "name": "stdout",
     "output_type": "stream",
     "text": [
      "Best parameters:  {'vect__tokenizer': <function tokenizer_porter at 0x0000025320CCC6A8>, 'vect__ngram_range': (1, 1), 'tfidf__use_idf': False, 'tfidf__norm': 'l2', 'clf__fit_prior': False, 'clf__alpha': 0.1}\n",
      "\n",
      "The Multinomial Naive Bayes classifier has reached an accuracy of: 74.51% \n",
      "\n"
     ]
    }
   ],
   "source": [
    "print('Best parameters: ',grid_mnb.best_params_)\n",
    "\n",
    "#Create classifier based on best parameters\n",
    "mnb = grid_mnb.best_estimator_\n",
    "\n",
    "#Fit the data and predict the classes\n",
    "mnb.fit(X_train, y_train)\n",
    "predictions_mnb = mnb.predict(X_test)\n",
    "\n",
    "print('\\nThe Multinomial Naive Bayes classifier has reached an accuracy of: {:.2f}% \\n'\n",
    "      .format(mnb.score(X_test, y_test)*100))"
   ]
  },
  {
   "cell_type": "markdown",
   "metadata": {},
   "source": [
    "### Implementing Logistic regression"
   ]
  },
  {
   "cell_type": "code",
   "execution_count": 23,
   "metadata": {
    "ExecuteTime": {
     "end_time": "2019-10-14T13:29:37.222315Z",
     "start_time": "2019-10-14T13:29:37.217850Z"
    }
   },
   "outputs": [],
   "source": [
    "from sklearn.linear_model import LogisticRegression"
   ]
  },
  {
   "cell_type": "code",
   "execution_count": 24,
   "metadata": {
    "ExecuteTime": {
     "end_time": "2019-10-14T13:40:16.169261Z",
     "start_time": "2019-10-14T13:30:13.945787Z"
    }
   },
   "outputs": [
    {
     "name": "stdout",
     "output_type": "stream",
     "text": [
      "Fitting 7 folds for each of 150 candidates, totalling 1050 fits\n"
     ]
    },
    {
     "name": "stderr",
     "output_type": "stream",
     "text": [
      "[Parallel(n_jobs=2)]: Using backend LokyBackend with 2 concurrent workers.\n",
      "[Parallel(n_jobs=2)]: Done  46 tasks      | elapsed:  1.9min\n",
      "[Parallel(n_jobs=2)]: Done 196 tasks      | elapsed:  8.3min\n",
      "[Parallel(n_jobs=2)]: Done 446 tasks      | elapsed: 17.7min\n",
      "[Parallel(n_jobs=2)]: Done 796 tasks      | elapsed: 27.0min\n",
      "[Parallel(n_jobs=2)]: Done 1050 out of 1050 | elapsed: 36.3min finished\n"
     ]
    },
    {
     "name": "stdout",
     "output_type": "stream",
     "text": [
      "\n"
     ]
    }
   ],
   "source": [
    "import warnings\n",
    "warnings.filterwarnings('ignore')\n",
    "\n",
    "lr_pipeline = Pipeline([('vect', count_vec), ('tfidf', tfidf), \n",
    "                        ('clf', LogisticRegression(random_state=1))])\n",
    "\n",
    "param_grid_lr ={\n",
    "                'vect__ngram_range': [(1,1),(1,2)],\n",
    "                'vect__tokenizer': [tokenizer, tokenizer_porter],\n",
    "    \n",
    "                 'tfidf__use_idf': [True, False],\n",
    "                 'tfidf__norm': ['l1', 'l2'],\n",
    "    \n",
    "                'clf__dual': [True, False],\n",
    "                'clf__tol': [1e-6, 1e-5, 1e-4, 1e-3, 1e-2 ],\n",
    "                'clf__C': [0.001, 0.01, 0.1, 1, 10, 100, 1000],\n",
    "                'clf__fit_intercept': [True, False],\n",
    "                'clf__max_iter' : [100, 110, 120, 130, 140],\n",
    "                'clf__warm_start': [True, False]\n",
    "              }\n",
    "grid_lr = RandomizedSearchCV(lr_pipeline, param_grid_lr, n_iter=150,\n",
    "                             verbose=1, cv=7, n_jobs=2, scoring='accuracy')\n",
    "grid_lr.fit(X_train, y_train)\n",
    "print()"
   ]
  },
  {
   "cell_type": "code",
   "execution_count": 25,
   "metadata": {
    "ExecuteTime": {
     "end_time": "2019-10-14T13:40:29.961909Z",
     "start_time": "2019-10-14T13:40:29.955956Z"
    }
   },
   "outputs": [
    {
     "name": "stdout",
     "output_type": "stream",
     "text": [
      "Best parameters:  {'vect__tokenizer': <function tokenizer_porter at 0x0000025320CCC6A8>, 'vect__ngram_range': (1, 1), 'tfidf__use_idf': True, 'tfidf__norm': 'l2', 'clf__warm_start': True, 'clf__tol': 0.001, 'clf__max_iter': 100, 'clf__fit_intercept': True, 'clf__dual': True, 'clf__C': 10}\n",
      "\n",
      "The Logistic Regression classifier has reached an accuracy of: 80.80% \n",
      "\n"
     ]
    }
   ],
   "source": [
    "print('Best parameters: ', grid_lr.best_params_)\n",
    "\n",
    "#Create classifier based on best parameters\n",
    "lr = grid_lr.best_estimator_\n",
    "\n",
    "#Fit the data and predict the classes\n",
    "lr.fit(X_train, y_train)\n",
    "predictions_lr = lr.predict(X_test)\n",
    "\n",
    "print('\\nThe Logistic Regression classifier has reached an accuracy of: {:.2f}% \\n'\n",
    "      .format(lr.score(X_test, y_test)*100))"
   ]
  },
  {
   "cell_type": "markdown",
   "metadata": {},
   "source": [
    "### Implementing Support Vector Machine"
   ]
  },
  {
   "cell_type": "code",
   "execution_count": 26,
   "metadata": {
    "ExecuteTime": {
     "end_time": "2019-10-15T08:40:35.452418Z",
     "start_time": "2019-10-15T08:40:35.447953Z"
    }
   },
   "outputs": [],
   "source": [
    "from sklearn.svm import SVC"
   ]
  },
  {
   "cell_type": "code",
   "execution_count": 27,
   "metadata": {
    "ExecuteTime": {
     "end_time": "2019-10-15T08:40:36.328709Z",
     "start_time": "2019-10-15T08:40:36.308868Z"
    }
   },
   "outputs": [
    {
     "name": "stdout",
     "output_type": "stream",
     "text": [
      "Fitting 7 folds for each of 80 candidates, totalling 560 fits\n"
     ]
    },
    {
     "name": "stderr",
     "output_type": "stream",
     "text": [
      "[Parallel(n_jobs=2)]: Using backend LokyBackend with 2 concurrent workers.\n",
      "[Parallel(n_jobs=2)]: Done  46 tasks      | elapsed: 18.6min\n",
      "[Parallel(n_jobs=2)]: Done 196 tasks      | elapsed: 72.2min\n",
      "[Parallel(n_jobs=2)]: Done 446 tasks      | elapsed: 165.7min\n",
      "[Parallel(n_jobs=2)]: Done 560 out of 560 | elapsed: 201.1min finished\n"
     ]
    },
    {
     "name": "stdout",
     "output_type": "stream",
     "text": [
      "\n"
     ]
    }
   ],
   "source": [
    "svc_pipeline = Pipeline([('vect', count_vec), ('tfidf', tfidf),\n",
    "                         ('clf', SVC(random_state=1))])\n",
    "\n",
    "param_grid_svm = {\n",
    "                  'vect__ngram_range': [(1,1),(1,2)],\n",
    "                  'vect__tokenizer': [tokenizer, tokenizer_porter],\n",
    "    \n",
    "                  'tfidf__use_idf': [True, False],\n",
    "                  'tfidf__norm': ['l1', 'l2'],                  \n",
    "    \n",
    "                  'clf__C': [0.1, 1, 10, 100],\n",
    "                  'clf__kernel': ['linear', 'rbf', 'poly'],\n",
    "                  'clf__gamma': [0.1, 1, 10, 100],\n",
    "                  'clf__degree': [0, 1, 2, 3, 4, 5, 6]\n",
    "                 }\n",
    "\n",
    "grid_svc = RandomizedSearchCV(svc_pipeline, param_grid_svm, n_iter=80, \n",
    "                              cv=7, verbose=1, n_jobs=2, scoring='accuracy')\n",
    "grid_svc.fit(X_train, y_train)\n",
    "print()"
   ]
  },
  {
   "cell_type": "code",
   "execution_count": 28,
   "metadata": {
    "ExecuteTime": {
     "end_time": "2019-10-14T14:26:37.291804Z",
     "start_time": "2019-10-14T14:26:37.287340Z"
    }
   },
   "outputs": [
    {
     "name": "stdout",
     "output_type": "stream",
     "text": [
      "Best parameters:  {'vect__tokenizer': <function tokenizer_porter at 0x0000025320CCC6A8>, 'vect__ngram_range': (1, 1), 'tfidf__use_idf': False, 'tfidf__norm': 'l2', 'clf__kernel': 'linear', 'clf__gamma': 1, 'clf__degree': 0, 'clf__C': 10}\n",
      "\n",
      "The Support Vector classifier has reached an accuracy of: 80.68% \n",
      "\n"
     ]
    }
   ],
   "source": [
    "print('Best parameters: ', grid_svc.best_params_)\n",
    "#Create classifier based on best parameters\n",
    "svm = grid_svc.best_estimator_\n",
    "\n",
    "#Fit the data and predict the classes\n",
    "svm_fit = svm.fit(X_train, y_train)\n",
    "predictions_svm = svm.predict(X_test)\n",
    "\n",
    "print('\\nThe Support Vector classifier has reached an accuracy of: {:.2f}% \\n'\n",
    "      .format(svm.score(X_test, y_test)*100))"
   ]
  },
  {
   "cell_type": "markdown",
   "metadata": {},
   "source": [
    "### Implementing decision tree"
   ]
  },
  {
   "cell_type": "code",
   "execution_count": 19,
   "metadata": {},
   "outputs": [],
   "source": [
    "from sklearn import tree"
   ]
  },
  {
   "cell_type": "code",
   "execution_count": 23,
   "metadata": {},
   "outputs": [
    {
     "name": "stdout",
     "output_type": "stream",
     "text": [
      "Fitting 5 folds for each of 70 candidates, totalling 350 fits\n"
     ]
    },
    {
     "name": "stderr",
     "output_type": "stream",
     "text": [
      "[Parallel(n_jobs=-1)]: Using backend LokyBackend with 4 concurrent workers.\n",
      "[Parallel(n_jobs=-1)]: Done  42 tasks      | elapsed:   58.0s\n",
      "[Parallel(n_jobs=-1)]: Done 192 tasks      | elapsed:  5.3min\n",
      "[Parallel(n_jobs=-1)]: Done 350 out of 350 | elapsed: 10.5min finished\n"
     ]
    },
    {
     "name": "stdout",
     "output_type": "stream",
     "text": [
      "\n"
     ]
    }
   ],
   "source": [
    "dt_pipeline = Pipeline([('vect', count_vec), ('tfidf', tfidf),\n",
    "                         ('clf', tree.DecisionTreeClassifier(random_state=1))])\n",
    "\n",
    "param_grid_dt = {\n",
    "                  'vect__ngram_range': [(1,1),(1,2)],\n",
    "                  'vect__tokenizer': [tokenizer, tokenizer_porter],\n",
    "    \n",
    "                  'tfidf__use_idf': [True, False],\n",
    "                  'tfidf__norm': ['l1', 'l2'],                  \n",
    "    \n",
    "                  'clf__max_depth': np.arange(1, 100),\n",
    "                  'clf__max_features': np.arange(1, 50),\n",
    "                  'clf__min_samples_leaf': np.arange(1, 50),\n",
    "                  'clf__criterion':['gini','entropy']\n",
    "                 }\n",
    "\n",
    "grid_dt = RandomizedSearchCV(dt_pipeline, param_grid_dt, n_iter=70, \n",
    "                              cv=5, verbose=1, n_jobs=-1, scoring='accuracy')\n",
    "grid_dt.fit(X_train, y_train)\n",
    "print()"
   ]
  },
  {
   "cell_type": "code",
   "execution_count": 24,
   "metadata": {},
   "outputs": [
    {
     "name": "stdout",
     "output_type": "stream",
     "text": [
      "{'vect__tokenizer': <function tokenizer_porter at 0x000001F716F84730>, 'vect__ngram_range': (1, 1), 'tfidf__use_idf': True, 'tfidf__norm': 'l2', 'clf__min_samples_leaf': 1, 'clf__max_features': 46, 'clf__max_depth': 33, 'clf__criterion': 'entropy'}\n",
      "\n",
      "The decision tree classifier has reached an accuracy of: 45.91% \n",
      "\n"
     ]
    }
   ],
   "source": [
    "print(grid_dt.best_params_)\n",
    "#Create classifier based on best parameters\n",
    "dt = grid_dt.best_estimator_\n",
    "\n",
    "#Fit the data and predict the classes\n",
    "dt.fit(X_train, y_train)\n",
    "predictions_dt = dt.predict(X_test)\n",
    "print('\\nThe decision tree classifier has reached an accuracy of: {:.2f}% \\n'\n",
    "      .format(dt.score(X_test, y_test)*100))"
   ]
  },
  {
   "cell_type": "markdown",
   "metadata": {},
   "source": [
    "### Implementing Random Forest"
   ]
  },
  {
   "cell_type": "code",
   "execution_count": 29,
   "metadata": {
    "ExecuteTime": {
     "end_time": "2019-10-14T13:41:37.673843Z",
     "start_time": "2019-10-14T13:41:37.393165Z"
    }
   },
   "outputs": [],
   "source": [
    "from sklearn.ensemble import RandomForestClassifier"
   ]
  },
  {
   "cell_type": "code",
   "execution_count": null,
   "metadata": {
    "ExecuteTime": {
     "end_time": "2019-10-14T14:19:49.583603Z",
     "start_time": "2019-10-14T14:08:04.705991Z"
    }
   },
   "outputs": [
    {
     "name": "stdout",
     "output_type": "stream",
     "text": [
      "Fitting 7 folds for each of 100 candidates, totalling 700 fits\n"
     ]
    },
    {
     "name": "stderr",
     "output_type": "stream",
     "text": [
      "[Parallel(n_jobs=2)]: Using backend LokyBackend with 2 concurrent workers.\n",
      "[Parallel(n_jobs=2)]: Done  46 tasks      | elapsed: 14.4min\n"
     ]
    }
   ],
   "source": [
    "rf_pipeline = Pipeline([('vect', count_vec), ('tfidf', tfidf), \n",
    "                        ('clf', RandomForestClassifier(random_state=1))])\n",
    "\n",
    "param_grid_rf = {\n",
    "                 'vect__ngram_range': [(1,1),(1,2), (1,3)],\n",
    "                 'vect__tokenizer': [tokenizer, tokenizer_porter],\n",
    "    \n",
    "                 'tfidf__use_idf': [True, False],\n",
    "                 'tfidf__norm': ['l1', 'l2'],                  \n",
    "    \n",
    "                 'clf__n_estimators': [500, 750, 1000, 1500],\n",
    "                 'clf__max_features': ['auto', 'sqrt'],\n",
    "                 'clf__max_depth': np.linspace(1, 64, 32, endpoint=True),\n",
    "                 'clf__min_samples_split': [2, 5, 10],\n",
    "                 'clf__min_samples_leaf': [1, 2, 4],\n",
    "                 'clf__bootstrap': [True, False]\n",
    "                }\n",
    "\n",
    "grid_rf = RandomizedSearchCV(rf_pipeline, param_grid_rf,\n",
    "                             cv=7, n_iter=100 , verbose=1, n_jobs=2, \n",
    "                             scoring='accuracy')\n",
    "\n",
    "grid_rf.fit(X_train, y_train)\n",
    "print()"
   ]
  },
  {
   "cell_type": "code",
   "execution_count": null,
   "metadata": {
    "ExecuteTime": {
     "end_time": "2019-10-14T14:19:49.797381Z",
     "start_time": "2019-10-14T14:19:49.792420Z"
    }
   },
   "outputs": [],
   "source": [
    "print(grid_rf.best_params_)\n",
    "#Create classifier based on best parameters\n",
    "rf = grid_rf.best_estimator_\n",
    "\n",
    "#Fit the data and predict the classes\n",
    "rf.fit(X_train, y_train)\n",
    "predictions_rf = rf.predict(X_test)\n",
    "print('\\nThe Random Forest classifier has reached an accuracy of: {:.2f}% \\n'\n",
    "      .format(rf.score(X_test, y_test)*100))"
   ]
  },
  {
   "cell_type": "markdown",
   "metadata": {},
   "source": [
    "### Testing XGBoost"
   ]
  },
  {
   "cell_type": "code",
   "execution_count": 25,
   "metadata": {},
   "outputs": [],
   "source": [
    "import xgboost"
   ]
  },
  {
   "cell_type": "code",
   "execution_count": 26,
   "metadata": {},
   "outputs": [
    {
     "name": "stdout",
     "output_type": "stream",
     "text": [
      "Fitting 7 folds for each of 50 candidates, totalling 350 fits\n"
     ]
    },
    {
     "name": "stderr",
     "output_type": "stream",
     "text": [
      "[Parallel(n_jobs=2)]: Using backend LokyBackend with 2 concurrent workers.\n",
      "[Parallel(n_jobs=2)]: Done  46 tasks      | elapsed:  1.9min\n",
      "[Parallel(n_jobs=2)]: Done 196 tasks      | elapsed:  8.5min\n",
      "[Parallel(n_jobs=2)]: Done 350 out of 350 | elapsed: 11.6min finished\n"
     ]
    },
    {
     "name": "stdout",
     "output_type": "stream",
     "text": [
      "\n"
     ]
    }
   ],
   "source": [
    "xgb_pipeline = Pipeline([('vect', count_vec), ('tfidf', tfidf),\n",
    "                         ('clf', xgboost.XGBClassifier())])\n",
    "\n",
    "param_grid_xgb = {\n",
    "                  'vect__ngram_range': [(1,1),(1,2)],\n",
    "                  'vect__tokenizer': [tokenizer, tokenizer_porter],\n",
    "    \n",
    "                  'tfidf__use_idf': [True, False],\n",
    "                  'tfidf__norm': ['l1', 'l2'],                  \n",
    "    \n",
    "                  'clf__eta'    : [0.05, 0.10, 0.15, 0.20, 0.25, 0.30 ] ,\n",
    "                  'clf__max_depth' : [ 3, 4, 5, 6, 8, 10, 12, 15],\n",
    "                  'clf__min_child_weight' : [ 1, 3, 5, 7 ],\n",
    "                  'clf__gamma'            : [ 0.0, 0.1, 0.2 , 0.3, 0.4 ],\n",
    "                  'clf__colsample_bytree' : [ 0.3, 0.4, 0.5 , 0.7 ]\n",
    "                 }\n",
    "\n",
    "grid_xgb = RandomizedSearchCV(dt_pipeline, param_grid_dt, n_iter=50, \n",
    "                              cv=7, verbose=1, n_jobs=2, scoring='neg_log_loss')\n",
    "grid_xgb.fit(X_train, y_train)\n",
    "print()"
   ]
  },
  {
   "cell_type": "code",
   "execution_count": 27,
   "metadata": {},
   "outputs": [
    {
     "name": "stdout",
     "output_type": "stream",
     "text": [
      "{'vect__tokenizer': <function tokenizer_porter at 0x000001F716F84730>, 'vect__ngram_range': (1, 1), 'tfidf__use_idf': False, 'tfidf__norm': 'l2', 'clf__min_samples_leaf': 31, 'clf__max_features': 47, 'clf__max_depth': 49, 'clf__criterion': 'entropy'}\n",
      "\n",
      "The XGBoost  classifier has reached an accuracy of: 42.76% \n",
      "\n"
     ]
    }
   ],
   "source": [
    "print(grid_xgb.best_params_)\n",
    "#Create classifier based on best parameters\n",
    "xgb = grid_xgb.best_estimator_\n",
    "\n",
    "#Fit the data and predict the classes\n",
    "xgb.fit(X_train, y_train)\n",
    "predictions_xgb = dt.predict(X_test)\n",
    "print('\\nThe XGBoost  classifier has reached an accuracy of: {:.2f}% \\n'\n",
    "      .format(xgb.score(X_test, y_test)*100))"
   ]
  },
  {
   "cell_type": "markdown",
   "metadata": {},
   "source": [
    "## Comparing clasiffier results"
   ]
  },
  {
   "cell_type": "markdown",
   "metadata": {},
   "source": [
    "### Confusion matrices\n",
    "Matrix that shows the true and false predictions per class"
   ]
  },
  {
   "cell_type": "code",
   "execution_count": null,
   "metadata": {},
   "outputs": [],
   "source": [
    "fig, ax = plt.subplots(2,2, figsize=(15,8), tight_layout=True)\n",
    "\n",
    "visualgrid = [\n",
    "    ConfusionMatrix(model=mnb, classes=classes, ax=ax[0,0]),\n",
    "    ConfusionMatrix(model=lr, classes=classes, ax=ax[0,1]),\n",
    "    ConfusionMatrix(model=svm, classes=classes, ax=ax[1,0]),\n",
    "    ConfusionMatrix(model=rf, classes=classes, ax=ax[1,1])\n",
    "]\n",
    "\n",
    "for viz in visualgrid:\n",
    "    viz.fit(X_train, y_train)\n",
    "    viz.score(X_test, y_test)\n",
    "    viz.finalize()\n"
   ]
  },
  {
   "cell_type": "markdown",
   "metadata": {},
   "source": [
    "### ROCAUC curve\n",
    "tradeoff between the model’s sensitivity and specificity"
   ]
  },
  {
   "cell_type": "code",
   "execution_count": null,
   "metadata": {},
   "outputs": [],
   "source": [
    "fig, ax = plt.subplots(2,2, figsize=(15,15), tight_layout=True)\n",
    "\n",
    "visualgrid = [\n",
    "    ROCAUC(model=mnb, classes=classes, ax=ax[0,0], micro=False, macro=False),\n",
    "    ROCAUC(model=lr, classes=classes, ax=ax[0,1], micro=False, macro=False),\n",
    "    ROCAUC(model=svm, classes=classes, ax=ax[1,0], micro=False, macro=False),\n",
    "    ROCAUC(model=rf, classes=classes, ax=ax[1,1], micro=False, macro=False)\n",
    "]\n",
    "\n",
    "for viz in visualgrid:\n",
    "    viz.fit(X_train, y_train)\n",
    "    viz.score(X_test, y_test)\n",
    "    for label in viz.ax.texts:\n",
    "        label.set_size(15)\n",
    "    viz.finalize()\n"
   ]
  },
  {
   "cell_type": "markdown",
   "metadata": {},
   "source": [
    "### Classification reports\n",
    "Report on the accuracy of the classifier"
   ]
  },
  {
   "cell_type": "code",
   "execution_count": null,
   "metadata": {},
   "outputs": [],
   "source": [
    "fig, ax = plt.subplots(2,2, figsize=(15,8), tight_layout=True)\n",
    "\n",
    "visualgrid = [\n",
    "    ClassificationReport(model=mnb, classes=classes, ax=ax[0,0]),\n",
    "    ClassificationReport(model=lr, classes=classes, ax=ax[0,1]),\n",
    "    ClassificationReport(model=svm, classes=classes, ax=ax[1,0]),\n",
    "    ClassificationReport(model=rf, classes=classes, ax=ax[1,1])\n",
    "]\n",
    "\n",
    "for viz in visualgrid:\n",
    "    viz.fit(X_train, y_train)\n",
    "    viz.score(X_test, y_test)\n",
    "    for label in viz.ax.texts:\n",
    "        label.set_size(15)\n",
    "    viz.finalize()\n"
   ]
  }
 ],
 "metadata": {
  "kernelspec": {
   "display_name": "Python 3",
   "language": "python",
   "name": "python3"
  },
  "language_info": {
   "codemirror_mode": {
    "name": "ipython",
    "version": 3
   },
   "file_extension": ".py",
   "mimetype": "text/x-python",
   "name": "python",
   "nbconvert_exporter": "python",
   "pygments_lexer": "ipython3",
   "version": "3.7.3"
  },
  "toc": {
   "base_numbering": 1,
   "nav_menu": {},
   "number_sections": true,
   "sideBar": true,
   "skip_h1_title": false,
   "title_cell": "Table of Contents",
   "title_sidebar": "Contents",
   "toc_cell": false,
   "toc_position": {
    "height": "calc(100% - 180px)",
    "left": "10px",
    "top": "150px",
    "width": "290.6px"
   },
   "toc_section_display": true,
   "toc_window_display": false
  },
  "toc-autonumbering": true,
  "toc-showtags": false,
  "varInspector": {
   "cols": {
    "lenName": 16,
    "lenType": 16,
    "lenVar": 40
   },
   "kernels_config": {
    "python": {
     "delete_cmd_postfix": "",
     "delete_cmd_prefix": "del ",
     "library": "var_list.py",
     "varRefreshCmd": "print(var_dic_list())"
    },
    "r": {
     "delete_cmd_postfix": ") ",
     "delete_cmd_prefix": "rm(",
     "library": "var_list.r",
     "varRefreshCmd": "cat(var_dic_list()) "
    }
   },
   "position": {
    "height": "478.8px",
    "left": "1175.6px",
    "right": "20px",
    "top": "124px",
    "width": "341.4px"
   },
   "types_to_exclude": [
    "module",
    "function",
    "builtin_function_or_method",
    "instance",
    "_Feature"
   ],
   "window_display": false
  }
 },
 "nbformat": 4,
 "nbformat_minor": 4
}
