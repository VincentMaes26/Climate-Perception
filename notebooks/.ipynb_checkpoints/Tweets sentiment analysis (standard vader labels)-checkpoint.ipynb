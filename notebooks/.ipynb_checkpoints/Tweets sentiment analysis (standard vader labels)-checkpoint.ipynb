{
 "cells": [
  {
   "cell_type": "markdown",
   "metadata": {},
   "source": [
    "# Tweet sentiment analysis"
   ]
  },
  {
   "cell_type": "code",
   "execution_count": 38,
   "metadata": {
    "ExecuteTime": {
     "end_time": "2019-10-15T08:29:38.960952Z",
     "start_time": "2019-10-15T08:29:32.002360Z"
    }
   },
   "outputs": [],
   "source": [
    "import re\n",
    "import numpy as np\n",
    "import pandas as pd\n",
    "import matplotlib.pyplot as plt\n",
    "import matplotlib.ticker as ticker\n",
    "import seaborn as sns\n",
    "import datetime\n",
    "import boto3\n",
    "import s3fs\n",
    "plt.style.use('seaborn-dark')"
   ]
  },
  {
   "cell_type": "markdown",
   "metadata": {},
   "source": [
    "## Get dataframe from S3 bucket"
   ]
  },
  {
   "cell_type": "code",
   "execution_count": 3,
   "metadata": {
    "ExecuteTime": {
     "end_time": "2019-10-15T08:31:55.249705Z",
     "start_time": "2019-10-15T08:31:53.151786Z"
    }
   },
   "outputs": [
    {
     "name": "stdout",
     "output_type": "stream",
     "text": [
      "2403\n"
     ]
    }
   ],
   "source": [
    "# # Read CSV file\n",
    "# #tweets_today = pd.read_csv(r\"..\\datasets\\raw_data\\tweets{}.csv\".format(datetime.date.today()))\n",
    "# tweets_today = pd.read_csv(r\"..\\datasets\\raw_data\\tweets2019-10-08.csv\")\n",
    "# tweets_today = tweets_today.head(5000)\n",
    "# # Gets tweet texts\n",
    "# tweets_today_text = tweets_today[\"tweet\"]\n",
    "bucketname = 'ops-vw-interns-climate-perception-tweets'\n",
    "dataframe = pd.DataFrame(columns=(\"creation date\",\"keyword\", \"tweet\", \"username\"))\n",
    "s3 = boto3.resource(\"s3\")\n",
    "\n",
    "s3_tweets = s3.Bucket(bucketname).objects.all()\n",
    "for file in s3_tweets:\n",
    "    temp_df = pd.read_json('s3://{}/{}'.format(bucketname, file.key))\n",
    "    dataframe = dataframe.append(temp_df, sort=False, ignore_index=True) \n",
    "\n",
    "dataframe_tweets = dataframe[\"tweet\"]\n",
    "print(len(dataframe))"
   ]
  },
  {
   "cell_type": "markdown",
   "metadata": {},
   "source": [
    "## Data cleaning"
   ]
  },
  {
   "cell_type": "code",
   "execution_count": 4,
   "metadata": {
    "ExecuteTime": {
     "end_time": "2019-10-15T08:30:39.182116Z",
     "start_time": "2019-10-15T08:30:38.686605Z"
    }
   },
   "outputs": [
    {
     "name": "stdout",
     "output_type": "stream",
     "text": [
      " im all for democracy and freedom of speech unless of course were talking about climate change protesters  those guys should be beaten up pepper sprayed locked up andor ran down by the cops because they inconvenience me \n",
      "\n",
      " trees bans and new technology what arsenal chelsea and spurs are doing about climate change coyg afc \n",
      "\n",
      " doug fords conservative government has made next to no progress on plan to cut carbon emissions but has spent millions on fighting a real plan to cut emissions onpoli cdnpoli climatechange elxn43 \n",
      "\n",
      " the saudi kings oil company chevron and russias mob run gazprom are the top three producers of greenhouse gases driving the entire worlds climate change trump republicans best people trumpgenocide climatestrike republicangenocide \n",
      "\n",
      " global warming is a joke its just bad science its high jacking public policy its the greatest scam in history\n",
      "\n",
      " scifi ways scientists could mimic volcanic eruptions to help avert climate disaster \n",
      "\n",
      " terrorism killer heatwaves deadly drought predicted for spain as climate change study reveals mediterranean is warming 20 faster than global average \n",
      "\n",
      " salem thanks for listening to my rant about the socioeconomic implications of climate change red wine does something weird to me hereforyou lyftreviews winewednesday\n",
      "\n",
      " we must no longer view the natural world as a mere warehouse of commodities for humans to exploit but rather a remarkable community to which we belong and to whom we owe responsibilities \n",
      "\n",
      " is climate change doomsday coming \n",
      "\n",
      " dubai world expo next year will be so inspiring for innovation climate subjects arts architecture it will change your perspectives especially if you combine it with real nature in the desert with orienttoursuae \n",
      "\n",
      " someone should do a research paper on how much carbon footprint and wastage metal straws has created everyone buys it but dont use it and still use plastic straws talk about saving the world you are just making it worst climate change is inevitable\n",
      "\n",
      " these state birds may be forced out of their states as the world warms \n",
      "\n",
      " yeah these are the fing fools who want to school you about climate change depopulation estimate of 227 million by 2025  lets hope theyre included in that \n",
      "\n",
      " people who think people who the worlds gonna deny climate end in 12 years change  fuck science\n",
      "\n",
      " aoc my dreams of motherhood now bittersweet because of global warming  \n",
      "\n",
      " is climate change doomsday coming \n",
      "\n",
      " omg tfwrail its like a sauna on this valleys line train surely this cant be helping with global warming\n",
      "\n",
      " doctors join climate change protest to warn of health dangers climateemergency \n",
      "\n",
      " instead of making memes about narendramodi photo spread awareness about the climate change actonclimate incredibleindia saveearth\n",
      "\n"
     ]
    }
   ],
   "source": [
    "# Preprocessing of tweet texts\n",
    "def format_tweet(tweet):\n",
    "    processed_tweet=\"\"\n",
    "    for word in tweet.split():\n",
    "        # Removing URL from tweet\n",
    "        processed_word = re.sub('([^0-9A-Za-z \\t])|(\\w+:\\/\\/\\S+)', ' ', word)\n",
    "        # remove all single characters\n",
    "        processed_word = re.sub('\\s+[a-zA-Z]\\s+', ' ', processed_word)\n",
    "        # Remove single characters from the start\n",
    "        processed_word = re.sub('\\^[a-zA-Z]\\s+', ' ', processed_word) \n",
    "        # Substituting multiple spaces with single space\n",
    "        processed_word = re.sub('\\s+', '', processed_word, flags=re.I)\n",
    "        # Removing prefixed 'b'\n",
    "        processed_word = re.sub('^b\\s+', ' ', processed_word)\n",
    "        # Removing &amp\n",
    "        processed_word = re.sub('&amp', '&', processed_word)\n",
    "        # Removing breaks\n",
    "        processed_word = re.sub('<br/>', '', processed_word)\n",
    "        # converts to lower\n",
    "        processed_word = processed_word.lower()\n",
    "        processed_tweet= processed_tweet+\" \"+processed_word\n",
    "    return processed_tweet        \n",
    "    \n",
    "tweets_text = [format_tweet(tweet) for tweet in dataframe_tweets]\n",
    "tweets_text = list(filter(None, tweets_text))\n",
    "\n",
    "for tweet in tweets_text[:20]:\n",
    "    print(tweet + \"\\n\")\n"
   ]
  },
  {
   "cell_type": "markdown",
   "metadata": {},
   "source": [
    "## Labeling tweets with NLTK vader"
   ]
  },
  {
   "cell_type": "code",
   "execution_count": 5,
   "metadata": {
    "ExecuteTime": {
     "end_time": "2019-10-15T08:30:51.110714Z",
     "start_time": "2019-10-15T08:30:48.976936Z"
    }
   },
   "outputs": [
    {
     "name": "stderr",
     "output_type": "stream",
     "text": [
      "[nltk_data] Downloading package vader_lexicon to\n",
      "[nltk_data]     C:\\Users\\ViMs\\AppData\\Roaming\\nltk_data...\n",
      "[nltk_data]   Package vader_lexicon is already up-to-date!\n"
     ]
    },
    {
     "data": {
      "text/plain": [
       "True"
      ]
     },
     "execution_count": 5,
     "metadata": {},
     "output_type": "execute_result"
    }
   ],
   "source": [
    "import nltk\n",
    "from nltk.sentiment.vader import SentimentIntensityAnalyzer\n",
    "nltk.download('vader_lexicon')"
   ]
  },
  {
   "cell_type": "code",
   "execution_count": 6,
   "metadata": {
    "ExecuteTime": {
     "end_time": "2019-10-15T08:30:51.190570Z",
     "start_time": "2019-10-15T08:30:51.145401Z"
    }
   },
   "outputs": [
    {
     "name": "stdout",
     "output_type": "stream",
     "text": [
      " scifi ways scientists could mimic volcanic eruptions to help avert climate disaster : \n",
      "{'neg': 0.331, 'neu': 0.514, 'pos': 0.154, 'compound': -0.4767}\n",
      "\n",
      "\n",
      " terrorism killer heatwaves deadly drought predicted for spain as climate change study reveals mediterranean is warming 20 faster than global average : \n",
      "{'neg': 0.312, 'neu': 0.632, 'pos': 0.056, 'compound': -0.8519}\n",
      "\n",
      "\n",
      " salem thanks for listening to my rant about the socioeconomic implications of climate change red wine does something weird to me hereforyou lyftreviews winewednesday: \n",
      "{'neg': 0.146, 'neu': 0.75, 'pos': 0.104, 'compound': -0.0516}\n",
      "\n",
      "\n",
      " we must no longer view the natural world as a mere warehouse of commodities for humans to exploit but rather a remarkable community to which we belong and to whom we owe responsibilities : \n",
      "{'neg': 0.077, 'neu': 0.741, 'pos': 0.182, 'compound': 0.705}\n",
      "\n",
      "\n",
      " is climate change doomsday coming : \n",
      "{'neg': 0.487, 'neu': 0.513, 'pos': 0.0, 'compound': -0.5859}\n",
      "\n",
      "\n"
     ]
    }
   ],
   "source": [
    "sid = SentimentIntensityAnalyzer()\n",
    "\n",
    "for tweet in tweets_text[5:10]:\n",
    "    print(\"{0}: \\n{1}\\n\\n\".format(tweet, sid.polarity_scores(tweet)))"
   ]
  },
  {
   "cell_type": "code",
   "execution_count": 7,
   "metadata": {
    "ExecuteTime": {
     "end_time": "2019-10-15T08:30:51.901996Z",
     "start_time": "2019-10-15T08:30:51.229227Z"
    }
   },
   "outputs": [
    {
     "data": {
      "text/html": [
       "<div>\n",
       "<style scoped>\n",
       "    .dataframe tbody tr th:only-of-type {\n",
       "        vertical-align: middle;\n",
       "    }\n",
       "\n",
       "    .dataframe tbody tr th {\n",
       "        vertical-align: top;\n",
       "    }\n",
       "\n",
       "    .dataframe thead th {\n",
       "        text-align: right;\n",
       "    }\n",
       "</style>\n",
       "<table border=\"1\" class=\"dataframe\">\n",
       "  <thead>\n",
       "    <tr style=\"text-align: right;\">\n",
       "      <th></th>\n",
       "      <th>Sentiment</th>\n",
       "      <th>Polarity</th>\n",
       "      <th>Tweet</th>\n",
       "      <th>Keyword</th>\n",
       "      <th>Username</th>\n",
       "      <th>Creation Date</th>\n",
       "    </tr>\n",
       "  </thead>\n",
       "  <tbody>\n",
       "    <tr>\n",
       "      <th>1339</th>\n",
       "      <td>negative</td>\n",
       "      <td>-0.91</td>\n",
       "      <td>All I wanted to do was catch up on some tech n...</td>\n",
       "      <td>Climate change</td>\n",
       "      <td>Adapptiv</td>\n",
       "      <td>2019-10-13 20:07:32</td>\n",
       "    </tr>\n",
       "    <tr>\n",
       "      <th>1761</th>\n",
       "      <td>positive</td>\n",
       "      <td>0.38</td>\n",
       "      <td>6 Ways Green Roofs Protect Cities From Climate...</td>\n",
       "      <td>Climate change</td>\n",
       "      <td>familiaAguilóMestre</td>\n",
       "      <td>2019-10-14 20:46:10</td>\n",
       "    </tr>\n",
       "    <tr>\n",
       "      <th>568</th>\n",
       "      <td>neutral</td>\n",
       "      <td>0.00</td>\n",
       "      <td>Climate Change Reporting Website Obscures Its ...</td>\n",
       "      <td>Climate change</td>\n",
       "      <td>Chris Horner</td>\n",
       "      <td>2019-10-12 20:03:58</td>\n",
       "    </tr>\n",
       "    <tr>\n",
       "      <th>901</th>\n",
       "      <td>positive</td>\n",
       "      <td>0.15</td>\n",
       "      <td>Nearly 400 scientists support Extinction Rebel...</td>\n",
       "      <td>Climate change</td>\n",
       "      <td>Asinus Asinum Fricat</td>\n",
       "      <td>2019-10-13 20:52:31</td>\n",
       "    </tr>\n",
       "    <tr>\n",
       "      <th>27</th>\n",
       "      <td>positive</td>\n",
       "      <td>0.51</td>\n",
       "      <td>Human life is overrated support global warming...</td>\n",
       "      <td>Climate change</td>\n",
       "      <td>△⃒⃘</td>\n",
       "      <td>2019-10-12 20:58:59</td>\n",
       "    </tr>\n",
       "    <tr>\n",
       "      <th>141</th>\n",
       "      <td>neutral</td>\n",
       "      <td>0.00</td>\n",
       "      <td>Climate Change and the Mark of the Beast Pasto...</td>\n",
       "      <td>Climate change</td>\n",
       "      <td>Pedro Torres</td>\n",
       "      <td>2019-10-12 20:46:54</td>\n",
       "    </tr>\n",
       "    <tr>\n",
       "      <th>1003</th>\n",
       "      <td>negative</td>\n",
       "      <td>-0.74</td>\n",
       "      <td>Which is more dangerous, Climate Change or Cli...</td>\n",
       "      <td>Climate change</td>\n",
       "      <td>Alfred States 🇿🇦🇺🇸</td>\n",
       "      <td>2019-10-13 20:41:27</td>\n",
       "    </tr>\n",
       "    <tr>\n",
       "      <th>2125</th>\n",
       "      <td>positive</td>\n",
       "      <td>0.15</td>\n",
       "      <td>Interesting Panorama tonight: \\n“Climate Chang...</td>\n",
       "      <td>Global warming</td>\n",
       "      <td>Vicky Mant</td>\n",
       "      <td>2019-10-14 20:09:07</td>\n",
       "    </tr>\n",
       "    <tr>\n",
       "      <th>498</th>\n",
       "      <td>negative</td>\n",
       "      <td>-0.51</td>\n",
       "      <td>sad desperate attempt by kids who know fuckall...</td>\n",
       "      <td>Climate change</td>\n",
       "      <td>EJB - aka - EJ</td>\n",
       "      <td>2019-10-12 20:11:11</td>\n",
       "    </tr>\n",
       "    <tr>\n",
       "      <th>464</th>\n",
       "      <td>neutral</td>\n",
       "      <td>0.00</td>\n",
       "      <td>Climate change explained. https://t.co/0zA6PxylO0</td>\n",
       "      <td>Climate change</td>\n",
       "      <td>QTina</td>\n",
       "      <td>2019-10-12 20:15:47</td>\n",
       "    </tr>\n",
       "    <tr>\n",
       "      <th>1372</th>\n",
       "      <td>positive</td>\n",
       "      <td>0.51</td>\n",
       "      <td>AOC's dreams of motherhood are ruined. 9ne thi...</td>\n",
       "      <td>Climate change</td>\n",
       "      <td>WWG1WGA_2_MAGA</td>\n",
       "      <td>2019-10-13 20:03:47</td>\n",
       "    </tr>\n",
       "    <tr>\n",
       "      <th>904</th>\n",
       "      <td>negative</td>\n",
       "      <td>-0.86</td>\n",
       "      <td>Those fucking climate change protesters are ju...</td>\n",
       "      <td>Climate change</td>\n",
       "      <td>ᑕᗩᖇᗝᒪᎥᑎᗴ ᖇᗝᔕᗴ</td>\n",
       "      <td>2019-10-13 20:52:08</td>\n",
       "    </tr>\n",
       "    <tr>\n",
       "      <th>1753</th>\n",
       "      <td>negative</td>\n",
       "      <td>-0.25</td>\n",
       "      <td>Obligatory Bryan Goldberg reminder: He seems t...</td>\n",
       "      <td>Climate change</td>\n",
       "      <td>Matt Saccaro</td>\n",
       "      <td>2019-10-14 20:46:54</td>\n",
       "    </tr>\n",
       "    <tr>\n",
       "      <th>440</th>\n",
       "      <td>negative</td>\n",
       "      <td>-0.36</td>\n",
       "      <td>Sorry AOC...climate change ie inevitable . You...</td>\n",
       "      <td>Climate change</td>\n",
       "      <td>russ heathcoe</td>\n",
       "      <td>2019-10-12 20:17:57</td>\n",
       "    </tr>\n",
       "    <tr>\n",
       "      <th>900</th>\n",
       "      <td>neutral</td>\n",
       "      <td>0.00</td>\n",
       "      <td>Activists thought BlackRock, Vanguard found re...</td>\n",
       "      <td>Climate change</td>\n",
       "      <td>Prosperum Capital</td>\n",
       "      <td>2019-10-13 20:52:32</td>\n",
       "    </tr>\n",
       "    <tr>\n",
       "      <th>1832</th>\n",
       "      <td>neutral</td>\n",
       "      <td>0.00</td>\n",
       "      <td>Carbon Dioxide at High levels\\nhttps://t.co/o8...</td>\n",
       "      <td>Climate change</td>\n",
       "      <td>Films4You</td>\n",
       "      <td>2019-10-14 20:37:57</td>\n",
       "    </tr>\n",
       "    <tr>\n",
       "      <th>521</th>\n",
       "      <td>negative</td>\n",
       "      <td>-0.01</td>\n",
       "      <td>'Greta is right to be angry': Mary Robinson sa...</td>\n",
       "      <td>Climate change</td>\n",
       "      <td>richie o shea</td>\n",
       "      <td>2019-10-12 20:08:11</td>\n",
       "    </tr>\n",
       "    <tr>\n",
       "      <th>346</th>\n",
       "      <td>positive</td>\n",
       "      <td>0.18</td>\n",
       "      <td>U.N. Honors Catholic Activist Using Data to Fi...</td>\n",
       "      <td>Climate change</td>\n",
       "      <td>G.M.M.</td>\n",
       "      <td>2019-10-12 20:25:28</td>\n",
       "    </tr>\n",
       "    <tr>\n",
       "      <th>168</th>\n",
       "      <td>negative</td>\n",
       "      <td>-0.15</td>\n",
       "      <td>#Education is central to #climatechange mitiga...</td>\n",
       "      <td>Climate change</td>\n",
       "      <td>HowNowMagazine</td>\n",
       "      <td>2019-10-12 20:44:39</td>\n",
       "    </tr>\n",
       "    <tr>\n",
       "      <th>2365</th>\n",
       "      <td>positive</td>\n",
       "      <td>0.15</td>\n",
       "      <td>10 degrees colder today than last week so much...</td>\n",
       "      <td>Climate change</td>\n",
       "      <td>Ralph M - 🇱🇷4️⃣5️⃣</td>\n",
       "      <td>2019-10-14 19:48:35</td>\n",
       "    </tr>\n",
       "  </tbody>\n",
       "</table>\n",
       "</div>"
      ],
      "text/plain": [
       "     Sentiment  Polarity                                              Tweet  \\\n",
       "1339  negative     -0.91  All I wanted to do was catch up on some tech n...   \n",
       "1761  positive      0.38  6 Ways Green Roofs Protect Cities From Climate...   \n",
       "568    neutral      0.00  Climate Change Reporting Website Obscures Its ...   \n",
       "901   positive      0.15  Nearly 400 scientists support Extinction Rebel...   \n",
       "27    positive      0.51  Human life is overrated support global warming...   \n",
       "141    neutral      0.00  Climate Change and the Mark of the Beast Pasto...   \n",
       "1003  negative     -0.74  Which is more dangerous, Climate Change or Cli...   \n",
       "2125  positive      0.15  Interesting Panorama tonight: \\n“Climate Chang...   \n",
       "498   negative     -0.51  sad desperate attempt by kids who know fuckall...   \n",
       "464    neutral      0.00  Climate change explained. https://t.co/0zA6PxylO0   \n",
       "1372  positive      0.51  AOC's dreams of motherhood are ruined. 9ne thi...   \n",
       "904   negative     -0.86  Those fucking climate change protesters are ju...   \n",
       "1753  negative     -0.25  Obligatory Bryan Goldberg reminder: He seems t...   \n",
       "440   negative     -0.36  Sorry AOC...climate change ie inevitable . You...   \n",
       "900    neutral      0.00  Activists thought BlackRock, Vanguard found re...   \n",
       "1832   neutral      0.00  Carbon Dioxide at High levels\\nhttps://t.co/o8...   \n",
       "521   negative     -0.01  'Greta is right to be angry': Mary Robinson sa...   \n",
       "346   positive      0.18  U.N. Honors Catholic Activist Using Data to Fi...   \n",
       "168   negative     -0.15  #Education is central to #climatechange mitiga...   \n",
       "2365  positive      0.15  10 degrees colder today than last week so much...   \n",
       "\n",
       "             Keyword              Username        Creation Date  \n",
       "1339  Climate change              Adapptiv  2019-10-13 20:07:32  \n",
       "1761  Climate change   familiaAguilóMestre  2019-10-14 20:46:10  \n",
       "568   Climate change          Chris Horner  2019-10-12 20:03:58  \n",
       "901   Climate change  Asinus Asinum Fricat  2019-10-13 20:52:31  \n",
       "27    Climate change                   △⃒⃘  2019-10-12 20:58:59  \n",
       "141   Climate change          Pedro Torres  2019-10-12 20:46:54  \n",
       "1003  Climate change    Alfred States 🇿🇦🇺🇸  2019-10-13 20:41:27  \n",
       "2125  Global warming            Vicky Mant  2019-10-14 20:09:07  \n",
       "498   Climate change        EJB - aka - EJ  2019-10-12 20:11:11  \n",
       "464   Climate change                 QTina  2019-10-12 20:15:47  \n",
       "1372  Climate change        WWG1WGA_2_MAGA  2019-10-13 20:03:47  \n",
       "904   Climate change         ᑕᗩᖇᗝᒪᎥᑎᗴ ᖇᗝᔕᗴ  2019-10-13 20:52:08  \n",
       "1753  Climate change          Matt Saccaro  2019-10-14 20:46:54  \n",
       "440   Climate change         russ heathcoe  2019-10-12 20:17:57  \n",
       "900   Climate change     Prosperum Capital  2019-10-13 20:52:32  \n",
       "1832  Climate change             Films4You  2019-10-14 20:37:57  \n",
       "521   Climate change         richie o shea  2019-10-12 20:08:11  \n",
       "346   Climate change                G.M.M.  2019-10-12 20:25:28  \n",
       "168   Climate change        HowNowMagazine  2019-10-12 20:44:39  \n",
       "2365  Climate change    Ralph M - 🇱🇷4️⃣5️⃣  2019-10-14 19:48:35  "
      ]
     },
     "execution_count": 7,
     "metadata": {},
     "output_type": "execute_result"
    }
   ],
   "source": [
    "def get_sentiment(polarity):\n",
    "    if polarity > 0:\n",
    "        return 'positive'\n",
    "    if polarity == 0:\n",
    "        return 'neutral'\n",
    "    else:\n",
    "        return 'negative'\n",
    "\n",
    "polarity_tweets = [round(sid.polarity_scores(tweet)[\"compound\"], 2)\n",
    "                   for tweet in tweets_text]\n",
    "sentiment_tweets = [get_sentiment(polarity) for polarity in polarity_tweets]\n",
    "zipped_list = list(zip(sentiment_tweets, polarity_tweets,\n",
    "                       dataframe['tweet'], dataframe['keyword'], dataframe['username'], dataframe['creation date']))\n",
    "\n",
    "# Store to new dataframe\n",
    "sentiment_df = pd.DataFrame(zipped_list, columns=[\n",
    "    \"Sentiment\", \"Polarity\", \"Tweet\", \"Keyword\", \"Username\", \"Creation Date\"])\n",
    "sentiment_df.sample(20)"
   ]
  },
  {
   "cell_type": "code",
   "execution_count": 39,
   "metadata": {
    "ExecuteTime": {
     "end_time": "2019-10-15T08:31:14.354651Z",
     "start_time": "2019-10-15T08:31:14.205648Z"
    }
   },
   "outputs": [
    {
     "data": {
      "image/png": "[encoded data removed]",
      "text/plain": [
       "<Figure size 432x288 with 1 Axes>"
      ]
     },
     "metadata": {},
     "output_type": "display_data"
    },
    {
     "name": "stdout",
     "output_type": "stream",
     "text": [
      "total positive: 923\n",
      "total neutral: 442\n",
      "total negative: 1038\n"
     ]
    }
   ],
   "source": [
    "sentiment_count = round(sentiment_df[\"Polarity\"].value_counts(), 2)\n",
    "\n",
    "sentiments = [get_sentiment(polarity)\n",
    "              for polarity in sentiment_df[\"Polarity\"]]\n",
    "\n",
    "sentiment_count_list = np.array([sentiments.count(\n",
    "    \"positive\"), sentiments.count(\"neutral\"), sentiments.count(\"negative\")])\n",
    "\n",
    "labels = [\"positive\", \"neutral\", \"negative\"]\n",
    "colors = [\"green\", \"yellow\", \"red\"]\n",
    "fig1, ax1 = plt.subplots()\n",
    "ax1.pie(sentiment_count_list, labels=labels, shadow=True,\n",
    "        autopct='%1.1f%%', startangle=90, colors=colors)\n",
    "ax1.axis('equal')\n",
    "plt.title(\"Distribution of sentiment values\")\n",
    "plt.show()\n",
    "print(\"total positive: {}\".format(sentiments.count('positive')))\n",
    "print(\"total neutral: {}\".format(sentiments.count('neutral')))\n",
    "print(\"total negative: {}\".format(sentiments.count('negative')))"
   ]
  },
  {
   "cell_type": "code",
   "execution_count": 40,
   "metadata": {
    "ExecuteTime": {
     "end_time": "2019-10-15T08:31:22.912746Z",
     "start_time": "2019-10-15T08:31:22.677160Z"
    }
   },
   "outputs": [
    {
     "data": {
      "image/png": "[encoded data removed]",
      "text/plain": [
       "<Figure size 432x288 with 1 Axes>"
      ]
     },
     "metadata": {},
     "output_type": "display_data"
    }
   ],
   "source": [
    "sentiment_df[\"Polarity\"].hist(bins=5)\n",
    "plt.title(\"Distribution of sentiment polarities\")\n",
    "plt.xlabel(\"Sentiment polarities\")\n",
    "plt.ylabel(\"Amount of tweets\")\n",
    "plt.show()"
   ]
  },
  {
   "cell_type": "markdown",
   "metadata": {},
   "source": [
    "## Implementing machine learning algorithms"
   ]
  },
  {
   "cell_type": "code",
   "execution_count": 11,
   "metadata": {
    "ExecuteTime": {
     "end_time": "2019-10-15T08:37:21.161385Z",
     "start_time": "2019-10-15T08:37:21.154939Z"
    }
   },
   "outputs": [],
   "source": [
    "from sklearn.feature_extraction.text import TfidfTransformer\n",
    "from sklearn.feature_extraction.text import CountVectorizer\n",
    "from sklearn.decomposition import PCA\n",
    "from sklearn.pipeline import Pipeline\n",
    "from sklearn.model_selection import GridSearchCV\n",
    "from sklearn.model_selection import RandomizedSearchCV\n",
    "from sklearn.metrics import classification_report, confusion_matrix, accuracy_score\n",
    "import nltk\n",
    "from nltk.stem import PorterStemmer"
   ]
  },
  {
   "cell_type": "markdown",
   "metadata": {},
   "source": [
    "### Divide into training and test sets"
   ]
  },
  {
   "cell_type": "code",
   "execution_count": 12,
   "metadata": {
    "ExecuteTime": {
     "end_time": "2019-10-15T08:37:22.190191Z",
     "start_time": "2019-10-15T08:37:22.181260Z"
    }
   },
   "outputs": [
    {
     "name": "stdout",
     "output_type": "stream",
     "text": [
      "1922\n",
      "481\n"
     ]
    }
   ],
   "source": [
    "from sklearn.model_selection import train_test_split\n",
    "\n",
    "# Extract features from df\n",
    "features = sentiment_df[\"Tweet\"]\n",
    "\n",
    "# Extract labels from df\n",
    "labels = sentiment_df[\"Sentiment\"]\n",
    "\n",
    "\n",
    "X_train, X_test, y_train, y_test = train_test_split(features,\n",
    "                                                    labels, test_size=0.2,\n",
    "                                                    random_state=1)\n",
    "\n",
    "print(len(X_train))\n",
    "print(len(X_test))"
   ]
  },
  {
   "cell_type": "markdown",
   "metadata": {},
   "source": [
    "### Preparing pipeline variables"
   ]
  },
  {
   "cell_type": "code",
   "execution_count": 13,
   "metadata": {
    "ExecuteTime": {
     "end_time": "2019-10-15T08:37:29.428395Z",
     "start_time": "2019-10-15T08:37:29.421450Z"
    }
   },
   "outputs": [],
   "source": [
    "count_vec = CountVectorizer(strip_accents=None, lowercase=False, preprocessor = None)\n",
    "tfidf = TfidfTransformer()\n",
    "\n",
    "def tokenizer(text):\n",
    "    return text.split()\n",
    "\n",
    "porter = PorterStemmer()\n",
    "def tokenizer_porter(text):\n",
    "    return [porter.stem(word) for word in text.split()]"
   ]
  },
  {
   "cell_type": "markdown",
   "metadata": {},
   "source": [
    "### Implementing Multinomial Naive Bayes"
   ]
  },
  {
   "cell_type": "code",
   "execution_count": 14,
   "metadata": {
    "ExecuteTime": {
     "end_time": "2019-10-15T08:42:27.714496Z",
     "start_time": "2019-10-15T08:42:27.710528Z"
    }
   },
   "outputs": [],
   "source": [
    "from sklearn.naive_bayes import MultinomialNB"
   ]
  },
  {
   "cell_type": "code",
   "execution_count": 27,
   "metadata": {
    "ExecuteTime": {
     "end_time": "2019-10-15T08:45:49.701272Z",
     "start_time": "2019-10-15T08:42:28.563613Z"
    }
   },
   "outputs": [
    {
     "name": "stdout",
     "output_type": "stream",
     "text": [
      "Fitting 9 folds for each of 60 candidates, totalling 540 fits\n"
     ]
    },
    {
     "name": "stderr",
     "output_type": "stream",
     "text": [
      "[Parallel(n_jobs=-1)]: Using backend LokyBackend with 4 concurrent workers.\n",
      "[Parallel(n_jobs=-1)]: Done  65 tasks      | elapsed:   17.9s\n",
      "[Parallel(n_jobs=-1)]: Done 215 tasks      | elapsed:  1.0min\n",
      "[Parallel(n_jobs=-1)]: Done 465 tasks      | elapsed:  3.0min\n",
      "[Parallel(n_jobs=-1)]: Done 540 out of 540 | elapsed:  3.5min finished\n"
     ]
    },
    {
     "data": {
      "text/plain": [
       "RandomizedSearchCV(cv=9, error_score='raise-deprecating',\n",
       "                   estimator=Pipeline(memory=None,\n",
       "                                      steps=[('vect',\n",
       "                                              CountVectorizer(analyzer='word',\n",
       "                                                              binary=False,\n",
       "                                                              decode_error='strict',\n",
       "                                                              dtype=<class 'numpy.int64'>,\n",
       "                                                              encoding='utf-8',\n",
       "                                                              input='content',\n",
       "                                                              lowercase=False,\n",
       "                                                              max_df=1.0,\n",
       "                                                              max_features=None,\n",
       "                                                              min_df=1,\n",
       "                                                              ngram_range=(1,\n",
       "                                                                           1),\n",
       "                                                              preprocessor=None,\n",
       "                                                              stop_words=None,\n",
       "                                                              strip_accents=N...\n",
       "                   param_distributions={'clf__alpha': [0.001, 0.01, 0.1, 1.0,\n",
       "                                                       10.0, 100.0],\n",
       "                                        'clf__fit_prior': [True, False],\n",
       "                                        'tfidf__norm': ['l1', 'l2'],\n",
       "                                        'tfidf__use_idf': [True, False],\n",
       "                                        'vect__ngram_range': [(1, 1), (1, 2)],\n",
       "                                        'vect__tokenizer': [<function tokenizer at 0x000001C380E59598>,\n",
       "                                                            <function tokenizer_porter at 0x000001C380E598C8>]},\n",
       "                   pre_dispatch='2*n_jobs', random_state=None, refit=True,\n",
       "                   return_train_score=False, scoring='accuracy', verbose=1)"
      ]
     },
     "execution_count": 27,
     "metadata": {},
     "output_type": "execute_result"
    }
   ],
   "source": [
    "mnb_pipeline = Pipeline([('vect', count_vec), ('tfidf', tfidf), ('clf', MultinomialNB())])\n",
    "\n",
    "param_grid_mnb = {\n",
    "                  'vect__ngram_range': [(1,1),(1,2)],\n",
    "                  'vect__tokenizer': [tokenizer, tokenizer_porter],\n",
    "    \n",
    "                  'tfidf__use_idf': [True, False],\n",
    "                  'tfidf__norm': ['l1', 'l2'],\n",
    "    \n",
    "                  'clf__alpha': [0.001, 0.01, 0.1, 1.0, 10.0, 100.0],\n",
    "                  'clf__fit_prior': [True, False]\n",
    "                 }\n",
    "grid_mnb = RandomizedSearchCV(mnb_pipeline, param_grid_mnb, n_iter=60, cv=9, verbose=1, n_jobs=-1, scoring='accuracy')\n",
    "grid_mnb.fit(X_train, y_train)"
   ]
  },
  {
   "cell_type": "code",
   "execution_count": 28,
   "metadata": {
    "ExecuteTime": {
     "end_time": "2019-10-15T08:48:05.421020Z",
     "start_time": "2019-10-15T08:48:05.416062Z"
    }
   },
   "outputs": [
    {
     "name": "stdout",
     "output_type": "stream",
     "text": [
      "Best parameters:  {'vect__tokenizer': <function tokenizer_porter at 0x000001C380E598C8>, 'vect__ngram_range': (1, 1), 'tfidf__use_idf': False, 'tfidf__norm': 'l1', 'clf__fit_prior': False, 'clf__alpha': 0.01}\n"
     ]
    }
   ],
   "source": [
    "print(\"Best parameters: \", grid_mnb.best_params_)"
   ]
  },
  {
   "cell_type": "code",
   "execution_count": 29,
   "metadata": {
    "ExecuteTime": {
     "end_time": "2019-10-15T08:48:08.106568Z",
     "start_time": "2019-10-15T08:48:06.780218Z"
    }
   },
   "outputs": [
    {
     "name": "stdout",
     "output_type": "stream",
     "text": [
      "[[150  10  54]\n",
      " [ 13  46  24]\n",
      " [ 36   7 141]]\n",
      "              precision    recall  f1-score   support\n",
      "\n",
      "    negative       0.75      0.70      0.73       214\n",
      "     neutral       0.73      0.55      0.63        83\n",
      "    positive       0.64      0.77      0.70       184\n",
      "\n",
      "    accuracy                           0.70       481\n",
      "   macro avg       0.71      0.67      0.69       481\n",
      "weighted avg       0.71      0.70      0.70       481\n",
      "\n",
      "The algorithm has reached an accuracy of: 70.06%\n"
     ]
    }
   ],
   "source": [
    "mnb = grid_mnb.best_estimator_\n",
    "mnb.fit(X_train, y_train)\n",
    "predictions_mnb = mnb.predict(X_test)\n",
    "print(confusion_matrix(y_test, predictions_mnb))\n",
    "print(classification_report(y_test, predictions_mnb))\n",
    "print(\"The algorithm has reached an accuracy of: {:.2f}%\".format(mnb.score(X_test, y_test)*100))"
   ]
  },
  {
   "cell_type": "markdown",
   "metadata": {},
   "source": [
    "### Implementing Logistic regression"
   ]
  },
  {
   "cell_type": "code",
   "execution_count": 30,
   "metadata": {
    "ExecuteTime": {
     "end_time": "2019-10-14T13:29:37.222315Z",
     "start_time": "2019-10-14T13:29:37.217850Z"
    }
   },
   "outputs": [],
   "source": [
    "from sklearn.linear_model import LogisticRegression"
   ]
  },
  {
   "cell_type": "code",
   "execution_count": 31,
   "metadata": {
    "ExecuteTime": {
     "end_time": "2019-10-14T13:40:16.169261Z",
     "start_time": "2019-10-14T13:30:13.945787Z"
    }
   },
   "outputs": [
    {
     "name": "stdout",
     "output_type": "stream",
     "text": [
      "Fitting 5 folds for each of 500 candidates, totalling 2500 fits\n"
     ]
    },
    {
     "name": "stderr",
     "output_type": "stream",
     "text": [
      "[Parallel(n_jobs=-1)]: Using backend LokyBackend with 4 concurrent workers.\n",
      "[Parallel(n_jobs=-1)]: Done  42 tasks      | elapsed:   23.7s\n",
      "[Parallel(n_jobs=-1)]: Done 192 tasks      | elapsed:  1.3min\n",
      "[Parallel(n_jobs=-1)]: Done 442 tasks      | elapsed:  2.9min\n",
      "[Parallel(n_jobs=-1)]: Done 792 tasks      | elapsed:  5.6min\n",
      "[Parallel(n_jobs=-1)]: Done 1242 tasks      | elapsed:  9.1min\n",
      "[Parallel(n_jobs=-1)]: Done 1792 tasks      | elapsed: 12.5min\n",
      "[Parallel(n_jobs=-1)]: Done 2442 tasks      | elapsed: 16.3min\n",
      "[Parallel(n_jobs=-1)]: Done 2500 out of 2500 | elapsed: 16.7min finished\n"
     ]
    },
    {
     "data": {
      "text/plain": [
       "RandomizedSearchCV(cv=5, error_score='raise-deprecating',\n",
       "                   estimator=Pipeline(memory=None,\n",
       "                                      steps=[('vect',\n",
       "                                              CountVectorizer(analyzer='word',\n",
       "                                                              binary=False,\n",
       "                                                              decode_error='strict',\n",
       "                                                              dtype=<class 'numpy.int64'>,\n",
       "                                                              encoding='utf-8',\n",
       "                                                              input='content',\n",
       "                                                              lowercase=False,\n",
       "                                                              max_df=1.0,\n",
       "                                                              max_features=None,\n",
       "                                                              min_df=1,\n",
       "                                                              ngram_range=(1,\n",
       "                                                                           1),\n",
       "                                                              preprocessor=None,\n",
       "                                                              stop_words=None,\n",
       "                                                              strip_accents=N...\n",
       "                                        'clf__tol': [1e-06, 1e-05, 0.0001,\n",
       "                                                     0.001, 0.01],\n",
       "                                        'clf__warm_start': [True, False],\n",
       "                                        'tfidf__norm': ['l1', 'l2'],\n",
       "                                        'tfidf__use_idf': [True, False],\n",
       "                                        'vect__ngram_range': [(1, 1), (1, 2)],\n",
       "                                        'vect__tokenizer': [<function tokenizer at 0x000001C380E59598>,\n",
       "                                                            <function tokenizer_porter at 0x000001C380E598C8>]},\n",
       "                   pre_dispatch='2*n_jobs', random_state=None, refit=True,\n",
       "                   return_train_score=False, scoring='accuracy', verbose=1)"
      ]
     },
     "execution_count": 31,
     "metadata": {},
     "output_type": "execute_result"
    }
   ],
   "source": [
    "import warnings\n",
    "warnings.filterwarnings('ignore')\n",
    "\n",
    "lr_pipeline = Pipeline([('vect', count_vec), ('tfidf', tfidf), ('clf', LogisticRegression(random_state=1))])\n",
    "\n",
    "param_grid_lr ={\n",
    "                'vect__ngram_range': [(1,1),(1,2)],\n",
    "                'vect__tokenizer': [tokenizer, tokenizer_porter],\n",
    "    \n",
    "                 'tfidf__use_idf': [True, False],\n",
    "                 'tfidf__norm': ['l1', 'l2'],\n",
    "    \n",
    "                'clf__dual': [True, False],\n",
    "                'clf__tol': [1e-6, 1e-5, 1e-4, 1e-3, 1e-2 ],\n",
    "                'clf__C': [0.001, 0.01, 0.1, 1, 10, 100, 1000],\n",
    "                'clf__fit_intercept': [True, False],\n",
    "                'clf__max_iter' : [100, 110, 120, 130, 140],\n",
    "                'clf__warm_start': [True, False]\n",
    "              }\n",
    "grid_lr = RandomizedSearchCV(lr_pipeline, param_grid_lr, n_iter=500,  verbose=1, cv=5, n_jobs=-1, scoring='accuracy')\n",
    "grid_lr.fit(X_train, y_train)"
   ]
  },
  {
   "cell_type": "code",
   "execution_count": 32,
   "metadata": {
    "ExecuteTime": {
     "end_time": "2019-10-14T13:40:29.961909Z",
     "start_time": "2019-10-14T13:40:29.955956Z"
    }
   },
   "outputs": [
    {
     "name": "stdout",
     "output_type": "stream",
     "text": [
      "Best parameters:  {'vect__tokenizer': <function tokenizer_porter at 0x000001C380E598C8>, 'vect__ngram_range': (1, 1), 'tfidf__use_idf': True, 'tfidf__norm': 'l1', 'clf__warm_start': False, 'clf__tol': 0.001, 'clf__max_iter': 130, 'clf__fit_intercept': True, 'clf__dual': False, 'clf__C': 100}\n"
     ]
    }
   ],
   "source": [
    "print(\"Best parameters: \", grid_lr.best_params_)"
   ]
  },
  {
   "cell_type": "code",
   "execution_count": 33,
   "metadata": {
    "ExecuteTime": {
     "end_time": "2019-10-14T14:05:39.919957Z",
     "start_time": "2019-10-14T14:05:38.973584Z"
    }
   },
   "outputs": [
    {
     "name": "stdout",
     "output_type": "stream",
     "text": [
      "[[165   6  43]\n",
      " [ 19  46  18]\n",
      " [ 42  11 131]]\n",
      "              precision    recall  f1-score   support\n",
      "\n",
      "    negative       0.73      0.77      0.75       214\n",
      "     neutral       0.73      0.55      0.63        83\n",
      "    positive       0.68      0.71      0.70       184\n",
      "\n",
      "    accuracy                           0.71       481\n",
      "   macro avg       0.71      0.68      0.69       481\n",
      "weighted avg       0.71      0.71      0.71       481\n",
      "\n",
      "The algorithm has reached an accuracy of: 71.10%\n"
     ]
    }
   ],
   "source": [
    "lr = grid_lr.best_estimator_\n",
    "\n",
    "lr.fit(X_train, y_train)\n",
    "predictions_lr = lr.predict(X_test)\n",
    "\n",
    "print(confusion_matrix(y_test, predictions_lr))\n",
    "print(classification_report(y_test, predictions_lr))\n",
    "print(\"The algorithm has reached an accuracy of: {:.2f}%\".format(lr.score(X_test, y_test) *100))"
   ]
  },
  {
   "cell_type": "markdown",
   "metadata": {},
   "source": [
    "### Implementing Support Vector Machine"
   ]
  },
  {
   "cell_type": "code",
   "execution_count": 34,
   "metadata": {
    "ExecuteTime": {
     "end_time": "2019-10-15T08:40:35.452418Z",
     "start_time": "2019-10-15T08:40:35.447953Z"
    }
   },
   "outputs": [],
   "source": [
    "from sklearn.svm import SVC"
   ]
  },
  {
   "cell_type": "code",
   "execution_count": 35,
   "metadata": {
    "ExecuteTime": {
     "end_time": "2019-10-15T08:40:36.328709Z",
     "start_time": "2019-10-15T08:40:36.308868Z"
    }
   },
   "outputs": [
    {
     "name": "stdout",
     "output_type": "stream",
     "text": [
      "Fitting 5 folds for each of 80 candidates, totalling 400 fits\n"
     ]
    },
    {
     "name": "stderr",
     "output_type": "stream",
     "text": [
      "[Parallel(n_jobs=-1)]: Using backend LokyBackend with 4 concurrent workers.\n",
      "[Parallel(n_jobs=-1)]: Done  42 tasks      | elapsed:   41.8s\n",
      "[Parallel(n_jobs=-1)]: Done 192 tasks      | elapsed:  2.6min\n",
      "[Parallel(n_jobs=-1)]: Done 400 out of 400 | elapsed:  5.2min finished\n"
     ]
    },
    {
     "name": "stdout",
     "output_type": "stream",
     "text": [
      "\n"
     ]
    }
   ],
   "source": [
    "svc_pipeline = Pipeline([('vect', count_vec), ('tfidf', tfidf), ('clf', SVC(random_state=1))])\n",
    "\n",
    "param_grid_svm = {\n",
    "                  'vect__ngram_range': [(1,1),(1,2)],\n",
    "                  'vect__tokenizer': [tokenizer, tokenizer_porter],\n",
    "    \n",
    "                  'tfidf__use_idf': [True, False],\n",
    "                  'tfidf__norm': ['l1', 'l2'],                  \n",
    "    \n",
    "                  'clf__C': [0.1, 1, 10, 100],\n",
    "                  'clf__kernel': ['linear', 'rbf', 'poly'],\n",
    "                  'clf__gamma': [0.1, 1, 10, 100],\n",
    "                  'clf__degree': [0, 1, 2, 3, 4, 5, 6]\n",
    "                 }\n",
    "\n",
    "grid_svc = RandomizedSearchCV(svc_pipeline, param_grid_svm, n_iter=80, cv=5, verbose=1, n_jobs=-1, scoring='accuracy')\n",
    "grid_svc.fit(X_train, y_train)\n",
    "print()"
   ]
  },
  {
   "cell_type": "code",
   "execution_count": 36,
   "metadata": {
    "ExecuteTime": {
     "end_time": "2019-10-14T14:26:37.291804Z",
     "start_time": "2019-10-14T14:26:37.287340Z"
    }
   },
   "outputs": [
    {
     "name": "stdout",
     "output_type": "stream",
     "text": [
      "Best parameters:  {'vect__tokenizer': <function tokenizer_porter at 0x000001C380E598C8>, 'vect__ngram_range': (1, 1), 'tfidf__use_idf': False, 'tfidf__norm': 'l2', 'clf__kernel': 'linear', 'clf__gamma': 100, 'clf__degree': 4, 'clf__C': 10}\n"
     ]
    }
   ],
   "source": [
    "print(\"Best parameters: \", grid_svc.best_params_)"
   ]
  },
  {
   "cell_type": "code",
   "execution_count": 37,
   "metadata": {
    "ExecuteTime": {
     "end_time": "2019-10-14T14:26:39.432541Z",
     "start_time": "2019-10-14T14:26:37.556668Z"
    }
   },
   "outputs": [
    {
     "name": "stdout",
     "output_type": "stream",
     "text": [
      "[[166   9  39]\n",
      " [ 19  50  14]\n",
      " [ 44  17 123]]\n",
      "              precision    recall  f1-score   support\n",
      "\n",
      "    negative       0.72      0.78      0.75       214\n",
      "     neutral       0.66      0.60      0.63        83\n",
      "    positive       0.70      0.67      0.68       184\n",
      "\n",
      "    accuracy                           0.70       481\n",
      "   macro avg       0.69      0.68      0.69       481\n",
      "weighted avg       0.70      0.70      0.70       481\n",
      "\n",
      "The algorithm has reached an accuracy of: 70.48%\n"
     ]
    }
   ],
   "source": [
    "svm = grid_svc.best_estimator_\n",
    "svm_fit = svm.fit(X_train, y_train)\n",
    "score_svm = svm.score(X_test, y_test)\n",
    "predictions_svm = svm.predict(X_test)\n",
    "print(confusion_matrix(y_test, predictions_svm))\n",
    "print(classification_report(y_test, predictions_svm))\n",
    "print(\"The algorithm has reached an accuracy of: {:.2f}%\".format(score_svm*100))"
   ]
  },
  {
   "cell_type": "markdown",
   "metadata": {},
   "source": [
    "### Implementing Random Forest"
   ]
  },
  {
   "cell_type": "code",
   "execution_count": 41,
   "metadata": {
    "ExecuteTime": {
     "end_time": "2019-10-14T13:41:37.673843Z",
     "start_time": "2019-10-14T13:41:37.393165Z"
    }
   },
   "outputs": [],
   "source": [
    "from sklearn.ensemble import RandomForestClassifier"
   ]
  },
  {
   "cell_type": "code",
   "execution_count": 50,
   "metadata": {
    "ExecuteTime": {
     "end_time": "2019-10-14T14:19:49.583603Z",
     "start_time": "2019-10-14T14:08:04.705991Z"
    }
   },
   "outputs": [
    {
     "name": "stdout",
     "output_type": "stream",
     "text": [
      "Fitting 5 folds for each of 500 candidates, totalling 2500 fits\n"
     ]
    },
    {
     "name": "stderr",
     "output_type": "stream",
     "text": [
      "[Parallel(n_jobs=-1)]: Using backend LokyBackend with 4 concurrent workers.\n",
      "[Parallel(n_jobs=-1)]: Done  42 tasks      | elapsed:   56.3s\n",
      "[Parallel(n_jobs=-1)]: Done 192 tasks      | elapsed:  5.4min\n",
      "[Parallel(n_jobs=-1)]: Done 442 tasks      | elapsed: 12.4min\n",
      "[Parallel(n_jobs=-1)]: Done 792 tasks      | elapsed: 24.1min\n",
      "[Parallel(n_jobs=-1)]: Done 1242 tasks      | elapsed: 38.5min\n",
      "[Parallel(n_jobs=-1)]: Done 1792 tasks      | elapsed: 52.9min\n",
      "[Parallel(n_jobs=-1)]: Done 2442 tasks      | elapsed: 72.9min\n",
      "[Parallel(n_jobs=-1)]: Done 2500 out of 2500 | elapsed: 73.9min finished\n"
     ]
    },
    {
     "data": {
      "text/plain": [
       "RandomizedSearchCV(cv=5, error_score='raise-deprecating',\n",
       "                   estimator=Pipeline(memory=None,\n",
       "                                      steps=[('vect',\n",
       "                                              CountVectorizer(analyzer='word',\n",
       "                                                              binary=False,\n",
       "                                                              decode_error='strict',\n",
       "                                                              dtype=<class 'numpy.int64'>,\n",
       "                                                              encoding='utf-8',\n",
       "                                                              input='content',\n",
       "                                                              lowercase=False,\n",
       "                                                              max_df=1.0,\n",
       "                                                              max_features=None,\n",
       "                                                              min_df=1,\n",
       "                                                              ngram_range=(1,\n",
       "                                                                           1),\n",
       "                                                              preprocessor=None,\n",
       "                                                              stop_words=None,\n",
       "                                                              strip_accents=N...\n",
       "                                        'clf__min_samples_split': [2, 5, 10],\n",
       "                                        'clf__n_estimators': [500, 1000, 1500,\n",
       "                                                              2000],\n",
       "                                        'tfidf__norm': ['l1', 'l2'],\n",
       "                                        'tfidf__use_idf': [True, False],\n",
       "                                        'vect__ngram_range': [(1, 1), (1, 2)],\n",
       "                                        'vect__tokenizer': [<function tokenizer at 0x000001C380E59598>,\n",
       "                                                            <function tokenizer_porter at 0x000001C380E598C8>]},\n",
       "                   pre_dispatch='2*n_jobs', random_state=None, refit=True,\n",
       "                   return_train_score=False, scoring='accuracy', verbose=1)"
      ]
     },
     "execution_count": 50,
     "metadata": {},
     "output_type": "execute_result"
    }
   ],
   "source": [
    "rf_pipeline = Pipeline([('vect', count_vec), ('tfidf', tfidf), ('clf', RandomForestClassifier(random_state=1))])\n",
    "\n",
    "param_grid_rf = {\n",
    "                 'vect__ngram_range': [(1,1),(1,2)],\n",
    "                 'vect__tokenizer': [tokenizer, tokenizer_porter],\n",
    "    \n",
    "                 'tfidf__use_idf': [True, False],\n",
    "                 'tfidf__norm': ['l1', 'l2'],                  \n",
    "    \n",
    "                 'clf__n_estimators': [500, 1000, 1500, 2000],\n",
    "                 'clf__max_features': ['auto', 'sqrt'],\n",
    "                 'clf__max_depth': np.linspace(1, 32, 32, endpoint=True),\n",
    "                 'clf__min_samples_split': [2, 5, 10],\n",
    "                 'clf__min_samples_leaf': [1, 2, 4],\n",
    "                 'clf__bootstrap': [True, False]\n",
    "                }\n",
    "\n",
    "grid_rf = RandomizedSearchCV(rf_pipeline, param_grid_rf, cv=5, n_iter=500 , verbose=1, n_jobs=-1, scoring='accuracy')\n",
    "\n",
    "grid_rf.fit(X_train, y_train)"
   ]
  },
  {
   "cell_type": "code",
   "execution_count": 51,
   "metadata": {
    "ExecuteTime": {
     "end_time": "2019-10-14T14:19:49.797381Z",
     "start_time": "2019-10-14T14:19:49.792420Z"
    }
   },
   "outputs": [
    {
     "name": "stdout",
     "output_type": "stream",
     "text": [
      "Best parameters:  {'vect__tokenizer': <function tokenizer_porter at 0x000001C380E598C8>, 'vect__ngram_range': (1, 1), 'tfidf__use_idf': True, 'tfidf__norm': 'l1', 'clf__n_estimators': 1000, 'clf__min_samples_split': 2, 'clf__min_samples_leaf': 2, 'clf__max_features': 'auto', 'clf__max_depth': 32.0, 'clf__bootstrap': False}\n"
     ]
    }
   ],
   "source": [
    "print(\"Best parameters: \", grid_rf.best_params_)"
   ]
  },
  {
   "cell_type": "code",
   "execution_count": 52,
   "metadata": {
    "ExecuteTime": {
     "end_time": "2019-10-14T14:19:51.625638Z",
     "start_time": "2019-10-14T14:19:50.034469Z"
    }
   },
   "outputs": [
    {
     "name": "stdout",
     "output_type": "stream",
     "text": [
      "[[163   5  46]\n",
      " [ 48  27   8]\n",
      " [ 71   5 108]]\n",
      "              precision    recall  f1-score   support\n",
      "\n",
      "    negative       0.58      0.76      0.66       214\n",
      "     neutral       0.73      0.33      0.45        83\n",
      "    positive       0.67      0.59      0.62       184\n",
      "\n",
      "    accuracy                           0.62       481\n",
      "   macro avg       0.66      0.56      0.58       481\n",
      "weighted avg       0.64      0.62      0.61       481\n",
      "\n",
      "The algorithm has reached an accuracy of: 61.95%\n"
     ]
    }
   ],
   "source": [
    "rf = grid_rf.best_estimator_\n",
    "\n",
    "rf.fit(X_train, y_train)\n",
    "predictions_rf = rf.predict(X_test)\n",
    "\n",
    "print(confusion_matrix(y_test, predictions_rf))\n",
    "print(classification_report(y_test, predictions_rf))\n",
    "print(\"The algorithm has reached an accuracy of: {:.2f}%\".format(rf.score(X_test, y_test) *100))"
   ]
  }
 ],
 "metadata": {
  "kernelspec": {
   "display_name": "Python 3",
   "language": "python",
   "name": "python3"
  },
  "language_info": {
   "codemirror_mode": {
    "name": "ipython",
    "version": 3
   },
   "file_extension": ".py",
   "mimetype": "text/x-python",
   "name": "python",
   "nbconvert_exporter": "python",
   "pygments_lexer": "ipython3",
   "version": "3.7.3"
  },
  "toc": {
   "base_numbering": 1,
   "nav_menu": {},
   "number_sections": true,
   "sideBar": true,
   "skip_h1_title": false,
   "title_cell": "Table of Contents",
   "title_sidebar": "Contents",
   "toc_cell": false,
   "toc_position": {
    "height": "calc(100% - 180px)",
    "left": "10px",
    "top": "150px",
    "width": "290.6px"
   },
   "toc_section_display": true,
   "toc_window_display": false
  },
  "toc-autonumbering": true,
  "toc-showtags": false,
  "varInspector": {
   "cols": {
    "lenName": 16,
    "lenType": 16,
    "lenVar": 40
   },
   "kernels_config": {
    "python": {
     "delete_cmd_postfix": "",
     "delete_cmd_prefix": "del ",
     "library": "var_list.py",
     "varRefreshCmd": "print(var_dic_list())"
    },
    "r": {
     "delete_cmd_postfix": ") ",
     "delete_cmd_prefix": "rm(",
     "library": "var_list.r",
     "varRefreshCmd": "cat(var_dic_list()) "
    }
   },
   "position": {
    "height": "478.8px",
    "left": "1175.6px",
    "right": "20px",
    "top": "124px",
    "width": "341.4px"
   },
   "types_to_exclude": [
    "module",
    "function",
    "builtin_function_or_method",
    "instance",
    "_Feature"
   ],
   "window_display": false
  }
 },
 "nbformat": 4,
 "nbformat_minor": 4
}
