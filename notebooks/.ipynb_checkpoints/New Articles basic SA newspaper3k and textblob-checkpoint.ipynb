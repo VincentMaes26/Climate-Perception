{
 "cells": [
  {
   "cell_type": "markdown",
   "metadata": {},
   "source": [
    "# TESTING Newspaper3k and TextBlob"
   ]
  },
  {
   "cell_type": "code",
   "execution_count": null,
   "metadata": {},
   "outputs": [],
   "source": [
    "from newspaper import Article\n",
    "import re\n",
    "import nltk\n",
    "import numpy as np\n",
    "from textblob import TextBlob"
   ]
  },
  {
   "cell_type": "markdown",
   "metadata": {},
   "source": [
    "# Helper functions"
   ]
  },
  {
   "cell_type": "code",
   "execution_count": null,
   "metadata": {},
   "outputs": [],
   "source": [
    "# Gets numeric value and returns corresponding string\n",
    "def get_sentiment(sentiment):\n",
    "    if sentiment > 0:\n",
    "        return \"Possitive\"\n",
    "    if sentiment == 0:\n",
    "        return \"Neutral\"\n",
    "    else:\n",
    "        return \"Negative\""
   ]
  },
  {
   "cell_type": "markdown",
   "metadata": {},
   "source": [
    "## Gets articles and outputs summary"
   ]
  },
  {
   "cell_type": "code",
   "execution_count": null,
   "metadata": {},
   "outputs": [],
   "source": [
    "urls =np.array ([\"https://www.nieuwsblad.be/cnt/dmf20190502_04368436\",\n",
    "        \"https://www.nieuwsblad.be/cnt/dmf20190826_04575277\",\n",
    "        \"https://www.vrt.be/vrtnws/nl/2018/08/04/tweede-hittegolf-is-een-feit/\",\n",
    "        \"https://www.meteobelgie.be/klimatologie/waarnemingen-en-analyses/jaar-2017/2149-zom-2017\",\n",
    "        \"https://www.standaard.be/cnt/dmf20190808_04550830\",\n",
    "        \"https://www.vrt.be/vrtnws/nl/2019/07/23/waar-komt-de-hittegolf-vandaag/\"\n",
    "       ])\n",
    "# loops over all the articles, filters and summarizes them\n",
    "\n",
    "articles = []\n",
    "\n",
    "for link in urls:\n",
    "    test_article = Article(link, language=\"nl\", article_memorize = False)\n",
    "    test_article.download()\n",
    "    test_article.parse()\n",
    "    test_article.nlp()\n",
    "    print(test_article.title +  \"\\n\")\n",
    "    articles.append(test_article)\n"
   ]
  },
  {
   "cell_type": "markdown",
   "metadata": {},
   "source": [
    "## textblob & nltk sentiment analysis"
   ]
  },
  {
   "cell_type": "code",
   "execution_count": null,
   "metadata": {},
   "outputs": [],
   "source": [
    "for article in articles:\n",
    "    textblob_obj = TextBlob(article.summary)\n",
    "    sentiment = textblob_obj.sentiment.polarity\n",
    "    print(article.title)\n",
    "    print(get_sentiment(sentiment) + \"\\n\")\n",
    "    "
   ]
  },
  {
   "cell_type": "code",
   "execution_count": null,
   "metadata": {},
   "outputs": [],
   "source": []
  }
 ],
 "metadata": {
  "kernelspec": {
   "display_name": "Python 3",
   "language": "python",
   "name": "python3"
  },
  "language_info": {
   "codemirror_mode": {
    "name": "ipython",
    "version": 3
   },
   "file_extension": ".py",
   "mimetype": "text/x-python",
   "name": "python",
   "nbconvert_exporter": "python",
   "pygments_lexer": "ipython3",
   "version": "3.7.3"
  }
 },
 "nbformat": 4,
 "nbformat_minor": 2
}
