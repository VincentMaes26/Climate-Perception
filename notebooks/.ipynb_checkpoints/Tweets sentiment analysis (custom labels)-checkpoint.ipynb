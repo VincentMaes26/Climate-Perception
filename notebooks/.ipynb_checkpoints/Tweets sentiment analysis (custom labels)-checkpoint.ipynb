{
 "cells": [
  {
   "cell_type": "markdown",
   "metadata": {},
   "source": [
    "# Tweets sentiment analysis (custom labels)"
   ]
  },
  {
   "cell_type": "code",
   "execution_count": 1,
   "metadata": {},
   "outputs": [],
   "source": [
    "from textblob import TextBlob\n",
    "import numpy as np\n",
    "import pandas as pd\n",
    "import matplotlib.pyplot as plt\n",
    "import matplotlib.ticker as ticker\n",
    "import seaborn as sns\n",
    "import datetime"
   ]
  },
  {
   "cell_type": "markdown",
   "metadata": {},
   "source": [
    "## Get dataframe from csv file"
   ]
  },
  {
   "cell_type": "code",
   "execution_count": 2,
   "metadata": {},
   "outputs": [],
   "source": [
    "# Read CSV file\n",
    "#tweets_today = pd.read_csv(r\"C:\\stage\\project\\datasets\\tweets{}.csv\".format(datetime.date.today()))\n",
    "tweets_today = pd.read_csv(r\"..\\datasets\\tweets2019-09-24.csv\")\n",
    "tweets_today = tweets_today.head(5000)"
   ]
  },
  {
   "cell_type": "markdown",
   "metadata": {},
   "source": [
    "## Creating custom dictionaries"
   ]
  },
  {
   "cell_type": "code",
   "execution_count": null,
   "metadata": {},
   "outputs": [],
   "source": [
    "negative_dict[\":(\", \">:(\", \"bad\", \"worst\", \"horrible\", \"stupid\"  ]\n",
    "\n",
    "positive_dict[\":)\", \":D\", \"good\", \"awesome\", \"great\", \"smart\"]"
   ]
  },
  {
   "cell_type": "markdown",
   "metadata": {},
   "source": [
    "## Determening keyword tweet"
   ]
  },
  {
   "cell_type": "code",
   "execution_count": null,
   "metadata": {},
   "outputs": [],
   "source": [
    "for tweet in tweets_today[\"tweet\"]:\n",
    "    if tweet.contains(\"climate change\"):\n",
    "        tweets_today[\"Keyword\"] = \"Climate change\"\n",
    "    else if tweet.contains(\"global warming\"):\n",
    "        tweets_today[\"Keyword\"] = \"Global warming\""
   ]
  }
 ],
 "metadata": {
  "kernelspec": {
   "display_name": "Python 3",
   "language": "python",
   "name": "python3"
  },
  "language_info": {
   "codemirror_mode": {
    "name": "ipython",
    "version": 3
   },
   "file_extension": ".py",
   "mimetype": "text/x-python",
   "name": "python",
   "nbconvert_exporter": "python",
   "pygments_lexer": "ipython3",
   "version": "3.7.3"
  }
 },
 "nbformat": 4,
 "nbformat_minor": 2
}
