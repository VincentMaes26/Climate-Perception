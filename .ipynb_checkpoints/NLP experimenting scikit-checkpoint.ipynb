{
 "cells": [
  {
   "cell_type": "markdown",
   "metadata": {},
   "source": [
    "# Following tutorial stackabuse"
   ]
  },
  {
   "cell_type": "code",
   "execution_count": 2,
   "metadata": {},
   "outputs": [],
   "source": [
    "import numpy as np \n",
    "import pandas as pd \n",
    "import re\n",
    "import nltk \n",
    "import matplotlib.pyplot as plt\n",
    "from newspaper import Article\n",
    "%matplotlib inline"
   ]
  },
  {
   "cell_type": "markdown",
   "metadata": {},
   "source": [
    "## Helper functions"
   ]
  },
  {
   "cell_type": "code",
   "execution_count": 11,
   "metadata": {},
   "outputs": [],
   "source": [
    "# Filters the article of unneeded words / symbols\n",
    "def filter_article(article):\n",
    "    processed_article_text = []\n",
    "\n",
    "    filter_words_and_symbols = [\"\\+\", \"de\", \"het\", \"een\", \",\", \".\", \"?\"]\n",
    "\n",
    "    for word in article.text.split():\n",
    "        # Remove all the special characters\n",
    "        processed_word = re.sub(r'\\W', ' ', str(word))\n",
    "\n",
    "        # remove all single characters\n",
    "        processed_word = re.sub(r'\\s+[a-zA-Z]\\s+', ' ', processed_word)\n",
    "\n",
    "        # Remove single characters from the start\n",
    "        processed_word = re.sub(r'\\^[a-zA-Z]\\s+', ' ', processed_word) \n",
    "\n",
    "        # Substituting multiple spaces with single space\n",
    "        processed_word = re.sub(r'\\s+', ' ', processed_word, flags=re.I)\n",
    "\n",
    "        # Removing prefixed 'b'\n",
    "        processed_word = re.sub(r'^b\\s+', '', processed_word)\n",
    "\n",
    "        # Converting to Lowercase\n",
    "        processed_word = processed_word.lower()\n",
    "\n",
    "        processed_article_text.append(processed_word)\n",
    "\n",
    "        if processed_word in filter_words_and_symbols:\n",
    "            processed_article_text.remove(processed_word)   \n",
    "    \n",
    "    return processed_article_text\n"
   ]
  },
  {
   "cell_type": "markdown",
   "metadata": {},
   "source": [
    "## Gets articles and outputs words"
   ]
  },
  {
   "cell_type": "code",
   "execution_count": 14,
   "metadata": {},
   "outputs": [],
   "source": [
    "urls =np.array ([\"https://www.nieuwsblad.be/cnt/dmf20190502_04368436\",\n",
    "        \"https://www.nieuwsblad.be/cnt/dmf20190826_04575277\",\n",
    "        \"https://www.vrt.be/vrtnws/nl/2018/08/04/tweede-hittegolf-is-een-feit/\",\n",
    "        \"https://www.meteobelgie.be/klimatologie/waarnemingen-en-analyses/jaar-2017/2149-zom-2017\",\n",
    "        \"https://www.standaard.be/cnt/dmf20190808_04550830\",\n",
    "        \"https://www.vrt.be/vrtnws/nl/2019/07/23/waar-komt-de-hittegolf-vandaag/\"\n",
    "       ])\n",
    "# loops over all the articles, filters and summarizes them\n",
    "\n",
    "processed_texts = []\n",
    "\n",
    "for link in urls:\n",
    "    test_article = Article(link, language=\"nl\", article_memorize = False)\n",
    "    test_article.download()\n",
    "    test_article.parse()\n",
    "    processed_article_text = filter_article(test_article)\n",
    "    processed_texts.append(processed_article_text)\n"
   ]
  },
  {
   "cell_type": "code",
   "execution_count": null,
   "metadata": {},
   "outputs": [],
   "source": []
  }
 ],
 "metadata": {
  "kernelspec": {
   "display_name": "Python 3",
   "language": "python",
   "name": "python3"
  },
  "language_info": {
   "codemirror_mode": {
    "name": "ipython",
    "version": 3
   },
   "file_extension": ".py",
   "mimetype": "text/x-python",
   "name": "python",
   "nbconvert_exporter": "python",
   "pygments_lexer": "ipython3",
   "version": "3.7.3"
  }
 },
 "nbformat": 4,
 "nbformat_minor": 2
}
