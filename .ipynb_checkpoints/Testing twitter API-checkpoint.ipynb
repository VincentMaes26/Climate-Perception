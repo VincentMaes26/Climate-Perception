{
 "cells": [
  {
   "cell_type": "markdown",
   "metadata": {},
   "source": [
    "# Tweet sentiment analysis"
   ]
  },
  {
   "cell_type": "code",
   "execution_count": 95,
   "metadata": {},
   "outputs": [
    {
     "name": "stderr",
     "output_type": "stream",
     "text": [
      "[nltk_data] Downloading package stopwords to C:\\nltk_data...\n",
      "[nltk_data]   Package stopwords is already up-to-date!\n"
     ]
    }
   ],
   "source": [
    "import tweepy\n",
    "from textblob import TextBlob\n",
    "import numpy as np\n",
    "import pandas as pd\n",
    "import re\n",
    "import json\n",
    "import matplotlib.pyplot as plt\n",
    "import matplotlib.ticker as ticker\n",
    "import seaborn as sns\n",
    "import nltk\n",
    "nltk.download('stopwords')\n",
    "from nltk.corpus import stopwords\n",
    "from sklearn.feature_extraction.text import TfidfVectorizer\n",
    "from sklearn.model_selection import train_test_split"
   ]
  },
  {
   "cell_type": "markdown",
   "metadata": {},
   "source": [
    "### Connecting to twitter API"
   ]
  },
  {
   "cell_type": "code",
   "execution_count": 71,
   "metadata": {},
   "outputs": [],
   "source": [
    "with open(\"twitter_credentials.json\", \"r\") as file:\n",
    "    creds = json.load(file)"
   ]
  },
  {
   "cell_type": "markdown",
   "metadata": {},
   "source": [
    "### Helper functions"
   ]
  },
  {
   "cell_type": "code",
   "execution_count": 76,
   "metadata": {},
   "outputs": [],
   "source": [
    "def format_tweet(tweet):\n",
    "    processed_tweet=\"\"\n",
    "    if \"RT @\" not in tweet.full_text:\n",
    "        for word in tweet.full_text.split():\n",
    "            \n",
    "            # Removing URL from tweet\n",
    "            processed_word = re.sub('([^0-9A-Za-z \\t])|(\\w+:\\/\\/\\S+)', ' ', word)\n",
    "            \n",
    "            # Remove all the special characters\n",
    "            processed_word = re.sub(r'\\W', '', processed_word)\n",
    "\n",
    "            # remove all single characters\n",
    "            processed_word = re.sub(r'\\s+[a-zA-Z]\\s+', ' ', processed_word)\n",
    "\n",
    "            # Remove single characters from the start\n",
    "            processed_word = re.sub(r'\\^[a-zA-Z]\\s+', ' ', processed_word) \n",
    "\n",
    "            # Substituting multiple spaces with single space\n",
    "            processed_word = re.sub(r'\\s+', '', processed_word, flags=re.I)\n",
    "\n",
    "            # Removing prefixed 'b'\n",
    "            processed_word = re.sub(r'^b\\s+', ' ', processed_word)\n",
    "\n",
    "            # Converting to Lowercase\n",
    "            processed_word = processed_word.lower()\n",
    "            processed_tweet= processed_tweet+\" \"+processed_word\n",
    "\n",
    "        return processed_tweet +\"~ \"+ str(tweet.created_at)\n",
    "            \n",
    "    else:\n",
    "        return\n"
   ]
  },
  {
   "cell_type": "markdown",
   "metadata": {},
   "source": [
    "### Getting tweets from Twitter API"
   ]
  },
  {
   "cell_type": "code",
   "execution_count": 77,
   "metadata": {},
   "outputs": [],
   "source": [
    "# Authenticates and connects to API\n",
    "auth = tweepy.OAuthHandler(creds['CONSUMER_KEY'], creds['CONSUMER_SECRET'])\n",
    "auth.set_access_token(creds['ACCESS_TOKEN'], creds['ACCESS_SECRET'])\n",
    "api = tweepy.API(auth, wait_on_rate_limit=True)\n",
    "\n",
    "# Gets tweets based on query\n",
    "query = \"#heatwave -filter=retweets\"\n",
    "cursor = tweepy.Cursor(api.search, q= query, lang=\"en\", since='2016-01-01', tweet_mode='extended').items(200)\n",
    "\n",
    "# Filters out None objects\n",
    "temp = [format_tweet(tweet) for tweet in cursor]\n",
    "tweets = filter(None, temp)"
   ]
  },
  {
   "cell_type": "markdown",
   "metadata": {},
   "source": [
    "### Sentiment analysis with TextBlob"
   ]
  },
  {
   "cell_type": "code",
   "execution_count": 78,
   "metadata": {},
   "outputs": [
    {
     "data": {
      "text/html": [
       "<div>\n",
       "<style scoped>\n",
       "    .dataframe tbody tr th:only-of-type {\n",
       "        vertical-align: middle;\n",
       "    }\n",
       "\n",
       "    .dataframe tbody tr th {\n",
       "        vertical-align: top;\n",
       "    }\n",
       "\n",
       "    .dataframe thead th {\n",
       "        text-align: right;\n",
       "    }\n",
       "</style>\n",
       "<table border=\"1\" class=\"dataframe\">\n",
       "  <thead>\n",
       "    <tr style=\"text-align: right;\">\n",
       "      <th></th>\n",
       "      <th>polarity</th>\n",
       "      <th>tweet</th>\n",
       "      <th>date</th>\n",
       "    </tr>\n",
       "  </thead>\n",
       "  <tbody>\n",
       "    <tr>\n",
       "      <th>0</th>\n",
       "      <td>0.05</td>\n",
       "      <td>human rights threats in warming world could s...</td>\n",
       "      <td>2019-09-19 10:49:41</td>\n",
       "    </tr>\n",
       "    <tr>\n",
       "      <th>1</th>\n",
       "      <td>0.00</td>\n",
       "      <td>stay inside amp beat the heatwave with taken ...</td>\n",
       "      <td>2019-09-19 10:25:02</td>\n",
       "    </tr>\n",
       "    <tr>\n",
       "      <th>2</th>\n",
       "      <td>0.35</td>\n",
       "      <td>this is an inspirational quote if we ever saw...</td>\n",
       "      <td>2019-09-19 10:15:21</td>\n",
       "    </tr>\n",
       "    <tr>\n",
       "      <th>3</th>\n",
       "      <td>0.29</td>\n",
       "      <td>44c111f in ahvaz ir hottest city in the worl...</td>\n",
       "      <td>2019-09-19 10:00:50</td>\n",
       "    </tr>\n",
       "    <tr>\n",
       "      <th>4</th>\n",
       "      <td>0.05</td>\n",
       "      <td>heartless have we become when deforestation i...</td>\n",
       "      <td>2019-09-19 09:38:26</td>\n",
       "    </tr>\n",
       "    <tr>\n",
       "      <th>5</th>\n",
       "      <td>0.10</td>\n",
       "      <td>greta thunberg16 years old swedish environmen...</td>\n",
       "      <td>2019-09-19 09:17:40</td>\n",
       "    </tr>\n",
       "    <tr>\n",
       "      <th>6</th>\n",
       "      <td>0.29</td>\n",
       "      <td>44c111f in bahawalpur pk hottest city in the...</td>\n",
       "      <td>2019-09-19 08:00:49</td>\n",
       "    </tr>\n",
       "    <tr>\n",
       "      <th>7</th>\n",
       "      <td>0.53</td>\n",
       "      <td>with reports that some parts of the uk are se...</td>\n",
       "      <td>2019-09-19 07:54:09</td>\n",
       "    </tr>\n",
       "    <tr>\n",
       "      <th>8</th>\n",
       "      <td>0.05</td>\n",
       "      <td>apparently we are heading for a heatwave this...</td>\n",
       "      <td>2019-09-19 07:52:21</td>\n",
       "    </tr>\n",
       "    <tr>\n",
       "      <th>9</th>\n",
       "      <td>0.05</td>\n",
       "      <td>apparently we are heading for a heatwave this...</td>\n",
       "      <td>2019-09-19 07:51:21</td>\n",
       "    </tr>\n",
       "    <tr>\n",
       "      <th>10</th>\n",
       "      <td>0.05</td>\n",
       "      <td>apparently we are heading for a heatwave this...</td>\n",
       "      <td>2019-09-19 07:50:59</td>\n",
       "    </tr>\n",
       "    <tr>\n",
       "      <th>11</th>\n",
       "      <td>0.14</td>\n",
       "      <td>swimming pool shisha jumping castle cocktails...</td>\n",
       "      <td>2019-09-19 07:21:03</td>\n",
       "    </tr>\n",
       "    <tr>\n",
       "      <th>12</th>\n",
       "      <td>0.05</td>\n",
       "      <td>nearly dying in makassar well not literally b...</td>\n",
       "      <td>2019-09-19 06:55:25</td>\n",
       "    </tr>\n",
       "    <tr>\n",
       "      <th>13</th>\n",
       "      <td>1.00</td>\n",
       "      <td>sun day best also see rodwey2004   visit    a...</td>\n",
       "      <td>2019-09-19 05:23:12</td>\n",
       "    </tr>\n",
       "    <tr>\n",
       "      <th>14</th>\n",
       "      <td>0.29</td>\n",
       "      <td>41c106f in bahawalpur pk hottest city in the...</td>\n",
       "      <td>2019-09-19 05:00:50</td>\n",
       "    </tr>\n",
       "    <tr>\n",
       "      <th>15</th>\n",
       "      <td>-0.02</td>\n",
       "      <td>another scorcher in johannesburg ensure that ...</td>\n",
       "      <td>2019-09-19 04:40:10</td>\n",
       "    </tr>\n",
       "    <tr>\n",
       "      <th>16</th>\n",
       "      <td>0.29</td>\n",
       "      <td>34c93f in makassar id hottest city in the wo...</td>\n",
       "      <td>2019-09-19 04:00:49</td>\n",
       "    </tr>\n",
       "    <tr>\n",
       "      <th>17</th>\n",
       "      <td>0.29</td>\n",
       "      <td>34c93f in surabaya id hottest city in the wo...</td>\n",
       "      <td>2019-09-19 03:00:49</td>\n",
       "    </tr>\n",
       "    <tr>\n",
       "      <th>18</th>\n",
       "      <td>0.00</td>\n",
       "      <td>i said fuckwork to work      producer songwri...</td>\n",
       "      <td>2019-09-19 01:41:46</td>\n",
       "    </tr>\n",
       "    <tr>\n",
       "      <th>19</th>\n",
       "      <td>0.29</td>\n",
       "      <td>37c99f in mexicali mx hottest city in the wo...</td>\n",
       "      <td>2019-09-19 01:00:50</td>\n",
       "    </tr>\n",
       "  </tbody>\n",
       "</table>\n",
       "</div>"
      ],
      "text/plain": [
       "    polarity                                              tweet  \\\n",
       "0       0.05   human rights threats in warming world could s...   \n",
       "1       0.00   stay inside amp beat the heatwave with taken ...   \n",
       "2       0.35   this is an inspirational quote if we ever saw...   \n",
       "3       0.29    44c111f in ahvaz ir hottest city in the worl...   \n",
       "4       0.05   heartless have we become when deforestation i...   \n",
       "5       0.10   greta thunberg16 years old swedish environmen...   \n",
       "6       0.29    44c111f in bahawalpur pk hottest city in the...   \n",
       "7       0.53   with reports that some parts of the uk are se...   \n",
       "8       0.05   apparently we are heading for a heatwave this...   \n",
       "9       0.05   apparently we are heading for a heatwave this...   \n",
       "10      0.05   apparently we are heading for a heatwave this...   \n",
       "11      0.14   swimming pool shisha jumping castle cocktails...   \n",
       "12      0.05   nearly dying in makassar well not literally b...   \n",
       "13      1.00   sun day best also see rodwey2004   visit    a...   \n",
       "14      0.29    41c106f in bahawalpur pk hottest city in the...   \n",
       "15     -0.02   another scorcher in johannesburg ensure that ...   \n",
       "16      0.29    34c93f in makassar id hottest city in the wo...   \n",
       "17      0.29    34c93f in surabaya id hottest city in the wo...   \n",
       "18      0.00   i said fuckwork to work      producer songwri...   \n",
       "19      0.29    37c99f in mexicali mx hottest city in the wo...   \n",
       "\n",
       "                    date  \n",
       "0    2019-09-19 10:49:41  \n",
       "1    2019-09-19 10:25:02  \n",
       "2    2019-09-19 10:15:21  \n",
       "3    2019-09-19 10:00:50  \n",
       "4    2019-09-19 09:38:26  \n",
       "5    2019-09-19 09:17:40  \n",
       "6    2019-09-19 08:00:49  \n",
       "7    2019-09-19 07:54:09  \n",
       "8    2019-09-19 07:52:21  \n",
       "9    2019-09-19 07:51:21  \n",
       "10   2019-09-19 07:50:59  \n",
       "11   2019-09-19 07:21:03  \n",
       "12   2019-09-19 06:55:25  \n",
       "13   2019-09-19 05:23:12  \n",
       "14   2019-09-19 05:00:50  \n",
       "15   2019-09-19 04:40:10  \n",
       "16   2019-09-19 04:00:49  \n",
       "17   2019-09-19 03:00:49  \n",
       "18   2019-09-19 01:41:46  \n",
       "19   2019-09-19 01:00:50  "
      ]
     },
     "execution_count": 78,
     "metadata": {},
     "output_type": "execute_result"
    }
   ],
   "source": [
    "sentiment_tweets = [TextBlob(tweet) for tweet in tweets]\n",
    "sentiment_values = [[round(tweet.sentiment.polarity,2), tweet.split(\"~\")[0], tweet.split(\"~\")[1]] for tweet in sentiment_tweets]\n",
    "\n",
    "sentiment_df = pd.DataFrame(sentiment_values, columns=[\"polarity\", \"tweet\", \"date\"])\n",
    "sentiment_df.head(20)"
   ]
  },
  {
   "cell_type": "code",
   "execution_count": 101,
   "metadata": {},
   "outputs": [
    {
     "data": {
      "image/png": "[encoded data removed]",
      "text/plain": [
       "<Figure size 432x288 with 1 Axes>"
      ]
     },
     "metadata": {
      "needs_background": "light"
     },
     "output_type": "display_data"
    }
   ],
   "source": [
    "sentiment_count = sentiment_df[\"polarity\"].value_counts()\n",
    "#sentiment_count = sentiment_count[:50,]\n",
    "x = sentiment_count.index\n",
    "y = sentiment_count.values\n",
    "sns.barplot(x, y, alpha=0.8)\n",
    "plt.yticks(np.arange(min(y), max(y), step=2))\n",
    "plt.xticks(plt.xticks()[0], rotation=65)\n",
    "plt.tight_layout()\n",
    "\n",
    "plt.show()"
   ]
  },
  {
   "cell_type": "markdown",
   "metadata": {},
   "source": [
    "As you can see, this sentiment analysis is very basic and not very accurate\n",
    "This analysis would point out that most people who tweet about heatwaves, have a possitive or neutral sentiment about it. \n",
    "    < 0 => negative \n",
    "    > 0 => positive \n",
    "    = 0 => negative"
   ]
  },
  {
   "cell_type": "markdown",
   "metadata": {},
   "source": [
    "### Sentiment analysis with SciKit Learn"
   ]
  },
  {
   "cell_type": "code",
   "execution_count": null,
   "metadata": {},
   "outputs": [],
   "source": [
    "vectorizer = TfidfVectorizer(max_features=1500, min_df=5, max_df=0.80, stop_words=stopwords('english'))\n",
    "processed_features = vectorizer.fit_transform(processed_features).toarray()"
   ]
  }
 ],
 "metadata": {
  "kernelspec": {
   "display_name": "Python 3",
   "language": "python",
   "name": "python3"
  },
  "language_info": {
   "codemirror_mode": {
    "name": "ipython",
    "version": 3
   },
   "file_extension": ".py",
   "mimetype": "text/x-python",
   "name": "python",
   "nbconvert_exporter": "python",
   "pygments_lexer": "ipython3",
   "version": "3.7.3"
  }
 },
 "nbformat": 4,
 "nbformat_minor": 2
}
